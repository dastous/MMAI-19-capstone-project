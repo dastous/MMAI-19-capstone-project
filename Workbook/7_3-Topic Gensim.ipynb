{
 "cells": [
  {
   "cell_type": "code",
   "execution_count": 1,
   "metadata": {},
   "outputs": [],
   "source": [
    "#https://www.machinelearningplus.com/nlp/topic-modeling-gensim-python/\n",
    "#did not perform mallet"
   ]
  },
  {
   "cell_type": "code",
   "execution_count": 2,
   "metadata": {},
   "outputs": [
    {
     "name": "stderr",
     "output_type": "stream",
     "text": [
      "[nltk_data] Downloading package stopwords to\n",
      "[nltk_data]     C:\\Users\\dastous\\AppData\\Roaming\\nltk_data...\n",
      "[nltk_data]   Package stopwords is already up-to-date!\n"
     ]
    },
    {
     "data": {
      "text/plain": [
       "True"
      ]
     },
     "execution_count": 2,
     "metadata": {},
     "output_type": "execute_result"
    }
   ],
   "source": [
    "# Run in python console\n",
    "import nltk\n",
    "nltk.download('stopwords')"
   ]
  },
  {
   "cell_type": "code",
   "execution_count": 3,
   "metadata": {},
   "outputs": [],
   "source": [
    "import re\n",
    "import numpy as np\n",
    "import pandas as pd\n",
    "from pprint import pprint\n",
    "\n",
    "# Gensim\n",
    "import gensim\n",
    "import gensim.corpora as corpora\n",
    "from gensim.utils import simple_preprocess\n",
    "from gensim.models import CoherenceModel\n",
    "\n",
    "# spacy for lemmatization\n",
    "import spacy\n",
    "\n",
    "# Plotting tools\n",
    "import pyLDAvis\n",
    "import pyLDAvis.gensim  # don't skip this\n",
    "import matplotlib.pyplot as plt\n",
    "%matplotlib inline\n",
    "\n",
    "# Enable logging for gensim - optional\n",
    "import logging\n",
    "logging.basicConfig(format='%(asctime)s : %(levelname)s : %(message)s', level=logging.ERROR)\n",
    "\n",
    "import warnings\n",
    "warnings.filterwarnings(\"ignore\",category=DeprecationWarning)"
   ]
  },
  {
   "cell_type": "code",
   "execution_count": 4,
   "metadata": {},
   "outputs": [],
   "source": [
    "# NLTK Stop words\n",
    "from nltk.corpus import stopwords\n",
    "stop_words = stopwords.words('english')\n",
    "stop_words.extend(['from', 'subject', 're', 'edu', 'use'])"
   ]
  },
  {
   "cell_type": "code",
   "execution_count": 5,
   "metadata": {},
   "outputs": [
    {
     "data": {
      "text/plain": [
       "0     og   hybrid strain pack strong punch name sup...\n",
       "1     aloha white widow especially potent cut white...\n",
       "2     sativa dominant hybrid bred spain medical see...\n",
       "3     dawgs hybrid g chemdawg genetics bred canadia...\n",
       "4    known kosher tangie k gold  indica dominant hy...\n",
       "Name: Description, dtype: object"
      ]
     },
     "execution_count": 5,
     "metadata": {},
     "output_type": "execute_result"
    }
   ],
   "source": [
    "df_review=pd.read_excel(\"../CannaConnect/Dataset/description_clean.xlsx\")\n",
    "df=df_review.Description.astype(str)\n",
    "df.head()"
   ]
  },
  {
   "cell_type": "code",
   "execution_count": 6,
   "metadata": {},
   "outputs": [],
   "source": [
    "# Convert to list\n",
    "data = df.values.tolist()"
   ]
  },
  {
   "cell_type": "code",
   "execution_count": 7,
   "metadata": {},
   "outputs": [
    {
     "name": "stdout",
     "output_type": "stream",
     "text": [
      "[['og', 'hybrid', 'strain', 'pack', 'strong', 'punch', 'name', 'supposedly', 'refers', 'strength', 'high', 'price', 'first', 'started', 'showing', 'hollywood', 'plant', 'og', 'tends', 'produce', 'large', 'dark', 'green', 'bud', 'stem', 'user', 'report', 'strong', 'body', 'effect', 'indica', 'pain', 'relief', 'alert', 'cerebral', 'feeling', 'thanks', 'sativa', 'side']]\n"
     ]
    }
   ],
   "source": [
    "def sent_to_words(sentences):\n",
    "    for sentence in sentences:\n",
    "        yield(gensim.utils.simple_preprocess(str(sentence), deacc=True))  # deacc=True removes punctuations\n",
    "\n",
    "data_words = list(sent_to_words(data))\n",
    "\n",
    "print(data_words[:1])"
   ]
  },
  {
   "cell_type": "code",
   "execution_count": 8,
   "metadata": {},
   "outputs": [
    {
     "name": "stdout",
     "output_type": "stream",
     "text": [
      "['og', 'hybrid', 'strain', 'pack', 'strong', 'punch', 'name', 'supposedly', 'refers', 'strength', 'high', 'price', 'first', 'started', 'showing', 'hollywood', 'plant', 'og', 'tends', 'produce', 'large', 'dark', 'green', 'bud', 'stem', 'user_report', 'strong', 'body', 'effect', 'indica', 'pain', 'relief', 'alert', 'cerebral', 'feeling', 'thanks', 'sativa', 'side']\n"
     ]
    }
   ],
   "source": [
    "# Build the bigram and trigram models\n",
    "bigram = gensim.models.Phrases(data_words, min_count=5, threshold=100) # higher threshold fewer phrases.\n",
    "trigram = gensim.models.Phrases(bigram[data_words], threshold=100)  \n",
    "\n",
    "# Faster way to get a sentence clubbed as a trigram/bigram\n",
    "bigram_mod = gensim.models.phrases.Phraser(bigram)\n",
    "trigram_mod = gensim.models.phrases.Phraser(trigram)\n",
    "\n",
    "# See trigram example\n",
    "print(trigram_mod[bigram_mod[data_words[0]]])"
   ]
  },
  {
   "cell_type": "code",
   "execution_count": 9,
   "metadata": {},
   "outputs": [],
   "source": [
    "# Define functions for stopwords, bigrams, trigrams and lemmatization\n",
    "def remove_stopwords(texts):\n",
    "    return [[word for word in simple_preprocess(str(doc)) if word not in stop_words] for doc in texts]\n",
    "\n",
    "def make_bigrams(texts):\n",
    "    return [bigram_mod[doc] for doc in texts]\n",
    "\n",
    "def make_trigrams(texts):\n",
    "    return [trigram_mod[bigram_mod[doc]] for doc in texts]\n",
    "\n",
    "def lemmatization(texts, allowed_postags=['NOUN', 'ADJ', 'VERB', 'ADV']):\n",
    "    \"\"\"https://spacy.io/api/annotation\"\"\"\n",
    "    texts_out = []\n",
    "    for sent in texts:\n",
    "        doc = nlp(\" \".join(sent)) \n",
    "        texts_out.append([token.lemma_ for token in doc if token.pos_ in allowed_postags])\n",
    "    return texts_out"
   ]
  },
  {
   "cell_type": "code",
   "execution_count": 10,
   "metadata": {},
   "outputs": [
    {
     "name": "stdout",
     "output_type": "stream",
     "text": [
      "[['hybrid', 'strain', 'pack', 'strong', 'punch', 'name', 'supposedly', 'refer', 'strength', 'high', 'price', 'first', 'start', 'show', 'hollywood', 'plant', 'tend', 'produce', 'large', 'dark', 'green', 'bud', 'stem', 'user_report', 'strong', 'body', 'effect', 'indica', 'pain', 'relief', 'alert', 'cerebral', 'feeling', 'thank', 'side']]\n"
     ]
    }
   ],
   "source": [
    "# Remove Stop Words\n",
    "data_words_nostops = remove_stopwords(data_words)\n",
    "\n",
    "# Form Bigrams\n",
    "data_words_bigrams = make_bigrams(data_words_nostops)\n",
    "\n",
    "# Initialize spacy 'en' model, keeping only tagger component (for efficiency)\n",
    "# python3 -m spacy download en\n",
    "nlp = spacy.load('en_core_web_sm', disable=['parser', 'ner'])\n",
    "\n",
    "# Do lemmatization keeping only noun, adj, vb, adv\n",
    "data_lemmatized = lemmatization(data_words_bigrams, allowed_postags=['NOUN', 'ADJ', 'VERB', 'ADV'])\n",
    "\n",
    "print(data_lemmatized[:1])"
   ]
  },
  {
   "cell_type": "code",
   "execution_count": 11,
   "metadata": {},
   "outputs": [
    {
     "name": "stdout",
     "output_type": "stream",
     "text": [
      "[[(0, 1), (1, 1), (2, 1), (3, 1), (4, 1), (5, 1), (6, 1), (7, 1), (8, 1), (9, 1), (10, 1), (11, 1), (12, 1), (13, 1), (14, 1), (15, 1), (16, 1), (17, 1), (18, 1), (19, 1), (20, 1), (21, 1), (22, 1), (23, 1), (24, 1), (25, 1), (26, 1), (27, 1), (28, 1), (29, 2), (30, 1), (31, 1), (32, 1), (33, 1)]]\n"
     ]
    }
   ],
   "source": [
    "# Create Dictionary\n",
    "id2word = corpora.Dictionary(data_lemmatized)\n",
    "\n",
    "# Create Corpus\n",
    "texts = data_lemmatized\n",
    "\n",
    "# Term Document Frequency\n",
    "corpus = [id2word.doc2bow(text) for text in texts]\n",
    "\n",
    "# View\n",
    "print(corpus[:1])"
   ]
  },
  {
   "cell_type": "code",
   "execution_count": 12,
   "metadata": {},
   "outputs": [
    {
     "data": {
      "text/plain": [
       "[[('alert', 1),\n",
       "  ('body', 1),\n",
       "  ('bud', 1),\n",
       "  ('cerebral', 1),\n",
       "  ('dark', 1),\n",
       "  ('effect', 1),\n",
       "  ('feeling', 1),\n",
       "  ('first', 1),\n",
       "  ('green', 1),\n",
       "  ('high', 1),\n",
       "  ('hollywood', 1),\n",
       "  ('hybrid', 1),\n",
       "  ('indica', 1),\n",
       "  ('large', 1),\n",
       "  ('name', 1),\n",
       "  ('pack', 1),\n",
       "  ('pain', 1),\n",
       "  ('plant', 1),\n",
       "  ('price', 1),\n",
       "  ('produce', 1),\n",
       "  ('punch', 1),\n",
       "  ('refer', 1),\n",
       "  ('relief', 1),\n",
       "  ('show', 1),\n",
       "  ('side', 1),\n",
       "  ('start', 1),\n",
       "  ('stem', 1),\n",
       "  ('strain', 1),\n",
       "  ('strength', 1),\n",
       "  ('strong', 2),\n",
       "  ('supposedly', 1),\n",
       "  ('tend', 1),\n",
       "  ('thank', 1),\n",
       "  ('user_report', 1)]]"
      ]
     },
     "execution_count": 12,
     "metadata": {},
     "output_type": "execute_result"
    }
   ],
   "source": [
    "# Human readable format of corpus (term-frequency)\n",
    "[[(id2word[id], freq) for id, freq in cp] for cp in corpus[:1]]"
   ]
  },
  {
   "cell_type": "code",
   "execution_count": 13,
   "metadata": {},
   "outputs": [],
   "source": [
    "# Build LDA model\n",
    "lda_model = gensim.models.ldamodel.LdaModel(corpus=corpus,\n",
    "                                           id2word=id2word,\n",
    "                                           num_topics=10, \n",
    "                                           random_state=100,\n",
    "                                           update_every=1,\n",
    "                                           chunksize=100,\n",
    "                                           passes=10,\n",
    "                                           alpha='auto',\n",
    "                                           per_word_topics=True)"
   ]
  },
  {
   "cell_type": "code",
   "execution_count": 14,
   "metadata": {},
   "outputs": [
    {
     "name": "stdout",
     "output_type": "stream",
     "text": [
      "[(0,\n",
      "  '0.034*\"strain\" + 0.027*\"high\" + 0.027*\"bud\" + 0.023*\"flower\" + 0.019*\"seed\" '\n",
      "  '+ 0.019*\"haze\" + 0.015*\"plant\" + 0.015*\"time\" + 0.015*\"cannabis\" + '\n",
      "  '0.015*\"breed\"'),\n",
      " (1,\n",
      "  '0.031*\"cbd\" + 0.025*\"strawberry\" + 0.023*\"super\" + 0.017*\"result\" + '\n",
      "  '0.016*\"thc\" + 0.013*\"dream\" + 0.013*\"tangerine\" + 0.012*\"place\" + '\n",
      "  '0.012*\"tangie\" + 0.012*\"relieve\"'),\n",
      " (2,\n",
      "  '0.125*\"white\" + 0.027*\"trichome\" + 0.026*\"white_widow\" + 0.017*\"coat\" + '\n",
      "  '0.016*\"trainwreck\" + 0.016*\"fire\" + 0.014*\"crystal\" + 0.014*\"alien\" + '\n",
      "  '0.013*\"stimulation\" + 0.012*\"similar\"'),\n",
      " (3,\n",
      "  '0.098*\"cooky\" + 0.043*\"girl_scout\" + 0.026*\"wookie\" + 0.025*\"limb\" + '\n",
      "  '0.024*\"imbue\" + 0.020*\"gsc\" + 0.018*\"speak\" + 0.017*\"cherry_pie\" + '\n",
      "  '0.016*\"cookie\" + 0.013*\"aka\"'),\n",
      " (4,\n",
      "  '0.067*\"short\" + 0.041*\"outdoor\" + 0.023*\"october\" + 0.018*\"exceptional\" + '\n",
      "  '0.016*\"truth\" + 0.016*\"gene\" + 0.016*\"lsd\" + 0.015*\"breeding\" + '\n",
      "  '0.013*\"project\" + 0.013*\"latent\"'),\n",
      " (5,\n",
      "  '0.035*\"slipper\" + 0.034*\"flowering_period\" + 0.034*\"get\" + 0.033*\"ice\" + '\n",
      "  '0.024*\"queen\" + 0.015*\"anchor\" + 0.013*\"raise\" + 0.013*\"lanky\" + '\n",
      "  '0.012*\"slight\" + 0.011*\"round\"'),\n",
      " (6,\n",
      "  '0.024*\"seed\" + 0.023*\"orange\" + 0.018*\"citrus\" + 0.018*\"rich\" + '\n",
      "  '0.017*\"tropical\" + 0.016*\"terpene_profile\" + 0.016*\"thai\" + 0.015*\"bright\" '\n",
      "  '+ 0.015*\"pineapple\" + 0.015*\"expect\"'),\n",
      " (7,\n",
      "  '0.095*\"sour\" + 0.069*\"diesel\" + 0.022*\"fuel\" + 0.021*\"cheese\" + '\n",
      "  '0.020*\"creativity\" + 0.017*\"chemdawg\" + 0.014*\"skunk\" + 0.014*\"express\" + '\n",
      "  '0.012*\"energy\" + 0.011*\"intense\"'),\n",
      " (8,\n",
      "  '0.050*\"strain\" + 0.038*\"effect\" + 0.029*\"indica\" + 0.025*\"hybrid\" + '\n",
      "  '0.024*\"kush\" + 0.024*\"dominant\" + 0.021*\"aroma\" + 0.021*\"cross\" + '\n",
      "  '0.016*\"body\" + 0.016*\"sweet\"'),\n",
      " (9,\n",
      "  '0.096*\"northern_light\" + 0.026*\"ancestor\" + 0.022*\"canada\" + '\n",
      "  '0.015*\"organic\" + 0.012*\"sell\" + 0.009*\"inbreed\" + 0.007*\"united_state\" + '\n",
      "  '0.007*\"possibly\" + 0.005*\"shiva\" + 0.003*\"international\"')]\n"
     ]
    }
   ],
   "source": [
    "# Print the Keyword in the 10 topics\n",
    "pprint(lda_model.print_topics())\n",
    "doc_lda = lda_model[corpus]"
   ]
  },
  {
   "cell_type": "code",
   "execution_count": 15,
   "metadata": {},
   "outputs": [
    {
     "name": "stdout",
     "output_type": "stream",
     "text": [
      "\n",
      "Perplexity:  -7.759097059193203\n",
      "\n",
      "Coherence Score:  0.401098027535922\n"
     ]
    }
   ],
   "source": [
    "# Compute Perplexity\n",
    "print('\\nPerplexity: ', lda_model.log_perplexity(corpus))  # a measure of how good the model is. lower the better.\n",
    "\n",
    "# Compute Coherence Score\n",
    "coherence_model_lda = CoherenceModel(model=lda_model, texts=data_lemmatized, dictionary=id2word, coherence='c_v')\n",
    "coherence_lda = coherence_model_lda.get_coherence()\n",
    "print('\\nCoherence Score: ', coherence_lda)"
   ]
  },
  {
   "cell_type": "code",
   "execution_count": 16,
   "metadata": {},
   "outputs": [
    {
     "name": "stderr",
     "output_type": "stream",
     "text": [
      "C:\\Users\\dastous\\Anaconda3\\envs\\py3.6\\lib\\site-packages\\pyLDAvis\\_prepare.py:257: FutureWarning: Sorting because non-concatenation axis is not aligned. A future version\n",
      "of pandas will change to not sort by default.\n",
      "\n",
      "To accept the future behavior, pass 'sort=False'.\n",
      "\n",
      "To retain the current behavior and silence the warning, pass 'sort=True'.\n",
      "\n",
      "  return pd.concat([default_term_info] + list(topic_dfs))\n"
     ]
    },
    {
     "data": {
      "text/html": [
       "\n",
       "<link rel=\"stylesheet\" type=\"text/css\" href=\"https://cdn.rawgit.com/bmabey/pyLDAvis/files/ldavis.v1.0.0.css\">\n",
       "\n",
       "\n",
       "<div id=\"ldavis_el513627532907718168846811429\"></div>\n",
       "<script type=\"text/javascript\">\n",
       "\n",
       "var ldavis_el513627532907718168846811429_data = {\"mdsDat\": {\"x\": [0.353960760865237, 0.3245931584337997, -0.04677267575182727, 0.008495496403054973, -0.0327274203066452, -0.09611134760597825, -0.13659650166389303, -0.1299819970286864, -0.12408310126802571, -0.12077637207703537], \"y\": [-0.037198393906160976, -0.04084214837442556, 0.2909338227779512, 0.062100453490308724, 0.1284890715876744, -0.25203791743493376, -0.04595230012350351, -0.038425525790040015, -0.034408140940581956, -0.03265892128628784], \"topics\": [1, 2, 3, 4, 5, 6, 7, 8, 9, 10], \"cluster\": [1, 1, 1, 1, 1, 1, 1, 1, 1, 1], \"Freq\": [44.72524642944336, 26.91739845275879, 7.112714767456055, 6.8656086921691895, 6.417227745056152, 5.567465305328369, 1.1597776412963867, 0.6642864346504211, 0.3442976176738739, 0.22596721351146698]}, \"tinfo\": {\"Category\": [\"Default\", \"Default\", \"Default\", \"Default\", \"Default\", \"Default\", \"Default\", \"Default\", \"Default\", \"Default\", \"Default\", \"Default\", \"Default\", \"Default\", \"Default\", \"Default\", \"Default\", \"Default\", \"Default\", \"Default\", \"Default\", \"Default\", \"Default\", \"Default\", \"Default\", \"Default\", \"Default\", \"Default\", \"Default\", \"Default\", \"Topic1\", \"Topic1\", \"Topic1\", \"Topic1\", \"Topic1\", \"Topic1\", \"Topic1\", \"Topic1\", \"Topic1\", \"Topic1\", \"Topic1\", \"Topic1\", \"Topic1\", \"Topic1\", \"Topic1\", \"Topic1\", \"Topic1\", \"Topic1\", \"Topic1\", \"Topic1\", \"Topic1\", \"Topic1\", \"Topic1\", \"Topic1\", \"Topic1\", \"Topic1\", \"Topic1\", \"Topic1\", \"Topic1\", \"Topic1\", \"Topic1\", \"Topic1\", \"Topic1\", \"Topic1\", \"Topic1\", \"Topic1\", \"Topic1\", \"Topic1\", \"Topic1\", \"Topic1\", \"Topic1\", \"Topic1\", \"Topic1\", \"Topic1\", \"Topic1\", \"Topic1\", \"Topic1\", \"Topic1\", \"Topic1\", \"Topic1\", \"Topic1\", \"Topic1\", \"Topic1\", \"Topic2\", \"Topic2\", \"Topic2\", \"Topic2\", \"Topic2\", \"Topic2\", \"Topic2\", \"Topic2\", \"Topic2\", \"Topic2\", \"Topic2\", \"Topic2\", \"Topic2\", \"Topic2\", \"Topic2\", \"Topic2\", \"Topic2\", \"Topic2\", \"Topic2\", \"Topic2\", \"Topic2\", \"Topic2\", \"Topic2\", \"Topic2\", \"Topic2\", \"Topic2\", \"Topic2\", \"Topic2\", \"Topic2\", \"Topic2\", \"Topic2\", \"Topic2\", \"Topic2\", \"Topic2\", \"Topic2\", \"Topic2\", \"Topic2\", \"Topic2\", \"Topic2\", \"Topic2\", \"Topic2\", \"Topic2\", \"Topic2\", \"Topic2\", \"Topic2\", \"Topic2\", \"Topic2\", \"Topic2\", \"Topic2\", \"Topic2\", \"Topic2\", \"Topic2\", \"Topic3\", \"Topic3\", \"Topic3\", \"Topic3\", \"Topic3\", \"Topic3\", \"Topic3\", \"Topic3\", \"Topic3\", \"Topic3\", \"Topic3\", \"Topic3\", \"Topic3\", \"Topic3\", \"Topic3\", \"Topic3\", \"Topic3\", \"Topic3\", \"Topic3\", \"Topic3\", \"Topic3\", \"Topic3\", \"Topic3\", \"Topic3\", \"Topic3\", \"Topic3\", \"Topic3\", \"Topic3\", \"Topic3\", \"Topic3\", \"Topic3\", \"Topic3\", \"Topic3\", \"Topic3\", \"Topic3\", \"Topic3\", \"Topic4\", \"Topic4\", \"Topic4\", \"Topic4\", \"Topic4\", \"Topic4\", \"Topic4\", \"Topic4\", \"Topic4\", \"Topic4\", \"Topic4\", \"Topic4\", \"Topic4\", \"Topic4\", \"Topic4\", \"Topic4\", \"Topic4\", \"Topic4\", \"Topic4\", \"Topic4\", \"Topic4\", \"Topic4\", \"Topic4\", \"Topic4\", \"Topic4\", \"Topic4\", \"Topic4\", \"Topic4\", \"Topic4\", \"Topic4\", \"Topic4\", \"Topic4\", \"Topic4\", \"Topic4\", \"Topic4\", \"Topic4\", \"Topic4\", \"Topic4\", \"Topic4\", \"Topic4\", \"Topic5\", \"Topic5\", \"Topic5\", \"Topic5\", \"Topic5\", \"Topic5\", \"Topic5\", \"Topic5\", \"Topic5\", \"Topic5\", \"Topic5\", \"Topic5\", \"Topic5\", \"Topic5\", \"Topic5\", \"Topic5\", \"Topic5\", \"Topic5\", \"Topic5\", \"Topic5\", \"Topic5\", \"Topic5\", \"Topic5\", \"Topic5\", \"Topic5\", \"Topic5\", \"Topic5\", \"Topic5\", \"Topic5\", \"Topic5\", \"Topic5\", \"Topic5\", \"Topic5\", \"Topic5\", \"Topic6\", \"Topic6\", \"Topic6\", \"Topic6\", \"Topic6\", \"Topic6\", \"Topic6\", \"Topic6\", \"Topic6\", \"Topic6\", \"Topic6\", \"Topic6\", \"Topic6\", \"Topic6\", \"Topic6\", \"Topic6\", \"Topic6\", \"Topic6\", \"Topic6\", \"Topic6\", \"Topic6\", \"Topic6\", \"Topic6\", \"Topic6\", \"Topic6\", \"Topic6\", \"Topic6\", \"Topic6\", \"Topic6\", \"Topic6\", \"Topic6\", \"Topic6\", \"Topic6\", \"Topic7\", \"Topic7\", \"Topic7\", \"Topic7\", \"Topic7\", \"Topic7\", \"Topic7\", \"Topic7\", \"Topic7\", \"Topic7\", \"Topic7\", \"Topic7\", \"Topic7\", \"Topic7\", \"Topic7\", \"Topic7\", \"Topic7\", \"Topic7\", \"Topic7\", \"Topic7\", \"Topic7\", \"Topic7\", \"Topic7\", \"Topic7\", \"Topic7\", \"Topic7\", \"Topic7\", \"Topic7\", \"Topic7\", \"Topic7\", \"Topic8\", \"Topic8\", \"Topic8\", \"Topic8\", \"Topic8\", \"Topic8\", \"Topic8\", \"Topic8\", \"Topic8\", \"Topic8\", \"Topic8\", \"Topic8\", \"Topic8\", \"Topic8\", \"Topic8\", \"Topic8\", \"Topic8\", \"Topic8\", \"Topic8\", \"Topic8\", \"Topic8\", \"Topic8\", \"Topic8\", \"Topic8\", \"Topic8\", \"Topic8\", \"Topic8\", \"Topic8\", \"Topic8\", \"Topic8\", \"Topic9\", \"Topic9\", \"Topic9\", \"Topic9\", \"Topic9\", \"Topic9\", \"Topic9\", \"Topic9\", \"Topic9\", \"Topic9\", \"Topic9\", \"Topic9\", \"Topic9\", \"Topic9\", \"Topic9\", \"Topic9\", \"Topic9\", \"Topic9\", \"Topic9\", \"Topic9\", \"Topic9\", \"Topic9\", \"Topic9\", \"Topic9\", \"Topic9\", \"Topic9\", \"Topic9\", \"Topic9\", \"Topic9\", \"Topic9\", \"Topic9\", \"Topic9\", \"Topic10\", \"Topic10\", \"Topic10\", \"Topic10\", \"Topic10\", \"Topic10\", \"Topic10\", \"Topic10\", \"Topic10\", \"Topic10\", \"Topic10\", \"Topic10\", \"Topic10\", \"Topic10\", \"Topic10\", \"Topic10\", \"Topic10\", \"Topic10\", \"Topic10\", \"Topic10\", \"Topic10\", \"Topic10\", \"Topic10\", \"Topic10\", \"Topic10\", \"Topic10\", \"Topic10\", \"Topic10\", \"Topic10\", \"Topic10\", \"Topic10\", \"Topic10\", \"Topic10\", \"Topic10\"], \"Freq\": [684.0, 598.0, 433.0, 1676.0, 3095.0, 723.0, 722.0, 1076.0, 703.0, 602.0, 500.0, 250.0, 1088.0, 1434.0, 694.0, 384.0, 400.0, 112.0, 393.0, 360.0, 257.0, 173.0, 157.0, 351.0, 1048.0, 159.0, 156.0, 328.0, 500.0, 141.0, 1075.57373046875, 693.3639526367188, 537.1008911132812, 528.6728515625, 428.97064208984375, 311.0626525878906, 288.454833984375, 342.0492248535156, 284.59075927734375, 298.87872314453125, 259.1520690917969, 252.6062469482422, 235.3001708984375, 219.5953826904297, 205.18936157226562, 203.48458862304688, 201.83773803710938, 173.10340881347656, 160.92355346679688, 152.97836303710938, 146.6198272705078, 142.59414672851562, 134.928955078125, 132.47991943359375, 123.35566711425781, 118.80057525634766, 115.68824005126953, 114.08724212646484, 111.70989227294922, 139.2440185546875, 1651.5125732421875, 421.5517578125, 278.5404968261719, 1037.389892578125, 218.7233428955078, 258.047119140625, 345.5035705566406, 285.3335876464844, 944.5738525390625, 1267.5328369140625, 308.63092041015625, 1097.471435546875, 686.6666870117188, 903.574951171875, 659.7998046875, 2197.40185546875, 281.1839599609375, 677.7157592773438, 278.822265625, 315.0079345703125, 384.9838562011719, 331.1492614746094, 342.9967956542969, 602.079833984375, 500.1517333984375, 399.91314697265625, 393.20587158203125, 350.51202392578125, 328.1553039550781, 290.3913879394531, 276.2138366699219, 260.6495361328125, 243.0743408203125, 235.9554901123047, 190.59951782226562, 295.38311767578125, 126.68704986572266, 125.14398956298828, 124.95706176757812, 124.01567077636719, 113.12894439697266, 106.88243865966797, 100.3877944946289, 97.54680633544922, 95.84013366699219, 93.0676498413086, 92.13736724853516, 91.24141693115234, 87.09648895263672, 85.90892028808594, 85.42970275878906, 84.37651062011719, 83.53546142578125, 709.4503173828125, 264.6653747558594, 705.6032104492188, 227.1173858642578, 277.1434631347656, 135.06060791015625, 352.0050354003906, 123.9964370727539, 173.72499084472656, 178.37896728515625, 389.1039123535156, 506.52947998046875, 153.8300323486328, 236.8626251220703, 384.2331848144531, 894.9022827148438, 135.62753295898438, 194.12966918945312, 157.19699096679688, 193.33786010742188, 203.2737579345703, 193.65582275390625, 173.1632537841797, 159.28860473632812, 116.97105407714844, 93.9411849975586, 90.49971771240234, 87.10087585449219, 83.69027709960938, 81.72228240966797, 78.0816421508789, 69.96858978271484, 68.96087646484375, 68.3446044921875, 62.354766845703125, 61.41677474975586, 60.079532623291016, 60.07339859008789, 59.27376937866211, 57.18522262573242, 56.1672248840332, 55.24585723876953, 53.6089973449707, 53.182708740234375, 52.23355484008789, 50.10703659057617, 47.9832649230957, 47.79090118408203, 45.43069839477539, 45.095035552978516, 44.36051940917969, 44.19727325439453, 215.73355102539062, 112.39759826660156, 64.45283508300781, 59.96608352661133, 66.24102783203125, 48.57835388183594, 156.06536865234375, 116.98062133789062, 110.37178039550781, 109.28370666503906, 101.01712036132812, 99.94104766845703, 99.13361358642578, 83.2081069946289, 78.39034271240234, 68.61973571777344, 67.49918365478516, 61.364131927490234, 58.374576568603516, 52.40997314453125, 50.53607177734375, 50.03351593017578, 45.4000244140625, 43.155479431152344, 42.706695556640625, 42.63372039794922, 38.75514602661133, 38.1028938293457, 38.063053131103516, 36.376182556152344, 36.00542068481445, 34.77741241455078, 34.5593147277832, 34.38676071166992, 34.078460693359375, 33.572261810302734, 119.63311004638672, 66.42393493652344, 90.38704681396484, 65.02973937988281, 120.46472930908203, 160.95584106445312, 65.01239013671875, 65.13408660888672, 43.48764419555664, 50.24662780761719, 598.2408447265625, 433.1451110839844, 139.9922332763672, 135.28292846679688, 126.21720123291016, 104.13764190673828, 70.26701354980469, 64.68878936767578, 60.386497497558594, 56.526248931884766, 54.07258224487305, 50.70322799682617, 49.6113166809082, 48.83377456665039, 45.94055938720703, 43.910587310791016, 43.55883026123047, 42.49351119995117, 42.35408020019531, 42.340335845947266, 42.071556091308594, 42.002586364746094, 39.66978454589844, 38.84745407104492, 38.44121170043945, 36.39934158325195, 36.14329528808594, 35.9950065612793, 35.63335418701172, 33.074031829833984, 87.49594116210938, 76.68096160888672, 91.11552429199219, 41.016510009765625, 684.1353759765625, 140.77593994140625, 91.33807373046875, 89.11962127685547, 84.9885482788086, 78.26435852050781, 77.6736831665039, 71.37043762207031, 65.03614807128906, 56.631858825683594, 56.3701057434082, 50.84156799316406, 47.944915771484375, 45.783531188964844, 44.567237854003906, 38.06731033325195, 37.79315185546875, 35.165924072265625, 32.52421951293945, 31.1580867767334, 30.744098663330078, 30.414888381958008, 29.6802921295166, 28.303674697875977, 27.813980102539062, 27.72359275817871, 27.463817596435547, 27.435361862182617, 26.543100357055664, 26.52811622619629, 149.91259765625, 30.38083267211914, 29.386579513549805, 111.39205169677734, 49.245174407958984, 29.935720443725586, 28.509565353393555, 27.444257736206055, 22.304279327392578, 20.437366485595703, 18.85149574279785, 18.717687606811523, 14.293839454650879, 12.422667503356934, 12.412251472473145, 10.141419410705566, 9.869464874267578, 9.713231086730957, 9.500971794128418, 9.184683799743652, 8.717809677124023, 8.550647735595703, 8.455880165100098, 8.405662536621094, 8.230645179748535, 8.12646770477295, 7.97772216796875, 7.798480987548828, 7.382202625274658, 7.196381092071533, 6.7142815589904785, 6.422237873077393, 6.318885803222656, 43.513916015625, 26.557884216308594, 15.16690444946289, 11.699021339416504, 10.359548568725586, 10.336907386779785, 10.305442810058594, 10.03345012664795, 8.64548110961914, 8.622980117797852, 8.522723197937012, 8.094212532043457, 8.073016166687012, 7.831111907958984, 7.1556782722473145, 6.333210468292236, 5.473542213439941, 5.313225269317627, 5.198332786560059, 5.1061177253723145, 4.797218322753906, 4.651865005493164, 4.395440101623535, 4.315246105194092, 4.088788986206055, 3.75770902633667, 2.7736520767211914, 2.288780450820923, 2.2322850227355957, 2.2251925468444824, 11.918364524841309, 11.54392147064209, 11.517842292785645, 11.300056457519531, 8.12455940246582, 4.906889915466309, 4.545047760009766, 4.249767780303955, 4.178886413574219, 3.810120105743408, 3.7569942474365234, 3.427626609802246, 3.3419878482818604, 3.1035289764404297, 1.5960370302200317, 1.329218864440918, 1.286790370941162, 0.5854623913764954, 0.4056210219860077, 0.3070583939552307, 0.3070583939552307, 0.28133052587509155, 0.13053031265735626, 0.10885529965162277, 0.10885529965162277, 0.10885529965162277, 0.10885529965162277, 0.049087561666965485, 0.04450705274939537, 0.06579117476940155, 0.05167396739125252, 0.05319162458181381, 21.35382843017578, 5.754776477813721, 4.903568267822266, 3.252606153488159, 2.725954532623291, 1.9177573919296265, 1.635079026222229, 1.5812923908233643, 1.210829257965088, 0.5910720825195312, 0.15363988280296326, 0.1458749622106552, 0.1458749622106552, 0.09281742572784424, 0.03658144176006317, 0.03658144176006317, 0.03658144176006317, 0.03658144176006317, 0.03809285908937454, 0.035234395414590836, 0.035234395414590836, 0.035215359181165695, 0.033996500074863434, 0.033996500074863434, 0.032579801976680756, 0.03196469321846962, 0.02916746959090233, 0.03266465663909912, 0.028535407036542892, 0.028780143707990646, 0.032579123973846436, 0.032579123973846436, 0.03087920881807804, 0.03252808377146721], \"Term\": [\"white\", \"sour\", \"diesel\", \"effect\", \"strain\", \"bud\", \"high\", \"kush\", \"seed\", \"flower\", \"haze\", \"cbd\", \"dominant\", \"indica\", \"body\", \"citrus\", \"plant\", \"cooky\", \"time\", \"skunk\", \"thc\", \"strawberry\", \"trichome\", \"grow\", \"aroma\", \"super\", \"orange\", \"produce\", \"cannabis\", \"white_widow\", \"kush\", \"body\", \"pain\", \"consumer\", \"stress\", \"relax\", \"relaxation\", \"earthy\", \"euphoria\", \"mind\", \"anxiety\", \"pine\", \"euphoric\", \"relief\", \"deep\", \"help\", \"depression\", \"patient\", \"choice\", \"nausea\", \"insomnia\", \"mood\", \"combination\", \"happy\", \"undertone\", \"focus\", \"daytime\", \"grape\", \"sedative\", \"perfect\", \"effect\", \"potent\", \"combine\", \"dominant\", \"mix\", \"physical\", \"note\", \"pungent\", \"aroma\", \"indica\", \"offer\", \"hybrid\", \"sweet\", \"cross\", \"flavor\", \"strain\", \"great\", \"genetic\", \"name\", \"heavy\", \"make\", \"day\", \"purple\", \"flower\", \"haze\", \"plant\", \"time\", \"grow\", \"produce\", \"yield\", \"week\", \"taste\", \"grower\", \"good\", \"indoor\", \"cup\", \"spicy\", \"large\", \"thc_content\", \"finish\", \"energetic\", \"flavorful\", \"red\", \"dark\", \"long_last\", \"feature\", \"sensation\", \"pure\", \"best\", \"user\", \"farm\", \"lead\", \"typically\", \"high\", \"smell\", \"bud\", \"dense\", \"green\", \"many\", \"know\", \"first\", \"fruit\", \"phenotype\", \"cannabis\", \"seed\", \"skunky\", \"take\", \"breed\", \"strain\", \"blue\", \"strong\", \"come\", \"purple\", \"hybrid\", \"cross\", \"strawberry\", \"super\", \"result\", \"dream\", \"tangerine\", \"place\", \"tangie\", \"relieve\", \"famous\", \"blue_dream\", \"due\", \"super_silver\", \"mild\", \"remain\", \"thick\", \"functional\", \"minor\", \"dna\", \"native\", \"follow\", \"uplifting\", \"ratio\", \"big\", \"oregon\", \"silver\", \"weight\", \"line\", \"condition\", \"add\", \"gold\", \"cbd\", \"thc\", \"leaf\", \"landrace\", \"variety\", \"cannabis\", \"orange\", \"tropical\", \"terpene_profile\", \"thai\", \"bright\", \"pineapple\", \"expect\", \"new\", \"lavender\", \"colorado\", \"terpene\", \"hawaiian\", \"palate\", \"island\", \"unknown\", \"heavily\", \"inc\", \"nice\", \"bank\", \"enjoyable\", \"together\", \"bodhi\", \"upbeat\", \"romulan\", \"caution\", \"invigorate\", \"beautiful\", \"mean\", \"possible\", \"award_winn\", \"rich\", \"fresh\", \"energy\", \"cut\", \"citrus\", \"seed\", \"unique\", \"enjoy\", \"original\", \"activity\", \"sour\", \"diesel\", \"fuel\", \"cheese\", \"creativity\", \"chemdawg\", \"intense\", \"influence\", \"dutch\", \"rush\", \"sure\", \"appreciate\", \"strawberry_cough\", \"connoisseur\", \"clone\", \"platinum\", \"category\", \"flowering_cycle\", \"sensi\", \"family\", \"lift\", \"stimulating\", \"crossing\", \"top\", \"calyx\", \"company\", \"quickly\", \"washington\", \"wrap\", \"comfortable\", \"express\", \"energy\", \"skunk\", \"breeder\", \"white\", \"white_widow\", \"coat\", \"trainwreck\", \"fire\", \"crystal\", \"alien\", \"stimulation\", \"similar\", \"sugar\", \"mango\", \"sfv\", \"star\", \"burst\", \"muscle\", \"rise\", \"alert\", \"frost\", \"hair\", \"remedy\", \"try\", \"benefit\", \"confused\", \"blanket\", \"element\", \"stimulate_appetite\", \"choose\", \"trichome_production\", \"depend\", \"widow\", \"trichome\", \"frosty\", \"heritage\", \"cooky\", \"girl_scout\", \"wookie\", \"limb\", \"imbue\", \"gsc\", \"speak\", \"cherry_pie\", \"cookie\", \"aka\", \"minty\", \"st\", \"heavyweight\", \"blood\", \"pua_mana\", \"key\", \"thin_mint\", \"breath\", \"satisfy\", \"sunset_sherbet\", \"unencumbered\", \"triple\", \"delight\", \"forum\", \"tang\", \"hazy\", \"sherbert\", \"solid\", \"gelato\", \"speedy\", \"short\", \"outdoor\", \"october\", \"exceptional\", \"truth\", \"gene\", \"lsd\", \"breeding\", \"project\", \"latent\", \"moonshine\", \"nina_limone\", \"university\", \"pearl\", \"sun\", \"nirvana\", \"somango\", \"dwarf\", \"ready_harvest\", \"trippy\", \"apothecary\", \"nina\", \"dust\", \"wet\", \"resistance_mold\", \"devil\", \"cindy\", \"moniker\", \"hunt\", \"motivated\", \"slipper\", \"flowering_period\", \"get\", \"ice\", \"queen\", \"anchor\", \"raise\", \"lanky\", \"slight\", \"round\", \"cultivator\", \"glass\", \"intensity\", \"promise\", \"pina\", \"snowfall\", \"hashplant\", \"dairy\", \"colada\", \"dick\", \"moby\", \"congo\", \"lilly\", \"exceed\", \"luminescence\", \"shed\", \"heavenly\", \"buster\", \"wifi\", \"xanadu\", \"zamaldelica\", \"warning\", \"northern_light\", \"ancestor\", \"canada\", \"organic\", \"sell\", \"inbreed\", \"united_state\", \"possibly\", \"shiva\", \"international\", \"stocky\", \"jock\", \"horror\", \"expectation\", \"pugent\", \"queso\", \"europian\", \"dominiant\", \"reputable\", \"ontario\", \"frontrunner\", \"harvesting\", \"siberian\", \"bitterness\", \"superglue\", \"gayle\", \"lowryd\", \"yogi\", \"pacifying\", \"leonidas\", \"lounge\", \"smurf\", \"starbud\", \"butterfly\"], \"Total\": [684.0, 598.0, 433.0, 1676.0, 3095.0, 723.0, 722.0, 1076.0, 703.0, 602.0, 500.0, 250.0, 1088.0, 1434.0, 694.0, 384.0, 400.0, 112.0, 393.0, 360.0, 257.0, 173.0, 157.0, 351.0, 1048.0, 159.0, 156.0, 328.0, 500.0, 141.0, 1076.2366943359375, 694.02685546875, 537.7637939453125, 529.3358154296875, 429.6336975097656, 311.7257080078125, 289.11785888671875, 342.83917236328125, 285.2545166015625, 299.57586669921875, 259.81512451171875, 253.26919555664062, 235.9631805419922, 220.25831604003906, 205.8523406982422, 204.14755249023438, 202.50074768066406, 173.76634216308594, 161.5865478515625, 153.64132690429688, 147.2827911376953, 143.25714111328125, 135.5919952392578, 133.14288330078125, 124.01864624023438, 119.46356964111328, 116.35980987548828, 114.75025939941406, 112.37291717529297, 140.08734130859375, 1676.7872314453125, 427.1048889160156, 281.3788757324219, 1088.3349609375, 222.5148468017578, 264.3629150390625, 357.5873107910156, 294.4275207519531, 1048.495361328125, 1434.9677734375, 326.7317810058594, 1320.9888916015625, 801.9740600585938, 1101.448486328125, 777.8108520507812, 3095.838623046875, 297.40521240234375, 848.2435913085938, 296.7153625488281, 358.72216796875, 509.4784240722656, 399.368896484375, 536.8907470703125, 602.739990234375, 500.81207275390625, 400.57342529296875, 393.8662109375, 351.1885681152344, 328.8156433105469, 291.0517272949219, 276.87408447265625, 261.30987548828125, 243.734619140625, 236.70571899414062, 191.25975036621094, 296.7929382324219, 127.3481216430664, 125.8042221069336, 125.61737060546875, 124.67595672607422, 113.7892074584961, 107.54275512695312, 101.04840850830078, 98.2070541381836, 96.50039672851562, 93.72792053222656, 92.797607421875, 91.90166473388672, 87.75679779052734, 86.56916046142578, 86.09004211425781, 85.03682708740234, 84.1957015991211, 722.7603149414062, 268.60498046875, 723.8662109375, 233.4850616455078, 286.8850402832031, 137.90989685058594, 394.80029296875, 128.38693237304688, 188.66587829589844, 196.48080444335938, 500.58050537109375, 703.1522827148438, 167.0614013671875, 285.0150146484375, 573.6217041015625, 3095.838623046875, 145.995849609375, 368.2298583984375, 218.5104522705078, 536.8907470703125, 1320.9888916015625, 1101.448486328125, 173.83448791503906, 159.95986938476562, 117.64227294921875, 94.61234283447266, 91.17159271240234, 87.7720947265625, 84.36148071289062, 82.39348602294922, 78.75286865234375, 70.63971710205078, 69.63213348388672, 69.01586151123047, 63.02593231201172, 62.087974548339844, 60.75071334838867, 60.74454116821289, 59.944984436035156, 57.85637664794922, 56.838417053222656, 55.91714096069336, 54.28021240234375, 53.854339599609375, 52.904693603515625, 50.77821350097656, 48.656524658203125, 48.46209716796875, 46.10192108154297, 45.76630783081055, 45.031715393066406, 44.8683967590332, 250.20068359375, 257.1871643066406, 100.79741668701172, 112.0881118774414, 168.36639404296875, 500.58050537109375, 156.73509216308594, 117.65038299560547, 111.04158020019531, 109.95352172851562, 101.68685150146484, 100.61077117919922, 99.80341339111328, 83.87791442871094, 79.06008911132812, 69.28945922851562, 68.16891479492188, 62.033809661865234, 59.04667663574219, 53.07975387573242, 51.205833435058594, 50.703468322753906, 46.06970977783203, 43.82530975341797, 43.37646484375, 43.30363464355469, 39.42489242553711, 38.77269744873047, 38.73283767700195, 37.04595947265625, 36.67550277709961, 35.44719314575195, 35.22907257080078, 35.05656051635742, 34.748600006103516, 34.24209213256836, 127.06884002685547, 81.57646179199219, 168.391357421875, 117.05358123779297, 384.4687194824219, 703.1522827148438, 121.09315490722656, 196.52857971191406, 58.53041076660156, 127.81558990478516, 598.9138793945312, 433.81817626953125, 140.66552734375, 135.9559783935547, 126.89031219482422, 104.81072235107422, 70.94010925292969, 65.36193084716797, 61.059600830078125, 57.199440002441406, 54.74574661254883, 51.3763313293457, 50.28481674194336, 49.50701141357422, 46.613609313964844, 44.583709716796875, 44.23200225830078, 43.16665267944336, 43.02715301513672, 43.013458251953125, 42.74464797973633, 42.67577362060547, 40.3429069519043, 39.520538330078125, 39.11424255371094, 37.072509765625, 36.816402435302734, 36.668121337890625, 36.306846618652344, 33.7473030090332, 99.55813598632812, 168.391357421875, 360.2752380371094, 122.0894546508789, 684.8145141601562, 141.45494079589844, 92.01708221435547, 89.79859924316406, 85.66748809814453, 78.94332122802734, 78.35260009765625, 72.0494613647461, 65.71514892578125, 57.310909271240234, 57.0490608215332, 51.520572662353516, 48.623924255371094, 46.46250534057617, 45.24625015258789, 38.746307373046875, 38.47230529785156, 35.844886779785156, 33.20317077636719, 31.837133407592773, 31.42317771911621, 31.09391212463379, 30.359424591064453, 28.982662200927734, 28.49297332763672, 28.40264892578125, 28.142831802368164, 28.11443328857422, 27.22240447998047, 27.207075119018555, 157.39259338378906, 47.796939849853516, 63.00395965576172, 112.0929183959961, 49.94603729248047, 30.637493133544922, 29.210588455200195, 28.145296096801758, 23.005159378051758, 21.138408660888672, 19.552419662475586, 19.4185733795166, 14.9949369430542, 13.123586654663086, 13.113655090332031, 10.842558860778809, 10.571089744567871, 10.414092063903809, 10.20230484008789, 9.885560989379883, 9.418670654296875, 9.251964569091797, 9.156768798828125, 9.106918334960938, 8.93268871307373, 8.827407836914062, 8.678679466247559, 8.49951171875, 8.08316707611084, 7.897463321685791, 7.415212631225586, 7.1232171058654785, 7.019888401031494, 44.226837158203125, 27.27074432373047, 15.879766464233398, 12.411937713623047, 11.073875427246094, 11.049849510192871, 11.018348693847656, 10.746286392211914, 9.358343124389648, 9.335938453674316, 9.235730171203613, 8.807133674621582, 8.786299705505371, 8.543943405151367, 7.86885929107666, 7.046053886413574, 6.1866536140441895, 6.026218414306641, 5.911179065704346, 5.819018363952637, 5.51022481918335, 5.364771366119385, 5.108417987823486, 5.028473854064941, 4.801708698272705, 4.470513820648193, 3.4865405559539795, 3.001732587814331, 2.9451065063476562, 2.93825626373291, 12.651387214660645, 12.275986671447754, 12.249850273132324, 12.032014846801758, 8.856462478637695, 5.638979434967041, 5.2770609855651855, 4.981757640838623, 4.9108195304870605, 4.542150974273682, 4.488933563232422, 4.159628868103027, 4.074140548706055, 3.835578680038452, 2.327922821044922, 2.06184983253479, 2.0186846256256104, 1.3173824548721313, 1.137494683265686, 1.0392028093338013, 1.0392028093338013, 1.0131844282150269, 0.862409234046936, 0.973059356212616, 0.973059356212616, 0.973059356212616, 0.973059356212616, 0.8301570415496826, 0.8299509882926941, 1.2358524799346924, 1.0946643352508545, 6.095012664794922, 22.095300674438477, 6.496425628662109, 5.645086765289307, 3.9943456649780273, 3.4680473804473877, 2.6593222618103027, 2.3765900135040283, 2.322948694229126, 1.9522383213043213, 1.3325051069259644, 0.8950208425521851, 0.8872509002685547, 0.8872509002685547, 0.8343853950500488, 0.8284884691238403, 0.8284884691238403, 0.8284884691238403, 0.8284884691238403, 0.8816970586776733, 0.8558070063591003, 0.8558070063591003, 0.8788166046142578, 0.8728075623512268, 0.8728075623512268, 0.8570820689201355, 0.8454602956771851, 0.7868598699569702, 0.8914823532104492, 0.7837928533554077, 0.7908846139907837, 0.9114760160446167, 0.9114760160446167, 0.881746232509613, 0.9791156053543091], \"loglift\": [30.0, 29.0, 28.0, 27.0, 26.0, 25.0, 24.0, 23.0, 22.0, 21.0, 20.0, 19.0, 18.0, 17.0, 16.0, 15.0, 14.0, 13.0, 12.0, 11.0, 10.0, 9.0, 8.0, 7.0, 6.0, 5.0, 4.0, 3.0, 2.0, 1.0, 0.8040000200271606, 0.8036999702453613, 0.8033999800682068, 0.8033999800682068, 0.8030999898910522, 0.8025000095367432, 0.802299976348877, 0.802299976348877, 0.802299976348877, 0.802299976348877, 0.8021000027656555, 0.8019999861717224, 0.801800012588501, 0.8015999794006348, 0.8014000058174133, 0.8014000058174133, 0.8014000058174133, 0.8008000254631042, 0.8004999756813049, 0.8003000020980835, 0.8001000285148621, 0.800000011920929, 0.7997000217437744, 0.7996000051498413, 0.7993000149726868, 0.7990999817848206, 0.798799991607666, 0.798799991607666, 0.7986999750137329, 0.7986000180244446, 0.7893999814987183, 0.7914999723434448, 0.7944999933242798, 0.7566999793052673, 0.7874000072479248, 0.7804999947547913, 0.7702999711036682, 0.7732999920845032, 0.7002999782562256, 0.6805999875068665, 0.7476000189781189, 0.6193000078201294, 0.649399995803833, 0.6065999865531921, 0.6401000022888184, 0.4618000090122223, 0.7484999895095825, 0.5802000164985657, 0.7423999905586243, 0.6747000217437744, 0.524399995803833, 0.6172999739646912, 0.35659998655319214, 1.3113000392913818, 1.3111000061035156, 1.3107000589370728, 1.3107000589370728, 1.3105000257492065, 1.3104000091552734, 1.3100999593734741, 1.309999942779541, 1.3099000453948975, 1.3097000122070312, 1.3092000484466553, 1.308899998664856, 1.3076000213623047, 1.3071999549865723, 1.3071000576019287, 1.3071000576019287, 1.3071000576019287, 1.3065999746322632, 1.3062000274658203, 1.305799961090088, 1.3056999444961548, 1.3055000305175781, 1.305299997329712, 1.305299997329712, 1.3051999807357788, 1.304800033569336, 1.3047000169754028, 1.3047000169754028, 1.3046000003814697, 1.3044999837875366, 1.2937999963760376, 1.2976000308990479, 1.2868000268936157, 1.2847000360488892, 1.277899980545044, 1.2914999723434448, 1.197700023651123, 1.2776000499725342, 1.2299000024795532, 1.2157000303268433, 1.0605000257492065, 0.9843999743461609, 1.2299000024795532, 1.1273000240325928, 0.9117000102996826, 0.07129999995231628, 1.238700032234192, 0.6722000241279602, 0.9830999970436096, 0.29100000858306885, -0.5591999888420105, -0.42590001225471497, 2.639400005340576, 2.6391000747680664, 2.6375999450683594, 2.636199951171875, 2.6359000205993652, 2.6356000900268555, 2.6352999210357666, 2.6350998878479004, 2.634700059890747, 2.633699893951416, 2.6335999965667725, 2.633500099182129, 2.6326000690460205, 2.6324000358581543, 2.632200002670288, 2.632200002670288, 2.631999969482422, 2.6315999031066895, 2.6314001083374023, 2.631200075149536, 2.6308000087738037, 2.63070011138916, 2.630500078201294, 2.630000114440918, 2.6294000148773193, 2.629300117492676, 2.6285998821258545, 2.628499984741211, 2.6282999515533447, 2.628200054168701, 2.4951000213623047, 1.815500020980835, 2.1960999965667725, 2.0178000926971436, 1.7103999853134155, 0.310699999332428, 2.6744000911712646, 2.6728999614715576, 2.672600030899048, 2.672499895095825, 2.671999931335449, 2.671999931335449, 2.6719000339508057, 2.670599937438965, 2.670099973678589, 2.6689000129699707, 2.668800115585327, 2.667799949645996, 2.6672000885009766, 2.6658999919891357, 2.6654999256134033, 2.665299892425537, 2.6640000343322754, 2.6631999015808105, 2.663100004196167, 2.663100004196167, 2.6614999771118164, 2.6612000465393066, 2.6612000465393066, 2.660399913787842, 2.6602001190185547, 2.659600019454956, 2.6594998836517334, 2.65939998626709, 2.6591999530792236, 2.658900022506714, 2.618299961090088, 2.4732000827789307, 2.05649995803833, 2.09089994430542, 1.5181000232696533, 1.204200029373169, 2.0566999912261963, 1.5743000507354736, 2.3815999031066895, 1.7450000047683716, 2.7451000213623047, 2.7446000576019287, 2.7414000034332275, 2.7411999702453613, 2.7409000396728516, 2.7397000789642334, 2.7367000579833984, 2.73580002784729, 2.735100030899048, 2.734299898147583, 2.733799934387207, 2.7330000400543213, 2.7327001094818115, 2.7325000762939453, 2.731600046157837, 2.7309999465942383, 2.730799913406372, 2.7304999828338623, 2.7304000854492188, 2.7304000854492188, 2.730299949645996, 2.730299949645996, 2.7293999195098877, 2.7290000915527344, 2.728800058364868, 2.7279000282287598, 2.7276999950408936, 2.7276999950408936, 2.7274999618530273, 2.7260000705718994, 2.617000102996826, 1.9594999551773071, 1.371399998664856, 1.655400037765503, 2.887200117111206, 2.8833999633789062, 2.8808000087738037, 2.8805999755859375, 2.8803000450134277, 2.8796000480651855, 2.879499912261963, 2.8787999153137207, 2.8777999877929688, 2.876300096511841, 2.876300096511841, 2.875, 2.8742001056671143, 2.873500108718872, 2.8731000423431396, 2.8705999851226807, 2.8703999519348145, 2.8691000938415527, 2.8675999641418457, 2.8666999340057373, 2.8664000034332275, 2.8661999702453613, 2.865600109100342, 2.864500045776367, 2.8640999794006348, 2.864000082015991, 2.863800048828125, 2.863800048828125, 2.86299991607666, 2.86299991607666, 2.8394999504089355, 2.4351000785827637, 2.1256000995635986, 4.450699806213379, 4.442800045013428, 4.433800220489502, 4.432600021362305, 4.431700229644775, 4.426000118255615, 4.4232001304626465, 4.420400142669678, 4.420199871063232, 4.40910005569458, 4.402100086212158, 4.4019999504089355, 4.390100002288818, 4.388299942016602, 4.38730001449585, 4.385700225830078, 4.383399963378906, 4.3796000480651855, 4.3780999183654785, 4.377299785614014, 4.376800060272217, 4.375100135803223, 4.374199867248535, 4.372700214385986, 4.3709001541137695, 4.366199970245361, 4.363999843597412, 4.357600212097168, 4.353300094604492, 4.3516998291015625, 4.998000144958496, 4.98769998550415, 4.968299865722656, 4.955100059509277, 4.947500228881836, 4.947500228881836, 4.947299957275391, 4.9456000328063965, 4.934999942779541, 4.934800148010254, 4.933899879455566, 4.929800033569336, 4.929500102996826, 4.92710018157959, 4.9191999435424805, 4.907599925994873, 4.89169979095459, 4.888299942016602, 4.885700225830078, 4.883500099182129, 4.8755998611450195, 4.871600151062012, 4.863900184631348, 4.861199855804443, 4.853499889373779, 4.8404998779296875, 4.7855000495910645, 4.743000030517578, 4.737100124359131, 4.736199855804443, 5.611700057983398, 5.609899997711182, 5.609799861907959, 5.608699798583984, 5.58519983291626, 5.532400131225586, 5.52209997177124, 5.512499809265137, 5.510000228881836, 5.495699882507324, 5.4934000968933105, 5.47790002822876, 5.473299980163574, 5.45959997177124, 5.294000148773193, 5.232399940490723, 5.221099853515625, 4.860400199890137, 4.6402997970581055, 4.452199935913086, 4.452199935913086, 4.390100002288818, 3.7832999229431152, 3.4809999465942383, 3.4809999465942383, 3.4809999465942383, 3.4809999465942383, 2.843400001525879, 2.745699882507324, 2.7383999824523926, 2.6182000637054443, 0.9301000237464905, 6.0584001541137695, 5.97130012512207, 5.951700210571289, 5.8871002197265625, 5.851799964904785, 5.765600204467773, 5.718599796295166, 5.707900047302246, 5.6149001121521, 5.279699802398682, 4.3302998542785645, 4.287199974060059, 4.287199974060059, 3.8965001106262207, 2.9725000858306885, 2.9725000858306885, 2.9725000858306885, 2.9725000858306885, 2.950700044631958, 2.9024999141693115, 2.9024999141693115, 2.8754000663757324, 2.847100019454956, 2.847100019454956, 2.822700023651123, 2.8173000812530518, 2.797499895095825, 2.785900115966797, 2.7795000076293945, 2.779099941253662, 2.7611000537872314, 2.7611000537872314, 2.7407000064849854, 2.687999963760376], \"logprob\": [30.0, 29.0, 28.0, 27.0, 26.0, 25.0, 24.0, 23.0, 22.0, 21.0, 20.0, 19.0, 18.0, 17.0, 16.0, 15.0, 14.0, 13.0, 12.0, 11.0, 10.0, 9.0, 8.0, 7.0, 6.0, 5.0, 4.0, 3.0, 2.0, 1.0, -3.70989990234375, -4.148900032043457, -4.404300212860107, -4.420100212097168, -4.6290998458862305, -4.950500011444092, -5.026000022888184, -4.855500221252441, -5.039400100708008, -4.990499973297119, -5.1331000328063965, -5.158699989318848, -5.229599952697754, -5.298699855804443, -5.366600036621094, -5.374899864196777, -5.382999897003174, -5.536600112915039, -5.609600067138672, -5.660200119018555, -5.702700138092041, -5.730500221252441, -5.785699844360352, -5.804100036621094, -5.875400066375732, -5.913000106811523, -5.939599990844727, -5.953499794006348, -5.974599838256836, -5.754300117492676, -3.2809998989105225, -4.646599769592285, -5.0609002113342285, -3.746000051498413, -5.302700042724609, -5.137400150299072, -4.8454999923706055, -5.036799907684326, -3.8397998809814453, -3.5457000732421875, -4.9583001136779785, -3.68969988822937, -4.158599853515625, -3.8840999603271484, -4.198599815368652, -2.995500087738037, -5.051499843597412, -4.171800136566162, -5.059899806976318, -4.937900066375732, -4.737299919128418, -4.887899875640869, -4.852799892425537, -3.7822999954223633, -3.9677999019622803, -4.191500186920166, -4.208399772644043, -4.323299884796143, -4.389200210571289, -4.511499881744385, -4.561600208282471, -4.61959981918335, -4.6894001960754395, -4.719099998474121, -4.932600021362305, -4.494500160217285, -5.341000080108643, -5.353300094604492, -5.354800224304199, -5.362299919128418, -5.45419979095459, -5.511000156402588, -5.573699951171875, -5.602399826049805, -5.619999885559082, -5.649400234222412, -5.65939998626709, -5.6691999435424805, -5.715700149536133, -5.729400157928467, -5.735000133514404, -5.747399806976318, -5.757500171661377, -3.6182000637054443, -4.604300022125244, -3.623699903488159, -4.757299900054932, -4.558199882507324, -5.2769999504089355, -4.3190999031066895, -5.362500190734863, -5.025300025939941, -4.998799800872803, -4.218900203704834, -3.9551000595092773, -5.146900177001953, -4.715199947357178, -4.231500148773193, -3.385999917984009, -5.272799968719482, -4.9141998291015625, -5.125199794769287, -4.918300151824951, -4.868199825286865, -4.916600227355957, -3.6975998878479004, -3.781100034713745, -4.089900016784668, -4.309199810028076, -4.346499919891357, -4.384799957275391, -4.424699783325195, -4.448500156402588, -4.494100093841553, -4.603799819946289, -4.618299961090088, -4.627299785614014, -4.718999862670898, -4.7342000007629395, -4.756199836730957, -4.75629997253418, -4.769700050354004, -4.805500030517578, -4.823500156402588, -4.840000152587891, -4.870100021362305, -4.8780999183654785, -4.896100044250488, -4.937699794769287, -4.980999946594238, -4.985000133514404, -5.035699844360352, -5.043099880218506, -5.059500217437744, -5.063199996948242, -3.477799892425537, -4.129799842834473, -4.6859002113342285, -4.7581000328063965, -4.6585001945495605, -4.968699932098389, -3.766200065612793, -4.054500102996826, -4.112599849700928, -4.122499942779541, -4.201200008392334, -4.211900234222412, -4.21999979019165, -4.395100116729736, -4.454800128936768, -4.587900161743164, -4.604400157928467, -4.699699878692627, -4.749599933624268, -4.857399940490723, -4.893799781799316, -4.903800010681152, -5.000999927520752, -5.051700115203857, -5.062099933624268, -5.063799858093262, -5.159200191497803, -5.176199913024902, -5.177199840545654, -5.222599983215332, -5.232800006866455, -5.267499923706055, -5.273799896240234, -5.278800010681152, -5.287799835205078, -5.302800178527832, -4.032100200653076, -4.6203999519348145, -4.312399864196777, -4.641600131988525, -4.025100231170654, -3.7353999614715576, -4.641900062561035, -4.639999866485596, -5.044000148773193, -4.899499893188477, -2.3550000190734863, -2.6779000759124756, -3.8073999881744385, -3.841599941253662, -3.910900115966797, -4.1031999588012695, -4.496600151062012, -4.579400062561035, -4.648200035095215, -4.714200019836426, -4.758600234985352, -4.822999954223633, -4.844699859619141, -4.860499858856201, -4.921599864959717, -4.966800212860107, -4.974800109863281, -4.999599933624268, -5.002900123596191, -5.003200054168701, -5.0096001625061035, -5.011199951171875, -5.068399906158447, -5.089300155639648, -5.099800109863281, -5.154399871826172, -5.161499977111816, -5.165599822998047, -5.1757001876831055, -5.250199794769287, -4.277400016784668, -4.409299850463867, -4.236800193786621, -5.034999847412109, -2.078700065612793, -3.6596999168395996, -4.092299938201904, -4.1168999671936035, -4.164400100708008, -4.246799945831299, -4.25439977645874, -4.339000225067139, -4.432000160217285, -4.570300102233887, -4.574999809265137, -4.678199768066406, -4.736800193786621, -4.7829999923706055, -4.809899806976318, -4.96750020980835, -4.974800109863281, -5.046800136566162, -5.124899864196777, -5.167799949645996, -5.18120002746582, -5.191999912261963, -5.216400146484375, -5.263899803161621, -5.281400203704834, -5.284599781036377, -5.294000148773193, -5.295100212097168, -5.328100204467773, -5.328700065612793, -3.5968000888824463, -5.1930999755859375, -5.226399898529053, -2.3250999450683594, -3.141400098800659, -3.6391000747680664, -3.6879000663757324, -3.7260000705718994, -3.9333999156951904, -4.0208001136779785, -4.101600170135498, -4.108699798583984, -4.378399848937988, -4.518700122833252, -4.519499778747559, -4.72160005569458, -4.748700141906738, -4.764699935913086, -4.786799907684326, -4.8206000328063965, -4.872799873352051, -4.892199993133545, -4.903299808502197, -4.909299850463867, -4.930300235748291, -4.9430999755859375, -4.96150016784668, -4.984300136566162, -5.039100170135498, -5.064599990844727, -5.133900165557861, -5.178400039672852, -5.1946001052856445, -2.7077999114990234, -3.2016000747680664, -3.7618000507354736, -4.021399974822998, -4.14300012588501, -4.145199775695801, -4.148200035095215, -4.175000190734863, -4.32390022277832, -4.326499938964844, -4.338200092315674, -4.389800071716309, -4.392399787902832, -4.422800064086914, -4.513000011444092, -4.6350998878479, -4.781000137329102, -4.810699939727783, -4.832600116729736, -4.850500106811523, -4.912899971008301, -4.943600177764893, -5.00029993057251, -5.018799781799316, -5.072700023651123, -5.157100200653076, -5.4608001708984375, -5.652900218963623, -5.6778998374938965, -5.681099891662598, -3.345599889755249, -3.3775999546051025, -3.3798000812530518, -3.398900032043457, -3.728800058364868, -4.233099937438965, -4.309700012207031, -4.376800060272217, -4.393700122833252, -4.486000061035156, -4.500100135803223, -4.591800212860107, -4.617099761962891, -4.691199779510498, -5.356200218200684, -5.539100170135498, -5.571599960327148, -6.359099864959717, -6.72599983215332, -7.00439977645874, -7.00439977645874, -7.091899871826172, -7.859899997711182, -8.041399955749512, -8.041399955749512, -8.041399955749512, -8.041399955749512, -8.837900161743164, -8.935799598693848, -8.545000076293945, -8.786499977111816, -8.757599830627441, -2.341399908065796, -3.652600049972534, -3.8125998973846436, -4.223100185394287, -4.399799823760986, -4.751399993896484, -4.910900115966797, -4.944300174713135, -5.211299896240234, -5.928400039672852, -7.275700092315674, -7.327600002288818, -7.327600002288818, -7.779699802398682, -8.710800170898438, -8.710800170898438, -8.710800170898438, -8.710800170898438, -8.670299530029297, -8.748299598693848, -8.748299598693848, -8.748900413513184, -8.784099578857422, -8.784099578857422, -8.826700210571289, -8.84570026397705, -8.937299728393555, -8.82409954071045, -8.959199905395508, -8.950699806213379, -8.826700210571289, -8.826700210571289, -8.88029956817627, -8.828200340270996]}, \"token.table\": {\"Topic\": [1, 4, 3, 7, 6, 6, 10, 9, 1, 8, 5, 1, 2, 5, 4, 4, 4, 6, 2, 3, 6, 7, 1, 2, 3, 4, 1, 7, 1, 2, 5, 1, 5, 8, 4, 1, 2, 6, 5, 10, 1, 2, 3, 5, 5, 4, 1, 3, 5, 5, 7, 1, 6, 8, 1, 2, 3, 4, 5, 6, 4, 1, 1, 2, 1, 2, 3, 5, 5, 3, 6, 5, 1, 7, 7, 5, 1, 2, 4, 5, 5, 6, 9, 2, 3, 1, 4, 9, 2, 1, 2, 1, 1, 7, 1, 2, 6, 1, 8, 5, 3, 1, 2, 3, 3, 8, 5, 8, 1, 1, 2, 6, 2, 4, 5, 6, 1, 4, 4, 1, 1, 8, 4, 3, 5, 5, 3, 2, 2, 2, 6, 2, 3, 1, 2, 5, 2, 2, 5, 9, 1, 3, 7, 3, 4, 6, 5, 6, 1, 2, 5, 3, 7, 8, 1, 2, 4, 9, 7, 9, 3, 2, 1, 1, 2, 2, 6, 2, 2, 7, 6, 1, 9, 4, 2, 7, 4, 1, 2, 7, 1, 3, 6, 1, 2, 3, 8, 1, 2, 5, 9, 7, 10, 4, 1, 2, 2, 5, 1, 5, 9, 10, 4, 4, 7, 1, 2, 4, 1, 2, 3, 4, 9, 2, 8, 4, 2, 3, 5, 5, 7, 3, 2, 8, 1, 2, 6, 1, 2, 4, 3, 1, 3, 7, 1, 2, 5, 8, 1, 8, 8, 6, 1, 3, 3, 1, 4, 4, 8, 8, 8, 10, 1, 2, 4, 8, 1, 4, 4, 3, 10, 1, 4, 8, 1, 4, 1, 8, 1, 2, 3, 1, 4, 9, 1, 4, 3, 2, 5, 4, 10, 1, 2, 2, 8, 9, 7, 1, 2, 5, 2, 1, 2, 9, 5, 9, 3, 8, 2, 1, 1, 1, 3, 3, 6, 8, 3, 3, 4, 6, 4, 9, 5, 7, 1, 2, 4, 5, 10, 2, 5, 6, 7, 10, 8, 3, 6, 1, 4, 5, 2, 5, 9, 9, 1, 2, 9, 7, 8, 5, 7, 7, 2, 7, 6, 6, 5, 6, 1, 2, 3, 3, 5, 1, 1, 2, 6, 8, 7, 3, 3, 5, 1, 2, 1, 2, 7, 3, 3, 2, 4, 4, 4, 1, 3, 2, 3, 7, 2, 4, 5, 6, 2, 6, 6, 7, 8, 4, 8, 6, 2, 1, 7, 2, 4, 10, 8, 4, 4, 3, 2, 1, 2, 3, 6, 5, 2, 3, 8, 6, 6, 6, 7, 5, 2], \"Freq\": [0.6024304032325745, 0.3911885917186737, 0.9770891666412354, 0.9336484670639038, 0.9877234697341919, 0.995499849319458, 0.9235848188400269, 0.8866852521896362, 0.9968626499176025, 0.9074040055274963, 0.9926750063896179, 0.90129154920578, 0.09823600947856903, 0.000953747658059001, 0.992929995059967, 0.9913209676742554, 0.9934976100921631, 0.964819073677063, 0.9913762211799622, 0.98289954662323, 0.9660948514938354, 0.9459762573242188, 0.06849509477615356, 0.9315333366394043, 0.990943968296051, 0.9800710678100586, 0.9985204339027405, 0.955548882484436, 0.3242555260658264, 0.6694307327270508, 0.005229927599430084, 0.6634479761123657, 0.3358193337917328, 0.9305540323257446, 0.9932454228401184, 0.02486647292971611, 0.9753183722496033, 0.9900456070899963, 0.9715131521224976, 0.8857259750366211, 0.12385620176792145, 0.777097761631012, 0.0978863537311554, 0.0019976806361228228, 0.9947548508644104, 0.9815816283226013, 0.1358909159898758, 0.863306999206543, 0.9929684996604919, 0.9922648668289185, 0.9717467427253723, 0.9963700771331787, 0.959391713142395, 0.8604517579078674, 0.37194183468818665, 0.309518039226532, 0.002600991865620017, 0.3121190071105957, 0.9868362545967102, 0.988946795463562, 0.9958224892616272, 0.9956340193748474, 0.9915456771850586, 0.007107853889465332, 0.27458640933036804, 0.718501091003418, 0.004576439969241619, 0.977855920791626, 0.9710699319839478, 0.9832560420036316, 0.988161027431488, 0.9897587895393372, 0.9993655681610107, 0.9784446954727173, 0.9902498722076416, 0.9929835796356201, 0.8207374215126038, 0.1761317104101181, 0.0009078953880816698, 0.0027236861642450094, 0.991500198841095, 0.988050639629364, 0.8910802602767944, 0.9939589500427246, 0.00336935231462121, 0.43569791316986084, 0.5553012490272522, 0.7590810060501099, 0.9978916645050049, 0.8288076519966125, 0.17026863992214203, 0.9969077706336975, 0.9958594441413879, 0.906268298625946, 0.025697575882077217, 0.9722249507904053, 0.9918301105499268, 0.9975271821022034, 0.8947517275810242, 0.9981139898300171, 0.9851982593536377, 0.9528316259384155, 0.04594173654913902, 0.993527889251709, 0.9909217953681946, 0.7830212712287903, 0.9826464653015137, 0.8297077417373657, 0.9975522756576538, 0.9852174520492554, 0.014909464865922928, 0.9826984405517578, 0.993064284324646, 0.5344692468643188, 0.4572681188583374, 0.005938547197729349, 0.666569709777832, 0.33074069023132324, 0.9929882287979126, 0.9991077780723572, 0.9959180951118469, 0.9668111801147461, 0.9919500350952148, 0.11048820614814758, 0.8738612532615662, 0.976438581943512, 0.9904401302337646, 0.9873383641242981, 0.9922336935997009, 0.9945783019065857, 0.9922083616256714, 0.965830385684967, 0.031155819073319435, 0.8485353589057922, 0.15042217075824738, 0.0012856596149504185, 0.9949530959129333, 0.9987722635269165, 0.9729732871055603, 0.9775181412696838, 0.9961195588111877, 0.9835982322692871, 0.9217992424964905, 0.18387657403945923, 0.8090569376945496, 0.9764293432235718, 0.35567131638526917, 0.6276552677154541, 0.07420525699853897, 0.922265350818634, 0.995268702507019, 0.987743079662323, 0.8423160314559937, 0.9049897193908691, 0.7992987036705017, 0.18155162036418915, 0.01886250637471676, 0.9796038269996643, 0.9810588359832764, 0.7212181687355042, 0.9806457161903381, 0.997018575668335, 0.9934617877006531, 0.9448388814926147, 0.053798653185367584, 0.9655435681343079, 0.031371451914310455, 0.9994630813598633, 0.9969859719276428, 0.9563072323799133, 0.9938809871673584, 0.9914160966873169, 0.49537208676338196, 0.9833347201347351, 0.9983785152435303, 0.8659971952438354, 0.9861258268356323, 0.8781169056892395, 0.11986992508172989, 0.9222915172576904, 0.9943788051605225, 0.5237765908241272, 0.46028852462768555, 0.0166030153632164, 0.9809614419937134, 0.0013835845747962594, 0.6790925860404968, 0.830438494682312, 0.15367275476455688, 0.015140173025429249, 0.9142276048660278, 0.9593077301979065, 0.7520713210105896, 0.9767806529998779, 0.8836435675621033, 0.11637891829013824, 0.9986419081687927, 0.9944626688957214, 0.9980799555778503, 0.9867478609085083, 0.7363516092300415, 0.7504661679267883, 0.9873842597007751, 0.9796578884124756, 0.9801706671714783, 0.10638289898633957, 0.8915899991989136, 0.002532926155254245, 0.9997800588607788, 0.23196037113666534, 0.5352931618690491, 0.22303882241249084, 0.8029294610023499, 0.9936073422431946, 0.9640166163444519, 0.9865913391113281, 0.9878073334693909, 0.6349369287490845, 0.3571520149707794, 0.9825791716575623, 0.992790699005127, 0.9760981798171997, 0.9948145747184753, 0.9075770378112793, 0.7556747794151306, 0.2433861643075943, 0.9816112518310547, 0.014502222649753094, 0.9789000153541565, 0.9698612689971924, 0.9837220311164856, 0.9980777502059937, 0.9842358231544495, 0.9143841862678528, 0.9842039942741394, 0.008988164365291595, 0.004494082182645798, 0.6662818789482117, 0.9982050657272339, 0.9744762778282166, 0.6806758046150208, 0.9945575594902039, 0.9402951002120972, 0.05729396641254425, 0.9852491021156311, 0.9958258271217346, 0.9895334243774414, 0.9811682105064392, 0.9320061802864075, 0.9083545804023743, 0.8515404462814331, 0.9504283666610718, 0.9675958752632141, 0.022372158244252205, 0.011186079122126102, 0.9445982575416565, 0.9457298517227173, 0.05509106069803238, 0.9953099489212036, 0.9846742749214172, 0.7510616779327393, 0.2391919046640396, 0.734660804271698, 0.9900720119476318, 0.9985796809196472, 0.9822737574577332, 0.9955897927284241, 0.9363358020782471, 0.9922381043434143, 0.9059408903121948, 0.09161200374364853, 0.9759311079978943, 0.02269607223570347, 0.8591350317001343, 0.9989371299743652, 0.993929386138916, 0.9912034273147583, 0.9985684752464294, 0.9869075417518616, 0.9784566760063171, 0.8609746694564819, 0.98804771900177, 0.011706726625561714, 0.9975194334983826, 0.9617087244987488, 0.7821505665779114, 0.9602373242378235, 0.967980146408081, 0.023774951696395874, 0.006792843341827393, 0.9901888370513916, 0.6388636827468872, 0.3594772219657898, 0.9032952189445496, 0.9778250455856323, 0.9474971294403076, 0.9841361045837402, 0.8458549380302429, 0.9896246790885925, 0.9976719617843628, 0.99613356590271, 0.9988272190093994, 0.9952242970466614, 0.9824768900871277, 0.9737057685852051, 0.8330367803573608, 0.9945404529571533, 0.05508824810385704, 0.9443699717521667, 0.980738639831543, 0.9717658758163452, 0.8806400299072266, 0.9965132474899292, 0.9727663993835449, 0.9966814517974854, 0.7210386991500854, 0.22896888852119446, 0.04977584630250931, 0.8650400638580322, 0.9914048910140991, 0.9761278033256531, 0.9898958206176758, 0.8863605856895447, 0.5122325420379639, 0.9948710799217224, 0.9865069389343262, 0.989117443561554, 0.6939139366149902, 0.04996180161833763, 0.25258466601371765, 0.9218167662620544, 0.0778157040476799, 0.8145279884338379, 0.948512613773346, 0.011168817058205605, 0.9865788817405701, 0.4850013852119446, 0.9440053105354309, 0.8081913590431213, 0.99847412109375, 0.9461449980735779, 0.8547144532203674, 0.9972663521766663, 0.9150766730308533, 0.9871683716773987, 0.9858235716819763, 0.9841649532318115, 0.9854341745376587, 0.7096623182296753, 0.28909775614738464, 0.000969042768701911, 0.9951995015144348, 0.994335949420929, 0.9985250234603882, 0.47253093123435974, 0.52684485912323, 0.994575023651123, 0.8895825743675232, 0.8736706376075745, 0.9939993023872375, 0.9852807521820068, 0.986378014087677, 0.8566361665725708, 0.14339615404605865, 0.16841217875480652, 0.8315351605415344, 0.9412305355072021, 0.9871495962142944, 0.9957150816917419, 0.9988141655921936, 0.9828526973724365, 0.9906198978424072, 0.9913279414176941, 0.5599035024642944, 0.4354805052280426, 0.9950852990150452, 0.9876427054405212, 0.9104187488555908, 0.9978007674217224, 0.9892227649688721, 0.9868286848068237, 0.9911067485809326, 0.0444747731089592, 0.9530308842658997, 0.9603608250617981, 0.8955870270729065, 0.8592514395713806, 0.9944719076156616, 0.9030262231826782, 0.9865329265594482, 0.9976756572723389, 0.9917863607406616, 0.8784530162811279, 0.4624538719654083, 0.5367768406867981, 0.8415418863296509, 0.9105084538459778, 0.9959802627563477, 0.9810796976089478, 0.9948376417160034, 0.9934253692626953, 0.5820639133453369, 0.023757711052894592, 0.3920022249221802, 0.8203428387641907, 0.9817792177200317, 0.9968430399894714, 0.9904647469520569, 0.7954699993133545, 0.9988105893135071, 0.9967838525772095, 0.992388904094696, 0.9791923761367798, 0.9915485382080078, 0.9963864684104919], \"Term\": [\"activity\", \"activity\", \"add\", \"aka\", \"alert\", \"alien\", \"ancestor\", \"anchor\", \"anxiety\", \"apothecary\", \"appreciate\", \"aroma\", \"aroma\", \"aroma\", \"award_winn\", \"bank\", \"beautiful\", \"benefit\", \"best\", \"big\", \"blanket\", \"blood\", \"blue\", \"blue\", \"blue_dream\", \"bodhi\", \"body\", \"breath\", \"breed\", \"breed\", \"breed\", \"breeder\", \"breeder\", \"breeding\", \"bright\", \"bud\", \"bud\", \"burst\", \"calyx\", \"canada\", \"cannabis\", \"cannabis\", \"cannabis\", \"cannabis\", \"category\", \"caution\", \"cbd\", \"cbd\", \"cheese\", \"chemdawg\", \"cherry_pie\", \"choice\", \"choose\", \"cindy\", \"citrus\", \"citrus\", \"citrus\", \"citrus\", \"clone\", \"coat\", \"colorado\", \"combination\", \"combine\", \"combine\", \"come\", \"come\", \"come\", \"comfortable\", \"company\", \"condition\", \"confused\", \"connoisseur\", \"consumer\", \"cookie\", \"cooky\", \"creativity\", \"cross\", \"cross\", \"cross\", \"cross\", \"crossing\", \"crystal\", \"cultivator\", \"cup\", \"cup\", \"cut\", \"cut\", \"dairy\", \"dark\", \"day\", \"day\", \"daytime\", \"deep\", \"delight\", \"dense\", \"dense\", \"depend\", \"depression\", \"devil\", \"diesel\", \"dna\", \"dominant\", \"dominant\", \"dream\", \"due\", \"dust\", \"dutch\", \"dwarf\", \"earthy\", \"effect\", \"effect\", \"element\", \"energetic\", \"energy\", \"energy\", \"energy\", \"enjoy\", \"enjoy\", \"enjoyable\", \"euphoria\", \"euphoric\", \"exceptional\", \"expect\", \"express\", \"express\", \"family\", \"famous\", \"farm\", \"feature\", \"finish\", \"fire\", \"first\", \"first\", \"flavor\", \"flavor\", \"flavor\", \"flavorful\", \"flower\", \"flowering_cycle\", \"flowering_period\", \"focus\", \"follow\", \"forum\", \"fresh\", \"fresh\", \"frost\", \"frosty\", \"frosty\", \"fruit\", \"fruit\", \"fuel\", \"functional\", \"gelato\", \"gene\", \"genetic\", \"genetic\", \"genetic\", \"get\", \"girl_scout\", \"glass\", \"gold\", \"good\", \"grape\", \"great\", \"great\", \"green\", \"green\", \"grow\", \"grower\", \"gsc\", \"hair\", \"happy\", \"hashplant\", \"hawaiian\", \"haze\", \"hazy\", \"heavily\", \"heavy\", \"heavy\", \"heavyweight\", \"help\", \"heritage\", \"heritage\", \"high\", \"high\", \"high\", \"hunt\", \"hybrid\", \"hybrid\", \"hybrid\", \"ice\", \"imbue\", \"inbreed\", \"inc\", \"indica\", \"indica\", \"indoor\", \"influence\", \"insomnia\", \"intense\", \"intensity\", \"international\", \"invigorate\", \"island\", \"key\", \"know\", \"know\", \"know\", \"kush\", \"landrace\", \"landrace\", \"landrace\", \"lanky\", \"large\", \"latent\", \"lavender\", \"lead\", \"leaf\", \"leaf\", \"lift\", \"limb\", \"line\", \"long_last\", \"lsd\", \"make\", \"make\", \"mango\", \"many\", \"many\", \"mean\", \"mild\", \"mind\", \"minor\", \"minty\", \"mix\", \"mix\", \"mix\", \"moniker\", \"mood\", \"moonshine\", \"motivated\", \"muscle\", \"name\", \"name\", \"native\", \"nausea\", \"new\", \"nice\", \"nina\", \"nina_limone\", \"nirvana\", \"northern_light\", \"note\", \"note\", \"note\", \"october\", \"offer\", \"offer\", \"orange\", \"oregon\", \"organic\", \"original\", \"original\", \"outdoor\", \"pain\", \"palate\", \"patient\", \"pearl\", \"perfect\", \"phenotype\", \"phenotype\", \"physical\", \"physical\", \"pina\", \"pine\", \"pineapple\", \"place\", \"plant\", \"platinum\", \"possible\", \"possibly\", \"potent\", \"potent\", \"produce\", \"project\", \"promise\", \"pua_mana\", \"pungent\", \"pungent\", \"pungent\", \"pure\", \"purple\", \"purple\", \"queen\", \"quickly\", \"raise\", \"ratio\", \"ready_harvest\", \"red\", \"relax\", \"relaxation\", \"relief\", \"relieve\", \"remain\", \"remedy\", \"resistance_mold\", \"result\", \"rich\", \"rich\", \"rise\", \"romulan\", \"round\", \"rush\", \"satisfy\", \"sedative\", \"seed\", \"seed\", \"seed\", \"sell\", \"sensation\", \"sensi\", \"sfv\", \"sherbert\", \"shiva\", \"short\", \"silver\", \"similar\", \"skunk\", \"skunk\", \"skunk\", \"skunky\", \"skunky\", \"slight\", \"slipper\", \"smell\", \"smell\", \"snowfall\", \"solid\", \"somango\", \"sour\", \"speak\", \"speedy\", \"spicy\", \"st\", \"star\", \"stimulate_appetite\", \"stimulating\", \"stimulation\", \"strain\", \"strain\", \"strain\", \"strawberry\", \"strawberry_cough\", \"stress\", \"strong\", \"strong\", \"sugar\", \"sun\", \"sunset_sherbet\", \"super\", \"super_silver\", \"sure\", \"sweet\", \"sweet\", \"take\", \"take\", \"tang\", \"tangerine\", \"tangie\", \"taste\", \"terpene\", \"terpene_profile\", \"thai\", \"thc\", \"thc\", \"thc_content\", \"thick\", \"thin_mint\", \"time\", \"together\", \"top\", \"trainwreck\", \"trichome\", \"trichome\", \"trichome_production\", \"triple\", \"trippy\", \"tropical\", \"truth\", \"try\", \"typically\", \"undertone\", \"unencumbered\", \"unique\", \"unique\", \"united_state\", \"university\", \"unknown\", \"upbeat\", \"uplifting\", \"user\", \"variety\", \"variety\", \"variety\", \"warning\", \"washington\", \"week\", \"weight\", \"wet\", \"white\", \"white_widow\", \"widow\", \"wookie\", \"wrap\", \"yield\"]}, \"R\": 30, \"lambda.step\": 0.01, \"plot.opts\": {\"xlab\": \"PC1\", \"ylab\": \"PC2\"}, \"topic.order\": [9, 1, 2, 7, 8, 3, 4, 5, 6, 10]};\n",
       "\n",
       "function LDAvis_load_lib(url, callback){\n",
       "  var s = document.createElement('script');\n",
       "  s.src = url;\n",
       "  s.async = true;\n",
       "  s.onreadystatechange = s.onload = callback;\n",
       "  s.onerror = function(){console.warn(\"failed to load library \" + url);};\n",
       "  document.getElementsByTagName(\"head\")[0].appendChild(s);\n",
       "}\n",
       "\n",
       "if(typeof(LDAvis) !== \"undefined\"){\n",
       "   // already loaded: just create the visualization\n",
       "   !function(LDAvis){\n",
       "       new LDAvis(\"#\" + \"ldavis_el513627532907718168846811429\", ldavis_el513627532907718168846811429_data);\n",
       "   }(LDAvis);\n",
       "}else if(typeof define === \"function\" && define.amd){\n",
       "   // require.js is available: use it to load d3/LDAvis\n",
       "   require.config({paths: {d3: \"https://cdnjs.cloudflare.com/ajax/libs/d3/3.5.5/d3.min\"}});\n",
       "   require([\"d3\"], function(d3){\n",
       "      window.d3 = d3;\n",
       "      LDAvis_load_lib(\"https://cdn.rawgit.com/bmabey/pyLDAvis/files/ldavis.v1.0.0.js\", function(){\n",
       "        new LDAvis(\"#\" + \"ldavis_el513627532907718168846811429\", ldavis_el513627532907718168846811429_data);\n",
       "      });\n",
       "    });\n",
       "}else{\n",
       "    // require.js not available: dynamically load d3 & LDAvis\n",
       "    LDAvis_load_lib(\"https://cdnjs.cloudflare.com/ajax/libs/d3/3.5.5/d3.min.js\", function(){\n",
       "         LDAvis_load_lib(\"https://cdn.rawgit.com/bmabey/pyLDAvis/files/ldavis.v1.0.0.js\", function(){\n",
       "                 new LDAvis(\"#\" + \"ldavis_el513627532907718168846811429\", ldavis_el513627532907718168846811429_data);\n",
       "            })\n",
       "         });\n",
       "}\n",
       "</script>"
      ],
      "text/plain": [
       "PreparedData(topic_coordinates=              x         y  topics  cluster       Freq\n",
       "topic                                                \n",
       "8      0.353961 -0.037198       1        1  44.725246\n",
       "0      0.324593 -0.040842       2        1  26.917398\n",
       "1     -0.046773  0.290934       3        1   7.112715\n",
       "6      0.008495  0.062100       4        1   6.865609\n",
       "7     -0.032727  0.128489       5        1   6.417228\n",
       "2     -0.096111 -0.252038       6        1   5.567465\n",
       "3     -0.136597 -0.045952       7        1   1.159778\n",
       "4     -0.129982 -0.038426       8        1   0.664286\n",
       "5     -0.124083 -0.034408       9        1   0.344298\n",
       "9     -0.120776 -0.032659      10        1   0.225967, topic_info=     Category         Freq           Term        Total  loglift  logprob\n",
       "570   Default   684.000000          white   684.000000  30.0000  30.0000\n",
       "207   Default   598.000000           sour   598.000000  29.0000  29.0000\n",
       "41    Default   433.000000         diesel   433.000000  28.0000  28.0000\n",
       "5     Default  1676.000000         effect  1676.000000  27.0000  27.0000\n",
       "27    Default  3095.000000         strain  3095.000000  26.0000  26.0000\n",
       "2     Default   723.000000            bud   723.000000  25.0000  25.0000\n",
       "9     Default   722.000000           high   722.000000  24.0000  24.0000\n",
       "145   Default  1076.000000           kush  1076.000000  23.0000  23.0000\n",
       "73    Default   703.000000           seed   703.000000  22.0000  22.0000\n",
       "139   Default   602.000000         flower   602.000000  21.0000  21.0000\n",
       "700   Default   500.000000           haze   500.000000  20.0000  20.0000\n",
       "237   Default   250.000000            cbd   250.000000  19.0000  19.0000\n",
       "85    Default  1088.000000       dominant  1088.000000  18.0000  18.0000\n",
       "12    Default  1434.000000         indica  1434.000000  17.0000  17.0000\n",
       "1     Default   694.000000           body   694.000000  16.0000  16.0000\n",
       "119   Default   384.000000         citrus   384.000000  15.0000  15.0000\n",
       "17    Default   400.000000          plant   400.000000  14.0000  14.0000\n",
       "1033  Default   112.000000          cooky   112.000000  13.0000  13.0000\n",
       "370   Default   393.000000           time   393.000000  12.0000  12.0000\n",
       "74    Default   360.000000          skunk   360.000000  11.0000  11.0000\n",
       "110   Default   257.000000            thc   257.000000  10.0000  10.0000\n",
       "1576  Default   173.000000     strawberry   173.000000   9.0000   9.0000\n",
       "76    Default   157.000000       trichome   157.000000   8.0000   8.0000\n",
       "50    Default   351.000000           grow   351.000000   7.0000   7.0000\n",
       "132   Default  1048.000000          aroma  1048.000000   6.0000   6.0000\n",
       "1843  Default   159.000000          super   159.000000   5.0000   5.0000\n",
       "152   Default   156.000000         orange   156.000000   4.0000   4.0000\n",
       "19    Default   328.000000        produce   328.000000   3.0000   3.0000\n",
       "236   Default   500.000000       cannabis   500.000000   2.0000   2.0000\n",
       "78    Default   141.000000    white_widow   141.000000   1.0000   1.0000\n",
       "...       ...          ...            ...          ...      ...      ...\n",
       "1357  Topic10     2.725955           sell     3.468047   5.8518  -4.3998\n",
       "4841  Topic10     1.917757        inbreed     2.659322   5.7656  -4.7514\n",
       "744   Topic10     1.635079   united_state     2.376590   5.7186  -4.9109\n",
       "2114  Topic10     1.581292       possibly     2.322949   5.7079  -4.9443\n",
       "514   Topic10     1.210829          shiva     1.952238   5.6149  -5.2113\n",
       "3402  Topic10     0.591072  international     1.332505   5.2797  -5.9284\n",
       "1677  Topic10     0.153640         stocky     0.895021   4.3303  -7.2757\n",
       "510   Topic10     0.145875           jock     0.887251   4.2872  -7.3276\n",
       "508   Topic10     0.145875         horror     0.887251   4.2872  -7.3276\n",
       "1697  Topic10     0.092817    expectation     0.834385   3.8965  -7.7797\n",
       "5203  Topic10     0.036581         pugent     0.828488   2.9725  -8.7108\n",
       "5204  Topic10     0.036581          queso     0.828488   2.9725  -8.7108\n",
       "5199  Topic10     0.036581       europian     0.828488   2.9725  -8.7108\n",
       "5198  Topic10     0.036581      dominiant     0.828488   2.9725  -8.7108\n",
       "5037  Topic10     0.038093      reputable     0.881697   2.9507  -8.6703\n",
       "6862  Topic10     0.035234        ontario     0.855807   2.9025  -8.7483\n",
       "6861  Topic10     0.035234    frontrunner     0.855807   2.9025  -8.7483\n",
       "5014  Topic10     0.035215     harvesting     0.878817   2.8754  -8.7489\n",
       "6815  Topic10     0.033997       siberian     0.872808   2.8471  -8.7841\n",
       "6814  Topic10     0.033997     bitterness     0.872808   2.8471  -8.7841\n",
       "6512  Topic10     0.032580      superglue     0.857082   2.8227  -8.8267\n",
       "3679  Topic10     0.031965          gayle     0.845460   2.8173  -8.8457\n",
       "5421  Topic10     0.029167         lowryd     0.786860   2.7975  -8.9373\n",
       "6875  Topic10     0.032665           yogi     0.891482   2.7859  -8.8241\n",
       "2761  Topic10     0.028535      pacifying     0.783793   2.7795  -8.9592\n",
       "5366  Topic10     0.028780       leonidas     0.790885   2.7791  -8.9507\n",
       "6822  Topic10     0.032579         lounge     0.911476   2.7611  -8.8267\n",
       "6823  Topic10     0.032579          smurf     0.911476   2.7611  -8.8267\n",
       "6407  Topic10     0.030879        starbud     0.881746   2.7407  -8.8803\n",
       "5073  Topic10     0.032528      butterfly     0.979116   2.6880  -8.8282\n",
       "\n",
       "[404 rows x 6 columns], token_table=      Topic      Freq          Term\n",
       "term                               \n",
       "470       1  0.602430      activity\n",
       "470       4  0.391189      activity\n",
       "1184      3  0.977089           add\n",
       "380       7  0.933648           aka\n",
       "0         6  0.987723         alert\n",
       "429       6  0.995500         alien\n",
       "507      10  0.923585      ancestor\n",
       "971       9  0.886685        anchor\n",
       "213       1  0.996863       anxiety\n",
       "3977      8  0.907404    apothecary\n",
       "192       5  0.992675    appreciate\n",
       "132       1  0.901292         aroma\n",
       "132       2  0.098236         aroma\n",
       "132       5  0.000954         aroma\n",
       "1375      4  0.992930    award_winn\n",
       "37        4  0.991321          bank\n",
       "851       4  0.993498     beautiful\n",
       "752       6  0.964819       benefit\n",
       "402       2  0.991376          best\n",
       "655       3  0.982900           big\n",
       "353       6  0.966095       blanket\n",
       "2436      7  0.945976         blood\n",
       "302       1  0.068495          blue\n",
       "302       2  0.931533          blue\n",
       "945       3  0.990944    blue_dream\n",
       "1416      4  0.980071         bodhi\n",
       "1         1  0.998520          body\n",
       "3575      7  0.955549        breath\n",
       "80        1  0.324256         breed\n",
       "80        2  0.669431         breed\n",
       "...     ...       ...           ...\n",
       "2734      7  0.895587        triple\n",
       "1110      8  0.859251        trippy\n",
       "1256      4  0.994472      tropical\n",
       "6622      8  0.903026         truth\n",
       "1037      6  0.986533           try\n",
       "505       2  0.997676     typically\n",
       "233       1  0.991786     undertone\n",
       "2057      7  0.878453  unencumbered\n",
       "160       2  0.462454        unique\n",
       "160       4  0.536777        unique\n",
       "744      10  0.841542  united_state\n",
       "1999      8  0.910508    university\n",
       "1020      4  0.995980       unknown\n",
       "1229      4  0.981080        upbeat\n",
       "1199      3  0.994838     uplifting\n",
       "161       2  0.993425          user\n",
       "277       1  0.582064       variety\n",
       "277       2  0.023758       variety\n",
       "277       3  0.392002       variety\n",
       "212       6  0.820343       warning\n",
       "1083      5  0.981779    washington\n",
       "347       2  0.996843          week\n",
       "1297      3  0.990465        weight\n",
       "4877      8  0.795470           wet\n",
       "570       6  0.998811         white\n",
       "78        6  0.996784   white_widow\n",
       "767       6  0.992389         widow\n",
       "6787      7  0.979192        wookie\n",
       "1084      5  0.991549          wrap\n",
       "329       2  0.996386         yield\n",
       "\n",
       "[415 rows x 3 columns], R=30, lambda_step=0.01, plot_opts={'xlab': 'PC1', 'ylab': 'PC2'}, topic_order=[9, 1, 2, 7, 8, 3, 4, 5, 6, 10])"
      ]
     },
     "execution_count": 16,
     "metadata": {},
     "output_type": "execute_result"
    }
   ],
   "source": [
    "# Visualize the topics\n",
    "pyLDAvis.enable_notebook()\n",
    "vis = pyLDAvis.gensim.prepare(lda_model, corpus, id2word)\n",
    "vis"
   ]
  },
  {
   "cell_type": "code",
   "execution_count": null,
   "metadata": {},
   "outputs": [],
   "source": []
  }
 ],
 "metadata": {
  "kernelspec": {
   "display_name": "Python 3",
   "language": "python",
   "name": "python3"
  },
  "language_info": {
   "codemirror_mode": {
    "name": "ipython",
    "version": 3
   },
   "file_extension": ".py",
   "mimetype": "text/x-python",
   "name": "python",
   "nbconvert_exporter": "python",
   "pygments_lexer": "ipython3",
   "version": "3.6.8"
  }
 },
 "nbformat": 4,
 "nbformat_minor": 2
}
