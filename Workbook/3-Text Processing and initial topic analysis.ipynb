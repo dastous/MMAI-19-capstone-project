{
 "cells": [
  {
   "cell_type": "markdown",
   "metadata": {},
   "source": [
    "# Text Analysis through Natural Language Processing, Understanding and Classification"
   ]
  },
  {
   "cell_type": "markdown",
   "metadata": {},
   "source": [
    "# 1 - Importing NLP packages"
   ]
  },
  {
   "cell_type": "code",
   "execution_count": 1,
   "metadata": {},
   "outputs": [
    {
     "name": "stderr",
     "output_type": "stream",
     "text": [
      "C:\\Users\\dastous\\Anaconda3\\envs\\py3.6\\lib\\site-packages\\scipy\\sparse\\sparsetools.py:21: DeprecationWarning: `scipy.sparse.sparsetools` is deprecated!\n",
      "scipy.sparse.sparsetools is a private module for scipy.sparse, and should not be used.\n",
      "  _deprecated()\n",
      "C:\\Users\\dastous\\Anaconda3\\envs\\py3.6\\lib\\importlib\\_bootstrap.py:219: ImportWarning: can't resolve package from __spec__ or __package__, falling back on __name__ and __path__\n",
      "  return f(*args, **kwds)\n"
     ]
    }
   ],
   "source": [
    "from wordcloud import WordCloud, STOPWORDS\n",
    "from yellowbrick.text import FreqDistVisualizer\n",
    "from sklearn.feature_extraction import stop_words\n",
    "from sklearn.decomposition import TruncatedSVD, LatentDirichletAllocation\n",
    "from sklearn.model_selection import GridSearchCV\n",
    "from pactools.grid_search import GridSearchCVProgressBar\n",
    "\n",
    "from gensim import models, corpora\n",
    "from gensim.sklearn_api import HdpTransformer\n",
    "from gensim.test.utils import common_dictionary, common_corpus\n",
    "from gensim.scripts.glove2word2vec import glove2word2vec\n",
    "\n",
    "from textblob import TextBlob, Word\n",
    "from sklearn.feature_extraction.text import TfidfVectorizer, CountVectorizer\n",
    "\n",
    "from nltk import word_tokenize\n",
    "from nltk.corpus import stopwords\n",
    "from nltk.tokenize import sent_tokenize, word_tokenize\n",
    "from nltk.stem import PorterStemmer,WordNetLemmatizer\n",
    "from nltk.corpus import wordnet as wn\n",
    "from nltk.stem.wordnet import WordNetLemmatizer\n",
    "from nltk.stem.porter import *\n",
    "\n",
    "import string\n",
    "import re\n",
    "import scipy\n",
    "import pyLDAvis\n",
    "\n",
    "import pandas as pd # to dataframes\n",
    "import matplotlib.pyplot as plt #to define plot parameters\n",
    "import seaborn as sns #to graphical plots\n",
    "import numpy as np #to math\n",
    "plt.style.use('ggplot') # to plot graphs with gggplot2 style\n",
    "\n",
    "import plotly.plotly as py\n",
    "from plotly.offline import download_plotlyjs, init_notebook_mode, plot, iplot\n",
    "import plotly.graph_objs as go"
   ]
  },
  {
   "cell_type": "code",
   "execution_count": 2,
   "metadata": {},
   "outputs": [
    {
     "data": {
      "text/html": [
       "<div>\n",
       "<style scoped>\n",
       "    .dataframe tbody tr th:only-of-type {\n",
       "        vertical-align: middle;\n",
       "    }\n",
       "\n",
       "    .dataframe tbody tr th {\n",
       "        vertical-align: top;\n",
       "    }\n",
       "\n",
       "    .dataframe thead th {\n",
       "        text-align: right;\n",
       "    }\n",
       "</style>\n",
       "<table border=\"1\" class=\"dataframe\">\n",
       "  <thead>\n",
       "    <tr style=\"text-align: right;\">\n",
       "      <th></th>\n",
       "      <th>Unnamed: 0</th>\n",
       "      <th>Strain</th>\n",
       "      <th>Type</th>\n",
       "      <th>Rating</th>\n",
       "      <th>Effects</th>\n",
       "      <th>Flavor</th>\n",
       "      <th>Description</th>\n",
       "      <th>Effect_1</th>\n",
       "      <th>Effect_2</th>\n",
       "      <th>Effect_3</th>\n",
       "      <th>Effect_4</th>\n",
       "      <th>Effect_5</th>\n",
       "      <th>Flavor_1</th>\n",
       "      <th>Flavor_2</th>\n",
       "      <th>Flavor_3</th>\n",
       "      <th>Flavor_4</th>\n",
       "    </tr>\n",
       "  </thead>\n",
       "  <tbody>\n",
       "    <tr>\n",
       "      <th>0</th>\n",
       "      <td>0</td>\n",
       "      <td>100-Og</td>\n",
       "      <td>hybrid</td>\n",
       "      <td>4.0</td>\n",
       "      <td>Creative,Energetic,Tingly,Euphoric,Relaxed</td>\n",
       "      <td>Earthy,Sweet,Citrus</td>\n",
       "      <td>$100 OG is a 50/50 hybrid strain that packs a ...</td>\n",
       "      <td>Creative</td>\n",
       "      <td>Energetic</td>\n",
       "      <td>Tingly</td>\n",
       "      <td>Euphoric</td>\n",
       "      <td>Relaxed</td>\n",
       "      <td>Earthy</td>\n",
       "      <td>Sweet</td>\n",
       "      <td>Citrus</td>\n",
       "      <td>NaN</td>\n",
       "    </tr>\n",
       "    <tr>\n",
       "      <th>1</th>\n",
       "      <td>1</td>\n",
       "      <td>98-White-Widow</td>\n",
       "      <td>hybrid</td>\n",
       "      <td>4.7</td>\n",
       "      <td>Relaxed,Aroused,Creative,Happy,Energetic</td>\n",
       "      <td>Flowery,Violet,Diesel</td>\n",
       "      <td>The ‘98 Aloha White Widow is an especially pot...</td>\n",
       "      <td>Relaxed</td>\n",
       "      <td>Aroused</td>\n",
       "      <td>Creative</td>\n",
       "      <td>Happy</td>\n",
       "      <td>Energetic</td>\n",
       "      <td>Flowery</td>\n",
       "      <td>Violet</td>\n",
       "      <td>Diesel</td>\n",
       "      <td>NaN</td>\n",
       "    </tr>\n",
       "    <tr>\n",
       "      <th>2</th>\n",
       "      <td>2</td>\n",
       "      <td>1024</td>\n",
       "      <td>sativa</td>\n",
       "      <td>4.4</td>\n",
       "      <td>Uplifted,Happy,Relaxed,Energetic,Creative</td>\n",
       "      <td>Spicy/Herbal,Sage,Woody</td>\n",
       "      <td>1024 is a sativa-dominant hybrid bred in Spain...</td>\n",
       "      <td>Uplifted</td>\n",
       "      <td>Happy</td>\n",
       "      <td>Relaxed</td>\n",
       "      <td>Energetic</td>\n",
       "      <td>Creative</td>\n",
       "      <td>Spicy/Herbal</td>\n",
       "      <td>Sage</td>\n",
       "      <td>Woody</td>\n",
       "      <td>NaN</td>\n",
       "    </tr>\n",
       "    <tr>\n",
       "      <th>3</th>\n",
       "      <td>3</td>\n",
       "      <td>13-Dawgs</td>\n",
       "      <td>hybrid</td>\n",
       "      <td>4.2</td>\n",
       "      <td>Tingly,Creative,Hungry,Relaxed,Uplifted</td>\n",
       "      <td>Apricot,Citrus,Grapefruit</td>\n",
       "      <td>13 Dawgs is a hybrid of G13 and Chemdawg genet...</td>\n",
       "      <td>Tingly</td>\n",
       "      <td>Creative</td>\n",
       "      <td>Hungry</td>\n",
       "      <td>Relaxed</td>\n",
       "      <td>Uplifted</td>\n",
       "      <td>Apricot</td>\n",
       "      <td>Citrus</td>\n",
       "      <td>Grapefruit</td>\n",
       "      <td>NaN</td>\n",
       "    </tr>\n",
       "    <tr>\n",
       "      <th>4</th>\n",
       "      <td>4</td>\n",
       "      <td>24K-Gold</td>\n",
       "      <td>hybrid</td>\n",
       "      <td>4.6</td>\n",
       "      <td>Happy,Relaxed,Euphoric,Uplifted,Talkative</td>\n",
       "      <td>Citrus,Earthy,Orange</td>\n",
       "      <td>Also known as Kosher Tangie, 24k Gold is a 60%...</td>\n",
       "      <td>Happy</td>\n",
       "      <td>Relaxed</td>\n",
       "      <td>Euphoric</td>\n",
       "      <td>Uplifted</td>\n",
       "      <td>Talkative</td>\n",
       "      <td>Citrus</td>\n",
       "      <td>Earthy</td>\n",
       "      <td>Orange</td>\n",
       "      <td>NaN</td>\n",
       "    </tr>\n",
       "  </tbody>\n",
       "</table>\n",
       "</div>"
      ],
      "text/plain": [
       "   Unnamed: 0          Strain    Type  Rating  \\\n",
       "0           0          100-Og  hybrid     4.0   \n",
       "1           1  98-White-Widow  hybrid     4.7   \n",
       "2           2            1024  sativa     4.4   \n",
       "3           3        13-Dawgs  hybrid     4.2   \n",
       "4           4        24K-Gold  hybrid     4.6   \n",
       "\n",
       "                                      Effects                     Flavor  \\\n",
       "0  Creative,Energetic,Tingly,Euphoric,Relaxed        Earthy,Sweet,Citrus   \n",
       "1    Relaxed,Aroused,Creative,Happy,Energetic      Flowery,Violet,Diesel   \n",
       "2   Uplifted,Happy,Relaxed,Energetic,Creative    Spicy/Herbal,Sage,Woody   \n",
       "3     Tingly,Creative,Hungry,Relaxed,Uplifted  Apricot,Citrus,Grapefruit   \n",
       "4   Happy,Relaxed,Euphoric,Uplifted,Talkative       Citrus,Earthy,Orange   \n",
       "\n",
       "                                         Description  Effect_1   Effect_2  \\\n",
       "0  $100 OG is a 50/50 hybrid strain that packs a ...  Creative  Energetic   \n",
       "1  The ‘98 Aloha White Widow is an especially pot...   Relaxed    Aroused   \n",
       "2  1024 is a sativa-dominant hybrid bred in Spain...  Uplifted      Happy   \n",
       "3  13 Dawgs is a hybrid of G13 and Chemdawg genet...    Tingly   Creative   \n",
       "4  Also known as Kosher Tangie, 24k Gold is a 60%...     Happy    Relaxed   \n",
       "\n",
       "   Effect_3   Effect_4   Effect_5      Flavor_1 Flavor_2    Flavor_3 Flavor_4  \n",
       "0    Tingly   Euphoric    Relaxed        Earthy    Sweet      Citrus      NaN  \n",
       "1  Creative      Happy  Energetic       Flowery   Violet      Diesel      NaN  \n",
       "2   Relaxed  Energetic   Creative  Spicy/Herbal     Sage       Woody      NaN  \n",
       "3    Hungry    Relaxed   Uplifted       Apricot   Citrus  Grapefruit      NaN  \n",
       "4  Euphoric   Uplifted  Talkative        Citrus   Earthy      Orange      NaN  "
      ]
     },
     "execution_count": 2,
     "metadata": {},
     "output_type": "execute_result"
    }
   ],
   "source": [
    "EDA=pd.read_excel('../CannaConnect/Dataset/EDA.xlsx')\n",
    "EDA.head()"
   ]
  },
  {
   "cell_type": "markdown",
   "metadata": {},
   "source": [
    "# 2 - Initial NLP task"
   ]
  },
  {
   "cell_type": "code",
   "execution_count": 5,
   "metadata": {},
   "outputs": [
    {
     "name": "stdout",
     "output_type": "stream",
     "text": [
      "0    100 og 50 50 hybrid strain pack strong punch n...\n",
      "1    98 aloha white widow especially potent cut whi...\n",
      "2    1024 sativa dominant hybrid bred spain medical...\n",
      "3    13 dawgs hybrid g13 chemdawg genetics bred can...\n",
      "4    known kosher tangie 24k gold 60 indica dominan...\n",
      "Name: Description, dtype: object\n"
     ]
    }
   ],
   "source": [
    "#Preprocessing the text in the Description, lower case, taking out special characters and stop words, lemmatization of the words\n",
    "stopwords = set(STOPWORDS)\n",
    "df_des=EDA.Description.astype(str)\n",
    "df_lower_case_des=df_des.apply(lambda x: \" \".join(x.lower() for x in x.split())) #lower case\n",
    "df_special_characters_out_des=df_lower_case_des.map(lambda x: re.sub(r'\\W+', ' ',x)) #remove special character\n",
    "df_stop_words_out_des=df_special_characters_out_des.apply(lambda x: \" \".join(x for x in x.split() if x not in stopwords)) #remove stopwords\n",
    "df_lemma_des=df_stop_words_out_des.apply(lambda x: \" \".join([Word(word).lemmatize() for word in x.split()]))  #lemmatize\n",
    "#print the head of the lemmatize description text\n",
    "print(df_lemma_des.head())"
   ]
  },
  {
   "cell_type": "code",
   "execution_count": 6,
   "metadata": {},
   "outputs": [
    {
     "name": "stdout",
     "output_type": "stream",
     "text": [
      "0    4\n",
      "1    2\n",
      "2    2\n",
      "3    4\n",
      "4    3\n",
      "Name: Description, dtype: int64\n",
      "count    2349.000000\n",
      "mean        1.029800\n",
      "std         1.380985\n",
      "min         0.000000\n",
      "25%         0.000000\n",
      "50%         0.000000\n",
      "75%         2.000000\n",
      "max         8.000000\n",
      "Name: Description, dtype: float64\n"
     ]
    }
   ],
   "source": [
    "# How many numerical words for each row\n",
    "df_digits = df_lemma_des.apply(lambda x: len([x for x in x.split() if x.isdigit()]))\n",
    "print(df_digits.head())\n",
    "print(df_digits.describe())"
   ]
  },
  {
   "cell_type": "code",
   "execution_count": 7,
   "metadata": {},
   "outputs": [
    {
     "name": "stdout",
     "output_type": "stream",
     "text": [
      "0     og   hybrid strain pack strong punch name sup...\n",
      "1     aloha white widow especially potent cut white...\n",
      "2     sativa dominant hybrid bred spain medical see...\n",
      "3     dawgs hybrid g chemdawg genetics bred canadia...\n",
      "4    known kosher tangie k gold  indica dominant hy...\n",
      "Name: Description, dtype: object\n"
     ]
    }
   ],
   "source": [
    "# Taking out the numbers of each description\n",
    "df_numeric_out = df_lemma_des.str.replace('\\\\d+', '')\n",
    "print(df_numeric_out.head())"
   ]
  },
  {
   "cell_type": "code",
   "execution_count": 8,
   "metadata": {},
   "outputs": [
    {
     "name": "stdout",
     "output_type": "stream",
     "text": [
      "strain      2627\n",
      "effects     1469\n",
      "s           1377\n",
      "indica      1366\n",
      "hybrid      1252\n",
      "sativa      1060\n",
      "og          1051\n",
      "kush        1037\n",
      "dominant     941\n",
      "aroma        870\n",
      "dtype: int64\n"
     ]
    }
   ],
   "source": [
    "#Step 1: Identification of Common words\n",
    "#Step 2: I could but i will not remove the common words at this point\n",
    "common_words = pd.Series(' '.join(df_stop_words_out_des).split()).value_counts()[:10]\n",
    "print(common_words)"
   ]
  },
  {
   "cell_type": "code",
   "execution_count": 9,
   "metadata": {},
   "outputs": [
    {
     "name": "stdout",
     "output_type": "stream",
     "text": [
      "outweigh      1\n",
      "kuato         1\n",
      "brilliance    1\n",
      "gladly        1\n",
      "alexis        1\n",
      "draping       1\n",
      "ckc           1\n",
      "culls         1\n",
      "botanica      1\n",
      "godberry      1\n",
      "dtype: int64\n"
     ]
    }
   ],
   "source": [
    "#Step 1: Identification of Rare words\n",
    "#Step 2: I could but i will not remove the rare words at this point\n",
    "rare_words = pd.Series(' '.join(df_stop_words_out_des).split()).value_counts()[-10:]\n",
    "print(rare_words)"
   ]
  },
  {
   "cell_type": "code",
   "execution_count": 10,
   "metadata": {},
   "outputs": [],
   "source": [
    "# Now the description text is ready for future analysis, saving the results into a dataframe\n",
    "df_description_clean=df_numeric_out\n",
    "df_description_clean.to_excel('../CannaConnect/Dataset/description_clean.xlsx')"
   ]
  },
  {
   "cell_type": "code",
   "execution_count": 11,
   "metadata": {},
   "outputs": [
    {
     "data": {
      "text/plain": [
       "'file://C:\\\\Users\\\\dastous\\\\Desktop\\\\MMAI\\\\CannaConnect\\\\basic-bar.html'"
      ]
     },
     "execution_count": 11,
     "metadata": {},
     "output_type": "execute_result"
    }
   ],
   "source": [
    "# Visualization of the 50 most Frequent words\n",
    "all_words = df_description_clean.str.split(expand=True).unstack().value_counts()\n",
    "data = [go.Bar(\n",
    "            x = all_words.index.values[2:50],\n",
    "            y = all_words.values[2:50],\n",
    "            marker= dict(colorscale='Jet',\n",
    "                         color = all_words.values[2:100]\n",
    "                        ),\n",
    "            text='Word counts'\n",
    "    )]\n",
    "\n",
    "layout = go.Layout(\n",
    "    title='Top 50 (Uncleaned) Word frequencies in the training dataset'\n",
    ")\n",
    "\n",
    "fig = go.Figure(data=data, layout=layout)\n",
    "\n",
    "plot(fig, filename='basic-bar.html')"
   ]
  },
  {
   "cell_type": "markdown",
   "metadata": {},
   "source": [
    "# 3- Advance NLP text processing"
   ]
  },
  {
   "cell_type": "code",
   "execution_count": 14,
   "metadata": {},
   "outputs": [
    {
     "name": "stdout",
     "output_type": "stream",
     "text": [
      "bi-grams: [WordList(['og', 'hybrid']), WordList(['hybrid', 'strain']), WordList(['strain', 'pack']), WordList(['pack', 'strong']), WordList(['strong', 'punch']), WordList(['punch', 'name']), WordList(['name', 'supposedly']), WordList(['supposedly', 'refers']), WordList(['refers', 'strength']), WordList(['strength', 'high']), WordList(['high', 'price']), WordList(['price', 'first']), WordList(['first', 'started']), WordList(['started', 'showing']), WordList(['showing', 'hollywood']), WordList(['hollywood', 'plant']), WordList(['plant', 'og']), WordList(['og', 'tends']), WordList(['tends', 'produce']), WordList(['produce', 'large']), WordList(['large', 'dark']), WordList(['dark', 'green']), WordList(['green', 'bud']), WordList(['bud', 'stem']), WordList(['stem', 'user']), WordList(['user', 'report']), WordList(['report', 'strong']), WordList(['strong', 'body']), WordList(['body', 'effect']), WordList(['effect', 'indica']), WordList(['indica', 'pain']), WordList(['pain', 'relief']), WordList(['relief', 'alert']), WordList(['alert', 'cerebral']), WordList(['cerebral', 'feeling']), WordList(['feeling', 'thanks']), WordList(['thanks', 'sativa']), WordList(['sativa', 'side'])]\n",
      "tri-grams: [WordList(['og', 'hybrid', 'strain']), WordList(['hybrid', 'strain', 'pack']), WordList(['strain', 'pack', 'strong']), WordList(['pack', 'strong', 'punch']), WordList(['strong', 'punch', 'name']), WordList(['punch', 'name', 'supposedly']), WordList(['name', 'supposedly', 'refers']), WordList(['supposedly', 'refers', 'strength']), WordList(['refers', 'strength', 'high']), WordList(['strength', 'high', 'price']), WordList(['high', 'price', 'first']), WordList(['price', 'first', 'started']), WordList(['first', 'started', 'showing']), WordList(['started', 'showing', 'hollywood']), WordList(['showing', 'hollywood', 'plant']), WordList(['hollywood', 'plant', 'og']), WordList(['plant', 'og', 'tends']), WordList(['og', 'tends', 'produce']), WordList(['tends', 'produce', 'large']), WordList(['produce', 'large', 'dark']), WordList(['large', 'dark', 'green']), WordList(['dark', 'green', 'bud']), WordList(['green', 'bud', 'stem']), WordList(['bud', 'stem', 'user']), WordList(['stem', 'user', 'report']), WordList(['user', 'report', 'strong']), WordList(['report', 'strong', 'body']), WordList(['strong', 'body', 'effect']), WordList(['body', 'effect', 'indica']), WordList(['effect', 'indica', 'pain']), WordList(['indica', 'pain', 'relief']), WordList(['pain', 'relief', 'alert']), WordList(['relief', 'alert', 'cerebral']), WordList(['alert', 'cerebral', 'feeling']), WordList(['cerebral', 'feeling', 'thanks']), WordList(['feeling', 'thanks', 'sativa']), WordList(['thanks', 'sativa', 'side'])]\n"
     ]
    }
   ],
   "source": [
    "#Visualization of N-grams of the first Description, Bi-gram and tri-gram\n",
    "bi_gram = TextBlob(df_description_clean[0]).ngrams(2)\n",
    "print('bi-grams:',bi_gram)\n",
    "\n",
    "tri_gram = TextBlob(df_description_clean[0]).ngrams(3)\n",
    "print('tri-grams:',tri_gram)"
   ]
  },
  {
   "cell_type": "code",
   "execution_count": 15,
   "metadata": {},
   "outputs": [
    {
     "name": "stdout",
     "output_type": "stream",
     "text": [
      "    words      tf\n",
      "0          2419.0\n",
      "1      og  1051.0\n",
      "2  strong   333.0\n",
      "3   alert    30.0\n",
      "4    high   638.0\n"
     ]
    }
   ],
   "source": [
    "#Term frequency of Description\n",
    "tf1 = (df_description_clean).apply(lambda x: pd.value_counts(x.split(\" \"))).sum(axis = 0).reset_index()\n",
    "tf1.columns = ['words','tf']\n",
    "print(tf1.head())"
   ]
  },
  {
   "cell_type": "code",
   "execution_count": 16,
   "metadata": {},
   "outputs": [
    {
     "name": "stdout",
     "output_type": "stream",
     "text": [
      "    words      tf       idf\n",
      "0          2419.0  0.000000\n",
      "1      og  1051.0  1.316025\n",
      "2  strong   333.0  1.962652\n",
      "3   alert    30.0  4.000545\n",
      "4    high   638.0  1.398717\n"
     ]
    }
   ],
   "source": [
    "#Inverse Document Frequency of Description\n",
    "for i,word in enumerate(tf1['words']):\n",
    "  tf1.loc[i, 'idf'] = np.log(df_description_clean.shape[0]/(len(df_description_clean[df_description_clean.str.contains(word)])))\n",
    "print(tf1.head())"
   ]
  },
  {
   "cell_type": "code",
   "execution_count": 17,
   "metadata": {},
   "outputs": [
    {
     "name": "stdout",
     "output_type": "stream",
     "text": [
      "    words      tf       idf        tfidf\n",
      "0          2419.0  0.000000     0.000000\n",
      "1      og  1051.0  1.316025  1383.142449\n",
      "2  strong   333.0  1.962652   653.563226\n",
      "3   alert    30.0  4.000545   120.016346\n",
      "4    high   638.0  1.398717   892.381370\n"
     ]
    }
   ],
   "source": [
    "#Term Frequency – Inverse Document Frequency (TF-IDF) of Description\n",
    "tf1['tfidf'] = tf1['tf'] * tf1['idf']\n",
    "print(tf1.head())"
   ]
  },
  {
   "cell_type": "code",
   "execution_count": 18,
   "metadata": {},
   "outputs": [
    {
     "name": "stderr",
     "output_type": "stream",
     "text": [
      "C:\\Users\\dastous\\Anaconda3\\envs\\py3.6\\lib\\site-packages\\numpy\\matrixlib\\defmatrix.py:68: PendingDeprecationWarning:\n",
      "\n",
      "the matrix subclass is not the recommended way to represent matrices or deal with linear algebra (see https://docs.scipy.org/doc/numpy/user/numpy-for-matlab-users.html). Please adjust your code to use regular ndarray.\n",
      "\n"
     ]
    },
    {
     "data": {
      "text/plain": [
       "<2349x1000 sparse matrix of type '<class 'numpy.float64'>'\n",
       "\twith 71263 stored elements in Compressed Sparse Row format>"
      ]
     },
     "execution_count": 18,
     "metadata": {},
     "output_type": "execute_result"
    }
   ],
   "source": [
    "tfidf = TfidfVectorizer(max_features=1000, lowercase=True, analyzer='word',\n",
    " stop_words= 'english',ngram_range=(1,1))\n",
    "train_vect = tfidf.fit_transform(df_description_clean)\n",
    "train_vect"
   ]
  },
  {
   "cell_type": "code",
   "execution_count": 19,
   "metadata": {},
   "outputs": [
    {
     "data": {
      "text/plain": [
       "<2349x1000 sparse matrix of type '<class 'numpy.int64'>'\n",
       "\twith 74552 stored elements in Compressed Sparse Row format>"
      ]
     },
     "execution_count": 19,
     "metadata": {},
     "output_type": "execute_result"
    }
   ],
   "source": [
    "#Bag of Words\n",
    "bow = CountVectorizer(max_features=1000, lowercase=True, ngram_range=(1,1),analyzer = \"word\")\n",
    "train_bow = bow.fit_transform(df_description_clean)\n",
    "train_bow"
   ]
  },
  {
   "cell_type": "code",
   "execution_count": 20,
   "metadata": {},
   "outputs": [
    {
     "data": {
      "text/plain": [
       "(400000, 100)"
      ]
     },
     "execution_count": 20,
     "metadata": {},
     "output_type": "execute_result"
    }
   ],
   "source": [
    "#Word Embeddings #https://www.analyticsvidhya.com/blog/2018/02/the-different-methods-deal-text-data-predictive-python/\n",
    "glove_input_file = '../CannaConnect/Dataset/glove.6B.100d.txt'  #https://nlp.stanford.edu/projects/glove/\n",
    "word2vec_output_file = 'glove.6B.100d.txt.word2vec'\n",
    "glove2word2vec(glove_input_file, word2vec_output_file)"
   ]
  },
  {
   "cell_type": "code",
   "execution_count": 21,
   "metadata": {},
   "outputs": [],
   "source": [
    "from gensim.models import KeyedVectors # load the Stanford GloVe model\n",
    "filename = '../CannaConnect/glove.6B.100d.txt.word2vec'\n",
    "model = KeyedVectors.load_word2vec_format(filename, binary=False)"
   ]
  },
  {
   "cell_type": "code",
   "execution_count": 22,
   "metadata": {},
   "outputs": [
    {
     "data": {
      "text/plain": [
       "array([-0.078894,  0.4616  ,  0.57779 , -0.71637 , -0.13121 ,  0.4186  ,\n",
       "       -0.29156 ,  0.52006 ,  0.089986, -0.35062 ,  0.51755 ,  0.51998 ,\n",
       "        0.15218 ,  0.41485 , -0.12377 , -0.37222 ,  0.0273  ,  0.75673 ,\n",
       "       -0.8739  ,  0.58935 ,  0.46662 ,  0.62918 ,  0.092603, -0.012868,\n",
       "       -0.015169,  0.25567 , -0.43025 , -0.77668 ,  0.71449 , -0.3834  ,\n",
       "       -0.69638 ,  0.23522 ,  0.11396 ,  0.02778 ,  0.071357,  0.87409 ,\n",
       "       -0.1281  ,  0.063576,  0.067867, -0.50181 , -0.28523 , -0.072536,\n",
       "       -0.50738 , -0.6914  , -0.53579 , -0.11361 , -0.38234 , -0.12414 ,\n",
       "        0.011214, -1.1622  ,  0.037057, -0.18495 ,  0.01416 ,  0.87193 ,\n",
       "       -0.097309, -2.3565  , -0.14554 ,  0.28275 ,  2.0053  ,  0.23439 ,\n",
       "       -0.38298 ,  0.69539 , -0.44916 , -0.094157,  0.90527 ,  0.65764 ,\n",
       "        0.27628 ,  0.30688 , -0.57781 , -0.22987 , -0.083043, -0.57236 ,\n",
       "       -0.299   , -0.81112 ,  0.039752, -0.05681 , -0.48879 , -0.18091 ,\n",
       "       -0.28152 , -0.20559 ,  0.4932  , -0.033999, -0.53139 , -0.28297 ,\n",
       "       -1.4475  , -0.18685 ,  0.091177,  0.11454 , -0.28168 , -0.33565 ,\n",
       "       -0.31663 , -0.1089  ,  0.10111 , -0.23737 , -0.64955 , -0.268   ,\n",
       "        0.35096 ,  0.26352 ,  0.59397 ,  0.26741 ], dtype=float32)"
      ]
     },
     "execution_count": 22,
     "metadata": {},
     "output_type": "execute_result"
    }
   ],
   "source": [
    "model['go']"
   ]
  },
  {
   "cell_type": "code",
   "execution_count": 23,
   "metadata": {},
   "outputs": [
    {
     "name": "stdout",
     "output_type": "stream",
     "text": [
      "Wall time: 662 ms\n"
     ]
    },
    {
     "data": {
      "text/plain": [
       "(2349, 63)"
      ]
     },
     "execution_count": 23,
     "metadata": {},
     "output_type": "execute_result"
    }
   ],
   "source": [
    "#LSA analysis\n",
    "tfidf = TfidfVectorizer(strip_accents='ascii', lowercase=True, max_df=0.90, max_features=1000, min_df=0.1,  analyzer='word', stop_words= 'english', ngram_range=[1,3])\n",
    "%time train_vect = tfidf.fit_transform(df_description_clean)\n",
    "train_vect.shape"
   ]
  },
  {
   "cell_type": "code",
   "execution_count": 24,
   "metadata": {},
   "outputs": [
    {
     "data": {
      "text/plain": [
       "3"
      ]
     },
     "execution_count": 24,
     "metadata": {},
     "output_type": "execute_result"
    }
   ],
   "source": [
    "svd_model = TruncatedSVD(n_components=3, algorithm='randomized', n_iter=100, random_state=122)\n",
    "svd_model.fit(train_vect)\n",
    "len(svd_model.components_)"
   ]
  },
  {
   "cell_type": "code",
   "execution_count": 25,
   "metadata": {},
   "outputs": [
    {
     "name": "stdout",
     "output_type": "stream",
     "text": [
      "Topic 0: \n",
      "strain\n",
      "indica\n",
      "effect\n",
      "Topic 1: \n",
      "og\n",
      "kush\n",
      "indica\n",
      "Topic 2: \n",
      "purple\n",
      "indica\n",
      "indica dominant\n"
     ]
    }
   ],
   "source": [
    "#LSA - part 2\n",
    "terms = tfidf.get_feature_names()\n",
    "\n",
    "for i, comp in enumerate(svd_model.components_):\n",
    "    terms_comp = zip(terms, comp)\n",
    "    sorted_terms = sorted(terms_comp, key= lambda x:x[1], reverse=True)[:3]\n",
    "    print(\"Topic \"+str(i)+\": \")\n",
    "    for t in sorted_terms:\n",
    "        print(t[0])\n",
    "        #print(\" \")"
   ]
  },
  {
   "cell_type": "code",
   "execution_count": 26,
   "metadata": {},
   "outputs": [
    {
     "name": "stdout",
     "output_type": "stream",
     "text": [
      "Wall time: 617 ms\n",
      "(2349, 1000)\n"
     ]
    }
   ],
   "source": [
    "bow = CountVectorizer(max_df=3000, min_df=10, max_features=1000, lowercase=True, ngram_range=[1,3],analyzer = \"word\")\n",
    "%time train_bow = bow.fit_transform(df_description_clean)\n",
    "print(train_bow.shape)"
   ]
  },
  {
   "cell_type": "code",
   "execution_count": 27,
   "metadata": {},
   "outputs": [],
   "source": [
    "# Materialize the sparse data\n",
    "data_dense = train_bow.todense()"
   ]
  },
  {
   "cell_type": "code",
   "execution_count": 28,
   "metadata": {},
   "outputs": [
    {
     "name": "stdout",
     "output_type": "stream",
     "text": [
      "Sparsicity:  3.52813963388676 %\n"
     ]
    }
   ],
   "source": [
    "# Compute Sparsicity = Percentage of Non-Zero cells\n",
    "print(\"Sparsicity: \", ((data_dense > 0).sum()/data_dense.size)*100, \"%\")"
   ]
  },
  {
   "cell_type": "code",
   "execution_count": 29,
   "metadata": {},
   "outputs": [
    {
     "name": "stdout",
     "output_type": "stream",
     "text": [
      "Wall time: 30.9 ms\n"
     ]
    },
    {
     "data": {
      "image/png": "[encoded data removed]",
      "text/plain": [
       "<Figure size 432x288 with 1 Axes>"
      ]
     },
     "metadata": {
      "needs_background": "light"
     },
     "output_type": "display_data"
    }
   ],
   "source": [
    "features   = bow.get_feature_names()\n",
    "visualizer = FreqDistVisualizer(features=features, n=20)\n",
    "%time visualizer.fit(train_bow)\n",
    "visualizer.poof()"
   ]
  },
  {
   "cell_type": "code",
   "execution_count": 30,
   "metadata": {},
   "outputs": [
    {
     "name": "stdout",
     "output_type": "stream",
     "text": [
      "Wall time: 34.7 s\n"
     ]
    }
   ],
   "source": [
    "lda_model = LatentDirichletAllocation(n_components=20, \n",
    "                                      doc_topic_prior=None,\n",
    "                                      topic_word_prior=None,\n",
    "                                      max_iter=50, \n",
    "                                      learning_method='online', \n",
    "                                      random_state=123,\n",
    "                                      n_jobs=-1,\n",
    "                                      verbose=0)\n",
    "%time lda_output = lda_model.fit(train_bow)\n",
    "\n",
    "\n",
    "# Theta = document-topic matrix\n",
    "# Beta = components_ = topic-term matrix\n",
    "theta = pd.DataFrame(lda_model.transform(train_bow))\n",
    "beta = pd.DataFrame(lda_model.components_)"
   ]
  },
  {
   "cell_type": "code",
   "execution_count": 31,
   "metadata": {},
   "outputs": [
    {
     "name": "stdout",
     "output_type": "stream",
     "text": [
      "Log Likelihood:  -588670.977362669\n"
     ]
    }
   ],
   "source": [
    "# Log Likelihood: Higher the better\n",
    "print(\"Log Likelihood: \", lda_model.score(train_bow))"
   ]
  },
  {
   "cell_type": "code",
   "execution_count": 32,
   "metadata": {},
   "outputs": [
    {
     "name": "stdout",
     "output_type": "stream",
     "text": [
      "Perplexity:  544.3090168377048\n"
     ]
    }
   ],
   "source": [
    "# Perplexity: Lower the better. Perplexity = exp(-1. * log-likelihood per word)\n",
    "print(\"Perplexity: \", lda_model.perplexity(train_bow))"
   ]
  },
  {
   "cell_type": "code",
   "execution_count": 33,
   "metadata": {},
   "outputs": [
    {
     "name": "stdout",
     "output_type": "stream",
     "text": [
      "{'batch_size': 128, 'doc_topic_prior': None, 'evaluate_every': -1, 'learning_decay': 0.7, 'learning_method': 'online', 'learning_offset': 10.0, 'max_doc_update_iter': 100, 'max_iter': 50, 'mean_change_tol': 0.001, 'n_components': 20, 'n_jobs': -1, 'n_topics': None, 'perp_tol': 0.1, 'random_state': 123, 'topic_word_prior': None, 'total_samples': 1000000.0, 'verbose': 0}\n"
     ]
    }
   ],
   "source": [
    "# See model parameters\n",
    "print(lda_model.get_params())"
   ]
  },
  {
   "cell_type": "code",
   "execution_count": 34,
   "metadata": {},
   "outputs": [
    {
     "data": {
      "text/plain": [
       "GridSearchCV(cv=5, error_score='raise-deprecating',\n",
       "       estimator=LatentDirichletAllocation(batch_size=128, doc_topic_prior=None,\n",
       "             evaluate_every=-1, learning_decay=0.7,\n",
       "             learning_method='batch', learning_offset=10.0,\n",
       "             max_doc_update_iter=100, max_iter=10, mean_change_tol=0.001,\n",
       "             n_components=10, n_jobs=None, n_topics=None, perp_tol=0.1,\n",
       "             random_state=None, topic_word_prior=None,\n",
       "             total_samples=1000000.0, verbose=0),\n",
       "       fit_params=None, iid='warn', n_jobs=None,\n",
       "       param_grid={'n_components': [3, 5, 10, 15], 'learning_decay': [0.3, 0.5, 0.7, 0.9]},\n",
       "       pre_dispatch='2*n_jobs', refit=True, return_train_score='warn',\n",
       "       scoring=None, verbose=0)"
      ]
     },
     "execution_count": 34,
     "metadata": {},
     "output_type": "execute_result"
    }
   ],
   "source": [
    "# Define Search Param\n",
    "#search_params = {'n_components': [5, 10, 15, 20, 25, 30], 'learning_decay': [.3, .5, .7, .9], 'max_iter':[25,50,100,150,300,500,1000]}\n",
    "\n",
    "# Define Search Param\n",
    "search_params = {'n_components': [3, 5, 10, 15], 'learning_decay': [.3, .5, .7, .9]}\n",
    "\n",
    "# Init the Model\n",
    "lda = LatentDirichletAllocation()\n",
    "\n",
    "# Init Grid Search Class\n",
    "model = GridSearchCV(lda, param_grid=search_params,cv=5)\n",
    "\n",
    "# Do the Grid Search\n",
    "model.fit(train_bow)"
   ]
  },
  {
   "cell_type": "code",
   "execution_count": 35,
   "metadata": {},
   "outputs": [
    {
     "name": "stdout",
     "output_type": "stream",
     "text": [
      "Best Model's Params:  {'learning_decay': 0.7, 'n_components': 3}\n",
      "Best Log Likelihood Score:  -122412.69416574787\n",
      "Model Perplexity:  529.1701918267149\n"
     ]
    }
   ],
   "source": [
    "# Best Model\n",
    "best_lda_model = model.best_estimator_\n",
    "\n",
    "# Model Parameters\n",
    "print(\"Best Model's Params: \", model.best_params_)\n",
    "\n",
    "# Log Likelihood Score\n",
    "print(\"Best Log Likelihood Score: \", model.best_score_)\n",
    "\n",
    "# Perplexity\n",
    "print(\"Model Perplexity: \", best_lda_model.perplexity(train_bow))"
   ]
  },
  {
   "cell_type": "code",
   "execution_count": 37,
   "metadata": {},
   "outputs": [
    {
     "data": {
      "text/html": [
       "<style  type=\"text/css\" >\n",
       "    #T_c77b5086_9b3b_11e9_b596_704d7b2d49ffrow0_col0 {\n",
       "            color:  green;\n",
       "            font-weight:  700;\n",
       "        }    #T_c77b5086_9b3b_11e9_b596_704d7b2d49ffrow0_col1 {\n",
       "            color:  green;\n",
       "            font-weight:  700;\n",
       "        }    #T_c77b5086_9b3b_11e9_b596_704d7b2d49ffrow0_col2 {\n",
       "            color:  black;\n",
       "            font-weight:  400;\n",
       "        }    #T_c77b5086_9b3b_11e9_b596_704d7b2d49ffrow0_col3 {\n",
       "            color:  black;\n",
       "            font-weight:  400;\n",
       "        }    #T_c77b5086_9b3b_11e9_b596_704d7b2d49ffrow1_col0 {\n",
       "            color:  green;\n",
       "            font-weight:  700;\n",
       "        }    #T_c77b5086_9b3b_11e9_b596_704d7b2d49ffrow1_col1 {\n",
       "            color:  green;\n",
       "            font-weight:  700;\n",
       "        }    #T_c77b5086_9b3b_11e9_b596_704d7b2d49ffrow1_col2 {\n",
       "            color:  green;\n",
       "            font-weight:  700;\n",
       "        }    #T_c77b5086_9b3b_11e9_b596_704d7b2d49ffrow1_col3 {\n",
       "            color:  green;\n",
       "            font-weight:  700;\n",
       "        }    #T_c77b5086_9b3b_11e9_b596_704d7b2d49ffrow2_col0 {\n",
       "            color:  green;\n",
       "            font-weight:  700;\n",
       "        }    #T_c77b5086_9b3b_11e9_b596_704d7b2d49ffrow2_col1 {\n",
       "            color:  black;\n",
       "            font-weight:  400;\n",
       "        }    #T_c77b5086_9b3b_11e9_b596_704d7b2d49ffrow2_col2 {\n",
       "            color:  green;\n",
       "            font-weight:  700;\n",
       "        }    #T_c77b5086_9b3b_11e9_b596_704d7b2d49ffrow2_col3 {\n",
       "            color:  green;\n",
       "            font-weight:  700;\n",
       "        }    #T_c77b5086_9b3b_11e9_b596_704d7b2d49ffrow3_col0 {\n",
       "            color:  black;\n",
       "            font-weight:  400;\n",
       "        }    #T_c77b5086_9b3b_11e9_b596_704d7b2d49ffrow3_col1 {\n",
       "            color:  green;\n",
       "            font-weight:  700;\n",
       "        }    #T_c77b5086_9b3b_11e9_b596_704d7b2d49ffrow3_col2 {\n",
       "            color:  green;\n",
       "            font-weight:  700;\n",
       "        }    #T_c77b5086_9b3b_11e9_b596_704d7b2d49ffrow3_col3 {\n",
       "            color:  green;\n",
       "            font-weight:  700;\n",
       "        }    #T_c77b5086_9b3b_11e9_b596_704d7b2d49ffrow4_col0 {\n",
       "            color:  green;\n",
       "            font-weight:  700;\n",
       "        }    #T_c77b5086_9b3b_11e9_b596_704d7b2d49ffrow4_col1 {\n",
       "            color:  green;\n",
       "            font-weight:  700;\n",
       "        }    #T_c77b5086_9b3b_11e9_b596_704d7b2d49ffrow4_col2 {\n",
       "            color:  green;\n",
       "            font-weight:  700;\n",
       "        }    #T_c77b5086_9b3b_11e9_b596_704d7b2d49ffrow4_col3 {\n",
       "            color:  black;\n",
       "            font-weight:  400;\n",
       "        }    #T_c77b5086_9b3b_11e9_b596_704d7b2d49ffrow5_col0 {\n",
       "            color:  black;\n",
       "            font-weight:  400;\n",
       "        }    #T_c77b5086_9b3b_11e9_b596_704d7b2d49ffrow5_col1 {\n",
       "            color:  green;\n",
       "            font-weight:  700;\n",
       "        }    #T_c77b5086_9b3b_11e9_b596_704d7b2d49ffrow5_col2 {\n",
       "            color:  black;\n",
       "            font-weight:  400;\n",
       "        }    #T_c77b5086_9b3b_11e9_b596_704d7b2d49ffrow5_col3 {\n",
       "            color:  green;\n",
       "            font-weight:  700;\n",
       "        }    #T_c77b5086_9b3b_11e9_b596_704d7b2d49ffrow6_col0 {\n",
       "            color:  green;\n",
       "            font-weight:  700;\n",
       "        }    #T_c77b5086_9b3b_11e9_b596_704d7b2d49ffrow6_col1 {\n",
       "            color:  green;\n",
       "            font-weight:  700;\n",
       "        }    #T_c77b5086_9b3b_11e9_b596_704d7b2d49ffrow6_col2 {\n",
       "            color:  green;\n",
       "            font-weight:  700;\n",
       "        }    #T_c77b5086_9b3b_11e9_b596_704d7b2d49ffrow6_col3 {\n",
       "            color:  green;\n",
       "            font-weight:  700;\n",
       "        }    #T_c77b5086_9b3b_11e9_b596_704d7b2d49ffrow7_col0 {\n",
       "            color:  black;\n",
       "            font-weight:  400;\n",
       "        }    #T_c77b5086_9b3b_11e9_b596_704d7b2d49ffrow7_col1 {\n",
       "            color:  green;\n",
       "            font-weight:  700;\n",
       "        }    #T_c77b5086_9b3b_11e9_b596_704d7b2d49ffrow7_col2 {\n",
       "            color:  green;\n",
       "            font-weight:  700;\n",
       "        }    #T_c77b5086_9b3b_11e9_b596_704d7b2d49ffrow7_col3 {\n",
       "            color:  green;\n",
       "            font-weight:  700;\n",
       "        }    #T_c77b5086_9b3b_11e9_b596_704d7b2d49ffrow8_col0 {\n",
       "            color:  green;\n",
       "            font-weight:  700;\n",
       "        }    #T_c77b5086_9b3b_11e9_b596_704d7b2d49ffrow8_col1 {\n",
       "            color:  black;\n",
       "            font-weight:  400;\n",
       "        }    #T_c77b5086_9b3b_11e9_b596_704d7b2d49ffrow8_col2 {\n",
       "            color:  black;\n",
       "            font-weight:  400;\n",
       "        }    #T_c77b5086_9b3b_11e9_b596_704d7b2d49ffrow8_col3 {\n",
       "            color:  black;\n",
       "            font-weight:  400;\n",
       "        }    #T_c77b5086_9b3b_11e9_b596_704d7b2d49ffrow9_col0 {\n",
       "            color:  black;\n",
       "            font-weight:  400;\n",
       "        }    #T_c77b5086_9b3b_11e9_b596_704d7b2d49ffrow9_col1 {\n",
       "            color:  green;\n",
       "            font-weight:  700;\n",
       "        }    #T_c77b5086_9b3b_11e9_b596_704d7b2d49ffrow9_col2 {\n",
       "            color:  green;\n",
       "            font-weight:  700;\n",
       "        }    #T_c77b5086_9b3b_11e9_b596_704d7b2d49ffrow9_col3 {\n",
       "            color:  green;\n",
       "            font-weight:  700;\n",
       "        }    #T_c77b5086_9b3b_11e9_b596_704d7b2d49ffrow10_col0 {\n",
       "            color:  black;\n",
       "            font-weight:  400;\n",
       "        }    #T_c77b5086_9b3b_11e9_b596_704d7b2d49ffrow10_col1 {\n",
       "            color:  black;\n",
       "            font-weight:  400;\n",
       "        }    #T_c77b5086_9b3b_11e9_b596_704d7b2d49ffrow10_col2 {\n",
       "            color:  green;\n",
       "            font-weight:  700;\n",
       "        }    #T_c77b5086_9b3b_11e9_b596_704d7b2d49ffrow10_col3 {\n",
       "            color:  green;\n",
       "            font-weight:  700;\n",
       "        }    #T_c77b5086_9b3b_11e9_b596_704d7b2d49ffrow11_col0 {\n",
       "            color:  black;\n",
       "            font-weight:  400;\n",
       "        }    #T_c77b5086_9b3b_11e9_b596_704d7b2d49ffrow11_col1 {\n",
       "            color:  green;\n",
       "            font-weight:  700;\n",
       "        }    #T_c77b5086_9b3b_11e9_b596_704d7b2d49ffrow11_col2 {\n",
       "            color:  black;\n",
       "            font-weight:  400;\n",
       "        }    #T_c77b5086_9b3b_11e9_b596_704d7b2d49ffrow11_col3 {\n",
       "            color:  green;\n",
       "            font-weight:  700;\n",
       "        }    #T_c77b5086_9b3b_11e9_b596_704d7b2d49ffrow12_col0 {\n",
       "            color:  green;\n",
       "            font-weight:  700;\n",
       "        }    #T_c77b5086_9b3b_11e9_b596_704d7b2d49ffrow12_col1 {\n",
       "            color:  green;\n",
       "            font-weight:  700;\n",
       "        }    #T_c77b5086_9b3b_11e9_b596_704d7b2d49ffrow12_col2 {\n",
       "            color:  green;\n",
       "            font-weight:  700;\n",
       "        }    #T_c77b5086_9b3b_11e9_b596_704d7b2d49ffrow12_col3 {\n",
       "            color:  black;\n",
       "            font-weight:  400;\n",
       "        }    #T_c77b5086_9b3b_11e9_b596_704d7b2d49ffrow13_col0 {\n",
       "            color:  green;\n",
       "            font-weight:  700;\n",
       "        }    #T_c77b5086_9b3b_11e9_b596_704d7b2d49ffrow13_col1 {\n",
       "            color:  green;\n",
       "            font-weight:  700;\n",
       "        }    #T_c77b5086_9b3b_11e9_b596_704d7b2d49ffrow13_col2 {\n",
       "            color:  black;\n",
       "            font-weight:  400;\n",
       "        }    #T_c77b5086_9b3b_11e9_b596_704d7b2d49ffrow13_col3 {\n",
       "            color:  black;\n",
       "            font-weight:  400;\n",
       "        }    #T_c77b5086_9b3b_11e9_b596_704d7b2d49ffrow14_col0 {\n",
       "            color:  green;\n",
       "            font-weight:  700;\n",
       "        }    #T_c77b5086_9b3b_11e9_b596_704d7b2d49ffrow14_col1 {\n",
       "            color:  green;\n",
       "            font-weight:  700;\n",
       "        }    #T_c77b5086_9b3b_11e9_b596_704d7b2d49ffrow14_col2 {\n",
       "            color:  black;\n",
       "            font-weight:  400;\n",
       "        }    #T_c77b5086_9b3b_11e9_b596_704d7b2d49ffrow14_col3 {\n",
       "            color:  black;\n",
       "            font-weight:  400;\n",
       "        }</style><table id=\"T_c77b5086_9b3b_11e9_b596_704d7b2d49ff\" ><thead>    <tr>        <th class=\"blank level0\" ></th>        <th class=\"col_heading level0 col0\" >Topic0</th>        <th class=\"col_heading level0 col1\" >Topic1</th>        <th class=\"col_heading level0 col2\" >Topic2</th>        <th class=\"col_heading level0 col3\" >dominant_topic</th>    </tr></thead><tbody>\n",
       "                <tr>\n",
       "                        <th id=\"T_c77b5086_9b3b_11e9_b596_704d7b2d49fflevel0_row0\" class=\"row_heading level0 row0\" >Doc0</th>\n",
       "                        <td id=\"T_c77b5086_9b3b_11e9_b596_704d7b2d49ffrow0_col0\" class=\"data row0 col0\" >0.74</td>\n",
       "                        <td id=\"T_c77b5086_9b3b_11e9_b596_704d7b2d49ffrow0_col1\" class=\"data row0 col1\" >0.25</td>\n",
       "                        <td id=\"T_c77b5086_9b3b_11e9_b596_704d7b2d49ffrow0_col2\" class=\"data row0 col2\" >0.01</td>\n",
       "                        <td id=\"T_c77b5086_9b3b_11e9_b596_704d7b2d49ffrow0_col3\" class=\"data row0 col3\" >0</td>\n",
       "            </tr>\n",
       "            <tr>\n",
       "                        <th id=\"T_c77b5086_9b3b_11e9_b596_704d7b2d49fflevel0_row1\" class=\"row_heading level0 row1\" >Doc1</th>\n",
       "                        <td id=\"T_c77b5086_9b3b_11e9_b596_704d7b2d49ffrow1_col0\" class=\"data row1 col0\" >0.3</td>\n",
       "                        <td id=\"T_c77b5086_9b3b_11e9_b596_704d7b2d49ffrow1_col1\" class=\"data row1 col1\" >0.26</td>\n",
       "                        <td id=\"T_c77b5086_9b3b_11e9_b596_704d7b2d49ffrow1_col2\" class=\"data row1 col2\" >0.45</td>\n",
       "                        <td id=\"T_c77b5086_9b3b_11e9_b596_704d7b2d49ffrow1_col3\" class=\"data row1 col3\" >2</td>\n",
       "            </tr>\n",
       "            <tr>\n",
       "                        <th id=\"T_c77b5086_9b3b_11e9_b596_704d7b2d49fflevel0_row2\" class=\"row_heading level0 row2\" >Doc2</th>\n",
       "                        <td id=\"T_c77b5086_9b3b_11e9_b596_704d7b2d49ffrow2_col0\" class=\"data row2 col0\" >0.33</td>\n",
       "                        <td id=\"T_c77b5086_9b3b_11e9_b596_704d7b2d49ffrow2_col1\" class=\"data row2 col1\" >0.01</td>\n",
       "                        <td id=\"T_c77b5086_9b3b_11e9_b596_704d7b2d49ffrow2_col2\" class=\"data row2 col2\" >0.66</td>\n",
       "                        <td id=\"T_c77b5086_9b3b_11e9_b596_704d7b2d49ffrow2_col3\" class=\"data row2 col3\" >2</td>\n",
       "            </tr>\n",
       "            <tr>\n",
       "                        <th id=\"T_c77b5086_9b3b_11e9_b596_704d7b2d49fflevel0_row3\" class=\"row_heading level0 row3\" >Doc3</th>\n",
       "                        <td id=\"T_c77b5086_9b3b_11e9_b596_704d7b2d49ffrow3_col0\" class=\"data row3 col0\" >0.01</td>\n",
       "                        <td id=\"T_c77b5086_9b3b_11e9_b596_704d7b2d49ffrow3_col1\" class=\"data row3 col1\" >0.21</td>\n",
       "                        <td id=\"T_c77b5086_9b3b_11e9_b596_704d7b2d49ffrow3_col2\" class=\"data row3 col2\" >0.78</td>\n",
       "                        <td id=\"T_c77b5086_9b3b_11e9_b596_704d7b2d49ffrow3_col3\" class=\"data row3 col3\" >2</td>\n",
       "            </tr>\n",
       "            <tr>\n",
       "                        <th id=\"T_c77b5086_9b3b_11e9_b596_704d7b2d49fflevel0_row4\" class=\"row_heading level0 row4\" >Doc4</th>\n",
       "                        <td id=\"T_c77b5086_9b3b_11e9_b596_704d7b2d49ffrow4_col0\" class=\"data row4 col0\" >0.49</td>\n",
       "                        <td id=\"T_c77b5086_9b3b_11e9_b596_704d7b2d49ffrow4_col1\" class=\"data row4 col1\" >0.32</td>\n",
       "                        <td id=\"T_c77b5086_9b3b_11e9_b596_704d7b2d49ffrow4_col2\" class=\"data row4 col2\" >0.19</td>\n",
       "                        <td id=\"T_c77b5086_9b3b_11e9_b596_704d7b2d49ffrow4_col3\" class=\"data row4 col3\" >0</td>\n",
       "            </tr>\n",
       "            <tr>\n",
       "                        <th id=\"T_c77b5086_9b3b_11e9_b596_704d7b2d49fflevel0_row5\" class=\"row_heading level0 row5\" >Doc5</th>\n",
       "                        <td id=\"T_c77b5086_9b3b_11e9_b596_704d7b2d49ffrow5_col0\" class=\"data row5 col0\" >0.04</td>\n",
       "                        <td id=\"T_c77b5086_9b3b_11e9_b596_704d7b2d49ffrow5_col1\" class=\"data row5 col1\" >0.95</td>\n",
       "                        <td id=\"T_c77b5086_9b3b_11e9_b596_704d7b2d49ffrow5_col2\" class=\"data row5 col2\" >0.01</td>\n",
       "                        <td id=\"T_c77b5086_9b3b_11e9_b596_704d7b2d49ffrow5_col3\" class=\"data row5 col3\" >1</td>\n",
       "            </tr>\n",
       "            <tr>\n",
       "                        <th id=\"T_c77b5086_9b3b_11e9_b596_704d7b2d49fflevel0_row6\" class=\"row_heading level0 row6\" >Doc6</th>\n",
       "                        <td id=\"T_c77b5086_9b3b_11e9_b596_704d7b2d49ffrow6_col0\" class=\"data row6 col0\" >0.23</td>\n",
       "                        <td id=\"T_c77b5086_9b3b_11e9_b596_704d7b2d49ffrow6_col1\" class=\"data row6 col1\" >0.3</td>\n",
       "                        <td id=\"T_c77b5086_9b3b_11e9_b596_704d7b2d49ffrow6_col2\" class=\"data row6 col2\" >0.47</td>\n",
       "                        <td id=\"T_c77b5086_9b3b_11e9_b596_704d7b2d49ffrow6_col3\" class=\"data row6 col3\" >2</td>\n",
       "            </tr>\n",
       "            <tr>\n",
       "                        <th id=\"T_c77b5086_9b3b_11e9_b596_704d7b2d49fflevel0_row7\" class=\"row_heading level0 row7\" >Doc7</th>\n",
       "                        <td id=\"T_c77b5086_9b3b_11e9_b596_704d7b2d49ffrow7_col0\" class=\"data row7 col0\" >0.01</td>\n",
       "                        <td id=\"T_c77b5086_9b3b_11e9_b596_704d7b2d49ffrow7_col1\" class=\"data row7 col1\" >0.63</td>\n",
       "                        <td id=\"T_c77b5086_9b3b_11e9_b596_704d7b2d49ffrow7_col2\" class=\"data row7 col2\" >0.36</td>\n",
       "                        <td id=\"T_c77b5086_9b3b_11e9_b596_704d7b2d49ffrow7_col3\" class=\"data row7 col3\" >1</td>\n",
       "            </tr>\n",
       "            <tr>\n",
       "                        <th id=\"T_c77b5086_9b3b_11e9_b596_704d7b2d49fflevel0_row8\" class=\"row_heading level0 row8\" >Doc8</th>\n",
       "                        <td id=\"T_c77b5086_9b3b_11e9_b596_704d7b2d49ffrow8_col0\" class=\"data row8 col0\" >0.97</td>\n",
       "                        <td id=\"T_c77b5086_9b3b_11e9_b596_704d7b2d49ffrow8_col1\" class=\"data row8 col1\" >0.02</td>\n",
       "                        <td id=\"T_c77b5086_9b3b_11e9_b596_704d7b2d49ffrow8_col2\" class=\"data row8 col2\" >0.02</td>\n",
       "                        <td id=\"T_c77b5086_9b3b_11e9_b596_704d7b2d49ffrow8_col3\" class=\"data row8 col3\" >0</td>\n",
       "            </tr>\n",
       "            <tr>\n",
       "                        <th id=\"T_c77b5086_9b3b_11e9_b596_704d7b2d49fflevel0_row9\" class=\"row_heading level0 row9\" >Doc9</th>\n",
       "                        <td id=\"T_c77b5086_9b3b_11e9_b596_704d7b2d49ffrow9_col0\" class=\"data row9 col0\" >0.01</td>\n",
       "                        <td id=\"T_c77b5086_9b3b_11e9_b596_704d7b2d49ffrow9_col1\" class=\"data row9 col1\" >0.88</td>\n",
       "                        <td id=\"T_c77b5086_9b3b_11e9_b596_704d7b2d49ffrow9_col2\" class=\"data row9 col2\" >0.12</td>\n",
       "                        <td id=\"T_c77b5086_9b3b_11e9_b596_704d7b2d49ffrow9_col3\" class=\"data row9 col3\" >1</td>\n",
       "            </tr>\n",
       "            <tr>\n",
       "                        <th id=\"T_c77b5086_9b3b_11e9_b596_704d7b2d49fflevel0_row10\" class=\"row_heading level0 row10\" >Doc10</th>\n",
       "                        <td id=\"T_c77b5086_9b3b_11e9_b596_704d7b2d49ffrow10_col0\" class=\"data row10 col0\" >0.1</td>\n",
       "                        <td id=\"T_c77b5086_9b3b_11e9_b596_704d7b2d49ffrow10_col1\" class=\"data row10 col1\" >0.05</td>\n",
       "                        <td id=\"T_c77b5086_9b3b_11e9_b596_704d7b2d49ffrow10_col2\" class=\"data row10 col2\" >0.85</td>\n",
       "                        <td id=\"T_c77b5086_9b3b_11e9_b596_704d7b2d49ffrow10_col3\" class=\"data row10 col3\" >2</td>\n",
       "            </tr>\n",
       "            <tr>\n",
       "                        <th id=\"T_c77b5086_9b3b_11e9_b596_704d7b2d49fflevel0_row11\" class=\"row_heading level0 row11\" >Doc11</th>\n",
       "                        <td id=\"T_c77b5086_9b3b_11e9_b596_704d7b2d49ffrow11_col0\" class=\"data row11 col0\" >0.01</td>\n",
       "                        <td id=\"T_c77b5086_9b3b_11e9_b596_704d7b2d49ffrow11_col1\" class=\"data row11 col1\" >0.99</td>\n",
       "                        <td id=\"T_c77b5086_9b3b_11e9_b596_704d7b2d49ffrow11_col2\" class=\"data row11 col2\" >0.01</td>\n",
       "                        <td id=\"T_c77b5086_9b3b_11e9_b596_704d7b2d49ffrow11_col3\" class=\"data row11 col3\" >1</td>\n",
       "            </tr>\n",
       "            <tr>\n",
       "                        <th id=\"T_c77b5086_9b3b_11e9_b596_704d7b2d49fflevel0_row12\" class=\"row_heading level0 row12\" >Doc12</th>\n",
       "                        <td id=\"T_c77b5086_9b3b_11e9_b596_704d7b2d49ffrow12_col0\" class=\"data row12 col0\" >0.44</td>\n",
       "                        <td id=\"T_c77b5086_9b3b_11e9_b596_704d7b2d49ffrow12_col1\" class=\"data row12 col1\" >0.31</td>\n",
       "                        <td id=\"T_c77b5086_9b3b_11e9_b596_704d7b2d49ffrow12_col2\" class=\"data row12 col2\" >0.25</td>\n",
       "                        <td id=\"T_c77b5086_9b3b_11e9_b596_704d7b2d49ffrow12_col3\" class=\"data row12 col3\" >0</td>\n",
       "            </tr>\n",
       "            <tr>\n",
       "                        <th id=\"T_c77b5086_9b3b_11e9_b596_704d7b2d49fflevel0_row13\" class=\"row_heading level0 row13\" >Doc13</th>\n",
       "                        <td id=\"T_c77b5086_9b3b_11e9_b596_704d7b2d49ffrow13_col0\" class=\"data row13 col0\" >0.46</td>\n",
       "                        <td id=\"T_c77b5086_9b3b_11e9_b596_704d7b2d49ffrow13_col1\" class=\"data row13 col1\" >0.45</td>\n",
       "                        <td id=\"T_c77b5086_9b3b_11e9_b596_704d7b2d49ffrow13_col2\" class=\"data row13 col2\" >0.09</td>\n",
       "                        <td id=\"T_c77b5086_9b3b_11e9_b596_704d7b2d49ffrow13_col3\" class=\"data row13 col3\" >0</td>\n",
       "            </tr>\n",
       "            <tr>\n",
       "                        <th id=\"T_c77b5086_9b3b_11e9_b596_704d7b2d49fflevel0_row14\" class=\"row_heading level0 row14\" >Doc14</th>\n",
       "                        <td id=\"T_c77b5086_9b3b_11e9_b596_704d7b2d49ffrow14_col0\" class=\"data row14 col0\" >0.77</td>\n",
       "                        <td id=\"T_c77b5086_9b3b_11e9_b596_704d7b2d49ffrow14_col1\" class=\"data row14 col1\" >0.22</td>\n",
       "                        <td id=\"T_c77b5086_9b3b_11e9_b596_704d7b2d49ffrow14_col2\" class=\"data row14 col2\" >0.01</td>\n",
       "                        <td id=\"T_c77b5086_9b3b_11e9_b596_704d7b2d49ffrow14_col3\" class=\"data row14 col3\" >0</td>\n",
       "            </tr>\n",
       "    </tbody></table>"
      ],
      "text/plain": [
       "<pandas.io.formats.style.Styler at 0x232e5f23f98>"
      ]
     },
     "execution_count": 37,
     "metadata": {},
     "output_type": "execute_result"
    }
   ],
   "source": [
    "#How to see the dominant topic in each document?\n",
    "# Create Document - Topic Matrix\n",
    "lda_output = best_lda_model.transform(train_bow)\n",
    "\n",
    "# column names\n",
    "topicnames = [\"Topic\" + str(i) for i in range(best_lda_model.n_components)]\n",
    "\n",
    "# index names\n",
    "docnames = [\"Doc\" + str(i) for i in range(len(df_description_clean))]\n",
    "\n",
    "# Make the pandas dataframe\n",
    "df_document_topic = pd.DataFrame(np.round(lda_output, 2), columns=topicnames, index=docnames)\n",
    "\n",
    "# Get dominant topic for each document\n",
    "dominant_topic = np.argmax(df_document_topic.values, axis=1)\n",
    "df_document_topic['dominant_topic'] = dominant_topic\n",
    "\n",
    "# Styling\n",
    "def color_green(val):\n",
    "    color = 'green' if val > .1 else 'black'\n",
    "    return 'color: {col}'.format(col=color)\n",
    "\n",
    "def make_bold(val):\n",
    "    weight = 700 if val > .1 else 400\n",
    "    return 'font-weight: {weight}'.format(weight=weight)\n",
    "\n",
    "# Apply Style\n",
    "df_document_topics = df_document_topic.head(15).style.applymap(color_green).applymap(make_bold)\n",
    "df_document_topics"
   ]
  },
  {
   "cell_type": "code",
   "execution_count": 38,
   "metadata": {},
   "outputs": [
    {
     "data": {
      "text/html": [
       "<div>\n",
       "<style scoped>\n",
       "    .dataframe tbody tr th:only-of-type {\n",
       "        vertical-align: middle;\n",
       "    }\n",
       "\n",
       "    .dataframe tbody tr th {\n",
       "        vertical-align: top;\n",
       "    }\n",
       "\n",
       "    .dataframe thead th {\n",
       "        text-align: right;\n",
       "    }\n",
       "</style>\n",
       "<table border=\"1\" class=\"dataframe\">\n",
       "  <thead>\n",
       "    <tr style=\"text-align: right;\">\n",
       "      <th></th>\n",
       "      <th>Topic Num</th>\n",
       "      <th>Num Documents</th>\n",
       "    </tr>\n",
       "  </thead>\n",
       "  <tbody>\n",
       "    <tr>\n",
       "      <th>0</th>\n",
       "      <td>0</td>\n",
       "      <td>844</td>\n",
       "    </tr>\n",
       "    <tr>\n",
       "      <th>1</th>\n",
       "      <td>1</td>\n",
       "      <td>783</td>\n",
       "    </tr>\n",
       "    <tr>\n",
       "      <th>2</th>\n",
       "      <td>2</td>\n",
       "      <td>722</td>\n",
       "    </tr>\n",
       "  </tbody>\n",
       "</table>\n",
       "</div>"
      ],
      "text/plain": [
       "   Topic Num  Num Documents\n",
       "0          0            844\n",
       "1          1            783\n",
       "2          2            722"
      ]
     },
     "execution_count": 38,
     "metadata": {},
     "output_type": "execute_result"
    }
   ],
   "source": [
    "#Review topics distribution across documents\n",
    "df_topic_distribution = df_document_topic['dominant_topic'].value_counts().reset_index(name=\"Num Documents\")\n",
    "df_topic_distribution.columns = ['Topic Num', 'Num Documents']\n",
    "df_topic_distribution"
   ]
  }
 ],
 "metadata": {
  "kernelspec": {
   "display_name": "Python 3",
   "language": "python",
   "name": "python3"
  },
  "language_info": {
   "codemirror_mode": {
    "name": "ipython",
    "version": 3
   },
   "file_extension": ".py",
   "mimetype": "text/x-python",
   "name": "python",
   "nbconvert_exporter": "python",
   "pygments_lexer": "ipython3",
   "version": "3.6.8"
  }
 },
 "nbformat": 4,
 "nbformat_minor": 2
}
