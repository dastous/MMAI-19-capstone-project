{
 "cells": [
  {
   "cell_type": "markdown",
   "metadata": {},
   "source": [
    "# Text Analysis through Natural Language Processing, Understanding and Classification"
   ]
  },
  {
   "cell_type": "markdown",
   "metadata": {},
   "source": [
    "# 1 - Importing NLP packages"
   ]
  },
  {
   "cell_type": "code",
   "execution_count": 1,
   "metadata": {},
   "outputs": [
    {
     "name": "stderr",
     "output_type": "stream",
     "text": [
      "C:\\Users\\dastous\\Anaconda3\\envs\\py3.6\\lib\\site-packages\\scipy\\sparse\\sparsetools.py:21: DeprecationWarning: `scipy.sparse.sparsetools` is deprecated!\n",
      "scipy.sparse.sparsetools is a private module for scipy.sparse, and should not be used.\n",
      "  _deprecated()\n",
      "C:\\Users\\dastous\\Anaconda3\\envs\\py3.6\\lib\\importlib\\_bootstrap.py:219: ImportWarning: can't resolve package from __spec__ or __package__, falling back on __name__ and __path__\n",
      "  return f(*args, **kwds)\n"
     ]
    }
   ],
   "source": [
    "from wordcloud import WordCloud, STOPWORDS\n",
    "from yellowbrick.text import FreqDistVisualizer\n",
    "from sklearn.feature_extraction import stop_words\n",
    "from sklearn.decomposition import TruncatedSVD, LatentDirichletAllocation\n",
    "from sklearn.model_selection import GridSearchCV\n",
    "from pactools.grid_search import GridSearchCVProgressBar\n",
    "\n",
    "from gensim import models, corpora\n",
    "from gensim.sklearn_api import HdpTransformer\n",
    "from gensim.test.utils import common_dictionary, common_corpus\n",
    "from gensim.scripts.glove2word2vec import glove2word2vec\n",
    "\n",
    "from textblob import TextBlob, Word\n",
    "from sklearn.feature_extraction.text import TfidfVectorizer, CountVectorizer\n",
    "\n",
    "from nltk import word_tokenize\n",
    "from nltk.corpus import stopwords\n",
    "from nltk.tokenize import sent_tokenize, word_tokenize\n",
    "from nltk.stem import PorterStemmer,WordNetLemmatizer\n",
    "from nltk.corpus import wordnet as wn\n",
    "from nltk.stem.wordnet import WordNetLemmatizer\n",
    "from nltk.stem.porter import *\n",
    "\n",
    "import string\n",
    "import re\n",
    "import scipy\n",
    "import pyLDAvis\n",
    "\n",
    "import pandas as pd # to dataframes\n",
    "import matplotlib.pyplot as plt #to define plot parameters\n",
    "import seaborn as sns #to graphical plots\n",
    "import numpy as np #to math\n",
    "plt.style.use('ggplot') # to plot graphs with gggplot2 style\n",
    "\n",
    "import plotly.plotly as py\n",
    "from plotly.offline import download_plotlyjs, init_notebook_mode, plot, iplot\n",
    "import plotly.graph_objs as go"
   ]
  },
  {
   "cell_type": "code",
   "execution_count": 2,
   "metadata": {},
   "outputs": [
    {
     "data": {
      "text/html": [
       "<div>\n",
       "<style scoped>\n",
       "    .dataframe tbody tr th:only-of-type {\n",
       "        vertical-align: middle;\n",
       "    }\n",
       "\n",
       "    .dataframe tbody tr th {\n",
       "        vertical-align: top;\n",
       "    }\n",
       "\n",
       "    .dataframe thead th {\n",
       "        text-align: right;\n",
       "    }\n",
       "</style>\n",
       "<table border=\"1\" class=\"dataframe\">\n",
       "  <thead>\n",
       "    <tr style=\"text-align: right;\">\n",
       "      <th></th>\n",
       "      <th>Unnamed: 0</th>\n",
       "      <th>Strain</th>\n",
       "      <th>Type</th>\n",
       "      <th>Rating</th>\n",
       "      <th>Effects</th>\n",
       "      <th>Flavor</th>\n",
       "      <th>Description</th>\n",
       "      <th>Effect_1</th>\n",
       "      <th>Effect_2</th>\n",
       "      <th>Effect_3</th>\n",
       "      <th>Effect_4</th>\n",
       "      <th>Effect_5</th>\n",
       "      <th>Flavor_1</th>\n",
       "      <th>Flavor_2</th>\n",
       "      <th>Flavor_3</th>\n",
       "      <th>Flavor_4</th>\n",
       "    </tr>\n",
       "  </thead>\n",
       "  <tbody>\n",
       "    <tr>\n",
       "      <th>0</th>\n",
       "      <td>0</td>\n",
       "      <td>100-Og</td>\n",
       "      <td>hybrid</td>\n",
       "      <td>4.0</td>\n",
       "      <td>Creative,Energetic,Tingly,Euphoric,Relaxed</td>\n",
       "      <td>Earthy,Sweet,Citrus</td>\n",
       "      <td>$100 OG is a 50/50 hybrid strain that packs a ...</td>\n",
       "      <td>Creative</td>\n",
       "      <td>Energetic</td>\n",
       "      <td>Tingly</td>\n",
       "      <td>Euphoric</td>\n",
       "      <td>Relaxed</td>\n",
       "      <td>Earthy</td>\n",
       "      <td>Sweet</td>\n",
       "      <td>Citrus</td>\n",
       "      <td>NaN</td>\n",
       "    </tr>\n",
       "    <tr>\n",
       "      <th>1</th>\n",
       "      <td>1</td>\n",
       "      <td>98-White-Widow</td>\n",
       "      <td>hybrid</td>\n",
       "      <td>4.7</td>\n",
       "      <td>Relaxed,Aroused,Creative,Happy,Energetic</td>\n",
       "      <td>Flowery,Violet,Diesel</td>\n",
       "      <td>The ‘98 Aloha White Widow is an especially pot...</td>\n",
       "      <td>Relaxed</td>\n",
       "      <td>Aroused</td>\n",
       "      <td>Creative</td>\n",
       "      <td>Happy</td>\n",
       "      <td>Energetic</td>\n",
       "      <td>Flowery</td>\n",
       "      <td>Violet</td>\n",
       "      <td>Diesel</td>\n",
       "      <td>NaN</td>\n",
       "    </tr>\n",
       "    <tr>\n",
       "      <th>2</th>\n",
       "      <td>2</td>\n",
       "      <td>1024</td>\n",
       "      <td>sativa</td>\n",
       "      <td>4.4</td>\n",
       "      <td>Uplifted,Happy,Relaxed,Energetic,Creative</td>\n",
       "      <td>Spicy/Herbal,Sage,Woody</td>\n",
       "      <td>1024 is a sativa-dominant hybrid bred in Spain...</td>\n",
       "      <td>Uplifted</td>\n",
       "      <td>Happy</td>\n",
       "      <td>Relaxed</td>\n",
       "      <td>Energetic</td>\n",
       "      <td>Creative</td>\n",
       "      <td>Spicy/Herbal</td>\n",
       "      <td>Sage</td>\n",
       "      <td>Woody</td>\n",
       "      <td>NaN</td>\n",
       "    </tr>\n",
       "    <tr>\n",
       "      <th>3</th>\n",
       "      <td>3</td>\n",
       "      <td>13-Dawgs</td>\n",
       "      <td>hybrid</td>\n",
       "      <td>4.2</td>\n",
       "      <td>Tingly,Creative,Hungry,Relaxed,Uplifted</td>\n",
       "      <td>Apricot,Citrus,Grapefruit</td>\n",
       "      <td>13 Dawgs is a hybrid of G13 and Chemdawg genet...</td>\n",
       "      <td>Tingly</td>\n",
       "      <td>Creative</td>\n",
       "      <td>Hungry</td>\n",
       "      <td>Relaxed</td>\n",
       "      <td>Uplifted</td>\n",
       "      <td>Apricot</td>\n",
       "      <td>Citrus</td>\n",
       "      <td>Grapefruit</td>\n",
       "      <td>NaN</td>\n",
       "    </tr>\n",
       "    <tr>\n",
       "      <th>4</th>\n",
       "      <td>4</td>\n",
       "      <td>24K-Gold</td>\n",
       "      <td>hybrid</td>\n",
       "      <td>4.6</td>\n",
       "      <td>Happy,Relaxed,Euphoric,Uplifted,Talkative</td>\n",
       "      <td>Citrus,Earthy,Orange</td>\n",
       "      <td>Also known as Kosher Tangie, 24k Gold is a 60%...</td>\n",
       "      <td>Happy</td>\n",
       "      <td>Relaxed</td>\n",
       "      <td>Euphoric</td>\n",
       "      <td>Uplifted</td>\n",
       "      <td>Talkative</td>\n",
       "      <td>Citrus</td>\n",
       "      <td>Earthy</td>\n",
       "      <td>Orange</td>\n",
       "      <td>NaN</td>\n",
       "    </tr>\n",
       "  </tbody>\n",
       "</table>\n",
       "</div>"
      ],
      "text/plain": [
       "   Unnamed: 0          Strain    Type  Rating  \\\n",
       "0           0          100-Og  hybrid     4.0   \n",
       "1           1  98-White-Widow  hybrid     4.7   \n",
       "2           2            1024  sativa     4.4   \n",
       "3           3        13-Dawgs  hybrid     4.2   \n",
       "4           4        24K-Gold  hybrid     4.6   \n",
       "\n",
       "                                      Effects                     Flavor  \\\n",
       "0  Creative,Energetic,Tingly,Euphoric,Relaxed        Earthy,Sweet,Citrus   \n",
       "1    Relaxed,Aroused,Creative,Happy,Energetic      Flowery,Violet,Diesel   \n",
       "2   Uplifted,Happy,Relaxed,Energetic,Creative    Spicy/Herbal,Sage,Woody   \n",
       "3     Tingly,Creative,Hungry,Relaxed,Uplifted  Apricot,Citrus,Grapefruit   \n",
       "4   Happy,Relaxed,Euphoric,Uplifted,Talkative       Citrus,Earthy,Orange   \n",
       "\n",
       "                                         Description  Effect_1   Effect_2  \\\n",
       "0  $100 OG is a 50/50 hybrid strain that packs a ...  Creative  Energetic   \n",
       "1  The ‘98 Aloha White Widow is an especially pot...   Relaxed    Aroused   \n",
       "2  1024 is a sativa-dominant hybrid bred in Spain...  Uplifted      Happy   \n",
       "3  13 Dawgs is a hybrid of G13 and Chemdawg genet...    Tingly   Creative   \n",
       "4  Also known as Kosher Tangie, 24k Gold is a 60%...     Happy    Relaxed   \n",
       "\n",
       "   Effect_3   Effect_4   Effect_5      Flavor_1 Flavor_2    Flavor_3 Flavor_4  \n",
       "0    Tingly   Euphoric    Relaxed        Earthy    Sweet      Citrus      NaN  \n",
       "1  Creative      Happy  Energetic       Flowery   Violet      Diesel      NaN  \n",
       "2   Relaxed  Energetic   Creative  Spicy/Herbal     Sage       Woody      NaN  \n",
       "3    Hungry    Relaxed   Uplifted       Apricot   Citrus  Grapefruit      NaN  \n",
       "4  Euphoric   Uplifted  Talkative        Citrus   Earthy      Orange      NaN  "
      ]
     },
     "execution_count": 2,
     "metadata": {},
     "output_type": "execute_result"
    }
   ],
   "source": [
    "EDA=pd.read_excel('../CannaConnect/Dataset/EDA.xlsx')\n",
    "EDA.head()"
   ]
  },
  {
   "cell_type": "markdown",
   "metadata": {},
   "source": [
    "# 2 - Initial NLP task"
   ]
  },
  {
   "cell_type": "code",
   "execution_count": 5,
   "metadata": {},
   "outputs": [
    {
     "name": "stdout",
     "output_type": "stream",
     "text": [
      "0    100 og 50 50 hybrid strain pack strong punch n...\n",
      "1    98 aloha white widow especially potent cut whi...\n",
      "2    1024 sativa dominant hybrid bred spain medical...\n",
      "3    13 dawgs hybrid g13 chemdawg genetics bred can...\n",
      "4    known kosher tangie 24k gold 60 indica dominan...\n",
      "Name: Description, dtype: object\n"
     ]
    }
   ],
   "source": [
    "#Preprocessing the text in the Description, lower case, taking out special characters and stop words, lemmatization of the words\n",
    "stopwords = set(STOPWORDS)\n",
    "df_des=EDA.Description.astype(str)\n",
    "df_lower_case_des=df_des.apply(lambda x: \" \".join(x.lower() for x in x.split())) #lower case\n",
    "df_special_characters_out_des=df_lower_case_des.map(lambda x: re.sub(r'\\W+', ' ',x)) #remove special character\n",
    "df_stop_words_out_des=df_special_characters_out_des.apply(lambda x: \" \".join(x for x in x.split() if x not in stopwords)) #remove stopwords\n",
    "df_lemma_des=df_stop_words_out_des.apply(lambda x: \" \".join([Word(word).lemmatize() for word in x.split()]))  #lemmatize\n",
    "#print the head of the lemmatize description text\n",
    "print(df_lemma_des.head())"
   ]
  },
  {
   "cell_type": "code",
   "execution_count": 6,
   "metadata": {},
   "outputs": [
    {
     "name": "stdout",
     "output_type": "stream",
     "text": [
      "0    4\n",
      "1    2\n",
      "2    2\n",
      "3    4\n",
      "4    3\n",
      "Name: Description, dtype: int64\n",
      "count    2349.000000\n",
      "mean        1.029800\n",
      "std         1.380985\n",
      "min         0.000000\n",
      "25%         0.000000\n",
      "50%         0.000000\n",
      "75%         2.000000\n",
      "max         8.000000\n",
      "Name: Description, dtype: float64\n"
     ]
    }
   ],
   "source": [
    "# How many numerical words for each row\n",
    "df_digits = df_lemma_des.apply(lambda x: len([x for x in x.split() if x.isdigit()]))\n",
    "print(df_digits.head())\n",
    "print(df_digits.describe())"
   ]
  },
  {
   "cell_type": "code",
   "execution_count": 7,
   "metadata": {},
   "outputs": [
    {
     "name": "stdout",
     "output_type": "stream",
     "text": [
      "0     og   hybrid strain pack strong punch name sup...\n",
      "1     aloha white widow especially potent cut white...\n",
      "2     sativa dominant hybrid bred spain medical see...\n",
      "3     dawgs hybrid g chemdawg genetics bred canadia...\n",
      "4    known kosher tangie k gold  indica dominant hy...\n",
      "Name: Description, dtype: object\n"
     ]
    }
   ],
   "source": [
    "# Taking out the numbers of each description\n",
    "df_numeric_out = df_lemma_des.str.replace('\\\\d+', '')\n",
    "print(df_numeric_out.head())"
   ]
  },
  {
   "cell_type": "code",
   "execution_count": 8,
   "metadata": {},
   "outputs": [
    {
     "name": "stdout",
     "output_type": "stream",
     "text": [
      "strain      2627\n",
      "effects     1469\n",
      "s           1377\n",
      "indica      1366\n",
      "hybrid      1252\n",
      "sativa      1060\n",
      "og          1051\n",
      "kush        1037\n",
      "dominant     941\n",
      "aroma        870\n",
      "dtype: int64\n"
     ]
    }
   ],
   "source": [
    "#Step 1: Identification of Common words\n",
    "#Step 2: I could but i will not remove the common words at this point\n",
    "common_words = pd.Series(' '.join(df_stop_words_out_des).split()).value_counts()[:10]\n",
    "print(common_words)"
   ]
  },
  {
   "cell_type": "code",
   "execution_count": 9,
   "metadata": {},
   "outputs": [
    {
     "name": "stdout",
     "output_type": "stream",
     "text": [
      "outweigh      1\n",
      "kuato         1\n",
      "brilliance    1\n",
      "gladly        1\n",
      "alexis        1\n",
      "draping       1\n",
      "ckc           1\n",
      "culls         1\n",
      "botanica      1\n",
      "godberry      1\n",
      "dtype: int64\n"
     ]
    }
   ],
   "source": [
    "#Step 1: Identification of Rare words\n",
    "#Step 2: I could but i will not remove the rare words at this point\n",
    "rare_words = pd.Series(' '.join(df_stop_words_out_des).split()).value_counts()[-10:]\n",
    "print(rare_words)"
   ]
  },
  {
   "cell_type": "code",
   "execution_count": 10,
   "metadata": {},
   "outputs": [],
   "source": [
    "# Now the description text is ready for future analysis, saving the results into a dataframe\n",
    "df_description_clean=df_numeric_out\n",
    "df_description_clean.to_excel('../CannaConnect/Dataset/description_clean.xlsx')"
   ]
  },
  {
   "cell_type": "code",
   "execution_count": 11,
   "metadata": {},
   "outputs": [
    {
     "data": {
      "text/plain": [
       "'file://C:\\\\Users\\\\dastous\\\\Desktop\\\\MMAI\\\\CannaConnect\\\\basic-bar.html'"
      ]
     },
     "execution_count": 11,
     "metadata": {},
     "output_type": "execute_result"
    }
   ],
   "source": [
    "# Visualization of the 50 most Frequent words\n",
    "all_words = df_description_clean.str.split(expand=True).unstack().value_counts()\n",
    "data = [go.Bar(\n",
    "            x = all_words.index.values[2:50],\n",
    "            y = all_words.values[2:50],\n",
    "            marker= dict(colorscale='Jet',\n",
    "                         color = all_words.values[2:100]\n",
    "                        ),\n",
    "            text='Word counts'\n",
    "    )]\n",
    "\n",
    "layout = go.Layout(\n",
    "    title='Top 50 (Uncleaned) Word frequencies in the training dataset'\n",
    ")\n",
    "\n",
    "fig = go.Figure(data=data, layout=layout)\n",
    "\n",
    "plot(fig, filename='basic-bar.html')"
   ]
  }
 ],
 "metadata": {
  "kernelspec": {
   "display_name": "Python 3",
   "language": "python",
   "name": "python3"
  },
  "language_info": {
   "codemirror_mode": {
    "name": "ipython",
    "version": 3
   },
   "file_extension": ".py",
   "mimetype": "text/x-python",
   "name": "python",
   "nbconvert_exporter": "python",
   "pygments_lexer": "ipython3",
   "version": "3.6.8"
  }
 },
 "nbformat": 4,
 "nbformat_minor": 2
}
