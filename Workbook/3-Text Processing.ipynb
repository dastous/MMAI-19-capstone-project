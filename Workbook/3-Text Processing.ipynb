{
 "cells": [
  {
   "cell_type": "markdown",
   "metadata": {},
   "source": [
    "# Text Analysis through Natural Language Processing, Understanding and Classification"
   ]
  },
  {
   "cell_type": "code",
   "execution_count": 58,
   "metadata": {},
   "outputs": [],
   "source": [
    "#Importing NLP packages\n",
    "from wordcloud import WordCloud, STOPWORDS\n",
    "from yellowbrick.text import FreqDistVisualizer\n",
    "from sklearn.feature_extraction import stop_words\n",
    "from textblob import TextBlob, Word\n",
    "from sklearn.feature_extraction.text import TfidfVectorizer, CountVectorizer\n",
    "import re\n",
    "import pandas as pd # to dataframes\n",
    "import plotly.plotly as py\n",
    "from plotly.offline import download_plotlyjs, init_notebook_mode, plot, iplot\n",
    "import plotly.graph_objs as go"
   ]
  },
  {
   "cell_type": "code",
   "execution_count": 59,
   "metadata": {},
   "outputs": [
    {
     "name": "stderr",
     "output_type": "stream",
     "text": [
      "C:\\Users\\louis\\Anaconda2\\envs\\py3.6\\lib\\site-packages\\xlrd\\xlsx.py:266: PendingDeprecationWarning:\n",
      "\n",
      "This method will be removed in future versions.  Use 'tree.iter()' or 'list(tree.iter())' instead.\n",
      "\n",
      "C:\\Users\\louis\\Anaconda2\\envs\\py3.6\\lib\\site-packages\\xlrd\\xlsx.py:312: PendingDeprecationWarning:\n",
      "\n",
      "This method will be removed in future versions.  Use 'tree.iter()' or 'list(tree.iter())' instead.\n",
      "\n"
     ]
    },
    {
     "data": {
      "text/html": [
       "<div>\n",
       "<style scoped>\n",
       "    .dataframe tbody tr th:only-of-type {\n",
       "        vertical-align: middle;\n",
       "    }\n",
       "\n",
       "    .dataframe tbody tr th {\n",
       "        vertical-align: top;\n",
       "    }\n",
       "\n",
       "    .dataframe thead th {\n",
       "        text-align: right;\n",
       "    }\n",
       "</style>\n",
       "<table border=\"1\" class=\"dataframe\">\n",
       "  <thead>\n",
       "    <tr style=\"text-align: right;\">\n",
       "      <th></th>\n",
       "      <th>Unnamed: 0</th>\n",
       "      <th>Strain</th>\n",
       "      <th>Type</th>\n",
       "      <th>Rating</th>\n",
       "      <th>Effects</th>\n",
       "      <th>Flavor</th>\n",
       "      <th>Description</th>\n",
       "      <th>Effect_1</th>\n",
       "      <th>Effect_2</th>\n",
       "      <th>Effect_3</th>\n",
       "      <th>Effect_4</th>\n",
       "      <th>Effect_5</th>\n",
       "      <th>Flavor_1</th>\n",
       "      <th>Flavor_2</th>\n",
       "      <th>Flavor_3</th>\n",
       "      <th>Flavor_4</th>\n",
       "    </tr>\n",
       "  </thead>\n",
       "  <tbody>\n",
       "    <tr>\n",
       "      <th>0</th>\n",
       "      <td>0</td>\n",
       "      <td>100-Og</td>\n",
       "      <td>hybrid</td>\n",
       "      <td>4.0</td>\n",
       "      <td>Creative,Energetic,Tingly,Euphoric,Relaxed</td>\n",
       "      <td>Earthy,Sweet,Citrus</td>\n",
       "      <td>$100 OG is a 50/50 hybrid strain that packs a ...</td>\n",
       "      <td>Creative</td>\n",
       "      <td>Energetic</td>\n",
       "      <td>Tingly</td>\n",
       "      <td>Euphoric</td>\n",
       "      <td>Relaxed</td>\n",
       "      <td>Earthy</td>\n",
       "      <td>Sweet</td>\n",
       "      <td>Citrus</td>\n",
       "      <td>NaN</td>\n",
       "    </tr>\n",
       "    <tr>\n",
       "      <th>1</th>\n",
       "      <td>1</td>\n",
       "      <td>98-White-Widow</td>\n",
       "      <td>hybrid</td>\n",
       "      <td>4.7</td>\n",
       "      <td>Relaxed,Aroused,Creative,Happy,Energetic</td>\n",
       "      <td>Flowery,Violet,Diesel</td>\n",
       "      <td>The ‘98 Aloha White Widow is an especially pot...</td>\n",
       "      <td>Relaxed</td>\n",
       "      <td>Aroused</td>\n",
       "      <td>Creative</td>\n",
       "      <td>Happy</td>\n",
       "      <td>Energetic</td>\n",
       "      <td>Flowery</td>\n",
       "      <td>Violet</td>\n",
       "      <td>Diesel</td>\n",
       "      <td>NaN</td>\n",
       "    </tr>\n",
       "    <tr>\n",
       "      <th>2</th>\n",
       "      <td>2</td>\n",
       "      <td>1024</td>\n",
       "      <td>sativa</td>\n",
       "      <td>4.4</td>\n",
       "      <td>Uplifted,Happy,Relaxed,Energetic,Creative</td>\n",
       "      <td>Spicy/Herbal,Sage,Woody</td>\n",
       "      <td>1024 is a sativa-dominant hybrid bred in Spain...</td>\n",
       "      <td>Uplifted</td>\n",
       "      <td>Happy</td>\n",
       "      <td>Relaxed</td>\n",
       "      <td>Energetic</td>\n",
       "      <td>Creative</td>\n",
       "      <td>Spicy/Herbal</td>\n",
       "      <td>Sage</td>\n",
       "      <td>Woody</td>\n",
       "      <td>NaN</td>\n",
       "    </tr>\n",
       "    <tr>\n",
       "      <th>3</th>\n",
       "      <td>3</td>\n",
       "      <td>13-Dawgs</td>\n",
       "      <td>hybrid</td>\n",
       "      <td>4.2</td>\n",
       "      <td>Tingly,Creative,Hungry,Relaxed,Uplifted</td>\n",
       "      <td>Apricot,Citrus,Grapefruit</td>\n",
       "      <td>13 Dawgs is a hybrid of G13 and Chemdawg genet...</td>\n",
       "      <td>Tingly</td>\n",
       "      <td>Creative</td>\n",
       "      <td>Hungry</td>\n",
       "      <td>Relaxed</td>\n",
       "      <td>Uplifted</td>\n",
       "      <td>Apricot</td>\n",
       "      <td>Citrus</td>\n",
       "      <td>Grapefruit</td>\n",
       "      <td>NaN</td>\n",
       "    </tr>\n",
       "    <tr>\n",
       "      <th>4</th>\n",
       "      <td>4</td>\n",
       "      <td>24K-Gold</td>\n",
       "      <td>hybrid</td>\n",
       "      <td>4.6</td>\n",
       "      <td>Happy,Relaxed,Euphoric,Uplifted,Talkative</td>\n",
       "      <td>Citrus,Earthy,Orange</td>\n",
       "      <td>Also known as Kosher Tangie, 24k Gold is a 60%...</td>\n",
       "      <td>Happy</td>\n",
       "      <td>Relaxed</td>\n",
       "      <td>Euphoric</td>\n",
       "      <td>Uplifted</td>\n",
       "      <td>Talkative</td>\n",
       "      <td>Citrus</td>\n",
       "      <td>Earthy</td>\n",
       "      <td>Orange</td>\n",
       "      <td>NaN</td>\n",
       "    </tr>\n",
       "  </tbody>\n",
       "</table>\n",
       "</div>"
      ],
      "text/plain": [
       "   Unnamed: 0          Strain    Type  Rating  \\\n",
       "0           0          100-Og  hybrid     4.0   \n",
       "1           1  98-White-Widow  hybrid     4.7   \n",
       "2           2            1024  sativa     4.4   \n",
       "3           3        13-Dawgs  hybrid     4.2   \n",
       "4           4        24K-Gold  hybrid     4.6   \n",
       "\n",
       "                                      Effects                     Flavor  \\\n",
       "0  Creative,Energetic,Tingly,Euphoric,Relaxed        Earthy,Sweet,Citrus   \n",
       "1    Relaxed,Aroused,Creative,Happy,Energetic      Flowery,Violet,Diesel   \n",
       "2   Uplifted,Happy,Relaxed,Energetic,Creative    Spicy/Herbal,Sage,Woody   \n",
       "3     Tingly,Creative,Hungry,Relaxed,Uplifted  Apricot,Citrus,Grapefruit   \n",
       "4   Happy,Relaxed,Euphoric,Uplifted,Talkative       Citrus,Earthy,Orange   \n",
       "\n",
       "                                         Description  Effect_1   Effect_2  \\\n",
       "0  $100 OG is a 50/50 hybrid strain that packs a ...  Creative  Energetic   \n",
       "1  The ‘98 Aloha White Widow is an especially pot...   Relaxed    Aroused   \n",
       "2  1024 is a sativa-dominant hybrid bred in Spain...  Uplifted      Happy   \n",
       "3  13 Dawgs is a hybrid of G13 and Chemdawg genet...    Tingly   Creative   \n",
       "4  Also known as Kosher Tangie, 24k Gold is a 60%...     Happy    Relaxed   \n",
       "\n",
       "   Effect_3   Effect_4   Effect_5      Flavor_1 Flavor_2    Flavor_3 Flavor_4  \n",
       "0    Tingly   Euphoric    Relaxed        Earthy    Sweet      Citrus      NaN  \n",
       "1  Creative      Happy  Energetic       Flowery   Violet      Diesel      NaN  \n",
       "2   Relaxed  Energetic   Creative  Spicy/Herbal     Sage       Woody      NaN  \n",
       "3    Hungry    Relaxed   Uplifted       Apricot   Citrus  Grapefruit      NaN  \n",
       "4  Euphoric   Uplifted  Talkative        Citrus   Earthy      Orange      NaN  "
      ]
     },
     "execution_count": 59,
     "metadata": {},
     "output_type": "execute_result"
    }
   ],
   "source": [
    "EDA=pd.read_excel('../CannaConnect/Dataset/EDA.xlsx')\n",
    "EDA.head()"
   ]
  },
  {
   "cell_type": "code",
   "execution_count": 60,
   "metadata": {},
   "outputs": [
    {
     "name": "stdout",
     "output_type": "stream",
     "text": [
      "0    100 og 50 50 hybrid pack strong punch name sup...\n",
      "1    98 aloha white widow especially potent cut whi...\n",
      "2    1024 sativa hybrid bred spain medical seed co ...\n",
      "3    13 dawgs hybrid g13 chemdawg genetics bred can...\n",
      "4    kosher tangie 24k gold 60 indica hybrid combin...\n",
      "Name: Description, dtype: object\n"
     ]
    }
   ],
   "source": [
    "#Preprocessing the text in the Description, print the head of the description text\n",
    "stopwords = set(STOPWORDS)\n",
    "newStopWords = ['strain','effect', 'genetic', 'effects','flavor','dominant','known','cross'] #from the list above, we are keeping words relevant to the analysis\n",
    "stopwords.update(newStopWords)\n",
    "df_des=EDA.Description.astype(str)\n",
    "df_lower_case_des=df_des.apply(lambda x: \" \".join(x.lower() for x in x.split())) #lower case\n",
    "df_special_characters_out_des=df_lower_case_des.map(lambda x: re.sub(r'\\W+', ' ',x)) #remove special character\n",
    "df_stop_words_out_des=df_special_characters_out_des.apply(lambda x: \" \".join(x for x in x.split() if x not in stopwords)) #remove stopwords\n",
    "df_lemma_des=df_stop_words_out_des.apply(lambda x: \" \".join([Word(word).lemmatize() for word in x.split()]))  #lemmatize\n",
    "print(df_lemma_des.head())"
   ]
  },
  {
   "cell_type": "code",
   "execution_count": 61,
   "metadata": {},
   "outputs": [
    {
     "name": "stdout",
     "output_type": "stream",
     "text": [
      "0    4\n",
      "1    2\n",
      "2    2\n",
      "3    4\n",
      "4    3\n",
      "Name: Description, dtype: int64\n",
      "count    2277.000000\n",
      "mean        1.062363\n",
      "std         1.390266\n",
      "min         0.000000\n",
      "25%         0.000000\n",
      "50%         0.000000\n",
      "75%         2.000000\n",
      "max         8.000000\n",
      "Name: Description, dtype: float64\n"
     ]
    }
   ],
   "source": [
    "df_digits = df_lemma_des.apply(lambda x: len([x for x in x.split() if x.isdigit()]))\n",
    "print(df_digits.head())\n",
    "print(df_digits.describe())"
   ]
  },
  {
   "cell_type": "code",
   "execution_count": 62,
   "metadata": {},
   "outputs": [
    {
     "name": "stdout",
     "output_type": "stream",
     "text": [
      "0     og   hybrid pack strong punch name supposedly...\n",
      "1     aloha white widow especially potent cut white...\n",
      "2     sativa hybrid bred spain medical seed co bree...\n",
      "3     dawgs hybrid g chemdawg genetics bred canadia...\n",
      "4    kosher tangie k gold  indica hybrid combine le...\n",
      "Name: Description, dtype: object\n"
     ]
    }
   ],
   "source": [
    "df_numeric_out = df_lemma_des.str.replace('\\\\d+', '')\n",
    "print(df_numeric_out.head())"
   ]
  },
  {
   "cell_type": "code",
   "execution_count": 63,
   "metadata": {},
   "outputs": [
    {
     "name": "stdout",
     "output_type": "stream",
     "text": [
      "s           1377\n",
      "indica      1366\n",
      "hybrid      1252\n",
      "sativa      1060\n",
      "og          1051\n",
      "kush        1037\n",
      "aroma        870\n",
      "sweet        830\n",
      "body         735\n",
      "genetics     682\n",
      "dtype: int64\n"
     ]
    }
   ],
   "source": [
    "#Step 1: Identification of Common words\n",
    "#Step 2: I am not going to remove common words at this point\n",
    "common_words = pd.Series(' '.join(df_stop_words_out_des).split()).value_counts()[:10]\n",
    "print(common_words)"
   ]
  },
  {
   "cell_type": "code",
   "execution_count": 64,
   "metadata": {},
   "outputs": [
    {
     "name": "stdout",
     "output_type": "stream",
     "text": [
      "densely        1\n",
      "derivatives    1\n",
      "skirt          1\n",
      "werner         1\n",
      "dripping       1\n",
      "impending      1\n",
      "blew           1\n",
      "denseness      1\n",
      "afkansastan    1\n",
      "joke           1\n",
      "dtype: int64\n"
     ]
    }
   ],
   "source": [
    "#Step 1: Identification of Rare words\n",
    "#Step 2: I am not going to rare words at this point\n",
    "rare_words = pd.Series(' '.join(df_stop_words_out_des).split()).value_counts()[-10:]\n",
    "print(rare_words)"
   ]
  },
  {
   "cell_type": "code",
   "execution_count": 65,
   "metadata": {},
   "outputs": [],
   "source": [
    "df_description_clean=df_numeric_out\n",
    "df_description_clean.to_excel('../CannaConnect/Dataset/description_clean.xlsx')"
   ]
  },
  {
   "cell_type": "code",
   "execution_count": 66,
   "metadata": {},
   "outputs": [
    {
     "data": {
      "text/plain": [
       "'basic-bar.html'"
      ]
     },
     "execution_count": 66,
     "metadata": {},
     "output_type": "execute_result"
    }
   ],
   "source": [
    "#Visualization of the Frequent words\n",
    "all_words = df_description_clean.str.split(expand=True).unstack().value_counts()\n",
    "data = [go.Bar(\n",
    "            x = all_words.index.values[1:50],\n",
    "            y = all_words.values[1:50],\n",
    "            marker= dict(colorscale='Jet',\n",
    "                         color = all_words.values[2:100]\n",
    "                        ),\n",
    "            text='Word counts'\n",
    "    )]\n",
    "\n",
    "layout = go.Layout(\n",
    "    title='Top 50 Word frequencies in the Dataset'\n",
    ")\n",
    "\n",
    "fig = go.Figure(data=data, layout=layout)\n",
    "\n",
    "plot(fig, filename='basic-bar.html')"
   ]
  },
  {
   "cell_type": "code",
   "execution_count": null,
   "metadata": {},
   "outputs": [],
   "source": []
  }
 ],
 "metadata": {
  "kernelspec": {
   "display_name": "Python 3",
   "language": "python",
   "name": "python3"
  },
  "language_info": {
   "codemirror_mode": {
    "name": "ipython",
    "version": 3
   },
   "file_extension": ".py",
   "mimetype": "text/x-python",
   "name": "python",
   "nbconvert_exporter": "python",
   "pygments_lexer": "ipython3",
   "version": "3.7.3"
  }
 },
 "nbformat": 4,
 "nbformat_minor": 2
}
