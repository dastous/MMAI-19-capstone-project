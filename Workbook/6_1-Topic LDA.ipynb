{
 "cells": [
  {
   "cell_type": "code",
   "execution_count": 1,
   "metadata": {},
   "outputs": [],
   "source": [
    "#NLP project - IMDB - topic modeling\n",
    "#https://www.kaggle.com/arthurtok/spooky-nlp-and-topic-modelling-tutorial\n",
    "#https://github.com/RaRe-Technologies\n",
    "#https://towardsdatascience.com/topic-modeling-and-latent-dirichlet-allocation-in-python-9bf156893c24\n",
    "#https://github.com/lda-project/lda\n",
    "#https://github.com/derekgreene/dynamic-nmf\n",
    "#https://nlpforhackers.io/topic-modeling/\n",
    "#https://www.analyticsvidhya.com/blog/2018/02/the-different-methods-deal-text-data-predictive-python/\n",
    "#https://docs.python.org/2/library/re.html\n",
    "#https://pythonspot.com/nltk-stop-words/\n",
    "#https://jakevdp.github.io/WhirlwindTourOfPython/14-strings-and-regular-expressions.html\n",
    "#https://textblob.readthedocs.io/en/dev/advanced_usage.html\n",
    "#https://www.analyticsvidhya.com/blog/2018/10/stepwise-guide-topic-modeling-latent-semantic-analysis/\n",
    "#https://towardsdatascience.com/topic-modelling-in-python-with-nltk-and-gensim-4ef03213cd21\n",
    "#https://www.machinelearningplus.com/nlp/topic-modeling-gensim-python/\n",
    "#https://rare-technologies.com/tutorial-on-mallet-in-python/"
   ]
  },
  {
   "cell_type": "code",
   "execution_count": 1,
   "metadata": {},
   "outputs": [],
   "source": [
    "import nltk\n",
    "import gensim\n",
    "import logging\n",
    "import os\n",
    "import re\n",
    "import gensim\n",
    "import spacy\n",
    "import pyLDAvis\n",
    "import en_core_web_sm\n",
    "import warnings\n",
    "\n",
    "import numpy as np\n",
    "import pandas as pd\n",
    "import gensim.corpora as corpora\n",
    "import matplotlib.pyplot as plt\n",
    "\n",
    "from gensim.utils import simple_preprocess\n",
    "from gensim.parsing.preprocessing import STOPWORDS\n",
    "from gensim.utils import simple_preprocess\n",
    "from gensim.models import CoherenceModel\n",
    "from gensim.models.wrappers import LdaMallet\n",
    "import pyLDAvis.gensim  # don't skip this\n",
    "\n",
    "from nltk.stem import WordNetLemmatizer, SnowballStemmer\n",
    "from nltk.stem.porter import *\n",
    "from spacy.lang.en import English\n",
    "from nltk.corpus import stopwords\n",
    "\n",
    "from pprint import pprint\n",
    "from spacy.lang.en import English\n",
    "\n",
    "logging.basicConfig(format='%(asctime)s : %(levelname)s : %(message)s', level=logging.ERROR)\n",
    "warnings.filterwarnings(\"ignore\",category=DeprecationWarning)"
   ]
  },
  {
   "cell_type": "code",
   "execution_count": 2,
   "metadata": {},
   "outputs": [
    {
     "data": {
      "text/html": [
       "<div>\n",
       "<style scoped>\n",
       "    .dataframe tbody tr th:only-of-type {\n",
       "        vertical-align: middle;\n",
       "    }\n",
       "\n",
       "    .dataframe tbody tr th {\n",
       "        vertical-align: top;\n",
       "    }\n",
       "\n",
       "    .dataframe thead th {\n",
       "        text-align: right;\n",
       "    }\n",
       "</style>\n",
       "<table border=\"1\" class=\"dataframe\">\n",
       "  <thead>\n",
       "    <tr style=\"text-align: right;\">\n",
       "      <th></th>\n",
       "      <th>Unnamed: 0</th>\n",
       "      <th>Description</th>\n",
       "    </tr>\n",
       "  </thead>\n",
       "  <tbody>\n",
       "    <tr>\n",
       "      <th>0</th>\n",
       "      <td>0</td>\n",
       "      <td>og   hybrid strain pack strong punch name sup...</td>\n",
       "    </tr>\n",
       "    <tr>\n",
       "      <th>1</th>\n",
       "      <td>1</td>\n",
       "      <td>aloha white widow especially potent cut white...</td>\n",
       "    </tr>\n",
       "    <tr>\n",
       "      <th>2</th>\n",
       "      <td>2</td>\n",
       "      <td>sativa dominant hybrid bred spain medical see...</td>\n",
       "    </tr>\n",
       "    <tr>\n",
       "      <th>3</th>\n",
       "      <td>3</td>\n",
       "      <td>dawgs hybrid g chemdawg genetics bred canadia...</td>\n",
       "    </tr>\n",
       "    <tr>\n",
       "      <th>4</th>\n",
       "      <td>4</td>\n",
       "      <td>known kosher tangie k gold  indica dominant hy...</td>\n",
       "    </tr>\n",
       "  </tbody>\n",
       "</table>\n",
       "</div>"
      ],
      "text/plain": [
       "   Unnamed: 0                                        Description\n",
       "0           0   og   hybrid strain pack strong punch name sup...\n",
       "1           1   aloha white widow especially potent cut white...\n",
       "2           2   sativa dominant hybrid bred spain medical see...\n",
       "3           3   dawgs hybrid g chemdawg genetics bred canadia...\n",
       "4           4  known kosher tangie k gold  indica dominant hy..."
      ]
     },
     "execution_count": 2,
     "metadata": {},
     "output_type": "execute_result"
    }
   ],
   "source": [
    "df_review=pd.read_excel(\"../CannaConnect/Dataset/description_clean.xlsx\")\n",
    "#df_review=df_review.iloc[:,1]\n",
    "df_review.head()"
   ]
  },
  {
   "cell_type": "code",
   "execution_count": 3,
   "metadata": {},
   "outputs": [],
   "source": [
    "# Convert to list\n",
    "data = df_review.values.tolist()"
   ]
  },
  {
   "cell_type": "code",
   "execution_count": 4,
   "metadata": {},
   "outputs": [],
   "source": [
    "stop_words = stopwords.words('english')"
   ]
  },
  {
   "cell_type": "code",
   "execution_count": 5,
   "metadata": {},
   "outputs": [
    {
     "name": "stdout",
     "output_type": "stream",
     "text": [
      "[['og', 'hybrid', 'strain', 'pack', 'strong', 'punch', 'name', 'supposedly', 'refers', 'strength', 'high', 'price', 'first', 'started', 'showing', 'hollywood', 'plant', 'og', 'tends', 'produce', 'large', 'dark', 'green', 'bud', 'stem', 'user', 'report', 'strong', 'body', 'effect', 'indica', 'pain', 'relief', 'alert', 'cerebral', 'feeling', 'thanks', 'sativa', 'side']]\n"
     ]
    }
   ],
   "source": [
    "def sent_to_words(sentences):\n",
    "    for sentence in sentences:\n",
    "        yield(gensim.utils.simple_preprocess(str(sentence), deacc=True))  # deacc=True removes punctuations\n",
    "\n",
    "data_words = list(sent_to_words(data))\n",
    "print(data_words[:1])"
   ]
  },
  {
   "cell_type": "code",
   "execution_count": 6,
   "metadata": {},
   "outputs": [
    {
     "name": "stdout",
     "output_type": "stream",
     "text": [
      "['og', 'hybrid', 'strain', 'pack', 'strong', 'punch', 'name', 'supposedly', 'refers', 'strength', 'high', 'price', 'first', 'started', 'showing', 'hollywood', 'plant', 'og', 'tends', 'produce', 'large', 'dark', 'green', 'bud', 'stem', 'user_report', 'strong', 'body', 'effect', 'indica', 'pain', 'relief', 'alert', 'cerebral', 'feeling', 'thanks', 'sativa', 'side']\n"
     ]
    }
   ],
   "source": [
    "# Build the bigram and trigram models\n",
    "bigram = gensim.models.Phrases(data_words, min_count=5, threshold=100) # higher threshold fewer phrases.\n",
    "trigram = gensim.models.Phrases(bigram[data_words], threshold=100)  \n",
    "\n",
    "# Faster way to get a sentence clubbed as a trigram/bigram\n",
    "bigram_mod = gensim.models.phrases.Phraser(bigram)\n",
    "trigram_mod = gensim.models.phrases.Phraser(trigram)\n",
    "\n",
    "# See trigram example\n",
    "print(trigram_mod[bigram_mod[data_words[0]]])"
   ]
  },
  {
   "cell_type": "code",
   "execution_count": 7,
   "metadata": {},
   "outputs": [],
   "source": [
    "# Define functions for stopwords, bigrams, trigrams and lemmatization\n",
    "def remove_stopwords(texts):\n",
    "    return [[word for word in simple_preprocess(str(doc)) if word not in stop_words] for doc in texts]\n",
    "\n",
    "def make_bigrams(texts):\n",
    "    return [bigram_mod[doc] for doc in texts]\n",
    "\n",
    "def make_trigrams(texts):\n",
    "    return [trigram_mod[bigram_mod[doc]] for doc in texts]\n",
    "\n",
    "def lemmatization(texts, allowed_postags=['NOUN', 'ADJ', 'VERB', 'ADV']):\n",
    "    \"\"\"https://spacy.io/api/annotation\"\"\"\n",
    "    texts_out = []\n",
    "    for sent in texts:\n",
    "        doc = nlp(\" \".join(sent)) \n",
    "        texts_out.append([token.lemma_ for token in doc if token.pos_ in allowed_postags])\n",
    "    return texts_out"
   ]
  },
  {
   "cell_type": "code",
   "execution_count": 8,
   "metadata": {},
   "outputs": [
    {
     "name": "stdout",
     "output_type": "stream",
     "text": [
      "[['hybrid', 'strain', 'pack', 'strong', 'punch', 'name', 'supposedly', 'refer', 'strength', 'high', 'price', 'first', 'start', 'show', 'hollywood', 'plant', 'tend', 'produce', 'large', 'dark', 'green', 'bud', 'stem', 'user_report', 'strong', 'body', 'effect', 'indica', 'pain', 'relief', 'alert', 'cerebral', 'feeling', 'thank', 'side']]\n"
     ]
    }
   ],
   "source": [
    "# Remove Stop Words\n",
    "data_words_nostops = remove_stopwords(data_words)\n",
    "\n",
    "# Form Bigrams\n",
    "data_words_bigrams = make_bigrams(data_words_nostops)\n",
    "\n",
    "# Initialize spacy 'en' model, keeping only tagger component (for efficiency)\n",
    "# python3 -m spacy download en\n",
    "nlp = en_core_web_sm.load()\n",
    "\n",
    "# Do lemmatization keeping only noun, adj, vb, adv\n",
    "data_lemmatized = lemmatization(data_words_bigrams, allowed_postags=['NOUN', 'ADJ', 'VERB', 'ADV'])\n",
    "\n",
    "print(data_lemmatized[:1])"
   ]
  },
  {
   "cell_type": "code",
   "execution_count": 9,
   "metadata": {},
   "outputs": [
    {
     "name": "stdout",
     "output_type": "stream",
     "text": [
      "[[(0, 1), (1, 1), (2, 1), (3, 1), (4, 1), (5, 1), (6, 1), (7, 1), (8, 1), (9, 1), (10, 1), (11, 1), (12, 1), (13, 1), (14, 1), (15, 1), (16, 1), (17, 1), (18, 1), (19, 1), (20, 1), (21, 1), (22, 1), (23, 1), (24, 1), (25, 1), (26, 1), (27, 1), (28, 1), (29, 2), (30, 1), (31, 1), (32, 1), (33, 1)]]\n"
     ]
    }
   ],
   "source": [
    "# Create Dictionary\n",
    "id2word = corpora.Dictionary(data_lemmatized)\n",
    "\n",
    "# Create Corpus\n",
    "texts = data_lemmatized\n",
    "\n",
    "# Term Document Frequency\n",
    "corpus = [id2word.doc2bow(text) for text in texts]\n",
    "\n",
    "# View\n",
    "print(corpus[:1])"
   ]
  },
  {
   "cell_type": "code",
   "execution_count": 10,
   "metadata": {},
   "outputs": [
    {
     "data": {
      "text/plain": [
       "[[('alert', 1),\n",
       "  ('body', 1),\n",
       "  ('bud', 1),\n",
       "  ('cerebral', 1),\n",
       "  ('dark', 1),\n",
       "  ('effect', 1),\n",
       "  ('feeling', 1),\n",
       "  ('first', 1),\n",
       "  ('green', 1),\n",
       "  ('high', 1),\n",
       "  ('hollywood', 1),\n",
       "  ('hybrid', 1),\n",
       "  ('indica', 1),\n",
       "  ('large', 1),\n",
       "  ('name', 1),\n",
       "  ('pack', 1),\n",
       "  ('pain', 1),\n",
       "  ('plant', 1),\n",
       "  ('price', 1),\n",
       "  ('produce', 1),\n",
       "  ('punch', 1),\n",
       "  ('refer', 1),\n",
       "  ('relief', 1),\n",
       "  ('show', 1),\n",
       "  ('side', 1),\n",
       "  ('start', 1),\n",
       "  ('stem', 1),\n",
       "  ('strain', 1),\n",
       "  ('strength', 1),\n",
       "  ('strong', 2),\n",
       "  ('supposedly', 1),\n",
       "  ('tend', 1),\n",
       "  ('thank', 1),\n",
       "  ('user_report', 1)]]"
      ]
     },
     "execution_count": 10,
     "metadata": {},
     "output_type": "execute_result"
    }
   ],
   "source": [
    "# Human readable format of corpus (term-frequency)\n",
    "[[(id2word[id], freq) for id, freq in cp] for cp in corpus[:1]]"
   ]
  },
  {
   "cell_type": "code",
   "execution_count": 11,
   "metadata": {},
   "outputs": [],
   "source": [
    "# Build LDA model\n",
    "lda_model = gensim.models.ldamodel.LdaModel(corpus=corpus,\n",
    "                                           id2word=id2word,\n",
    "                                           num_topics=15, \n",
    "                                           random_state=100,\n",
    "                                           update_every=1,\n",
    "                                           chunksize=100,\n",
    "                                           passes=10,\n",
    "                                           alpha='auto',\n",
    "                                           per_word_topics=True)"
   ]
  },
  {
   "cell_type": "code",
   "execution_count": 12,
   "metadata": {},
   "outputs": [
    {
     "name": "stdout",
     "output_type": "stream",
     "text": [
      "[(0,\n",
      "  '0.070*\"flower\" + 0.047*\"plant\" + 0.046*\"time\" + 0.041*\"grow\" + '\n",
      "  '0.034*\"yield\" + 0.032*\"week\" + 0.030*\"seed\" + 0.028*\"grower\" + '\n",
      "  '0.022*\"strawberry\" + 0.022*\"indoor\"'),\n",
      " (1,\n",
      "  '0.064*\"delicious\" + 0.054*\"upbeat\" + 0.051*\"hair\" + 0.030*\"therapeutic\" + '\n",
      "  '0.027*\"sparkle\" + 0.026*\"warn\" + 0.024*\"fluffy\" + 0.017*\"potential\" + '\n",
      "  '0.015*\"next\" + 0.012*\"aloha\"'),\n",
      " (2,\n",
      "  '0.097*\"sfv\" + 0.063*\"different\" + 0.030*\"los_angele\" + 0.027*\"confuse\" + '\n",
      "  '0.009*\"loss\" + 0.000*\"dog\" + 0.000*\"wookie\" + 0.000*\"meaty\" + '\n",
      "  '0.000*\"whitewalker\" + 0.000*\"zombie\"'),\n",
      " (3,\n",
      "  '0.095*\"blueberry\" + 0.093*\"blue\" + 0.045*\"side\" + 0.042*\"power\" + '\n",
      "  '0.041*\"smoke\" + 0.038*\"good_choice\" + 0.032*\"add\" + 0.029*\"crossing\" + '\n",
      "  '0.023*\"natural\" + 0.017*\"ache\"'),\n",
      " (4,\n",
      "  '0.120*\"trainwreck\" + 0.073*\"sage\" + 0.064*\"appreciate\" + 0.034*\"headband\" + '\n",
      "  '0.033*\"train\" + 0.028*\"wreck\" + 0.024*\"marijuana\" + 0.022*\"ready\" + '\n",
      "  '0.017*\"smile\" + 0.013*\"trinity\"'),\n",
      " (5,\n",
      "  '0.147*\"cheese\" + 0.104*\"expect\" + 0.043*\"valley\" + 0.041*\"daytime_use\" + '\n",
      "  '0.041*\"frost\" + 0.030*\"nearly\" + 0.026*\"caramel\" + 0.026*\"indoor_outdoor\" + '\n",
      "  '0.013*\"environment\" + 0.013*\"fill_room\"'),\n",
      " (6,\n",
      "  '0.057*\"strain\" + 0.046*\"effect\" + 0.037*\"hybrid\" + 0.031*\"cross\" + '\n",
      "  '0.031*\"dominant\" + 0.029*\"aroma\" + 0.024*\"genetic\" + 0.022*\"flavor\" + '\n",
      "  '0.021*\"sweet\" + 0.019*\"sour\"'),\n",
      " (7,\n",
      "  '0.086*\"orange\" + 0.048*\"pleasant\" + 0.041*\"balanced\" + 0.027*\"enough\" + '\n",
      "  '0.027*\"muscle\" + 0.027*\"often\" + 0.025*\"brain\" + 0.022*\"cherish\" + '\n",
      "  '0.020*\"rest\" + 0.019*\"try\"'),\n",
      " (8,\n",
      "  '0.144*\"pain\" + 0.062*\"anxiety\" + 0.059*\"relief\" + 0.041*\"nausea\" + '\n",
      "  '0.039*\"insomnia\" + 0.031*\"grape\" + 0.029*\"sleep\" + 0.028*\"medical\" + '\n",
      "  '0.026*\"treat\" + 0.024*\"chronic\"'),\n",
      " (9,\n",
      "  '0.073*\"bubba\" + 0.070*\"influence\" + 0.046*\"family\" + 0.038*\"pepper\" + '\n",
      "  '0.035*\"granddaddy_purple\" + 0.034*\"tight\" + 0.027*\"hindu\" + 0.025*\"tension\" '\n",
      "  '+ 0.023*\"descendant\" + 0.023*\"bubble\"'),\n",
      " (10,\n",
      "  '0.071*\"indica\" + 0.062*\"strain\" + 0.042*\"high\" + 0.040*\"bud\" + '\n",
      "  '0.031*\"purple\" + 0.019*\"skunk\" + 0.019*\"may\" + 0.017*\"name\" + 0.017*\"heavy\" '\n",
      "  '+ 0.016*\"green\"'),\n",
      " (11,\n",
      "  '0.043*\"feature\" + 0.042*\"pure\" + 0.037*\"long\" + 0.030*\"lineage\" + '\n",
      "  '0.029*\"little\" + 0.026*\"unknown\" + 0.025*\"think\" + 0.024*\"clone\" + '\n",
      "  '0.023*\"find\" + 0.022*\"sensi\"'),\n",
      " (12,\n",
      "  '0.163*\"cbd\" + 0.053*\"northern_light\" + 0.050*\"thc\" + 0.035*\"ratio\" + '\n",
      "  '0.034*\"island\" + 0.033*\"heavily\" + 0.031*\"love\" + 0.029*\"hard\" + '\n",
      "  '0.027*\"psychoactive\" + 0.027*\"northern\"'),\n",
      " (13,\n",
      "  '0.140*\"cannabis\" + 0.082*\"cup\" + 0.033*\"landrace\" + 0.027*\"place\" + '\n",
      "  '0.025*\"fresh\" + 0.022*\"evening\" + 0.020*\"terpene\" + 0.020*\"good\" + '\n",
      "  '0.019*\"cultivate\" + 0.018*\"world\"'),\n",
      " (14,\n",
      "  '0.178*\"kush\" + 0.054*\"offer\" + 0.044*\"physical\" + 0.033*\"enjoy\" + '\n",
      "  '0.025*\"mental\" + 0.023*\"consumer\" + 0.022*\"heady\" + 0.018*\"sedative\" + '\n",
      "  '0.018*\"cut\" + 0.017*\"earth\"')]\n"
     ]
    }
   ],
   "source": [
    "# Print the Keyword in the 15 topics\n",
    "pprint(lda_model.print_topics())\n",
    "doc_lda = lda_model[corpus]"
   ]
  },
  {
   "cell_type": "code",
   "execution_count": 13,
   "metadata": {},
   "outputs": [
    {
     "name": "stdout",
     "output_type": "stream",
     "text": [
      "\n",
      "Perplexity:  -10.470234905053543\n",
      "\n",
      "Coherence Score:  0.42096932701178613\n"
     ]
    }
   ],
   "source": [
    "# Compute Perplexity\n",
    "print('\\nPerplexity: ', lda_model.log_perplexity(corpus))  # a measure of how good the model is. lower the better.\n",
    "\n",
    "# Compute Coherence Score\n",
    "coherence_model_lda = CoherenceModel(model=lda_model, texts=data_lemmatized, dictionary=id2word, coherence='c_v')\n",
    "coherence_lda = coherence_model_lda.get_coherence()\n",
    "print('\\nCoherence Score: ', coherence_lda)"
   ]
  },
  {
   "cell_type": "code",
   "execution_count": 14,
   "metadata": {},
   "outputs": [],
   "source": [
    "def compute_coherence_values(dictionary, corpus, texts, limit, start=1, step=3):\n",
    "    \"\"\"\n",
    "    Compute c_v coherence for various number of topics\n",
    "\n",
    "    Parameters:\n",
    "    ----------\n",
    "    dictionary : Gensim dictionary\n",
    "    corpus : Gensim corpus\n",
    "    texts : List of input texts\n",
    "    limit : Max num of topics\n",
    "\n",
    "    Returns:\n",
    "    -------\n",
    "    model_list : List of LDA topic models\n",
    "    coherence_values : Coherence values corresponding to the LDA model with respective number of topics\n",
    "    \"\"\"\n",
    "    coherence_values = []\n",
    "    model_list = []\n",
    "    for num_topics in range(start, limit, step):\n",
    "        model = gensim.models.ldamodel.LdaModel(corpus=corpus,\n",
    "                                           id2word=id2word,\n",
    "                                           num_topics=num_topics, \n",
    "                                           random_state=100,\n",
    "                                           update_every=1,\n",
    "                                           chunksize=100,\n",
    "                                           passes=10,\n",
    "                                           alpha='auto',\n",
    "                                           per_word_topics=True)\n",
    "        #model = gensim.models.wrappers.LdaMallet(mallet_path, corpus=corpus, num_topics=num_topics, id2word=id2word)\n",
    "        model_list.append(model)\n",
    "        coherencemodel = CoherenceModel(model=model, texts=texts, dictionary=dictionary, coherence='c_v')\n",
    "        coherence_values.append(coherencemodel.get_coherence())\n",
    "\n",
    "    return model_list, coherence_values"
   ]
  },
  {
   "cell_type": "code",
   "execution_count": 15,
   "metadata": {},
   "outputs": [],
   "source": [
    "# Can take a long time to run.\n",
    "model_list, coherence_values = compute_coherence_values(dictionary=id2word, corpus=corpus, texts=data_lemmatized, start=1, limit=18, step=3)"
   ]
  },
  {
   "cell_type": "code",
   "execution_count": 16,
   "metadata": {},
   "outputs": [
    {
     "data": {
      "image/png": "[encoded data removed]",
      "text/plain": [
       "<Figure size 432x288 with 1 Axes>"
      ]
     },
     "metadata": {
      "needs_background": "light"
     },
     "output_type": "display_data"
    }
   ],
   "source": [
    "# Show graph\n",
    "limit=18; start=1; step=3\n",
    "x = range(start, limit, step)\n",
    "plt.plot(x, coherence_values)\n",
    "plt.xlabel(\"Num Topics\")\n",
    "plt.ylabel(\"Coherence score\")\n",
    "plt.legend((\"coherence_values\"), loc='best')\n",
    "plt.show()"
   ]
  },
  {
   "cell_type": "code",
   "execution_count": 17,
   "metadata": {},
   "outputs": [
    {
     "name": "stdout",
     "output_type": "stream",
     "text": [
      "Num Topics = 1  has Coherence Value of 0.2844\n",
      "Num Topics = 4  has Coherence Value of 0.3859\n",
      "Num Topics = 7  has Coherence Value of 0.4407\n",
      "Num Topics = 10  has Coherence Value of 0.4778\n",
      "Num Topics = 13  has Coherence Value of 0.4035\n",
      "Num Topics = 16  has Coherence Value of 0.3987\n"
     ]
    }
   ],
   "source": [
    "# Print the coherence scores\n",
    "for m, cv in zip(x, coherence_values):\n",
    "    print(\"Num Topics =\", m, \" has Coherence Value of\", round(cv, 4))"
   ]
  },
  {
   "cell_type": "code",
   "execution_count": 18,
   "metadata": {},
   "outputs": [
    {
     "name": "stdout",
     "output_type": "stream",
     "text": [
      "[(0,\n",
      "  '0.028*\"strain\" + 0.015*\"effect\" + 0.013*\"indica\" + 0.012*\"hybrid\" + '\n",
      "  '0.010*\"cross\" + 0.010*\"dominant\" + 0.010*\"kush\" + 0.010*\"aroma\" + '\n",
      "  '0.008*\"genetic\" + 0.007*\"white\"')]\n"
     ]
    }
   ],
   "source": [
    "# Select the model and print the topics\n",
    "optimal_model = model_list[0]\n",
    "model_topics = optimal_model.show_topics(formatted=False)\n",
    "pprint(optimal_model.print_topics(num_words=10))"
   ]
  },
  {
   "cell_type": "code",
   "execution_count": null,
   "metadata": {},
   "outputs": [],
   "source": []
  }
 ],
 "metadata": {
  "kernelspec": {
   "display_name": "Python 3",
   "language": "python",
   "name": "python3"
  },
  "language_info": {
   "codemirror_mode": {
    "name": "ipython",
    "version": 3
   },
   "file_extension": ".py",
   "mimetype": "text/x-python",
   "name": "python",
   "nbconvert_exporter": "python",
   "pygments_lexer": "ipython3",
   "version": "3.6.8"
  }
 },
 "nbformat": 4,
 "nbformat_minor": 2
}
