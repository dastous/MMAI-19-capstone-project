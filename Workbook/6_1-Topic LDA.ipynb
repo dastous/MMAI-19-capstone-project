{
 "cells": [
  {
   "cell_type": "code",
   "execution_count": 1,
   "metadata": {},
   "outputs": [],
   "source": [
    "#NLP project - IMDB - topic modeling\n",
    "#https://www.kaggle.com/arthurtok/spooky-nlp-and-topic-modelling-tutorial\n",
    "#https://github.com/RaRe-Technologies\n",
    "#https://towardsdatascience.com/topic-modeling-and-latent-dirichlet-allocation-in-python-9bf156893c24\n",
    "#https://github.com/lda-project/lda\n",
    "#https://github.com/derekgreene/dynamic-nmf\n",
    "#https://nlpforhackers.io/topic-modeling/\n",
    "#https://www.analyticsvidhya.com/blog/2018/02/the-different-methods-deal-text-data-predictive-python/\n",
    "#https://docs.python.org/2/library/re.html\n",
    "#https://pythonspot.com/nltk-stop-words/\n",
    "#https://jakevdp.github.io/WhirlwindTourOfPython/14-strings-and-regular-expressions.html\n",
    "#https://textblob.readthedocs.io/en/dev/advanced_usage.html\n",
    "#https://www.analyticsvidhya.com/blog/2018/10/stepwise-guide-topic-modeling-latent-semantic-analysis/\n",
    "#https://towardsdatascience.com/topic-modelling-in-python-with-nltk-and-gensim-4ef03213cd21\n",
    "#https://www.machinelearningplus.com/nlp/topic-modeling-gensim-python/\n",
    "#https://rare-technologies.com/tutorial-on-mallet-in-python/"
   ]
  },
  {
   "cell_type": "code",
   "execution_count": 1,
   "metadata": {},
   "outputs": [],
   "source": [
    "import nltk\n",
    "import gensim\n",
    "import logging\n",
    "import os\n",
    "import re\n",
    "import gensim\n",
    "import spacy\n",
    "import pyLDAvis\n",
    "import en_core_web_sm\n",
    "import warnings\n",
    "\n",
    "import numpy as np\n",
    "import pandas as pd\n",
    "import gensim.corpora as corpora\n",
    "import matplotlib.pyplot as plt\n",
    "\n",
    "from gensim.utils import simple_preprocess\n",
    "from gensim.parsing.preprocessing import STOPWORDS\n",
    "from gensim.utils import simple_preprocess\n",
    "from gensim.models import CoherenceModel\n",
    "from gensim.models.wrappers import LdaMallet\n",
    "import pyLDAvis.gensim  # don't skip this\n",
    "\n",
    "from nltk.stem import WordNetLemmatizer, SnowballStemmer\n",
    "from nltk.stem.porter import *\n",
    "from spacy.lang.en import English\n",
    "from nltk.corpus import stopwords\n",
    "\n",
    "from pprint import pprint\n",
    "from spacy.lang.en import English\n",
    "\n",
    "logging.basicConfig(format='%(asctime)s : %(levelname)s : %(message)s', level=logging.ERROR)\n",
    "warnings.filterwarnings(\"ignore\",category=DeprecationWarning)"
   ]
  },
  {
   "cell_type": "code",
   "execution_count": 3,
   "metadata": {},
   "outputs": [
    {
     "data": {
      "text/plain": [
       "0     og   hybrid pack strong punch name supposedly...\n",
       "1     aloha white widow especially potent cut white...\n",
       "2     sativa hybrid bred spain medical seed co bree...\n",
       "3     dawgs hybrid g chemdawg genetics bred canadia...\n",
       "4    kosher tangie k gold  indica hybrid combine le...\n",
       "Name: Description, dtype: object"
      ]
     },
     "execution_count": 3,
     "metadata": {},
     "output_type": "execute_result"
    }
   ],
   "source": [
    "df_review=pd.read_excel(\"../CannaConnect/Dataset/description_clean.xlsx\")\n",
    "df_review=df_review.iloc[:,1]\n",
    "df_review.head()"
   ]
  },
  {
   "cell_type": "code",
   "execution_count": 4,
   "metadata": {},
   "outputs": [],
   "source": [
    "# Convert to list\n",
    "data = df_review.values.tolist()"
   ]
  },
  {
   "cell_type": "code",
   "execution_count": 5,
   "metadata": {},
   "outputs": [],
   "source": [
    "stop_words = stopwords.words('english')"
   ]
  },
  {
   "cell_type": "code",
   "execution_count": 6,
   "metadata": {},
   "outputs": [
    {
     "name": "stdout",
     "output_type": "stream",
     "text": [
      "[['og', 'hybrid', 'pack', 'strong', 'punch', 'name', 'supposedly', 'refers', 'strength', 'high', 'price', 'first', 'started', 'showing', 'hollywood', 'plant', 'og', 'tends', 'produce', 'large', 'dark', 'green', 'bud', 'stem', 'user', 'report', 'strong', 'body', 'indica', 'pain', 'relief', 'alert', 'cerebral', 'feeling', 'thanks', 'sativa', 'side']]\n"
     ]
    }
   ],
   "source": [
    "def sent_to_words(sentences):\n",
    "    for sentence in sentences:\n",
    "        yield(gensim.utils.simple_preprocess(str(sentence), deacc=True))  # deacc=True removes punctuations\n",
    "\n",
    "data_words = list(sent_to_words(data))\n",
    "print(data_words[:1])"
   ]
  },
  {
   "cell_type": "code",
   "execution_count": 7,
   "metadata": {},
   "outputs": [
    {
     "name": "stdout",
     "output_type": "stream",
     "text": [
      "['og', 'hybrid', 'pack', 'strong', 'punch', 'name', 'supposedly', 'refers', 'strength', 'high', 'price', 'first', 'started', 'showing', 'hollywood', 'plant', 'og', 'tends', 'produce', 'large', 'dark', 'green', 'bud', 'stem', 'user_report', 'strong', 'body', 'indica', 'pain', 'relief', 'alert', 'cerebral', 'feeling', 'thanks', 'sativa', 'side']\n"
     ]
    }
   ],
   "source": [
    "# Build the bigram and trigram models\n",
    "bigram = gensim.models.Phrases(data_words, min_count=5, threshold=100) # higher threshold fewer phrases.\n",
    "trigram = gensim.models.Phrases(bigram[data_words], threshold=100)  \n",
    "\n",
    "# Faster way to get a sentence clubbed as a trigram/bigram\n",
    "bigram_mod = gensim.models.phrases.Phraser(bigram)\n",
    "trigram_mod = gensim.models.phrases.Phraser(trigram)\n",
    "\n",
    "# See trigram example\n",
    "print(trigram_mod[bigram_mod[data_words[0]]])"
   ]
  },
  {
   "cell_type": "code",
   "execution_count": 8,
   "metadata": {},
   "outputs": [],
   "source": [
    "# Define functions for stopwords, bigrams, trigrams and lemmatization\n",
    "def remove_stopwords(texts):\n",
    "    return [[word for word in simple_preprocess(str(doc)) if word not in stop_words] for doc in texts]\n",
    "\n",
    "def make_bigrams(texts):\n",
    "    return [bigram_mod[doc] for doc in texts]\n",
    "\n",
    "def make_trigrams(texts):\n",
    "    return [trigram_mod[bigram_mod[doc]] for doc in texts]\n",
    "\n",
    "def lemmatization(texts, allowed_postags=['NOUN', 'ADJ', 'VERB', 'ADV']):\n",
    "    \"\"\"https://spacy.io/api/annotation\"\"\"\n",
    "    texts_out = []\n",
    "    for sent in texts:\n",
    "        doc = nlp(\" \".join(sent)) \n",
    "        texts_out.append([token.lemma_ for token in doc if token.pos_ in allowed_postags])\n",
    "    return texts_out"
   ]
  },
  {
   "cell_type": "code",
   "execution_count": 9,
   "metadata": {},
   "outputs": [
    {
     "name": "stdout",
     "output_type": "stream",
     "text": [
      "[['hybrid', 'pack', 'strong', 'punch', 'name', 'supposedly', 'refer', 'strength', 'high', 'price', 'first', 'start', 'show', 'hollywood', 'plant', 'tend', 'produce', 'large', 'dark', 'green', 'bud', 'stem', 'user_report', 'strong', 'body', 'indica', 'pain', 'relief', 'alert', 'cerebral', 'feel', 'thank', 'sativa', 'side']]\n"
     ]
    }
   ],
   "source": [
    "# Remove Stop Words\n",
    "data_words_nostops = remove_stopwords(data_words)\n",
    "\n",
    "# Form Bigrams\n",
    "data_words_bigrams = make_bigrams(data_words_nostops)\n",
    "\n",
    "# Initialize spacy 'en' model, keeping only tagger component (for efficiency)\n",
    "# python3 -m spacy download en\n",
    "nlp = en_core_web_sm.load()\n",
    "\n",
    "# Do lemmatization keeping only noun, adj, vb, adv\n",
    "data_lemmatized = lemmatization(data_words_bigrams, allowed_postags=['NOUN', 'ADJ', 'VERB', 'ADV'])\n",
    "\n",
    "print(data_lemmatized[:1])"
   ]
  },
  {
   "cell_type": "code",
   "execution_count": 10,
   "metadata": {},
   "outputs": [
    {
     "name": "stdout",
     "output_type": "stream",
     "text": [
      "[[(0, 1), (1, 1), (2, 1), (3, 1), (4, 1), (5, 1), (6, 1), (7, 1), (8, 1), (9, 1), (10, 1), (11, 1), (12, 1), (13, 1), (14, 1), (15, 1), (16, 1), (17, 1), (18, 1), (19, 1), (20, 1), (21, 1), (22, 1), (23, 1), (24, 1), (25, 1), (26, 1), (27, 1), (28, 2), (29, 1), (30, 1), (31, 1), (32, 1)]]\n"
     ]
    }
   ],
   "source": [
    "# Create Dictionary\n",
    "id2word = corpora.Dictionary(data_lemmatized)\n",
    "\n",
    "# Create Corpus\n",
    "texts = data_lemmatized\n",
    "\n",
    "# Term Document Frequency\n",
    "corpus = [id2word.doc2bow(text) for text in texts]\n",
    "\n",
    "# View\n",
    "print(corpus[:1])"
   ]
  },
  {
   "cell_type": "code",
   "execution_count": 11,
   "metadata": {},
   "outputs": [
    {
     "data": {
      "text/plain": [
       "[[('alert', 1),\n",
       "  ('body', 1),\n",
       "  ('bud', 1),\n",
       "  ('cerebral', 1),\n",
       "  ('dark', 1),\n",
       "  ('feel', 1),\n",
       "  ('first', 1),\n",
       "  ('green', 1),\n",
       "  ('high', 1),\n",
       "  ('hollywood', 1),\n",
       "  ('hybrid', 1),\n",
       "  ('indica', 1),\n",
       "  ('large', 1),\n",
       "  ('name', 1),\n",
       "  ('pack', 1),\n",
       "  ('pain', 1),\n",
       "  ('plant', 1),\n",
       "  ('price', 1),\n",
       "  ('produce', 1),\n",
       "  ('punch', 1),\n",
       "  ('refer', 1),\n",
       "  ('relief', 1),\n",
       "  ('sativa', 1),\n",
       "  ('show', 1),\n",
       "  ('side', 1),\n",
       "  ('start', 1),\n",
       "  ('stem', 1),\n",
       "  ('strength', 1),\n",
       "  ('strong', 2),\n",
       "  ('supposedly', 1),\n",
       "  ('tend', 1),\n",
       "  ('thank', 1),\n",
       "  ('user_report', 1)]]"
      ]
     },
     "execution_count": 11,
     "metadata": {},
     "output_type": "execute_result"
    }
   ],
   "source": [
    "# Human readable format of corpus (term-frequency)\n",
    "[[(id2word[id], freq) for id, freq in cp] for cp in corpus[:1]]"
   ]
  },
  {
   "cell_type": "code",
   "execution_count": 25,
   "metadata": {},
   "outputs": [],
   "source": [
    "# Build LDA model\n",
    "lda_model = gensim.models.ldamodel.LdaModel(corpus=corpus,\n",
    "                                           id2word=id2word,\n",
    "                                           num_topics=3, \n",
    "                                           random_state=100,\n",
    "                                           update_every=1,\n",
    "                                           chunksize=100,\n",
    "                                           passes=10,\n",
    "                                           alpha='auto',\n",
    "                                           per_word_topics=True)"
   ]
  },
  {
   "cell_type": "code",
   "execution_count": 27,
   "metadata": {},
   "outputs": [
    {
     "name": "stdout",
     "output_type": "stream",
     "text": [
      "[(0,\n",
      "  '0.024*\"haze\" + 0.024*\"seed\" + 0.012*\"sativa\" + 0.010*\"create\" + '\n",
      "  '0.009*\"strawberry\" + 0.009*\"offer\" + 0.008*\"enjoy\" + 0.008*\"cheese\" + '\n",
      "  '0.007*\"genetic\" + 0.007*\"physical\"'),\n",
      " (1,\n",
      "  '0.021*\"hybrid\" + 0.018*\"aroma\" + 0.017*\"indica\" + 0.016*\"kush\" + '\n",
      "  '0.015*\"sweet\" + 0.013*\"body\" + 0.013*\"sativa\" + 0.012*\"white\" + '\n",
      "  '0.012*\"sour\" + 0.010*\"purple\"'),\n",
      " (2,\n",
      "  '0.024*\"high\" + 0.021*\"flower\" + 0.019*\"indica\" + 0.013*\"cannabis\" + '\n",
      "  '0.012*\"time\" + 0.012*\"plant\" + 0.010*\"grow\" + 0.010*\"week\" + 0.010*\"cbd\" + '\n",
      "  '0.009*\"cup\"')]\n"
     ]
    }
   ],
   "source": [
    "# Print the Keyword in the 10 topics\n",
    "pprint(lda_model.print_topics())\n",
    "doc_lda = lda_model[corpus]"
   ]
  },
  {
   "cell_type": "code",
   "execution_count": 28,
   "metadata": {},
   "outputs": [
    {
     "name": "stdout",
     "output_type": "stream",
     "text": [
      "\n",
      "Perplexity:  -7.44078132658813\n",
      "\n",
      "Coherence Score:  0.3707594431010921\n"
     ]
    }
   ],
   "source": [
    "# Compute Perplexity\n",
    "print('\\nPerplexity: ', lda_model.log_perplexity(corpus))  # a measure of how good the model is. lower the better.\n",
    "\n",
    "# Compute Coherence Score\n",
    "coherence_model_lda = CoherenceModel(model=lda_model, texts=data_lemmatized, dictionary=id2word, coherence='c_v')\n",
    "coherence_lda = coherence_model_lda.get_coherence()\n",
    "print('\\nCoherence Score: ', coherence_lda)"
   ]
  },
  {
   "cell_type": "code",
   "execution_count": 16,
   "metadata": {},
   "outputs": [],
   "source": [
    "def compute_coherence_values(dictionary, corpus, texts, limit, start=1, step=2):\n",
    "    \"\"\"\n",
    "    Compute c_v coherence for various number of topics\n",
    "\n",
    "    Parameters:\n",
    "    ----------\n",
    "    dictionary : Gensim dictionary\n",
    "    corpus : Gensim corpus\n",
    "    texts : List of input texts\n",
    "    limit : Max num of topics\n",
    "\n",
    "    Returns:\n",
    "    -------\n",
    "    model_list : List of LDA topic models\n",
    "    coherence_values : Coherence values corresponding to the LDA model with respective number of topics\n",
    "    \"\"\"\n",
    "    coherence_values = []\n",
    "    model_list = []\n",
    "    for num_topics in range(start, limit, step):\n",
    "        model = gensim.models.ldamodel.LdaModel(corpus=corpus,\n",
    "                                           id2word=id2word,\n",
    "                                           num_topics=num_topics, \n",
    "                                           random_state=100,\n",
    "                                           update_every=1,\n",
    "                                           chunksize=100,\n",
    "                                           passes=10,\n",
    "                                           alpha='auto',\n",
    "                                           per_word_topics=True)\n",
    "        #model = gensim.models.wrappers.LdaMallet(mallet_path, corpus=corpus, num_topics=num_topics, id2word=id2word)\n",
    "        model_list.append(model)\n",
    "        coherencemodel = CoherenceModel(model=model, texts=texts, dictionary=dictionary, coherence='c_v')\n",
    "        coherence_values.append(coherencemodel.get_coherence())\n",
    "\n",
    "    return model_list, coherence_values"
   ]
  },
  {
   "cell_type": "code",
   "execution_count": 17,
   "metadata": {},
   "outputs": [],
   "source": [
    "# Can take a long time to run.\n",
    "model_list, coherence_values = compute_coherence_values(dictionary=id2word, corpus=corpus, texts=data_lemmatized, start=1, limit=32, step=2)"
   ]
  },
  {
   "cell_type": "code",
   "execution_count": 33,
   "metadata": {},
   "outputs": [],
   "source": [
    "#model_list.to_excel(\"../nlp/model_list.xlsx\")\n",
    "#coherence_values.to_excel(\"../nlp/coherence_values.xlsx\")"
   ]
  },
  {
   "cell_type": "code",
   "execution_count": 18,
   "metadata": {},
   "outputs": [
    {
     "data": {
      "image/png": "[encoded data removed]",
      "text/plain": [
       "<Figure size 432x288 with 1 Axes>"
      ]
     },
     "metadata": {
      "needs_background": "light"
     },
     "output_type": "display_data"
    }
   ],
   "source": [
    "# Show graph\n",
    "limit=32; start=1; step=2\n",
    "x = range(start, limit, step)\n",
    "plt.plot(x, coherence_values)\n",
    "plt.xlabel(\"Number of Dominant Topics\")\n",
    "plt.ylabel(\"Coherence score\")\n",
    "plt.legend((\"coherence_values\"), loc='best')\n",
    "plt.show()"
   ]
  },
  {
   "cell_type": "code",
   "execution_count": 19,
   "metadata": {},
   "outputs": [
    {
     "name": "stdout",
     "output_type": "stream",
     "text": [
      "Num Topics = 1  has Coherence Value of 0.2616\n",
      "Num Topics = 3  has Coherence Value of 0.3708\n",
      "Num Topics = 5  has Coherence Value of 0.3917\n",
      "Num Topics = 7  has Coherence Value of 0.4234\n",
      "Num Topics = 9  has Coherence Value of 0.4149\n",
      "Num Topics = 11  has Coherence Value of 0.4438\n",
      "Num Topics = 13  has Coherence Value of 0.4055\n",
      "Num Topics = 15  has Coherence Value of 0.4007\n",
      "Num Topics = 17  has Coherence Value of 0.3979\n",
      "Num Topics = 19  has Coherence Value of 0.3939\n",
      "Num Topics = 21  has Coherence Value of 0.4094\n",
      "Num Topics = 23  has Coherence Value of 0.411\n",
      "Num Topics = 25  has Coherence Value of 0.3858\n",
      "Num Topics = 27  has Coherence Value of 0.4046\n",
      "Num Topics = 29  has Coherence Value of 0.4249\n",
      "Num Topics = 31  has Coherence Value of 0.4218\n"
     ]
    }
   ],
   "source": [
    "# Print the coherence scores\n",
    "for m, cv in zip(x, coherence_values):\n",
    "    print(\"Num Topics =\", m, \" has Coherence Value of\", round(cv, 4))"
   ]
  },
  {
   "cell_type": "code",
   "execution_count": 24,
   "metadata": {},
   "outputs": [
    {
     "name": "stdout",
     "output_type": "stream",
     "text": [
      "[(0,\n",
      "  '0.037*\"physical\" + 0.031*\"enjoy\" + 0.031*\"consumer\" + 0.025*\"white_widow\" + '\n",
      "  '0.019*\"offer\" + 0.016*\"terpene_profile\" + 0.016*\"cut\" + 0.016*\"ideal\" + '\n",
      "  '0.015*\"express\" + 0.015*\"earth\"'),\n",
      " (1,\n",
      "  '0.060*\"orange\" + 0.039*\"trainwreck\" + 0.025*\"influence\" + 0.021*\"sfv\" + '\n",
      "  '0.020*\"settle\" + 0.017*\"family\" + 0.015*\"night\" + 0.014*\"valley\" + '\n",
      "  '0.014*\"comfortable\" + 0.014*\"couch\"'),\n",
      " (2,\n",
      "  '0.144*\"cbd\" + 0.037*\"thc\" + 0.031*\"ratio\" + 0.026*\"psychoactive\" + '\n",
      "  '0.024*\"call\" + 0.018*\"content\" + 0.016*\"mental_clarity\" + 0.015*\"swiss\" + '\n",
      "  '0.015*\"american\" + 0.013*\"reduce\"'),\n",
      " (3,\n",
      "  '0.046*\"terpene\" + 0.046*\"hawaiian\" + 0.045*\"mango\" + 0.031*\"romulan\" + '\n",
      "  '0.028*\"overall\" + 0.027*\"bank\" + 0.025*\"caution\" + 0.020*\"cream\" + '\n",
      "  '0.016*\"drive\" + 0.015*\"legend\"'),\n",
      " (4,\n",
      "  '0.078*\"cup\" + 0.048*\"cooky\" + 0.045*\"cheese\" + 0.024*\"girl_scout\" + '\n",
      "  '0.023*\"place\" + 0.018*\"cultivate\" + 0.015*\"pair\" + 0.014*\"outdoors\" + '\n",
      "  '0.014*\"platinum\" + 0.013*\"heavily\"'),\n",
      " (5,\n",
      "  '0.064*\"thai\" + 0.048*\"short\" + 0.025*\"bodhi\" + 0.024*\"nighttime\" + '\n",
      "  '0.022*\"washington\" + 0.019*\"october\" + 0.017*\"wrap\" + 0.017*\"concentrate\" + '\n",
      "  '0.016*\"turn\" + 0.015*\"serious\"'),\n",
      " (6,\n",
      "  '0.111*\"sour\" + 0.082*\"diesel\" + 0.029*\"energy\" + 0.028*\"super\" + '\n",
      "  '0.023*\"creativity\" + 0.021*\"activity\" + 0.019*\"chemdawg\" + 0.014*\"expect\" + '\n",
      "  '0.014*\"intense\" + 0.013*\"colorado\"'),\n",
      " (7,\n",
      "  '0.046*\"stimulation\" + 0.032*\"elevate\" + 0.027*\"line\" + 0.025*\"calyx\" + '\n",
      "  '0.023*\"nice\" + 0.021*\"musky\" + 0.020*\"hair\" + 0.016*\"blackberry\" + '\n",
      "  '0.014*\"spark\" + 0.014*\"introspective\"'),\n",
      " (8,\n",
      "  '0.026*\"pineapple\" + 0.026*\"bright\" + 0.023*\"induce\" + '\n",
      "  '0.021*\"northern_light\" + 0.021*\"typically\" + 0.020*\"fresh\" + '\n",
      "  '0.018*\"symptom\" + 0.018*\"work\" + 0.016*\"daytime\" + 0.015*\"power\"'),\n",
      " (9,\n",
      "  '0.063*\"fire\" + 0.050*\"alien\" + 0.045*\"relieve\" + 0.042*\"tangie\" + '\n",
      "  '0.035*\"tahoe\" + 0.030*\"snow\" + 0.029*\"star\" + 0.023*\"sage\" + 0.023*\"onset\" '\n",
      "  '+ 0.023*\"kick\"'),\n",
      " (10,\n",
      "  '0.023*\"indica\" + 0.022*\"hybrid\" + 0.019*\"sativa\" + 0.017*\"aroma\" + '\n",
      "  '0.014*\"kush\" + 0.014*\"sweet\" + 0.013*\"white\" + 0.012*\"high\" + 0.012*\"seed\" '\n",
      "  '+ 0.012*\"body\"')]\n"
     ]
    }
   ],
   "source": [
    "# Select the model and print the topics\n",
    "optimal_model = model_list[5]\n",
    "model_topics = optimal_model.show_topics(formatted=False)\n",
    "pprint(optimal_model.print_topics(num_words=10))"
   ]
  },
  {
   "cell_type": "code",
   "execution_count": null,
   "metadata": {},
   "outputs": [],
   "source": []
  },
  {
   "cell_type": "code",
   "execution_count": null,
   "metadata": {},
   "outputs": [],
   "source": []
  }
 ],
 "metadata": {
  "kernelspec": {
   "display_name": "Python 3",
   "language": "python",
   "name": "python3"
  },
  "language_info": {
   "codemirror_mode": {
    "name": "ipython",
    "version": 3
   },
   "file_extension": ".py",
   "mimetype": "text/x-python",
   "name": "python",
   "nbconvert_exporter": "python",
   "pygments_lexer": "ipython3",
   "version": "3.7.3"
  }
 },
 "nbformat": 4,
 "nbformat_minor": 2
}
