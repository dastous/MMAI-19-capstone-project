{
 "cells": [
  {
   "cell_type": "code",
   "execution_count": 1,
   "metadata": {},
   "outputs": [],
   "source": [
    "#https://www.machinelearningplus.com/nlp/topic-modeling-gensim-python/"
   ]
  },
  {
   "cell_type": "code",
   "execution_count": 1,
   "metadata": {},
   "outputs": [
    {
     "name": "stderr",
     "output_type": "stream",
     "text": [
      "[nltk_data] Downloading package stopwords to\n",
      "[nltk_data]     C:\\Users\\dastous\\AppData\\Roaming\\nltk_data...\n",
      "[nltk_data]   Package stopwords is already up-to-date!\n"
     ]
    },
    {
     "data": {
      "text/plain": [
       "True"
      ]
     },
     "execution_count": 1,
     "metadata": {},
     "output_type": "execute_result"
    }
   ],
   "source": [
    "# Run in python console\n",
    "import nltk\n",
    "nltk.download('stopwords')"
   ]
  },
  {
   "cell_type": "code",
   "execution_count": 2,
   "metadata": {},
   "outputs": [],
   "source": [
    "import re\n",
    "import numpy as np\n",
    "import pandas as pd\n",
    "from pprint import pprint\n",
    "\n",
    "# Gensim\n",
    "import gensim\n",
    "import gensim.corpora as corpora\n",
    "from gensim.utils import simple_preprocess\n",
    "from gensim.models import CoherenceModel\n",
    "\n",
    "# spacy for lemmatization\n",
    "import spacy\n",
    "\n",
    "# Plotting tools\n",
    "import pyLDAvis\n",
    "import pyLDAvis.gensim  # don't skip this\n",
    "import matplotlib.pyplot as plt\n",
    "%matplotlib inline\n",
    "\n",
    "# Enable logging for gensim - optional\n",
    "import logging\n",
    "logging.basicConfig(format='%(asctime)s : %(levelname)s : %(message)s', level=logging.ERROR)\n",
    "\n",
    "import warnings\n",
    "warnings.filterwarnings(\"ignore\",category=DeprecationWarning)"
   ]
  },
  {
   "cell_type": "code",
   "execution_count": 12,
   "metadata": {},
   "outputs": [],
   "source": [
    "# NLTK Stop words\n",
    "from nltk.corpus import stopwords\n",
    "stop_words = stopwords.words('english')\n",
    "stop_words.extend(['from', 'subject', 're', 'edu', 'use'])"
   ]
  },
  {
   "cell_type": "code",
   "execution_count": 4,
   "metadata": {},
   "outputs": [
    {
     "data": {
      "text/plain": [
       "0     og   hybrid strain pack strong punch name sup...\n",
       "1     aloha white widow especially potent cut white...\n",
       "2     sativa dominant hybrid bred spain medical see...\n",
       "3     dawgs hybrid g chemdawg genetics bred canadia...\n",
       "4    known kosher tangie k gold  indica dominant hy...\n",
       "Name: Description, dtype: object"
      ]
     },
     "execution_count": 4,
     "metadata": {},
     "output_type": "execute_result"
    }
   ],
   "source": [
    "df_review=pd.read_excel(\"../CannaConnect/Dataset/description_clean.xlsx\")\n",
    "df=df_review.Description.astype(str)\n",
    "df.head()"
   ]
  },
  {
   "cell_type": "code",
   "execution_count": 6,
   "metadata": {},
   "outputs": [],
   "source": [
    "# Convert to list\n",
    "data = df.values.tolist()"
   ]
  },
  {
   "cell_type": "code",
   "execution_count": 7,
   "metadata": {},
   "outputs": [
    {
     "name": "stdout",
     "output_type": "stream",
     "text": [
      "[['og', 'hybrid', 'strain', 'pack', 'strong', 'punch', 'name', 'supposedly', 'refers', 'strength', 'high', 'price', 'first', 'started', 'showing', 'hollywood', 'plant', 'og', 'tends', 'produce', 'large', 'dark', 'green', 'bud', 'stem', 'user', 'report', 'strong', 'body', 'effect', 'indica', 'pain', 'relief', 'alert', 'cerebral', 'feeling', 'thanks', 'sativa', 'side']]\n"
     ]
    }
   ],
   "source": [
    "def sent_to_words(sentences):\n",
    "    for sentence in sentences:\n",
    "        yield(gensim.utils.simple_preprocess(str(sentence), deacc=True))  # deacc=True removes punctuations\n",
    "\n",
    "data_words = list(sent_to_words(data))\n",
    "\n",
    "print(data_words[:1])"
   ]
  },
  {
   "cell_type": "code",
   "execution_count": 8,
   "metadata": {},
   "outputs": [
    {
     "name": "stdout",
     "output_type": "stream",
     "text": [
      "['og', 'hybrid', 'strain', 'pack', 'strong', 'punch', 'name', 'supposedly', 'refers', 'strength', 'high', 'price', 'first', 'started', 'showing', 'hollywood', 'plant', 'og', 'tends', 'produce', 'large', 'dark', 'green', 'bud', 'stem', 'user_report', 'strong', 'body', 'effect', 'indica', 'pain', 'relief', 'alert', 'cerebral', 'feeling', 'thanks', 'sativa', 'side']\n"
     ]
    }
   ],
   "source": [
    "# Build the bigram and trigram models\n",
    "bigram = gensim.models.Phrases(data_words, min_count=5, threshold=100) # higher threshold fewer phrases.\n",
    "trigram = gensim.models.Phrases(bigram[data_words], threshold=100)  \n",
    "\n",
    "# Faster way to get a sentence clubbed as a trigram/bigram\n",
    "bigram_mod = gensim.models.phrases.Phraser(bigram)\n",
    "trigram_mod = gensim.models.phrases.Phraser(trigram)\n",
    "\n",
    "# See trigram example\n",
    "print(trigram_mod[bigram_mod[data_words[0]]])"
   ]
  },
  {
   "cell_type": "code",
   "execution_count": 13,
   "metadata": {},
   "outputs": [],
   "source": [
    "# Define functions for stopwords, bigrams, trigrams and lemmatization\n",
    "def remove_stopwords(texts):\n",
    "    return [[word for word in simple_preprocess(str(doc)) if word not in stop_words] for doc in texts]\n",
    "\n",
    "def make_bigrams(texts):\n",
    "    return [bigram_mod[doc] for doc in texts]\n",
    "\n",
    "def make_trigrams(texts):\n",
    "    return [trigram_mod[bigram_mod[doc]] for doc in texts]\n",
    "\n",
    "def lemmatization(texts, allowed_postags=['NOUN', 'ADJ', 'VERB', 'ADV']):\n",
    "    \"\"\"https://spacy.io/api/annotation\"\"\"\n",
    "    texts_out = []\n",
    "    for sent in texts:\n",
    "        doc = nlp(\" \".join(sent)) \n",
    "        texts_out.append([token.lemma_ for token in doc if token.pos_ in allowed_postags])\n",
    "    return texts_out"
   ]
  },
  {
   "cell_type": "code",
   "execution_count": 14,
   "metadata": {},
   "outputs": [
    {
     "name": "stdout",
     "output_type": "stream",
     "text": [
      "[['hybrid', 'strain', 'pack', 'strong', 'punch', 'name', 'supposedly', 'refer', 'strength', 'high', 'price', 'first', 'start', 'show', 'hollywood', 'plant', 'tend', 'produce', 'large', 'dark', 'green', 'bud', 'stem', 'user_report', 'strong', 'body', 'effect', 'indica', 'pain', 'relief', 'alert', 'cerebral', 'feeling', 'thank', 'side']]\n"
     ]
    }
   ],
   "source": [
    "# Remove Stop Words\n",
    "data_words_nostops = remove_stopwords(data_words)\n",
    "\n",
    "# Form Bigrams\n",
    "data_words_bigrams = make_bigrams(data_words_nostops)\n",
    "\n",
    "# Initialize spacy 'en' model, keeping only tagger component (for efficiency)\n",
    "# python3 -m spacy download en\n",
    "nlp = spacy.load('en_core_web_sm', disable=['parser', 'ner'])\n",
    "\n",
    "# Do lemmatization keeping only noun, adj, vb, adv\n",
    "data_lemmatized = lemmatization(data_words_bigrams, allowed_postags=['NOUN', 'ADJ', 'VERB', 'ADV'])\n",
    "\n",
    "print(data_lemmatized[:1])"
   ]
  },
  {
   "cell_type": "code",
   "execution_count": 15,
   "metadata": {},
   "outputs": [
    {
     "name": "stdout",
     "output_type": "stream",
     "text": [
      "[[(0, 1), (1, 1), (2, 1), (3, 1), (4, 1), (5, 1), (6, 1), (7, 1), (8, 1), (9, 1), (10, 1), (11, 1), (12, 1), (13, 1), (14, 1), (15, 1), (16, 1), (17, 1), (18, 1), (19, 1), (20, 1), (21, 1), (22, 1), (23, 1), (24, 1), (25, 1), (26, 1), (27, 1), (28, 1), (29, 2), (30, 1), (31, 1), (32, 1), (33, 1)]]\n"
     ]
    }
   ],
   "source": [
    "# Create Dictionary\n",
    "id2word = corpora.Dictionary(data_lemmatized)\n",
    "\n",
    "# Create Corpus\n",
    "texts = data_lemmatized\n",
    "\n",
    "# Term Document Frequency\n",
    "corpus = [id2word.doc2bow(text) for text in texts]\n",
    "\n",
    "# View\n",
    "print(corpus[:1])"
   ]
  },
  {
   "cell_type": "code",
   "execution_count": 16,
   "metadata": {},
   "outputs": [
    {
     "data": {
      "text/plain": [
       "[[('alert', 1),\n",
       "  ('body', 1),\n",
       "  ('bud', 1),\n",
       "  ('cerebral', 1),\n",
       "  ('dark', 1),\n",
       "  ('effect', 1),\n",
       "  ('feeling', 1),\n",
       "  ('first', 1),\n",
       "  ('green', 1),\n",
       "  ('high', 1),\n",
       "  ('hollywood', 1),\n",
       "  ('hybrid', 1),\n",
       "  ('indica', 1),\n",
       "  ('large', 1),\n",
       "  ('name', 1),\n",
       "  ('pack', 1),\n",
       "  ('pain', 1),\n",
       "  ('plant', 1),\n",
       "  ('price', 1),\n",
       "  ('produce', 1),\n",
       "  ('punch', 1),\n",
       "  ('refer', 1),\n",
       "  ('relief', 1),\n",
       "  ('show', 1),\n",
       "  ('side', 1),\n",
       "  ('start', 1),\n",
       "  ('stem', 1),\n",
       "  ('strain', 1),\n",
       "  ('strength', 1),\n",
       "  ('strong', 2),\n",
       "  ('supposedly', 1),\n",
       "  ('tend', 1),\n",
       "  ('thank', 1),\n",
       "  ('user_report', 1)]]"
      ]
     },
     "execution_count": 16,
     "metadata": {},
     "output_type": "execute_result"
    }
   ],
   "source": [
    "# Human readable format of corpus (term-frequency)\n",
    "[[(id2word[id], freq) for id, freq in cp] for cp in corpus[:1]]"
   ]
  },
  {
   "cell_type": "code",
   "execution_count": 17,
   "metadata": {},
   "outputs": [],
   "source": [
    "# Build LDA model\n",
    "lda_model = gensim.models.ldamodel.LdaModel(corpus=corpus,\n",
    "                                           id2word=id2word,\n",
    "                                           num_topics=15, \n",
    "                                           random_state=100,\n",
    "                                           update_every=1,\n",
    "                                           chunksize=100,\n",
    "                                           passes=10,\n",
    "                                           alpha='auto',\n",
    "                                           per_word_topics=True)"
   ]
  },
  {
   "cell_type": "code",
   "execution_count": 18,
   "metadata": {},
   "outputs": [
    {
     "name": "stdout",
     "output_type": "stream",
     "text": [
      "[(0,\n",
      "  '0.064*\"flower\" + 0.056*\"bud\" + 0.045*\"high\" + 0.042*\"plant\" + 0.042*\"time\" '\n",
      "  '+ 0.037*\"grow\" + 0.034*\"seed\" + 0.034*\"produce\" + 0.031*\"yield\" + '\n",
      "  '0.029*\"week\"'),\n",
      " (1,\n",
      "  '0.128*\"cup\" + 0.056*\"result\" + 0.042*\"place\" + 0.030*\"prize\" + '\n",
      "  '0.029*\"functional\" + 0.029*\"minor\" + 0.028*\"world\" + 0.026*\"uplifting\" + '\n",
      "  '0.025*\"big\" + 0.024*\"connoisseur\"'),\n",
      " (2,\n",
      "  '0.073*\"trainwreck\" + 0.062*\"sensation\" + 0.052*\"fatigue\" + 0.036*\"enough\" + '\n",
      "  '0.036*\"kick\" + 0.034*\"generous\" + 0.033*\"delicious\" + 0.031*\"alert\" + '\n",
      "  '0.030*\"northern\" + 0.030*\"usually\"'),\n",
      " (3,\n",
      "  '0.158*\"blue\" + 0.051*\"sativas\" + 0.051*\"bank\" + 0.043*\"musky\" + '\n",
      "  '0.028*\"bloom\" + 0.027*\"introspective\" + 0.022*\"mature\" + 0.017*\"pua_mana\" + '\n",
      "  '0.014*\"uplifted\" + 0.010*\"positive\"'),\n",
      " (4,\n",
      "  '0.126*\"thai\" + 0.090*\"short\" + 0.055*\"outdoor\" + 0.045*\"together\" + '\n",
      "  '0.034*\"harvest\" + 0.031*\"october\" + 0.028*\"soil\" + 0.026*\"fully\" + '\n",
      "  '0.016*\"hydroponic\" + 0.014*\"award\"'),\n",
      " (5,\n",
      "  '0.102*\"expect\" + 0.086*\"new\" + 0.073*\"favorite\" + 0.059*\"original\" + '\n",
      "  '0.029*\"nearly\" + 0.025*\"indoor_outdoor\" + 0.023*\"slow\" + 0.021*\"elevated\" + '\n",
      "  '0.021*\"spread\" + 0.017*\"staple\"'),\n",
      " (6,\n",
      "  '0.058*\"orange\" + 0.057*\"skunky\" + 0.043*\"tropical\" + '\n",
      "  '0.041*\"terpene_profile\" + 0.029*\"famous\" + 0.029*\"stimulation\" + '\n",
      "  '0.029*\"lavender\" + 0.025*\"colorado\" + 0.025*\"terpene\" + 0.024*\"emit\"'),\n",
      " (7,\n",
      "  '0.240*\"white\" + 0.052*\"cooky\" + 0.030*\"fire\" + 0.027*\"alien\" + '\n",
      "  '0.023*\"girl_scout\" + 0.023*\"hash\" + 0.021*\"cherry\" + 0.017*\"settle\" + '\n",
      "  '0.016*\"muscle\" + 0.015*\"backcross\"'),\n",
      " (8,\n",
      "  '0.065*\"strain\" + 0.036*\"effect\" + 0.030*\"indica\" + 0.028*\"hybrid\" + '\n",
      "  '0.023*\"cross\" + 0.023*\"dominant\" + 0.023*\"kush\" + 0.022*\"aroma\" + '\n",
      "  '0.018*\"genetic\" + 0.017*\"sweet\"'),\n",
      " (9,\n",
      "  '0.134*\"dream\" + 0.100*\"blue_dream\" + 0.042*\"psychedelic\" + 0.031*\"task\" + '\n",
      "  '0.023*\"offering\" + 0.022*\"consistently\" + 0.019*\"even_seasoned\" + '\n",
      "  '0.000*\"tangerine\" + 0.000*\"super\" + 0.000*\"tygh\"'),\n",
      " (10,\n",
      "  '0.342*\"haze\" + 0.052*\"super_silver\" + 0.045*\"sage\" + 0.040*\"pink\" + '\n",
      "  '0.033*\"sensi\" + 0.022*\"cake\" + 0.020*\"wait\" + 0.016*\"radiate\" + '\n",
      "  '0.016*\"generally\" + 0.015*\"sensi_star\"'),\n",
      " (11,\n",
      "  '0.122*\"energy\" + 0.088*\"activity\" + 0.074*\"energetic\" + 0.039*\"active\" + '\n",
      "  '0.038*\"cola\" + 0.036*\"burst\" + 0.031*\"grapefruit\" + 0.028*\"stay\" + '\n",
      "  '0.027*\"quickly\" + 0.027*\"focused\"'),\n",
      " (12,\n",
      "  '0.071*\"skunk\" + 0.032*\"white_widow\" + 0.027*\"look\" + 0.026*\"rich\" + '\n",
      "  '0.022*\"landrace\" + 0.021*\"bright\" + 0.021*\"light\" + 0.020*\"pineapple\" + '\n",
      "  '0.017*\"relieve\" + 0.017*\"northern_light\"'),\n",
      " (13,\n",
      "  '0.084*\"unknown\" + 0.051*\"motivate\" + 0.042*\"require\" + 0.032*\"several\" + '\n",
      "  '0.025*\"relatively\" + 0.013*\"attention\" + 0.013*\"steady\" + 0.000*\"griega\" + '\n",
      "  '0.000*\"bubblegum\" + 0.000*\"slightly\"'),\n",
      " (14,\n",
      "  '0.045*\"high\" + 0.045*\"cbd\" + 0.044*\"thc\" + 0.029*\"variety\" + 0.027*\"choice\" '\n",
      "  '+ 0.025*\"cheese\" + 0.021*\"find\" + 0.020*\"level\" + 0.018*\"patient\" + '\n",
      "  '0.017*\"feel\"')]\n"
     ]
    }
   ],
   "source": [
    "# Print the Keyword in the 10 topics\n",
    "pprint(lda_model.print_topics())\n",
    "doc_lda = lda_model[corpus]"
   ]
  },
  {
   "cell_type": "code",
   "execution_count": 19,
   "metadata": {},
   "outputs": [
    {
     "name": "stdout",
     "output_type": "stream",
     "text": [
      "\n",
      "Perplexity:  -10.531111034308498\n",
      "\n",
      "Coherence Score:  0.40042959324855404\n"
     ]
    }
   ],
   "source": [
    "# Compute Perplexity\n",
    "print('\\nPerplexity: ', lda_model.log_perplexity(corpus))  # a measure of how good the model is. lower the better.\n",
    "\n",
    "# Compute Coherence Score\n",
    "coherence_model_lda = CoherenceModel(model=lda_model, texts=data_lemmatized, dictionary=id2word, coherence='c_v')\n",
    "coherence_lda = coherence_model_lda.get_coherence()\n",
    "print('\\nCoherence Score: ', coherence_lda)"
   ]
  },
  {
   "cell_type": "code",
   "execution_count": 20,
   "metadata": {},
   "outputs": [
    {
     "name": "stderr",
     "output_type": "stream",
     "text": [
      "C:\\Users\\dastous\\Anaconda3\\envs\\py3.6\\lib\\site-packages\\pyLDAvis\\_prepare.py:257: FutureWarning: Sorting because non-concatenation axis is not aligned. A future version\n",
      "of pandas will change to not sort by default.\n",
      "\n",
      "To accept the future behavior, pass 'sort=False'.\n",
      "\n",
      "To retain the current behavior and silence the warning, pass 'sort=True'.\n",
      "\n",
      "  return pd.concat([default_term_info] + list(topic_dfs))\n"
     ]
    },
    {
     "data": {
      "text/html": [
       "\n",
       "<link rel=\"stylesheet\" type=\"text/css\" href=\"https://cdn.rawgit.com/bmabey/pyLDAvis/files/ldavis.v1.0.0.css\">\n",
       "\n",
       "\n",
       "<div id=\"ldavis_el1423222026123528481460465524\"></div>\n",
       "<script type=\"text/javascript\">\n",
       "\n",
       "var ldavis_el1423222026123528481460465524_data = {\"mdsDat\": {\"x\": [-0.3775739328037756, -0.29367886131945126, -0.15534050475335973, -0.10786634092178683, -0.010198839026069287, 0.01023078235298648, 0.032791382270786144, 0.0904306936474525, 0.09482784870279619, 0.0941455108488073, 0.1169336875061359, 0.12361002893050448, 0.12177945818506748, 0.12826401138450305, 0.13164507499540332], \"y\": [0.2934762374943657, -0.07657687227473037, -0.251061476705748, -0.17266328172677053, -0.03837870861547917, -0.04513570472769718, 0.028922953940593146, 0.027194209412826367, 0.030213687445586005, 0.02984281861970949, 0.034479985961886596, 0.035161497405776315, 0.03400733562051279, 0.0353050168394791, 0.035212301309689824], \"topics\": [1, 2, 3, 4, 5, 6, 7, 8, 9, 10, 11, 12, 13, 14, 15], \"cluster\": [1, 1, 1, 1, 1, 1, 1, 1, 1, 1, 1, 1, 1, 1, 1], \"Freq\": [59.82557678222656, 11.264098167419434, 7.246403217315674, 6.355774402618408, 3.296574115753174, 3.275892496109009, 2.2646734714508057, 1.3957017660140991, 1.2362042665481567, 1.150749921798706, 0.8160930275917053, 0.7379393577575684, 0.5893606543540955, 0.311293363571167, 0.2336694598197937]}, \"tinfo\": {\"Category\": [\"Default\", \"Default\", \"Default\", \"Default\", \"Default\", \"Default\", \"Default\", \"Default\", \"Default\", \"Default\", \"Default\", \"Default\", \"Default\", \"Default\", \"Default\", \"Default\", \"Default\", \"Default\", \"Default\", \"Default\", \"Default\", \"Default\", \"Default\", \"Default\", \"Default\", \"Default\", \"Default\", \"Default\", \"Default\", \"Default\", \"Topic1\", \"Topic1\", \"Topic1\", \"Topic1\", \"Topic1\", \"Topic1\", \"Topic1\", \"Topic1\", \"Topic1\", \"Topic1\", \"Topic1\", \"Topic1\", \"Topic1\", \"Topic1\", \"Topic1\", \"Topic1\", \"Topic1\", \"Topic1\", \"Topic1\", \"Topic1\", \"Topic1\", \"Topic1\", \"Topic1\", \"Topic1\", \"Topic1\", \"Topic1\", \"Topic1\", \"Topic1\", \"Topic1\", \"Topic1\", \"Topic1\", \"Topic1\", \"Topic1\", \"Topic1\", \"Topic1\", \"Topic1\", \"Topic1\", \"Topic1\", \"Topic1\", \"Topic2\", \"Topic2\", \"Topic2\", \"Topic2\", \"Topic2\", \"Topic2\", \"Topic2\", \"Topic2\", \"Topic2\", \"Topic2\", \"Topic2\", \"Topic2\", \"Topic2\", \"Topic2\", \"Topic2\", \"Topic2\", \"Topic2\", \"Topic2\", \"Topic2\", \"Topic2\", \"Topic2\", \"Topic2\", \"Topic2\", \"Topic2\", \"Topic2\", \"Topic2\", \"Topic2\", \"Topic2\", \"Topic2\", \"Topic2\", \"Topic2\", \"Topic2\", \"Topic2\", \"Topic2\", \"Topic2\", \"Topic2\", \"Topic2\", \"Topic2\", \"Topic2\", \"Topic2\", \"Topic2\", \"Topic2\", \"Topic3\", \"Topic3\", \"Topic3\", \"Topic3\", \"Topic3\", \"Topic3\", \"Topic3\", \"Topic3\", \"Topic3\", \"Topic3\", \"Topic3\", \"Topic3\", \"Topic3\", \"Topic3\", \"Topic3\", \"Topic3\", \"Topic3\", \"Topic3\", \"Topic3\", \"Topic3\", \"Topic3\", \"Topic3\", \"Topic3\", \"Topic3\", \"Topic3\", \"Topic3\", \"Topic3\", \"Topic3\", \"Topic3\", \"Topic3\", \"Topic3\", \"Topic3\", \"Topic3\", \"Topic3\", \"Topic3\", \"Topic3\", \"Topic3\", \"Topic3\", \"Topic4\", \"Topic4\", \"Topic4\", \"Topic4\", \"Topic4\", \"Topic4\", \"Topic4\", \"Topic4\", \"Topic4\", \"Topic4\", \"Topic4\", \"Topic4\", \"Topic4\", \"Topic4\", \"Topic4\", \"Topic4\", \"Topic4\", \"Topic4\", \"Topic4\", \"Topic4\", \"Topic4\", \"Topic4\", \"Topic4\", \"Topic4\", \"Topic4\", \"Topic4\", \"Topic4\", \"Topic4\", \"Topic4\", \"Topic4\", \"Topic4\", \"Topic4\", \"Topic4\", \"Topic5\", \"Topic5\", \"Topic5\", \"Topic5\", \"Topic5\", \"Topic5\", \"Topic5\", \"Topic5\", \"Topic5\", \"Topic5\", \"Topic5\", \"Topic5\", \"Topic5\", \"Topic5\", \"Topic5\", \"Topic5\", \"Topic5\", \"Topic5\", \"Topic5\", \"Topic5\", \"Topic5\", \"Topic5\", \"Topic5\", \"Topic5\", \"Topic5\", \"Topic5\", \"Topic5\", \"Topic5\", \"Topic5\", \"Topic5\", \"Topic5\", \"Topic6\", \"Topic6\", \"Topic6\", \"Topic6\", \"Topic6\", \"Topic6\", \"Topic6\", \"Topic6\", \"Topic6\", \"Topic6\", \"Topic6\", \"Topic6\", \"Topic6\", \"Topic6\", \"Topic6\", \"Topic6\", \"Topic6\", \"Topic6\", \"Topic6\", \"Topic6\", \"Topic6\", \"Topic6\", \"Topic6\", \"Topic6\", \"Topic6\", \"Topic6\", \"Topic6\", \"Topic6\", \"Topic6\", \"Topic6\", \"Topic7\", \"Topic7\", \"Topic7\", \"Topic7\", \"Topic7\", \"Topic7\", \"Topic7\", \"Topic7\", \"Topic7\", \"Topic7\", \"Topic7\", \"Topic7\", \"Topic7\", \"Topic7\", \"Topic7\", \"Topic7\", \"Topic7\", \"Topic7\", \"Topic7\", \"Topic7\", \"Topic7\", \"Topic7\", \"Topic7\", \"Topic7\", \"Topic7\", \"Topic7\", \"Topic7\", \"Topic7\", \"Topic7\", \"Topic7\", \"Topic7\", \"Topic8\", \"Topic8\", \"Topic8\", \"Topic8\", \"Topic8\", \"Topic8\", \"Topic8\", \"Topic8\", \"Topic8\", \"Topic8\", \"Topic8\", \"Topic8\", \"Topic8\", \"Topic8\", \"Topic8\", \"Topic8\", \"Topic8\", \"Topic8\", \"Topic8\", \"Topic8\", \"Topic8\", \"Topic8\", \"Topic8\", \"Topic8\", \"Topic8\", \"Topic8\", \"Topic8\", \"Topic8\", \"Topic8\", \"Topic8\", \"Topic8\", \"Topic8\", \"Topic8\", \"Topic8\", \"Topic8\", \"Topic9\", \"Topic9\", \"Topic9\", \"Topic9\", \"Topic9\", \"Topic9\", \"Topic9\", \"Topic9\", \"Topic9\", \"Topic9\", \"Topic9\", \"Topic9\", \"Topic9\", \"Topic9\", \"Topic9\", \"Topic9\", \"Topic9\", \"Topic9\", \"Topic9\", \"Topic9\", \"Topic9\", \"Topic9\", \"Topic9\", \"Topic9\", \"Topic9\", \"Topic9\", \"Topic9\", \"Topic9\", \"Topic9\", \"Topic9\", \"Topic10\", \"Topic10\", \"Topic10\", \"Topic10\", \"Topic10\", \"Topic10\", \"Topic10\", \"Topic10\", \"Topic10\", \"Topic10\", \"Topic10\", \"Topic10\", \"Topic10\", \"Topic10\", \"Topic10\", \"Topic10\", \"Topic10\", \"Topic10\", \"Topic10\", \"Topic10\", \"Topic10\", \"Topic10\", \"Topic10\", \"Topic10\", \"Topic10\", \"Topic10\", \"Topic10\", \"Topic10\", \"Topic10\", \"Topic10\", \"Topic10\", \"Topic10\", \"Topic11\", \"Topic11\", \"Topic11\", \"Topic11\", \"Topic11\", \"Topic11\", \"Topic11\", \"Topic11\", \"Topic11\", \"Topic11\", \"Topic11\", \"Topic11\", \"Topic11\", \"Topic11\", \"Topic11\", \"Topic11\", \"Topic11\", \"Topic11\", \"Topic11\", \"Topic11\", \"Topic11\", \"Topic11\", \"Topic11\", \"Topic11\", \"Topic11\", \"Topic11\", \"Topic11\", \"Topic11\", \"Topic11\", \"Topic11\", \"Topic11\", \"Topic11\", \"Topic11\", \"Topic11\", \"Topic11\", \"Topic12\", \"Topic12\", \"Topic12\", \"Topic12\", \"Topic12\", \"Topic12\", \"Topic12\", \"Topic12\", \"Topic12\", \"Topic12\", \"Topic12\", \"Topic12\", \"Topic12\", \"Topic12\", \"Topic12\", \"Topic12\", \"Topic12\", \"Topic12\", \"Topic12\", \"Topic12\", \"Topic12\", \"Topic12\", \"Topic12\", \"Topic12\", \"Topic12\", \"Topic12\", \"Topic12\", \"Topic12\", \"Topic12\", \"Topic12\", \"Topic12\", \"Topic12\", \"Topic12\", \"Topic12\", \"Topic12\", \"Topic12\", \"Topic12\", \"Topic13\", \"Topic13\", \"Topic13\", \"Topic13\", \"Topic13\", \"Topic13\", \"Topic13\", \"Topic13\", \"Topic13\", \"Topic13\", \"Topic13\", \"Topic13\", \"Topic13\", \"Topic13\", \"Topic13\", \"Topic13\", \"Topic13\", \"Topic13\", \"Topic13\", \"Topic13\", \"Topic13\", \"Topic13\", \"Topic13\", \"Topic13\", \"Topic13\", \"Topic13\", \"Topic13\", \"Topic13\", \"Topic13\", \"Topic13\", \"Topic13\", \"Topic13\", \"Topic13\", \"Topic13\", \"Topic13\", \"Topic13\", \"Topic13\", \"Topic13\", \"Topic13\", \"Topic13\", \"Topic13\", \"Topic13\", \"Topic13\", \"Topic14\", \"Topic14\", \"Topic14\", \"Topic14\", \"Topic14\", \"Topic14\", \"Topic14\", \"Topic14\", \"Topic14\", \"Topic14\", \"Topic14\", \"Topic14\", \"Topic14\", \"Topic14\", \"Topic14\", \"Topic14\", \"Topic14\", \"Topic14\", \"Topic14\", \"Topic14\", \"Topic14\", \"Topic14\", \"Topic14\", \"Topic14\", \"Topic14\", \"Topic14\", \"Topic14\", \"Topic14\", \"Topic14\", \"Topic14\", \"Topic14\", \"Topic14\", \"Topic14\", \"Topic14\", \"Topic14\", \"Topic14\", \"Topic14\", \"Topic14\", \"Topic14\", \"Topic14\", \"Topic15\", \"Topic15\", \"Topic15\", \"Topic15\", \"Topic15\", \"Topic15\", \"Topic15\", \"Topic15\", \"Topic15\", \"Topic15\", \"Topic15\", \"Topic15\", \"Topic15\", \"Topic15\", \"Topic15\", \"Topic15\", \"Topic15\", \"Topic15\", \"Topic15\", \"Topic15\", \"Topic15\", \"Topic15\", \"Topic15\", \"Topic15\", \"Topic15\", \"Topic15\", \"Topic15\", \"Topic15\", \"Topic15\", \"Topic15\", \"Topic15\", \"Topic15\", \"Topic15\", \"Topic15\", \"Topic15\", \"Topic15\", \"Topic15\", \"Topic15\", \"Topic15\", \"Topic15\", \"Topic15\", \"Topic15\", \"Topic15\", \"Topic15\", \"Topic15\", \"Topic15\", \"Topic15\", \"Topic15\", \"Topic15\"], \"Freq\": [776.0, 388.0, 3829.0, 855.0, 704.0, 842.0, 441.0, 602.0, 863.0, 286.0, 467.0, 460.0, 2088.0, 410.0, 318.0, 316.0, 384.0, 1642.0, 1782.0, 168.0, 339.0, 323.0, 186.0, 182.0, 1366.0, 1354.0, 284.0, 1340.0, 1303.0, 169.0, 2087.6171875, 1641.2647705078125, 1365.8568115234375, 1353.59619140625, 1340.115478515625, 1302.4180908203125, 1052.4830322265625, 994.7498168945312, 964.6891479492188, 863.8851928710938, 825.4248046875, 661.964599609375, 658.6821899414062, 3824.183837890625, 597.6211547851562, 534.4536743164062, 531.1488647460938, 494.6007385253906, 484.89544677734375, 483.5475769042969, 444.75189208984375, 426.3038635253906, 415.51544189453125, 407.7499084472656, 400.6666564941406, 392.77398681640625, 387.5408630371094, 372.40576171875, 366.01312255859375, 361.9181823730469, 1777.4676513671875, 627.4977416992188, 450.3767395019531, 648.039306640625, 435.7071228027344, 595.1348876953125, 528.9824829101562, 435.52313232421875, 481.38189697265625, 703.2005615234375, 467.0664367675781, 459.23138427734375, 409.38671875, 339.1434631347656, 322.58355712890625, 283.87689208984375, 222.58505249023438, 164.4658966064453, 146.13156127929688, 131.147705078125, 124.80179595947266, 100.30284118652344, 98.51351165771484, 380.9187316894531, 96.21247100830078, 88.33826446533203, 87.5515365600586, 81.97488403320312, 78.7542724609375, 77.61683654785156, 76.99281311035156, 75.0751724243164, 74.9811782836914, 68.89383697509766, 68.33586883544922, 71.43344116210938, 63.76980972290039, 60.30418014526367, 56.64288330078125, 125.29730987548828, 103.96524810791016, 138.04502868652344, 134.38079833984375, 618.6612548828125, 216.06161499023438, 500.7064208984375, 381.4279479980469, 135.350830078125, 128.1470489501953, 92.89431762695312, 102.55867767333984, 317.6340637207031, 315.4718933105469, 205.37335205078125, 190.76571655273438, 177.5915069580078, 140.2841033935547, 119.73973846435547, 107.50045776367188, 107.36906433105469, 96.4854736328125, 94.83848571777344, 92.06493377685547, 91.71698760986328, 91.0650405883789, 90.56123352050781, 88.70189666748047, 83.51519012451172, 76.81918334960938, 76.63831329345703, 71.18384552001953, 71.05783081054688, 69.70370483398438, 69.5787124633789, 68.39622497558594, 66.53750610351562, 63.0665283203125, 62.83224868774414, 60.16129684448242, 59.68959045410156, 58.422428131103516, 85.54019927978516, 151.6102752685547, 117.62948608398438, 108.42545318603516, 92.14405059814453, 320.0987243652344, 125.70954895019531, 78.24468231201172, 440.83306884765625, 160.88681030273438, 197.51150512695312, 128.4671173095703, 128.45040893554688, 127.0981674194336, 105.45169067382812, 103.36580657958984, 97.45393371582031, 90.89671325683594, 82.05474090576172, 81.06399536132812, 80.45101165771484, 79.50191497802734, 79.24209594726562, 78.86750793457031, 77.51482391357422, 75.20848083496094, 72.4615478515625, 70.03569030761719, 68.46955108642578, 67.33179473876953, 63.623085021972656, 61.65448760986328, 60.31122589111328, 58.17122268676758, 57.684303283691406, 57.00913619995117, 56.81909942626953, 55.29371643066406, 135.99098205566406, 167.66468811035156, 100.47234344482422, 775.7603149414062, 168.30662536621094, 96.34423828125, 88.048828125, 74.38676452636719, 74.34850311279297, 68.13848876953125, 54.48124694824219, 50.50874710083008, 48.744834899902344, 47.14938735961914, 44.68821334838867, 44.410072326660156, 42.13699722290039, 41.679710388183594, 41.2795524597168, 38.22941589355469, 37.853736877441406, 35.67364501953125, 34.833499908447266, 34.38092803955078, 34.147151947021484, 34.13911056518555, 31.509876251220703, 30.077537536621094, 28.455698013305664, 26.639413833618164, 26.099828720092773, 26.0091552734375, 25.876562118530273, 46.85319900512695, 185.37754821777344, 181.94985961914062, 138.94215393066406, 131.09178161621094, 94.09220123291016, 93.62704467773438, 93.09443664550781, 81.48837280273438, 80.15562438964844, 78.0670394897461, 72.86580657958984, 68.89906311035156, 64.22061157226562, 62.2316780090332, 59.44166946411133, 56.474151611328125, 53.90006637573242, 47.965816497802734, 45.18583679199219, 42.75477600097656, 40.81913375854492, 39.299339294433594, 38.32817077636719, 37.48630905151367, 36.45231246948242, 35.075504302978516, 32.536624908447266, 29.42617416381836, 28.95697021484375, 27.720399856567383, 285.7557678222656, 125.64346313476562, 93.55347442626953, 66.33393859863281, 64.51099395751953, 63.65017318725586, 63.13349151611328, 57.56800842285156, 56.08621597290039, 53.5069694519043, 47.62751388549805, 46.431785583496094, 45.368934631347656, 39.735897064208984, 38.73744583129883, 34.72746658325195, 32.89973068237305, 28.547903060913086, 27.375682830810547, 22.871374130249023, 22.843271255493164, 22.785554885864258, 21.85750961303711, 21.267498016357422, 20.172578811645508, 19.358057022094727, 19.22319793701172, 18.496475219726562, 16.180309295654297, 15.444915771484375, 50.507633209228516, 167.6624755859375, 120.0955581665039, 101.34436798095703, 53.888187408447266, 51.64177703857422, 49.709285736083984, 42.525638580322266, 38.327239990234375, 36.774436950683594, 36.53195571899414, 32.846309661865234, 32.38106155395508, 24.61846351623535, 24.592445373535156, 21.394702911376953, 21.376073837280273, 18.2348690032959, 14.854072570800781, 10.037553787231445, 5.065674781799316, 4.981746196746826, 4.404647350311279, 4.319424152374268, 1.7758687734603882, 12.710162162780762, 0.0650084912776947, 0.0644114688038826, 0.0643964484333992, 0.0644044503569603, 0.06446385383605957, 0.0645570307970047, 0.06612470000982285, 0.0647774413228035, 0.06463830918073654, 0.06476880609989166, 88.2726821899414, 75.27228546142578, 62.60443115234375, 44.270748138427734, 43.114192962646484, 40.93701171875, 40.39243698120117, 37.42286682128906, 36.6554069519043, 36.653594970703125, 32.193817138671875, 27.152896881103516, 25.733539581298828, 25.332406997680664, 24.393714904785156, 20.933536529541016, 18.833147048950195, 16.42506217956543, 16.029220581054688, 15.521485328674316, 13.973077774047852, 12.654616355895996, 10.936902046203613, 10.849311828613281, 7.692724704742432, 6.860955715179443, 3.86210036277771, 3.6620655059814453, 3.258228063583374, 3.1764044761657715, 387.1288146972656, 58.89827346801758, 50.737125396728516, 45.0890998840332, 37.22930145263672, 24.799930572509766, 22.34646987915039, 18.49771499633789, 17.632631301879883, 16.689233779907227, 12.848152160644531, 11.532478332519531, 10.058013916015625, 9.215250015258789, 7.908383846282959, 7.113226413726807, 3.81653094291687, 2.679180860519409, 2.300879955291748, 2.0598950386047363, 1.1525733470916748, 0.969484806060791, 0.45638787746429443, 0.0576174296438694, 0.05656909570097923, 0.05684661492705345, 0.056651655584573746, 0.05574071407318115, 0.05620335415005684, 0.055777277797460556, 0.05745929479598999, 0.05597194284200668, 81.69464111328125, 68.56709289550781, 58.865814208984375, 46.90304183959961, 23.21474838256836, 20.2471981048584, 18.452096939086914, 16.93600082397461, 16.559358596801758, 13.964140892028809, 13.654644012451172, 11.85286808013916, 9.889978408813477, 8.57098388671875, 8.3148775100708, 8.270149230957031, 4.300886631011963, 2.2767486572265625, 0.9547809958457947, 0.053997885435819626, 0.054000090807676315, 0.05424993485212326, 0.053954046219587326, 0.05394268408417702, 0.05394268408417702, 0.05394268408417702, 0.05394350364804268, 0.053944431245326996, 0.054038673639297485, 0.053952813148498535, 0.05400623381137848, 0.054389674216508865, 0.05397695302963257, 0.053978390991687775, 0.05397821217775345, 114.18173217773438, 37.11724853515625, 36.7403564453125, 31.501972198486328, 20.009492874145508, 19.38321876525879, 16.011333465576172, 12.282585144042969, 9.985727310180664, 7.451792240142822, 6.095746994018555, 5.98312520980835, 5.179821014404297, 4.864958763122559, 4.230217456817627, 3.567293405532837, 2.502892255783081, 1.5895371437072754, 0.9090225696563721, 0.5398519039154053, 0.3707084059715271, 0.05705742910504341, 0.0563461035490036, 0.05623828247189522, 0.05619223043322563, 0.05613284930586815, 0.056125544011592865, 0.056125544011592865, 0.05612562969326973, 0.0561256967484951, 0.0562594048678875, 0.05660741776227951, 0.05658864229917526, 0.056190356612205505, 0.056426506489515305, 0.05634240433573723, 0.05640164390206337, 73.15498352050781, 52.319637298583984, 31.923898696899414, 25.9281063079834, 19.721670150756836, 18.223142623901367, 15.959946632385254, 14.872420310974121, 9.425896644592285, 8.05319595336914, 7.130322456359863, 1.7533396482467651, 1.176220417022705, 0.044010814279317856, 0.043890904635190964, 0.043728381395339966, 0.043706100434064865, 0.043624669313430786, 0.04362909868359566, 0.043624695390462875, 0.04363098740577698, 0.04362915828824043, 0.043635837733745575, 0.043883875012397766, 0.04362482205033302, 0.04378002509474754, 0.04362493008375168, 0.04368042200803757, 0.04365978017449379, 0.043843962252140045, 0.04372695833444595, 0.043769486248493195, 0.04384656995534897, 0.04376405104994774, 0.04368935525417328, 0.04375363513827324, 0.0437152199447155, 0.043830160051584244, 0.04373772814869881, 0.04381253197789192, 0.043809521943330765, 0.0437280498445034, 0.04376282915472984, 40.99016189575195, 30.52653694152832, 12.896366119384766, 9.568802833557129, 6.910844326019287, 6.66264009475708, 5.79574728012085, 0.028465090319514275, 0.02817472629249096, 0.028178557753562927, 0.028058215975761414, 0.028134997934103012, 0.02808714285492897, 0.02808714285492897, 0.02808714285492897, 0.02808714285492897, 0.02815236710011959, 0.02808714285492897, 0.02808714285492897, 0.02808714285492897, 0.028154563158750534, 0.028043828904628754, 0.0286600012332201, 0.028042975813150406, 0.028038570657372475, 0.028061630204319954, 0.028042975813150406, 0.028038570657372475, 0.028019947931170464, 0.028110574930906296, 0.02809608355164528, 0.028133880347013474, 0.028201008215546608, 0.02808714099228382, 0.02808714099228382, 0.028580743819475174, 0.028179042041301727, 0.028093934059143066, 0.02811577171087265, 0.02811327762901783, 19.19198226928711, 11.70592975616455, 9.717364311218262, 7.3236985206604, 5.677548408508301, 3.062689781188965, 2.8703858852386475, 0.024801064282655716, 0.02491634339094162, 0.02472325973212719, 0.02472325973212719, 0.02472325973212719, 0.024724356830120087, 0.02472325973212719, 0.02472325973212719, 0.02475205436348915, 0.02472325973212719, 0.02472325973212719, 0.024716822430491447, 0.024732112884521484, 0.02472032606601715, 0.02472032606601715, 0.02472032606601715, 0.02472032606601715, 0.024740617722272873, 0.024723198264837265, 0.024695362895727158, 0.02472325973212719, 0.024748431518673897, 0.02471315674483776, 0.024725651368498802, 0.02472325973212719, 0.024744128808379173, 0.024732593446969986, 0.024738747626543045, 0.024738702923059464, 0.02475796267390251, 0.024749891832470894, 0.02476304955780506, 0.024751191958785057, 0.02474932372570038, 0.02473694272339344, 0.024743692949414253, 0.024731112644076347, 0.024726342409849167, 0.024737615138292313, 0.024732986465096474, 0.024728743359446526, 0.024725807830691338], \"Term\": [\"white\", \"haze\", \"strain\", \"bud\", \"flower\", \"high\", \"skunk\", \"cannabis\", \"seed\", \"cup\", \"plant\", \"time\", \"effect\", \"grow\", \"cbd\", \"thc\", \"produce\", \"hybrid\", \"indica\", \"energy\", \"yield\", \"week\", \"orange\", \"skunky\", \"cross\", \"dominant\", \"grower\", \"kush\", \"aroma\", \"cooky\", \"effect\", \"hybrid\", \"cross\", \"dominant\", \"kush\", \"aroma\", \"genetic\", \"sweet\", \"flavor\", \"body\", \"sour\", \"purple\", \"consumer\", \"strain\", \"diesel\", \"stress\", \"potent\", \"day\", \"citrus\", \"create\", \"note\", \"earthy\", \"uplift\", \"offer\", \"cerebral\", \"buzz\", \"relax\", \"mind\", \"pungent\", \"lemon\", \"indica\", \"make\", \"strong\", \"pain\", \"heavy\", \"breed\", \"cannabis\", \"know\", \"seed\", \"flower\", \"plant\", \"time\", \"grow\", \"yield\", \"week\", \"grower\", \"indoor\", \"resin\", \"large\", \"leaf\", \"flavorful\", \"user\", \"lead\", \"produce\", \"originally\", \"flowering\", \"mostly\", \"space\", \"resinous\", \"garden\", \"tall\", \"fast\", \"snow\", \"sticky\", \"cover\", \"recommend\", \"color\", \"amsterdam\", \"need\", \"coat\", \"pure\", \"thc_content\", \"finish\", \"bud\", \"dense\", \"high\", \"seed\", \"smell\", \"green\", \"popular\", \"breed\", \"cbd\", \"thc\", \"variety\", \"choice\", \"cheese\", \"level\", \"feel\", \"feature\", \"tend\", \"typically\", \"use\", \"symptom\", \"seek\", \"similar\", \"keep\", \"due\", \"heritage\", \"power\", \"energize\", \"sfv\", \"follow\", \"become\", \"inflammation\", \"ratio\", \"appreciate\", \"punch\", \"profile\", \"woody\", \"love\", \"line\", \"inherit\", \"find\", \"medical\", \"treat\", \"subtle\", \"high\", \"patient\", \"fresh\", \"skunk\", \"rich\", \"white_widow\", \"bright\", \"light\", \"pineapple\", \"relieve\", \"northern_light\", \"hit\", \"state\", \"go\", \"side\", \"mild\", \"dutch\", \"remain\", \"cultivate\", \"thick\", \"lineage\", \"classic\", \"orange_hair\", \"calming\", \"star\", \"heavily\", \"weight\", \"even\", \"condition\", \"characteristic\", \"gold\", \"brain\", \"stimulating\", \"landrace\", \"look\", \"pleasant\", \"white\", \"cooky\", \"fire\", \"alien\", \"girl_scout\", \"hash\", \"cherry\", \"settle\", \"muscle\", \"backcross\", \"black\", \"lift\", \"tart\", \"crossing\", \"root\", \"dawg\", \"washington\", \"wrap\", \"invigorate\", \"try\", \"natural\", \"enhance\", \"sen\", \"element\", \"depend\", \"cherry_pie\", \"well_round\", \"hindu\", \"zesty\", \"pie\", \"rush\", \"orange\", \"skunky\", \"tropical\", \"terpene_profile\", \"famous\", \"stimulation\", \"lavender\", \"colorado\", \"terpene\", \"emit\", \"hawaiian\", \"dna\", \"lime\", \"island\", \"think\", \"clone\", \"inc\", \"dosage\", \"upbeat\", \"caution\", \"mean\", \"boast\", \"life\", \"fan\", \"soar\", \"clear\", \"tga\", \"mexican\", \"wonderful\", \"release\", \"cup\", \"result\", \"place\", \"prize\", \"functional\", \"minor\", \"world\", \"uplifting\", \"big\", \"connoisseur\", \"add\", \"call\", \"structure\", \"quick\", \"different\", \"denver\", \"lover\", \"maintain\", \"firmly\", \"production\", \"funky\", \"sin_city\", \"clear_headed\", \"region\", \"nd_place\", \"refer\", \"sometimes\", \"chemical\", \"moonshine\", \"appearance\", \"cannabis\", \"energy\", \"activity\", \"energetic\", \"active\", \"cola\", \"burst\", \"grapefruit\", \"stay\", \"quickly\", \"focused\", \"granddaddy_purple\", \"productive\", \"want\", \"musk\", \"green_crack\", \"tone\", \"gene\", \"paradise\", \"heart\", \"stink\", \"happen\", \"delta\", \"characterize\", \"crazy\", \"rush\", \"chz\", \"feed\", \"wish\", \"zeta\", \"bomb\", \"jack\", \"super\", \"mango\", \"zombie\", \"tangerine\", \"trainwreck\", \"sensation\", \"fatigue\", \"enough\", \"kick\", \"generous\", \"delicious\", \"alert\", \"northern\", \"usually\", \"hair\", \"trichome_production\", \"russian\", \"headband\", \"train\", \"wreck\", \"supposedly\", \"warn\", \"ready\", \"amplify\", \"incredibly\", \"smile\", \"strength\", \"thank\", \"helpful\", \"plenty\", \"arcata\", \"moniker\", \"user_report\", \"munchie\", \"haze\", \"super_silver\", \"sage\", \"pink\", \"sensi\", \"cake\", \"wait\", \"radiate\", \"generally\", \"sensi_star\", \"worth\", \"peaceful\", \"ace\", \"mr_nice\", \"soda\", \"invigoration\", \"haziness\", \"holy\", \"californian\", \"extremity\", \"fair\", \"spade\", \"neck\", \"tangerine\", \"zeta\", \"wonder\", \"mango\", \"cloudiness\", \"silver\", \"overpower\", \"super\", \"easy\", \"expect\", \"new\", \"favorite\", \"original\", \"nearly\", \"indoor_outdoor\", \"slow\", \"elevated\", \"spread\", \"staple\", \"beginner\", \"massive\", \"environment\", \"trace\", \"nose\", \"gas\", \"bay_area\", \"laid_back\", \"everyone\", \"ringo_gift\", \"fridge\", \"muscle_spasm\", \"acute\", \"catatonic\", \"flesh\", \"rampage\", \"grab\", \"transform\", \"city\", \"anything\", \"monster\", \"tangerine\", \"sugar\", \"urkle\", \"zombie\", \"blue\", \"sativas\", \"bank\", \"musky\", \"bloom\", \"introspective\", \"mature\", \"pua_mana\", \"uplifted\", \"positive\", \"cedar\", \"hawaiian_pakalolo\", \"ghost_train\", \"tint\", \"kona_gold\", \"cow\", \"accentuate\", \"livwell\", \"inferno\", \"quitter\", \"diablo\", \"blood\", \"ox\", \"stella\", \"whitaker\", \"vein\", \"akua\", \"signal\", \"mythological\", \"sign\", \"bless\", \"wookie\", \"banana\", \"appear\", \"zombie\", \"lazy\", \"tangerine\", \"thai\", \"short\", \"outdoor\", \"together\", \"harvest\", \"october\", \"soil\", \"fully\", \"hydroponic\", \"award\", \"realize\", \"numerous\", \"cultivator\", \"stick\", \"thailand\", \"voodoo\", \"rockstar\", \"out\", \"traditionally\", \"accommodate\", \"atomic\", \"natively\", \"tie\", \"possible\", \"applaud\", \"xanadu\", \"minimize\", \"mid\", \"greenhouse\", \"zen\", \"zelly\", \"wild\", \"comfortable\", \"dragon\", \"maturation\", \"happiness\", \"st_place\", \"distinct\", \"ability\", \"combat\", \"urkle\", \"gift\", \"begin\", \"dream\", \"blue_dream\", \"psychedelic\", \"task\", \"offering\", \"consistently\", \"even_seasoned\", \"tygh\", \"fun\", \"wet\", \"afflict\", \"local\", \"meticulously\", \"tyge\", \"inevitably\", \"earthen\", \"gupta\", \"closer\", \"archetypal\", \"flagship\", \"daughter\", \"epic\", \"tangerine\", \"handcrafted\", \"diego\", \"deeply_relax\", \"illustrious\", \"indulgence\", \"considerable\", \"xj\", \"posse\", \"savory\", \"still\", \"outstanding\", \"clean\", \"super\", \"mango\", \"special\", \"oregon\", \"farm\", \"unknown\", \"motivate\", \"require\", \"several\", \"relatively\", \"attention\", \"steady\", \"bubblegum\", \"griega\", \"chew\", \"synergistically\", \"current\", \"vibe\", \"caress\", \"league\", \"vader\", \"tongue\", \"thclone\", \"webster\", \"medley\", \"pile\", \"hashier\", \"kushbreakfast\", \"exemplifie\", \"watermelon\", \"distribute\", \"seattlesoda\", \"vaporization\", \"seat\", \"devotion\", \"act\", \"blossom\", \"sumo\", \"stalk\", \"apollo\", \"bubble_gum\", \"gsc\", \"mysterious\", \"slightly\", \"platinum\", \"silver\", \"suitable\", \"amnesia\", \"archive\", \"rhino\", \"tangerine\", \"mango\", \"begin\", \"bodhi\"], \"Total\": [776.0, 388.0, 3829.0, 855.0, 704.0, 842.0, 441.0, 602.0, 863.0, 286.0, 467.0, 460.0, 2088.0, 410.0, 318.0, 316.0, 384.0, 1642.0, 1782.0, 168.0, 339.0, 323.0, 186.0, 182.0, 1366.0, 1354.0, 284.0, 1340.0, 1303.0, 169.0, 2088.460205078125, 1642.1077880859375, 1366.699462890625, 1354.4388427734375, 1340.9581298828125, 1303.2607421875, 1053.32568359375, 995.5924682617188, 965.5317993164062, 864.727783203125, 826.2674560546875, 662.8071899414062, 659.5248413085938, 3829.11669921875, 598.4638061523438, 535.2963256835938, 531.9915161132812, 495.44329833984375, 485.7380676269531, 484.39013671875, 445.5944519042969, 427.14642333984375, 416.3580017089844, 408.59246826171875, 401.50921630859375, 393.6165466308594, 388.3834228515625, 373.2483215332031, 366.8556823730469, 362.7607421875, 1782.4786376953125, 630.73193359375, 452.577880859375, 669.0015869140625, 445.2315368652344, 698.8163452148438, 602.6401977539062, 479.0767517089844, 863.5698852539062, 704.0464477539062, 467.91229248046875, 460.0772705078125, 410.2325744628906, 339.98931884765625, 323.4294128417969, 284.7227478027344, 223.43089294433594, 165.31173706054688, 146.97740173339844, 131.99354553222656, 125.64765167236328, 101.14869689941406, 99.35936737060547, 384.1899108886719, 97.08345794677734, 89.18412017822266, 88.39739227294922, 82.82076263427734, 79.60012817382812, 78.46269226074219, 77.83866882324219, 75.92102813720703, 75.82703399658203, 69.73969268798828, 69.18172454833984, 72.34713745117188, 64.61566925048828, 61.1500358581543, 57.488739013671875, 129.34365844726562, 107.47960662841797, 147.07151794433594, 146.07327270507812, 855.0307006835938, 275.1426086425781, 842.0284423828125, 863.5698852539062, 320.9051208496094, 343.75653076171875, 171.164794921875, 698.8163452148438, 318.4808349609375, 316.31866455078125, 206.2200927734375, 191.61245727539062, 178.43824768066406, 141.13084411621094, 120.58648681640625, 108.34720611572266, 108.21581268310547, 97.33222198486328, 95.68523406982422, 92.91168212890625, 92.56373596191406, 91.91178894042969, 91.4079818725586, 89.54864501953125, 84.3619384765625, 77.66593170166016, 77.48506164550781, 72.03059387207031, 71.90457916259766, 70.55045318603516, 70.42546081542969, 69.24297332763672, 67.3842544555664, 63.913272857666016, 63.678993225097656, 61.00804138183594, 60.53633499145508, 59.26917266845703, 87.34515380859375, 160.77426147460938, 125.1169662475586, 118.38008880615234, 99.49087524414062, 842.0284423828125, 210.096923828125, 102.12852478027344, 441.6795654296875, 161.73329162597656, 198.62152099609375, 129.3135986328125, 129.29689025878906, 127.94465637207031, 106.29817962646484, 104.21229553222656, 98.30042266845703, 91.74320220947266, 82.90122985839844, 81.91048431396484, 81.29750061035156, 80.34840393066406, 80.08858489990234, 79.71399688720703, 78.36131286621094, 76.05496978759766, 73.30803680419922, 70.8821792602539, 69.3160400390625, 68.17828369140625, 64.4695816040039, 62.500972747802734, 61.157711029052734, 59.01770782470703, 58.53078842163086, 57.855621337890625, 57.66558837890625, 56.140201568603516, 140.05419921875, 178.29806518554688, 109.74474334716797, 776.6243286132812, 169.1690216064453, 97.20665740966797, 88.91124725341797, 75.24918365478516, 75.21092224121094, 69.00090789794922, 55.343658447265625, 51.371158599853516, 49.60724639892578, 48.01179885864258, 45.55062484741211, 45.272483825683594, 42.99940872192383, 42.54212188720703, 42.141963958740234, 39.091827392578125, 38.716148376464844, 36.53605651855469, 35.6959114074707, 35.24333953857422, 35.00956344604492, 35.001522064208984, 32.37228775024414, 30.939952850341797, 29.318111419677734, 27.501827239990234, 26.962242126464844, 26.87156867980957, 26.738975524902344, 60.36198806762695, 186.22947692871094, 182.80178833007812, 139.79408264160156, 131.94371032714844, 94.94414520263672, 94.47898864746094, 93.94638061523438, 82.34031677246094, 81.007568359375, 78.91898345947266, 73.7177505493164, 69.75100708007812, 65.07255554199219, 63.0836181640625, 60.293609619140625, 57.326087951660156, 54.75200271606445, 48.81775665283203, 46.037776947021484, 43.60671615600586, 41.67107391357422, 40.15127944946289, 39.18010711669922, 38.33824920654297, 37.30425262451172, 35.92744445800781, 33.3885612487793, 30.27811622619629, 29.80891227722168, 28.57234001159668, 286.6161193847656, 126.5037841796875, 94.4137954711914, 67.19425964355469, 65.3713150024414, 64.510498046875, 63.99380874633789, 58.42832946777344, 56.946533203125, 54.36729049682617, 48.48783493041992, 47.29210662841797, 46.229251861572266, 40.59621810913086, 39.59776306152344, 35.58778381347656, 33.76005554199219, 29.40822410583496, 28.236007690429688, 23.7316951751709, 23.70359230041504, 23.645875930786133, 22.717830657958984, 22.127819061279297, 21.032899856567383, 20.2183780670166, 20.083518981933594, 19.356796264648438, 17.040630340576172, 16.30523681640625, 602.6401977539062, 168.52767944335938, 120.96076965332031, 102.20957946777344, 54.75339889526367, 52.506988525390625, 50.57449722290039, 43.39085006713867, 39.19245147705078, 37.6396484375, 37.39716720581055, 33.71152114868164, 33.246273040771484, 25.483673095703125, 25.45765495300293, 22.259912490844727, 22.24128532409668, 19.100078582763672, 15.719284057617188, 10.902765274047852, 5.9308857917785645, 5.846958637237549, 5.269861698150635, 5.184634685516357, 2.641080856323242, 60.36198806762695, 0.9324219226837158, 0.9308066964149475, 0.930707573890686, 0.9333382844924927, 0.9343057870864868, 0.9368778467178345, 0.9839617013931274, 0.9455854892730713, 0.9428186416625977, 0.9501710534095764, 89.14350128173828, 76.14310455322266, 63.47525405883789, 45.141571044921875, 43.985015869140625, 41.80783462524414, 41.26325988769531, 38.2936897277832, 37.52622985839844, 37.524417877197266, 33.064640045166016, 28.02372169494629, 26.60436248779297, 26.203229904174805, 25.264537811279297, 21.804357528686523, 19.70397186279297, 17.295894622802734, 16.900043487548828, 16.39231300354004, 14.843901634216309, 13.525440216064453, 11.80772590637207, 11.720134735107422, 8.56354808807373, 7.731778144836426, 4.732922554016113, 4.532889366149902, 4.129051208496094, 4.047227382659912, 388.0027160644531, 59.77217102050781, 51.61102294921875, 45.96299743652344, 38.10319900512695, 25.673826217651367, 23.220367431640625, 19.371612548828125, 18.506528854370117, 17.56313133239746, 13.722049713134766, 12.406376838684082, 10.931914329528809, 10.089146614074707, 8.782280921936035, 7.987123012542725, 4.690429210662842, 3.55307674407959, 3.174777030944824, 2.933791160583496, 2.0264699459075928, 1.8433806896209717, 1.3302836418151855, 0.9501710534095764, 0.9333382844924927, 0.9455697536468506, 0.9455854892730713, 0.9309125542640686, 0.9393229484558105, 0.9323471784591675, 0.9839617013931274, 0.9397728443145752, 82.57017517089844, 69.442626953125, 59.74135208129883, 47.77857971191406, 24.090280532836914, 21.122730255126953, 19.32762908935547, 17.811532974243164, 17.434892654418945, 14.839674949645996, 14.530179977416992, 12.728401184082031, 10.765512466430664, 9.446517944335938, 9.190410614013672, 9.145682334899902, 5.176419734954834, 3.1522812843322754, 1.8303141593933105, 0.931429386138916, 0.9316626191139221, 0.9360824823379517, 0.931020200252533, 0.9308342337608337, 0.9308342337608337, 0.9308342337608337, 0.9310646653175354, 0.9311861991882324, 0.9335998892784119, 0.9322421550750732, 0.9332407712936401, 0.9501710534095764, 0.941635251045227, 0.9426792860031128, 0.9428186416625977, 115.05488586425781, 37.99040985107422, 37.61351776123047, 32.3751335144043, 20.88265037536621, 20.256376266479492, 16.884490966796875, 13.155742645263672, 10.858885765075684, 8.324950218200684, 6.968906879425049, 6.856283187866211, 6.05298376083374, 5.7381181716918945, 5.103375434875488, 4.440451622009277, 3.3760533332824707, 2.462695598602295, 1.7821803092956543, 1.4130096435546875, 1.2438664436340332, 0.9325867891311646, 0.9314868450164795, 0.9302311539649963, 0.9301654696464539, 0.9297610521316528, 0.9297000765800476, 0.9297000765800476, 0.9297485947608948, 0.929791271686554, 0.9320499897003174, 0.9384949803352356, 0.938349723815918, 0.93207186460495, 0.9428186416625977, 0.9399194717407227, 0.9501710534095764, 74.0405502319336, 53.2052116394043, 32.809471130371094, 26.813676834106445, 20.60723876953125, 19.108713150024414, 16.845516204833984, 15.7579927444458, 10.311469078063965, 8.938767433166504, 8.015898704528809, 2.6389107704162598, 13.014187812805176, 0.9320712685585022, 0.9327646493911743, 0.9311772584915161, 0.931332528591156, 0.9296919107437134, 0.9298077821731567, 0.9297723174095154, 0.9299163818359375, 0.9299432039260864, 0.9302451014518738, 0.9355738759040833, 0.9301680326461792, 0.9334976077079773, 0.9302366375923157, 0.9314779043197632, 0.9311715960502625, 0.9351234436035156, 0.9329102039337158, 0.9342951774597168, 0.9367549419403076, 0.93451327085495, 0.9322778582572937, 0.9356716871261597, 0.9342055320739746, 0.9404405355453491, 0.9358990788459778, 0.9406589865684509, 0.9426792860031128, 0.9355817437171936, 0.9433554410934448, 41.89126205444336, 31.427635192871094, 13.797465324401855, 10.469902992248535, 7.811943531036377, 7.5637431144714355, 6.696847915649414, 0.9350380301475525, 0.9302405714988708, 0.9305408596992493, 0.9294506907463074, 0.9321339130401611, 0.9305809736251831, 0.9305809736251831, 0.9305809736251831, 0.9305809736251831, 0.9328275918960571, 0.9306677579879761, 0.9307150840759277, 0.930776834487915, 0.9332256317138672, 0.9296287298202515, 0.9501710534095764, 0.9297495484352112, 0.9296649098396301, 0.930459201335907, 0.9301236867904663, 0.9300323128700256, 0.9294641017913818, 0.9325622320175171, 0.9322721362113953, 0.9338554739952087, 0.9395429491996765, 0.9328756332397461, 0.9330170154571533, 0.9839617013931274, 0.9455854892730713, 0.9352014064788818, 0.940131425857544, 0.946435809135437, 20.09633445739746, 12.610282897949219, 10.62171745300293, 8.22805118560791, 6.581900596618652, 3.967041254043579, 3.7747385501861572, 0.9307042360305786, 0.935206949710846, 0.9295779466629028, 0.9295779466629028, 0.9296508431434631, 0.9298936128616333, 0.9299077391624451, 0.9300158619880676, 0.9313752055168152, 0.9303423762321472, 0.9303608536720276, 0.9301822185516357, 0.9307807683944702, 0.9304693937301636, 0.9304693937301636, 0.9304693937301636, 0.9305212497711182, 0.931321918964386, 0.9307062029838562, 0.9297100305557251, 0.9308814406394958, 0.931868851184845, 0.9305467009544373, 0.9311079978942871, 0.9310142993927002, 0.9323740005493164, 0.9317575097084045, 0.932808518409729, 0.9329810738563538, 0.9360756278038025, 0.9353680610656738, 0.9385586380958557, 0.937684953212738, 0.9393229484558105, 0.9353244304656982, 0.9379396438598633, 0.9335013628005981, 0.9334725737571716, 0.9501710534095764, 0.9455854892730713, 0.9433554410934448, 0.9355184435844421], \"loglift\": [30.0, 29.0, 28.0, 27.0, 26.0, 25.0, 24.0, 23.0, 22.0, 21.0, 20.0, 19.0, 18.0, 17.0, 16.0, 15.0, 14.0, 13.0, 12.0, 11.0, 10.0, 9.0, 8.0, 7.0, 6.0, 5.0, 4.0, 3.0, 2.0, 1.0, 0.5133000016212463, 0.5131999850273132, 0.5131000280380249, 0.5131000280380249, 0.5131000280380249, 0.5131000280380249, 0.5128999948501587, 0.5128999948501587, 0.5128999948501587, 0.5127999782562256, 0.5127000212669373, 0.512499988079071, 0.512499988079071, 0.5123999714851379, 0.5123000144958496, 0.5121999979019165, 0.5121999979019165, 0.5120000243186951, 0.5120000243186951, 0.5120000243186951, 0.5117999911308289, 0.5117999911308289, 0.5116999745368958, 0.5116999745368958, 0.5116000175476074, 0.5116000175476074, 0.5116000175476074, 0.5115000009536743, 0.5113999843597412, 0.5113999843597412, 0.5109000205993652, 0.5085999965667725, 0.508899986743927, 0.48190000653266907, 0.4921000003814697, 0.3531000018119812, 0.38339999318122864, 0.41839998960494995, -0.07069999724626541, 2.182300090789795, 2.1816999912261963, 2.1816999912261963, 2.18149995803833, 2.1810998916625977, 2.1809000968933105, 2.1805999279022217, 2.179800033569336, 2.1784000396728516, 2.177799940109253, 2.1770999431610107, 2.176800012588501, 2.1751999855041504, 2.174999952316284, 2.174999952316284, 2.174499988555908, 2.1740000247955322, 2.1738998889923096, 2.17330002784729, 2.1728999614715576, 2.1726999282836914, 2.172600030899048, 2.172300100326538, 2.172300100326538, 2.171299934387207, 2.1712000370025635, 2.170799970626831, 2.1703999042510986, 2.169600009918213, 2.1686999797821045, 2.1517999172210693, 2.1503000259399414, 2.1201999187469482, 2.100100040435791, 1.8600000143051147, 1.9417999982833862, 1.6638000011444092, 1.3664000034332275, 1.3202999830245972, 1.1967999935150146, 1.5723999738693237, 0.26460000872612, 2.621999979019165, 2.621999979019165, 2.6205999851226807, 2.6201999187469482, 2.6198999881744385, 2.6185998916625977, 2.6175999641418457, 2.61680006980896, 2.61680006980896, 2.6159000396728516, 2.615799903869629, 2.615499973297119, 2.615499973297119, 2.6154000759124756, 2.6154000759124756, 2.6152000427246094, 2.6145999431610107, 2.6136999130249023, 2.6136999130249023, 2.612799882888794, 2.612799882888794, 2.612600088119507, 2.612600088119507, 2.6124000549316406, 2.611999988555908, 2.611299991607666, 2.611299991607666, 2.6106998920440674, 2.610599994659424, 2.610300064086914, 2.603800058364868, 2.565999984741211, 2.562999963760376, 2.536799907684326, 2.5480000972747803, 1.6575000286102295, 2.1110999584198, 2.358299970626831, 2.7539000511169434, 2.7506000995635986, 2.750200033187866, 2.7492001056671143, 2.7492001056671143, 2.7492001056671143, 2.74780011177063, 2.7476999759674072, 2.7472000122070312, 2.746500015258789, 2.745500087738037, 2.7453999519348145, 2.745300054550171, 2.7451999187469482, 2.7451999187469482, 2.7451000213623047, 2.7448999881744385, 2.7446000576019287, 2.7441999912261963, 2.743799924850464, 2.743499994277954, 2.743299961090088, 2.7425999641418457, 2.7421998977661133, 2.7418999671936035, 2.7414000034332275, 2.7411999702453613, 2.7411000728607178, 2.740999937057495, 2.740600109100342, 2.7263998985290527, 2.6942999362945557, 2.6675000190734863, 3.4112000465393066, 3.4072000980377197, 3.40339994430542, 3.4024999141693115, 3.4007999897003174, 3.4007999897003174, 3.3996999263763428, 3.3966000080108643, 3.395400047302246, 3.394700050354004, 3.394200086593628, 3.393199920654297, 3.3931000232696533, 3.3919999599456787, 3.3917999267578125, 3.3915998935699463, 3.390000104904175, 3.3898000717163086, 3.388400077819824, 3.3877999782562256, 3.387500047683716, 3.3873000144958496, 3.3873000144958496, 3.3852999210357666, 3.384000062942505, 3.3824000358581543, 3.3803999423980713, 3.3798000812530518, 3.379699945449829, 3.379499912261963, 3.158900022506714, 3.4140000343322754, 3.4138998985290527, 3.4124999046325684, 3.412100076675415, 3.409600019454956, 3.4094998836517334, 3.4094998836517334, 3.4082000255584717, 3.4079999923706055, 3.4077000617980957, 3.4070000648498535, 3.4063000679016113, 3.405400037765503, 3.4049999713897705, 3.4042999744415283, 3.403599977493286, 3.402899980545044, 3.4010000228881836, 3.399899959564209, 3.3987998962402344, 3.397900104522705, 3.3970999717712402, 3.3966000080108643, 3.3961000442504883, 3.3954999446868896, 3.3945999145507812, 3.392699956893921, 3.390000104904175, 3.3896000385284424, 3.3882999420166016, 3.7846999168395996, 3.780900001525879, 3.778599977493286, 3.774899959564209, 3.7744998931884766, 3.7743000984191895, 3.774199962615967, 3.772900104522705, 3.7725000381469727, 3.7718000411987305, 3.7697999477386475, 3.769399881362915, 3.7690000534057617, 3.7662999629974365, 3.7657999992370605, 3.7632999420166016, 3.761899948120117, 3.757999897003174, 3.7567999362945557, 3.7507998943328857, 3.7507998943328857, 3.750699996948242, 3.7490999698638916, 3.7481000423431396, 3.746000051498413, 3.74429988861084, 3.74399995803833, 3.742300033569336, 3.7358999252319336, 3.7335000038146973, 1.308500051498413, 4.266600131988525, 4.264599800109863, 4.263299942016602, 4.255799770355225, 4.255199909210205, 4.254499912261963, 4.2515997886657715, 4.2494001388549805, 4.248499870300293, 4.2484002113342285, 4.245800018310547, 4.2453999519348145, 4.237199783325195, 4.237199783325195, 4.232100009918213, 4.232100009918213, 4.225399971008301, 4.215199947357178, 4.1890997886657715, 4.114099979400635, 4.111599922180176, 4.092400074005127, 4.089200019836426, 3.8749001026153564, 2.7137999534606934, 1.6085000038146973, 1.6009999513626099, 1.6009000539779663, 1.5981999635696411, 1.598099946975708, 1.5967999696731567, 1.5716999769210815, 1.59089994430542, 1.5916999578475952, 1.5859999656677246, 4.383299827575684, 4.3815999031066895, 4.379300117492676, 4.373600006103516, 4.3730998039245605, 4.372099876403809, 4.371799945831299, 4.370100021362305, 4.36959981918335, 4.36959981918335, 4.366399765014648, 4.361599922180176, 4.359799861907959, 4.359300136566162, 4.357999801635742, 4.352399826049805, 4.347899913787842, 4.3414998054504395, 4.340199947357178, 4.338500022888184, 4.332699775695801, 4.326600074768066, 4.316500186920166, 4.315899848937988, 4.285900115966797, 4.273600101470947, 4.189799785614014, 4.179800033569336, 4.156300067901611, 4.1508002281188965, 4.462500095367432, 4.449999809265137, 4.447700023651123, 4.4456000328063965, 4.4415998458862305, 4.430099964141846, 4.426400184631348, 4.418600082397461, 4.416399955749512, 4.413700103759766, 4.39900016784668, 4.39169979095459, 4.381400108337402, 4.374199867248535, 4.359899997711182, 4.348899841308594, 4.258600234985352, 4.182499885559082, 4.1427998542785645, 4.111100196838379, 3.9005000591278076, 3.822200059890747, 3.3949999809265137, 1.6619000434875488, 1.6614999771118164, 1.6533000469207764, 1.649899959564209, 1.6492999792099, 1.6485999822616577, 1.6483999490737915, 1.6241999864578247, 1.6440000534057617, 4.797699928283691, 4.7957000732421875, 4.793600082397461, 4.789899826049805, 4.771399974822998, 4.76609992980957, 4.76200008392334, 4.757999897003174, 4.756899833679199, 4.747600078582764, 4.746200084686279, 4.737100124359131, 4.723599910736084, 4.711100101470947, 4.7083001136779785, 4.707799911499023, 4.6230998039245605, 4.482999801635742, 4.157599925994873, 1.9606000185012817, 1.9603999853134155, 1.9602999687194824, 1.9601999521255493, 1.9601999521255493, 1.9601999521255493, 1.9601999521255493, 1.9600000381469727, 1.9599000215530396, 1.9589999914169312, 1.958899974822998, 1.958799958229065, 1.9479000568389893, 1.9493000507354736, 1.9483000040054321, 1.948099970817566, 4.901400089263916, 4.885799884796143, 4.8856000900268555, 4.881700038909912, 4.866399765014648, 4.864999771118164, 4.855999946594238, 4.840400218963623, 4.825200080871582, 4.798299789428711, 4.775199890136719, 4.772799968719482, 4.753300189971924, 4.74399995803833, 4.721399784088135, 4.690100193023682, 4.609799861907959, 4.471199989318848, 4.235799789428711, 3.946899890899658, 3.698499917984009, 2.1152000427246094, 2.103800058364868, 2.1031999588012695, 2.1024999618530273, 2.101900100708008, 2.101799964904785, 2.101799964904785, 2.1017000675201416, 2.1017000675201416, 2.1017000675201416, 2.1008999347686768, 2.1006999015808105, 2.100399971008301, 2.093100070953369, 2.0947000980377197, 2.08489990234375, 5.1219000816345215, 5.117099761962891, 5.106500148773193, 5.100299835205078, 5.090000152587891, 5.086400032043457, 5.079899787902832, 5.076000213623047, 5.044099807739258, 5.029600143432617, 5.0167999267578125, 4.724999904632568, 2.7302000522613525, 2.080899953842163, 2.077399969100952, 2.0754001140594482, 2.0748000144958496, 2.074700117111206, 2.0745999813079834, 2.0745999813079834, 2.0745999813079834, 2.07450008392334, 2.0743000507354736, 2.0743000507354736, 2.0741000175476074, 2.0741000175476074, 2.0741000175476074, 2.0739998817443848, 2.073899984359741, 2.0738000869750977, 2.073499917984009, 2.072999954223633, 2.072200059890747, 2.072700023651123, 2.0734000205993652, 2.071199893951416, 2.071899890899658, 2.0678999423980713, 2.0706000328063965, 2.067199945449829, 2.065000057220459, 2.07069993019104, 2.063199996948242, 5.750400066375732, 5.743100166320801, 5.704699993133545, 5.682199954986572, 5.649600028991699, 5.645299911499023, 5.627699851989746, 2.2802999019622803, 2.2751998901367188, 2.2750000953674316, 2.271899938583374, 2.271699905395508, 2.271699905395508, 2.271699905395508, 2.271699905395508, 2.271699905395508, 2.2716000080108643, 2.2716000080108643, 2.2715001106262207, 2.2715001106262207, 2.2713000774383545, 2.271199941635132, 2.2709999084472656, 2.2709999084472656, 2.270900011062622, 2.270900011062622, 2.2706000804901123, 2.2706000804901123, 2.2704999446868896, 2.270400047302246, 2.27020001411438, 2.2697999477386475, 2.266200065612793, 2.269200086593628, 2.2690999507904053, 2.233299970626831, 2.259000062942505, 2.2669999599456787, 2.262500047683716, 2.25570011138916, 6.013000011444092, 5.984600067138672, 5.96999979019165, 5.942599773406982, 5.911200046539307, 5.800300121307373, 5.785099983215332, 2.434000015258789, 2.433799982070923, 2.431999921798706, 2.431999921798706, 2.431999921798706, 2.4316999912261963, 2.4316999912261963, 2.4316000938415527, 2.431299924850464, 2.4312000274658203, 2.4312000274658203, 2.4310998916625977, 2.4310998916625977, 2.430999994277954, 2.430999994277954, 2.430999994277954, 2.4309000968933105, 2.4309000968933105, 2.430799961090088, 2.430799961090088, 2.4305999279022217, 2.4305999279022217, 2.4305999279022217, 2.430500030517578, 2.430500030517578, 2.4298999309539795, 2.4300999641418457, 2.4291999340057373, 2.428999900817871, 2.426500082015991, 2.4268999099731445, 2.4240000247955322, 2.424499988555908, 2.4226999282836914, 2.4263999462127686, 2.4238998889923096, 2.428100109100342, 2.427999973297119, 2.4107000827789307, 2.4154000282287598, 2.4175000190734863, 2.425800085067749], \"logprob\": [30.0, 29.0, 28.0, 27.0, 26.0, 25.0, 24.0, 23.0, 22.0, 21.0, 20.0, 19.0, 18.0, 17.0, 16.0, 15.0, 14.0, 13.0, 12.0, 11.0, 10.0, 9.0, 8.0, 7.0, 6.0, 5.0, 4.0, 3.0, 2.0, 1.0, -3.337599992752075, -3.578200101852417, -3.761899948120117, -3.770900011062622, -3.780900001525879, -3.8094000816345215, -4.022500038146973, -4.07889986038208, -4.109600067138672, -4.21999979019165, -4.265500068664551, -4.486199855804443, -4.491199970245361, -2.732300043106079, -4.588399887084961, -4.700099945068359, -4.706299781799316, -4.777599811553955, -4.797500133514404, -4.80019998550415, -4.883900165557861, -4.926199913024902, -4.951900005340576, -4.970699787139893, -4.98829984664917, -5.008200168609619, -5.021599769592285, -5.061399936676025, -5.078700065612793, -5.090000152587891, -3.4983999729156494, -4.539700031280518, -4.871300220489502, -4.507400035858154, -4.904399871826172, -4.592599868774414, -4.710400104522705, -4.904799938201904, -4.804699897766113, -2.7558999061584473, -3.16510009765625, -3.181999921798706, -3.2969000339508057, -3.4851999282836914, -3.5352001190185547, -3.6630001068115234, -3.9063000679016113, -4.208899974822998, -4.327099800109863, -4.435299873352051, -4.484899997711182, -4.703400135040283, -4.721399784088135, -3.36899995803833, -4.744999885559082, -4.830399990081787, -4.839399814605713, -4.905200004577637, -4.945199966430664, -4.959799766540527, -4.967899799346924, -4.993100166320801, -4.99429988861084, -5.078999996185303, -5.087100028991699, -5.042799949645996, -5.156300067901611, -5.212200164794922, -5.274799823760986, -4.480899810791016, -4.667500019073486, -4.383999824523926, -4.410900115966797, -2.884000062942505, -3.936000108718872, -3.095599889755249, -3.3677000999450684, -4.40369987487793, -4.458399772644043, -4.780099868774414, -4.681099891662598, -3.109600067138672, -3.1164000034332275, -3.545599937438965, -3.6194000244140625, -3.690999984741211, -3.926800012588501, -4.085100173950195, -4.192999839782715, -4.194200038909912, -4.30109977722168, -4.318299770355225, -4.3480000495910645, -4.351799964904785, -4.35890007019043, -4.3643999099731445, -4.385200023651123, -4.445400238037109, -4.5289998054504395, -4.531400203704834, -4.605199813842773, -4.60699987411499, -4.626200199127197, -4.627999782562256, -4.645100116729736, -4.672699928283691, -4.72629976272583, -4.730000019073486, -4.773399829864502, -4.781300067901611, -4.802800178527832, -4.421500205993652, -3.8492000102996826, -4.10290002822876, -4.1844000816345215, -4.347099781036377, -3.101799964904785, -4.036499977111816, -4.5106000900268555, -2.650700092315674, -3.658600091934204, -3.4535000324249268, -3.8835999965667725, -3.8838000297546387, -3.894399881362915, -4.081099987030029, -4.10099983215332, -4.159900188446045, -4.229599952697754, -4.331900119781494, -4.344099998474121, -4.3516998291015625, -4.363500118255615, -4.366799831390381, -4.371600151062012, -4.388899803161621, -4.419099807739258, -4.456299781799316, -4.490300178527832, -4.512899875640869, -4.529699802398682, -4.586299896240234, -4.617800235748291, -4.639800071716309, -4.675899982452393, -4.684299945831299, -4.696100234985352, -4.699399948120117, -4.7266998291015625, -3.82669997215271, -3.6173999309539795, -4.12939977645874, -1.4290000200271606, -2.9570999145507812, -3.514899969100952, -3.6050000190734863, -3.7736001014709473, -3.7741000652313232, -3.861299991607666, -4.085000038146973, -4.160699844360352, -4.196199893951416, -4.229499816894531, -4.283100128173828, -4.289400100708008, -4.341899871826172, -4.352799892425537, -4.362500190734863, -4.439199924468994, -4.449100017547607, -4.508399963378906, -4.532299995422363, -4.545300006866455, -4.552199840545654, -4.5524001121521, -4.632500171661377, -4.679100036621094, -4.734499931335449, -4.8003997802734375, -4.820899963378906, -4.824399948120117, -4.829500198364258, -4.235799789428711, -2.8541998863220215, -2.87280011177063, -3.1424999237060547, -3.200700044631958, -3.5322999954223633, -3.5371999740600586, -3.5429000854492188, -3.676100015640259, -3.6926000118255615, -3.7190001010894775, -3.787899971008301, -3.843899965286255, -3.9142000675201416, -3.94569993019104, -3.9916000366210938, -4.042799949645996, -4.089399814605713, -4.206099987030029, -4.2657999992370605, -4.321100234985352, -4.367400169372559, -4.405300140380859, -4.4303998947143555, -4.452600002288818, -4.480500221252441, -4.519000053405762, -4.594200134277344, -4.694699764251709, -4.710700035095215, -4.75439977645874, -2.052299976348877, -2.8738999366760254, -3.1689000129699707, -3.512700080871582, -3.540600061416626, -3.553999900817871, -3.5620999336242676, -3.654400110244751, -3.680500030517578, -3.72760009765625, -3.8440001010894775, -3.8694000244140625, -3.8926000595092773, -4.025100231170654, -4.050600051879883, -4.159900188446045, -4.213900089263916, -4.355800151824951, -4.39769983291626, -4.577499866485596, -4.578700065612793, -4.581299781799316, -4.622799873352051, -4.650199890136719, -4.703100204467773, -4.74429988861084, -4.751299858093262, -4.78980016708374, -4.923600196838379, -4.970099925994873, -3.7853000164031982, -2.1013998985290527, -2.4351000785827637, -2.60479998588562, -3.2363998889923096, -3.2790000438690186, -3.317199945449829, -3.4732000827789307, -3.577199935913086, -3.6185998916625977, -3.625200033187866, -3.7314999103546143, -3.745800018310547, -4.019899845123291, -4.020899772644043, -4.160200119018555, -4.161099910736084, -4.320000171661377, -4.525100231170654, -4.916999816894531, -5.600900173187256, -5.617599964141846, -5.740699768066406, -5.760200023651123, -6.649099826812744, -4.681000232696533, -9.956600189208984, -9.965800285339355, -9.966099739074707, -9.965900421142578, -9.96500015258789, -9.963600158691406, -9.939599990844727, -9.960200309753418, -9.962300300598145, -9.96030044555664, -2.6215999126434326, -2.780900001525879, -2.9651999473571777, -3.3117001056671143, -3.338200092315674, -3.390000104904175, -3.40339994430542, -3.4797000885009766, -3.5004000663757324, -3.500499963760376, -3.630199909210205, -3.80049991607666, -3.8541998863220215, -3.8698999881744385, -3.9077000617980957, -4.060699939727783, -4.166399955749512, -4.303199768066406, -4.327600002288818, -4.359799861907959, -4.464900016784668, -4.564000129699707, -4.70989990234375, -4.717899799346924, -5.061699867248535, -5.176199913024902, -5.750800132751465, -5.803999900817871, -5.92080020904541, -5.946300029754639, -1.0715999603271484, -2.9546000957489014, -3.1036999225616455, -3.2216999530792236, -3.413300037384033, -3.819499969482422, -3.9237000942230225, -4.11269998550415, -4.160600185394287, -4.21560001373291, -4.477200031280518, -4.58519983291626, -4.7220001220703125, -4.809500217437744, -4.962399959564209, -5.068399906158447, -5.690999984741211, -6.044899940490723, -6.1971001625061035, -6.307700157165527, -6.888400077819824, -7.061399936676025, -7.814799785614014, -9.884300231933594, -9.902700424194336, -9.89780044555664, -9.901200294494629, -9.917400360107422, -9.909199714660645, -9.916799545288086, -9.887100219726562, -9.913299560546875, -2.2836999893188477, -2.458899974822998, -2.6115000247955322, -2.838599920272827, -3.5418999195098877, -3.6786999702453613, -3.7716000080108643, -3.857300043106079, -3.8798000812530518, -4.05019998550415, -4.072700023651123, -4.214200019836426, -4.395199775695801, -4.538300037384033, -4.568699836730957, -4.574100017547607, -5.22790002822876, -5.863999843597412, -6.732999801635742, -9.605500221252441, -9.605500221252441, -9.600899696350098, -9.606399536132812, -9.606599807739258, -9.606599807739258, -9.606599807739258, -9.606499671936035, -9.606499671936035, -9.6048002243042, -9.606399536132812, -9.605400085449219, -9.598299980163574, -9.605899810791016, -9.605899810791016, -9.605899810791016, -1.8482999801635742, -2.9719998836517334, -2.9821999073028564, -3.135999917984009, -3.589900016784668, -3.6217000484466553, -3.8127999305725098, -4.077899932861328, -4.284900188446045, -4.577600002288818, -4.778500080108643, -4.797100067138672, -4.941299915313721, -5.004000186920166, -5.143799781799316, -5.314300060272217, -5.668600082397461, -6.122600078582764, -6.681399822235107, -7.202499866485596, -7.578400135040283, -9.449799537658691, -9.462300300598145, -9.464200019836426, -9.46500015258789, -9.466099739074707, -9.46619987487793, -9.46619987487793, -9.46619987487793, -9.46619987487793, -9.463800430297852, -9.4576997756958, -9.458000183105469, -9.465100288391113, -9.46090030670166, -9.462400436401367, -9.461299896240234, -2.068700075149536, -2.403899908065796, -2.897900104522705, -3.1059000492095947, -3.379499912261963, -3.4584999084472656, -3.591200113296509, -3.6617000102996826, -4.117800235748291, -4.275199890136719, -4.396900177001953, -5.799699783325195, -6.19890022277832, -9.484600067138672, -9.487299919128418, -9.491000175476074, -9.491499900817871, -9.493399620056152, -9.493300437927246, -9.493399620056152, -9.493200302124023, -9.493300437927246, -9.4931001663208, -9.48740005493164, -9.493399620056152, -9.489800453186035, -9.493399620056152, -9.49209976196289, -9.492600440979004, -9.48840045928955, -9.491000175476074, -9.490099906921387, -9.488300323486328, -9.49020004272461, -9.491900444030762, -9.490400314331055, -9.491299629211426, -9.488699913024902, -9.490799903869629, -9.489100456237793, -9.489100456237793, -9.491000175476074, -9.49020004272461, -2.0095999240875244, -2.30430006980896, -3.1659998893737793, -3.464400053024292, -3.789799928665161, -3.8264000415802, -3.9658000469207764, -9.281999588012695, -9.2923002243042, -9.292099952697754, -9.29640007019043, -9.293700218200684, -9.29539966583252, -9.29539966583252, -9.29539966583252, -9.29539966583252, -9.293100357055664, -9.29539966583252, -9.29539966583252, -9.29539966583252, -9.293000221252441, -9.296899795532227, -9.275199890136719, -9.29699993133545, -9.297100067138672, -9.296299934387207, -9.29699993133545, -9.297100067138672, -9.297800064086914, -9.294500350952148, -9.295100212097168, -9.293700218200684, -9.291299819946289, -9.29539966583252, -9.29539966583252, -9.277999877929688, -9.292099952697754, -9.295100212097168, -9.294400215148926, -9.294500350952148, -2.481600046157837, -2.9760000705718994, -3.1621999740600586, -3.444999933242798, -3.6995999813079834, -4.316800117492676, -4.381700038909912, -9.133000373840332, -9.128299713134766, -9.136099815368652, -9.136099815368652, -9.136099815368652, -9.136099815368652, -9.136099815368652, -9.136099815368652, -9.135000228881836, -9.136099815368652, -9.136099815368652, -9.13640022277832, -9.1358003616333, -9.136199951171875, -9.136199951171875, -9.136199951171875, -9.136199951171875, -9.13539981842041, -9.136099815368652, -9.137200355529785, -9.136099815368652, -9.135100364685059, -9.136500358581543, -9.13599967956543, -9.136099815368652, -9.135299682617188, -9.135700225830078, -9.135499954223633, -9.135499954223633, -9.134699821472168, -9.135000228881836, -9.134499549865723, -9.135000228881836, -9.135100364685059, -9.135600090026855, -9.135299682617188, -9.1358003616333, -9.13599967956543, -9.135499954223633, -9.135700225830078, -9.135899543762207, -9.13599967956543]}, \"token.table\": {\"Topic\": [12, 10, 8, 8, 7, 9, 5, 9, 2, 7, 3, 9, 1, 15, 13, 5, 12, 11, 3, 11, 7, 5, 12, 12, 14, 6, 1, 4, 1, 2, 4, 1, 2, 8, 1, 10, 10, 7, 4, 1, 2, 7, 6, 3, 12, 1, 4, 8, 3, 7, 5, 5, 3, 1, 4, 6, 7, 6, 2, 5, 8, 2, 6, 4, 7, 14, 1, 5, 2, 12, 8, 1, 1, 5, 4, 3, 13, 7, 5, 1, 9, 8, 1, 2, 7, 5, 1, 7, 6, 1, 6, 14, 3, 4, 1, 1, 5, 11, 6, 8, 3, 8, 5, 9, 11, 4, 14, 11, 11, 10, 10, 6, 6, 2, 9, 11, 3, 3, 1, 3, 1, 2, 5, 7, 1, 2, 2, 2, 8, 3, 3, 6, 13, 7, 7, 2, 11, 8, 10, 9, 1, 12, 5, 4, 4, 8, 8, 1, 2, 4, 8, 2, 2, 9, 8, 13, 5, 6, 12, 10, 10, 9, 8, 4, 1, 2, 9, 3, 1, 2, 3, 5, 4, 10, 1, 13, 6, 9, 1, 2, 2, 11, 12, 3, 3, 4, 12, 5, 10, 6, 3, 9, 1, 2, 12, 1, 11, 4, 7, 2, 6, 2, 2, 1, 3, 6, 5, 4, 6, 3, 4, 12, 2, 4, 3, 7, 7, 1, 3, 11, 12, 6, 1, 3, 6, 4, 1, 7, 9, 7, 2, 15, 10, 9, 5, 8, 12, 5, 7, 11, 2, 11, 9, 4, 11, 1, 13, 13, 1, 14, 6, 4, 11, 2, 13, 1, 3, 8, 1, 3, 10, 5, 4, 10, 7, 2, 4, 6, 9, 1, 2, 12, 1, 3, 7, 1, 2, 7, 8, 3, 14, 12, 3, 1, 1, 2, 1, 7, 8, 12, 10, 3, 9, 13, 2, 7, 7, 15, 1, 6, 4, 4, 15, 2, 2, 7, 4, 5, 5, 8, 9, 10, 12, 1, 2, 3, 5, 9, 10, 10, 5, 15, 3, 13, 4, 3, 7, 4, 6, 11, 1, 2, 9, 2, 6, 10, 13, 7, 1, 2, 10, 11, 11, 4, 4, 8, 15, 2, 4, 6, 8, 1, 2, 4, 9, 1, 1, 2, 7, 3, 4, 10, 9, 1, 3, 2, 5, 14, 3, 6, 6, 6, 13, 9, 3, 1, 2, 4, 6, 2, 12, 13, 8, 11, 9, 9, 1, 3, 9, 6, 5, 3, 15, 6, 1, 12, 7, 3, 2, 9, 9, 3, 10, 8, 9, 5, 2, 4, 5, 5, 4, 6, 3, 7, 10, 5, 9, 2, 5], \"Freq\": [0.8886115550994873, 0.9147528409957886, 0.9862401485443115, 0.992057204246521, 0.9899390339851379, 0.9662166237831116, 0.9897510409355164, 0.9760672450065613, 0.9811931848526001, 0.9199498295783997, 0.9942975640296936, 0.8451437950134277, 0.9990326166152954, 0.7562311291694641, 0.8949779868125916, 0.9877589344978333, 0.9836888909339905, 0.7727348804473877, 0.9921977519989014, 0.9635118246078491, 0.9833785891532898, 0.9789260625839233, 0.9577328562736511, 0.9908314347267151, 0.9863930344581604, 0.971326470375061, 0.9991583824157715, 0.9884577989578247, 0.8514397144317627, 0.14739209413528442, 0.9898417592048645, 0.27601349353790283, 0.7239506244659424, 0.988640546798706, 0.9984336495399475, 0.973754346370697, 0.6299654841423035, 0.9726781845092773, 0.9810138940811157, 0.8778040409088135, 0.03650602698326111, 0.08462761342525482, 0.9860866069793701, 0.9984902143478394, 0.8609671592712402, 0.9987317323684692, 0.9909314513206482, 0.7715104818344116, 0.99754399061203, 0.9299059510231018, 0.9854942560195923, 0.9550410509109497, 0.9968036413192749, 0.998480498790741, 0.9821569919586182, 0.9741856455802917, 0.9684023261070251, 0.9768676161766052, 0.966417670249939, 0.023194024339318275, 0.9903443455696106, 0.9904718399047852, 0.9837222099304199, 0.9827558994293213, 0.9932442903518677, 0.9254677295684814, 0.9992042183876038, 0.9930896162986755, 0.9829185605049133, 0.9008092880249023, 0.7572657465934753, 0.9991945624351501, 0.9994882345199585, 0.9767576456069946, 0.9910430312156677, 0.8452314138412476, 0.07683921605348587, 0.9978503584861755, 0.9729019999504089, 0.9991052746772766, 0.9693853855133057, 0.759033203125, 0.21079976856708527, 0.7850474119186401, 0.9834835529327393, 0.9696201086044312, 0.9992250204086304, 0.9849041104316711, 0.9892330169677734, 0.999675989151001, 0.983248770236969, 0.9787244200706482, 0.9938732385635376, 0.9956638216972351, 0.9973160624504089, 0.9997796416282654, 0.9884998202323914, 0.954437792301178, 0.9883553385734558, 0.9881656765937805, 0.9937399625778198, 0.996868908405304, 0.9711632132530212, 0.9747112989425659, 0.9288921356201172, 0.9810701012611389, 0.8959438800811768, 0.5463542938232422, 0.9930946826934814, 0.6817117929458618, 0.4934689402580261, 0.9900557994842529, 0.9650936126708984, 0.98786860704422, 0.9925127625465393, 0.9875906109809875, 0.9967954158782959, 0.9951363801956177, 0.04975920915603638, 0.9454249739646912, 0.07530467212200165, 0.9173478484153748, 0.9875866770744324, 0.9562258124351501, 0.9994491934776306, 0.9948455095291138, 0.9985136389732361, 0.9867227673530579, 0.9893797636032104, 0.9874197244644165, 0.76374351978302, 0.2252064198255539, 0.9518978595733643, 0.9943199157714844, 0.9703170657157898, 0.9941030144691467, 0.8747296929359436, 0.9424045085906982, 0.972629725933075, 0.9806774258613586, 0.9987414479255676, 0.8260388970375061, 0.9833993911743164, 0.9891288876533508, 0.9852110743522644, 0.9788938164710999, 0.9909923672676086, 0.5119902491569519, 0.3723565638065338, 0.11345238983631134, 0.9433999061584473, 0.9969954490661621, 0.9974615573883057, 0.9678012728691101, 0.8551454544067383, 0.9705327153205872, 0.9838996529579163, 0.9902635216712952, 0.8751097321510315, 0.9974157214164734, 0.8528004288673401, 0.9540808796882629, 0.9171984791755676, 0.9927162528038025, 0.9792657494544983, 0.020214201882481575, 0.9341922402381897, 0.9957097172737122, 0.024939775466918945, 0.5949918031692505, 0.3800346553325653, 0.9643114805221558, 0.9867709279060364, 0.8443386554718018, 0.9993253946304321, 0.8728145360946655, 0.9862653017044067, 0.9431482553482056, 0.9969263672828674, 0.0022440662141889334, 0.9980714917182922, 0.9468473196029663, 0.5611104369163513, 0.9939587116241455, 0.9845995306968689, 0.011448832228779793, 0.9379762411117554, 0.9853280186653137, 0.8764106631278992, 0.9828225374221802, 0.9955366849899292, 0.9776056408882141, 0.9100838303565979, 0.08975597470998764, 0.7837949991226196, 0.9992854595184326, 0.6344611644744873, 0.9710526466369629, 0.021420279517769814, 0.9933499693870544, 0.9899263978004456, 0.9963831305503845, 0.992472767829895, 0.9979029297828674, 0.9919872879981995, 0.9698799252510071, 0.9879118204116821, 0.9899696707725525, 0.9835175275802612, 0.9785863161087036, 0.9861288666725159, 0.8121182322502136, 0.05608585849404335, 0.942242443561554, 0.9911403059959412, 0.9774865508079529, 0.986118733882904, 0.9940831661224365, 0.0031709191389381886, 0.9427735805511475, 0.9476152062416077, 0.9838959574699402, 0.055947646498680115, 0.9431174993515015, 0.9577874541282654, 0.9840400815010071, 0.9966555237770081, 0.9920865893363953, 0.882439374923706, 0.9389324188232422, 0.9955044984817505, 0.9516043663024902, 0.8920477032661438, 0.7412481904029846, 0.9927749633789062, 0.9820228815078735, 0.9884129166603088, 0.9647212624549866, 0.9508912563323975, 0.954741895198822, 0.9914985299110413, 0.9936259984970093, 0.9859769940376282, 0.9883670806884766, 0.8704725503921509, 0.9986659288406372, 0.7578884363174438, 0.9419786334037781, 0.9985499978065491, 0.8960638046264648, 0.9933980703353882, 0.9875543117523193, 0.9837044477462769, 0.9888399243354797, 0.9753281474113464, 0.9686075448989868, 0.029895294457674026, 0.954241931438446, 0.39981546998023987, 0.599723219871521, 0.9672445058822632, 0.9723633527755737, 0.9926166534423828, 0.9790484309196472, 0.9956172108650208, 0.9980502724647522, 0.9112053513526917, 0.0820084810256958, 0.9053544998168945, 0.45570117235183716, 0.543336033821106, 0.8408458828926086, 0.9981362223625183, 0.9914256930351257, 0.9822267889976501, 0.007808638270944357, 0.9916970729827881, 0.9691680073738098, 0.9625139236450195, 0.9893372654914856, 0.9422020316123962, 0.91214919090271, 0.9857107400894165, 0.9976675510406494, 0.02791227214038372, 0.9676254391670227, 0.9987821578979492, 0.9853134751319885, 0.9830060005187988, 0.7077092528343201, 0.9291946887969971, 0.9820491075515747, 0.9467431306838989, 0.8732645511627197, 0.981379508972168, 0.9397391080856323, 0.94903165102005, 0.9115908145904541, 0.9990127682685852, 0.9799687266349792, 0.9877873659133911, 0.9864077568054199, 0.9414673447608948, 0.9920650720596313, 0.9924607276916504, 0.9960176348686218, 0.9954660534858704, 0.9872568249702454, 0.7786357402801514, 0.21536733210086823, 0.9772833585739136, 0.988161027431488, 0.9739300012588501, 0.5569902658462524, 0.4411918520927429, 0.9939097762107849, 0.9713863134384155, 0.9849874377250671, 0.9710471034049988, 0.9679367542266846, 0.975721538066864, 0.8507482409477234, 0.9856922626495361, 0.9773478507995605, 0.9888843894004822, 0.9900797605514526, 0.9726854562759399, 0.9984614253044128, 0.9956138730049133, 0.9313092827796936, 0.5764943957328796, 0.4206850826740265, 0.9611517190933228, 0.9890931248664856, 0.9650374054908752, 0.9109250903129578, 0.9498076438903809, 0.9460493326187134, 0.9984660744667053, 0.9900898933410645, 0.542481541633606, 0.9750561714172363, 0.9434168934822083, 0.9827176332473755, 0.9918991327285767, 0.9695744514465332, 0.7947570085525513, 0.9893935322761536, 0.9796901345252991, 0.9949302077293396, 0.8430444002151489, 0.9986637234687805, 0.0005223136977292597, 0.0005223136977292597, 0.9315934181213379, 0.9975783228874207, 0.9943040013313293, 0.0022095644380897284, 0.9734096527099609, 0.9247078895568848, 0.07035820931196213, 0.9870814085006714, 0.9642726182937622, 0.9994049072265625, 0.9901876449584961, 0.9892255663871765, 0.971892774105072, 0.955118715763092, 0.9887649416923523, 0.9875620603561401, 0.9928476214408875, 0.9883624315261841, 0.9859462380409241, 0.9385557770729065, 0.9958311915397644, 0.05439530313014984, 0.9383190274238586, 0.9953891634941101, 0.9785448312759399, 0.9976584911346436, 0.8713657855987549, 0.969654381275177, 0.9441900253295898, 0.9527320265769958, 0.9499481320381165, 0.9871723651885986, 0.0760262981057167, 0.9123156070709229, 0.9634694457054138, 0.9943196177482605, 0.9805044531822205, 0.9863126277923584, 0.9454460740089417, 0.977458119392395, 0.9991401433944702, 0.920904815196991, 0.9926691651344299, 0.9928386807441711, 0.9886434674263, 0.7265591621398926, 0.9860246181488037, 0.9940835237503052, 0.9474440813064575, 0.9810202717781067, 0.9250749945640564, 0.9720702171325684, 0.9986723065376282, 0.9919845461845398, 0.9817529320716858, 0.9991961121559143, 0.9968708157539368, 0.9728634357452393, 0.9834769368171692, 0.9844702482223511, 0.9473803043365479, 0.9815025925636292, 0.9631102681159973, 0.9970901608467102, 0.9675654172897339], \"Term\": [\"accentuate\", \"ace\", \"active\", \"activity\", \"add\", \"alert\", \"alien\", \"amplify\", \"amsterdam\", \"appearance\", \"appreciate\", \"arcata\", \"aroma\", \"attention\", \"award\", \"backcross\", \"bank\", \"bay_area\", \"become\", \"beginner\", \"big\", \"black\", \"bloom\", \"blue\", \"blue_dream\", \"boast\", \"body\", \"brain\", \"breed\", \"breed\", \"bright\", \"bud\", \"bud\", \"burst\", \"buzz\", \"cake\", \"californian\", \"call\", \"calming\", \"cannabis\", \"cannabis\", \"cannabis\", \"caution\", \"cbd\", \"cedar\", \"cerebral\", \"characteristic\", \"characterize\", \"cheese\", \"chemical\", \"cherry\", \"cherry_pie\", \"choice\", \"citrus\", \"classic\", \"clear\", \"clear_headed\", \"clone\", \"coat\", \"coat\", \"cola\", \"color\", \"colorado\", \"condition\", \"connoisseur\", \"consistently\", \"consumer\", \"cooky\", \"cover\", \"cow\", \"crazy\", \"create\", \"cross\", \"crossing\", \"cultivate\", \"cultivator\", \"cultivator\", \"cup\", \"dawg\", \"day\", \"delicious\", \"delta\", \"dense\", \"dense\", \"denver\", \"depend\", \"diesel\", \"different\", \"dna\", \"dominant\", \"dosage\", \"dream\", \"due\", \"dutch\", \"earthy\", \"effect\", \"element\", \"elevated\", \"emit\", \"energetic\", \"energize\", \"energy\", \"enhance\", \"enough\", \"environment\", \"even\", \"even_seasoned\", \"everyone\", \"expect\", \"extremity\", \"fair\", \"famous\", \"fan\", \"fast\", \"fatigue\", \"favorite\", \"feature\", \"feel\", \"find\", \"find\", \"finish\", \"finish\", \"fire\", \"firmly\", \"flavor\", \"flavorful\", \"flower\", \"flowering\", \"focused\", \"follow\", \"fresh\", \"fresh\", \"fully\", \"functional\", \"funky\", \"garden\", \"gas\", \"gene\", \"generally\", \"generous\", \"genetic\", \"ghost_train\", \"girl_scout\", \"go\", \"gold\", \"granddaddy_purple\", \"grapefruit\", \"green\", \"green\", \"green\", \"green_crack\", \"grow\", \"grower\", \"hair\", \"happen\", \"harvest\", \"hash\", \"hawaiian\", \"hawaiian_pakalolo\", \"haze\", \"haziness\", \"headband\", \"heart\", \"heavily\", \"heavy\", \"heavy\", \"helpful\", \"heritage\", \"high\", \"high\", \"high\", \"hindu\", \"hit\", \"holy\", \"hybrid\", \"hydroponic\", \"inc\", \"incredibly\", \"indica\", \"indica\", \"indoor\", \"indoor_outdoor\", \"inferno\", \"inflammation\", \"inherit\", \"inherit\", \"introspective\", \"invigorate\", \"invigoration\", \"island\", \"keep\", \"kick\", \"know\", \"know\", \"kona_gold\", \"kush\", \"laid_back\", \"landrace\", \"landrace\", \"large\", \"lavender\", \"lead\", \"leaf\", \"lemon\", \"level\", \"life\", \"lift\", \"light\", \"lime\", \"line\", \"lineage\", \"livwell\", \"look\", \"look\", \"love\", \"lover\", \"maintain\", \"make\", \"make\", \"massive\", \"mature\", \"mean\", \"medical\", \"medical\", \"mexican\", \"mild\", \"mind\", \"minor\", \"moniker\", \"moonshine\", \"mostly\", \"motivate\", \"mr_nice\", \"munchie\", \"muscle\", \"musk\", \"musky\", \"natural\", \"nd_place\", \"nearly\", \"need\", \"new\", \"northern\", \"northern_light\", \"nose\", \"note\", \"numerous\", \"october\", \"offer\", \"offering\", \"orange\", \"orange_hair\", \"original\", \"originally\", \"outdoor\", \"pain\", \"pain\", \"paradise\", \"patient\", \"patient\", \"peaceful\", \"pie\", \"pineapple\", \"pink\", \"place\", \"plant\", \"pleasant\", \"pleasant\", \"plenty\", \"popular\", \"popular\", \"positive\", \"potent\", \"power\", \"prize\", \"produce\", \"produce\", \"production\", \"productive\", \"profile\", \"psychedelic\", \"pua_mana\", \"punch\", \"pungent\", \"pure\", \"pure\", \"purple\", \"quick\", \"quickly\", \"quitter\", \"radiate\", \"ratio\", \"ready\", \"realize\", \"recommend\", \"refer\", \"region\", \"relatively\", \"relax\", \"release\", \"relieve\", \"remain\", \"require\", \"resin\", \"resinous\", \"result\", \"rich\", \"root\", \"rush\", \"rush\", \"russian\", \"sage\", \"sativas\", \"seed\", \"seed\", \"seek\", \"sen\", \"sensation\", \"sensi\", \"sensi_star\", \"settle\", \"several\", \"sfv\", \"short\", \"side\", \"similar\", \"sin_city\", \"skunk\", \"skunky\", \"slow\", \"smell\", \"smell\", \"smile\", \"snow\", \"soar\", \"soda\", \"soil\", \"sometimes\", \"sour\", \"space\", \"spade\", \"spread\", \"staple\", \"star\", \"state\", \"stay\", \"steady\", \"sticky\", \"stimulating\", \"stimulation\", \"stink\", \"strain\", \"strain\", \"strain\", \"strength\", \"stress\", \"strong\", \"strong\", \"structure\", \"subtle\", \"subtle\", \"super_silver\", \"supposedly\", \"sweet\", \"symptom\", \"tall\", \"tart\", \"task\", \"tend\", \"terpene\", \"terpene_profile\", \"tga\", \"thai\", \"thank\", \"thc\", \"thc_content\", \"thc_content\", \"thick\", \"think\", \"time\", \"tint\", \"together\", \"tone\", \"trace\", \"train\", \"trainwreck\", \"treat\", \"treat\", \"trichome_production\", \"tropical\", \"try\", \"typically\", \"unknown\", \"upbeat\", \"uplift\", \"uplifted\", \"uplifting\", \"use\", \"user\", \"user_report\", \"usually\", \"variety\", \"wait\", \"want\", \"warn\", \"washington\", \"week\", \"weight\", \"well_round\", \"white\", \"white_widow\", \"wonderful\", \"woody\", \"world\", \"worth\", \"wrap\", \"wreck\", \"yield\", \"zesty\"]}, \"R\": 30, \"lambda.step\": 0.01, \"plot.opts\": {\"xlab\": \"PC1\", \"ylab\": \"PC2\"}, \"topic.order\": [9, 1, 15, 13, 8, 7, 2, 12, 3, 11, 6, 4, 5, 10, 14]};\n",
       "\n",
       "function LDAvis_load_lib(url, callback){\n",
       "  var s = document.createElement('script');\n",
       "  s.src = url;\n",
       "  s.async = true;\n",
       "  s.onreadystatechange = s.onload = callback;\n",
       "  s.onerror = function(){console.warn(\"failed to load library \" + url);};\n",
       "  document.getElementsByTagName(\"head\")[0].appendChild(s);\n",
       "}\n",
       "\n",
       "if(typeof(LDAvis) !== \"undefined\"){\n",
       "   // already loaded: just create the visualization\n",
       "   !function(LDAvis){\n",
       "       new LDAvis(\"#\" + \"ldavis_el1423222026123528481460465524\", ldavis_el1423222026123528481460465524_data);\n",
       "   }(LDAvis);\n",
       "}else if(typeof define === \"function\" && define.amd){\n",
       "   // require.js is available: use it to load d3/LDAvis\n",
       "   require.config({paths: {d3: \"https://cdnjs.cloudflare.com/ajax/libs/d3/3.5.5/d3.min\"}});\n",
       "   require([\"d3\"], function(d3){\n",
       "      window.d3 = d3;\n",
       "      LDAvis_load_lib(\"https://cdn.rawgit.com/bmabey/pyLDAvis/files/ldavis.v1.0.0.js\", function(){\n",
       "        new LDAvis(\"#\" + \"ldavis_el1423222026123528481460465524\", ldavis_el1423222026123528481460465524_data);\n",
       "      });\n",
       "    });\n",
       "}else{\n",
       "    // require.js not available: dynamically load d3 & LDAvis\n",
       "    LDAvis_load_lib(\"https://cdnjs.cloudflare.com/ajax/libs/d3/3.5.5/d3.min.js\", function(){\n",
       "         LDAvis_load_lib(\"https://cdn.rawgit.com/bmabey/pyLDAvis/files/ldavis.v1.0.0.js\", function(){\n",
       "                 new LDAvis(\"#\" + \"ldavis_el1423222026123528481460465524\", ldavis_el1423222026123528481460465524_data);\n",
       "            })\n",
       "         });\n",
       "}\n",
       "</script>"
      ],
      "text/plain": [
       "PreparedData(topic_coordinates=              x         y  topics  cluster       Freq\n",
       "topic                                                \n",
       "8     -0.377574  0.293476       1        1  59.825577\n",
       "0     -0.293679 -0.076577       2        1  11.264098\n",
       "14    -0.155341 -0.251061       3        1   7.246403\n",
       "12    -0.107866 -0.172663       4        1   6.355774\n",
       "7     -0.010199 -0.038379       5        1   3.296574\n",
       "6      0.010231 -0.045136       6        1   3.275892\n",
       "1      0.032791  0.028923       7        1   2.264673\n",
       "11     0.090431  0.027194       8        1   1.395702\n",
       "2      0.094828  0.030214       9        1   1.236204\n",
       "10     0.094146  0.029843      10        1   1.150750\n",
       "5      0.116934  0.034480      11        1   0.816093\n",
       "3      0.123610  0.035161      12        1   0.737939\n",
       "4      0.121779  0.034007      13        1   0.589361\n",
       "9      0.128264  0.035305      14        1   0.311293\n",
       "13     0.131645  0.035212      15        1   0.233669, topic_info=     Category         Freq           Term        Total  loglift  logprob\n",
       "570   Default   776.000000          white   776.000000  30.0000  30.0000\n",
       "700   Default   388.000000           haze   388.000000  29.0000  29.0000\n",
       "27    Default  3829.000000         strain  3829.000000  28.0000  28.0000\n",
       "2     Default   855.000000            bud   855.000000  27.0000  27.0000\n",
       "139   Default   704.000000         flower   704.000000  26.0000  26.0000\n",
       "9     Default   842.000000           high   842.000000  25.0000  25.0000\n",
       "74    Default   441.000000          skunk   441.000000  24.0000  24.0000\n",
       "236   Default   602.000000       cannabis   602.000000  23.0000  23.0000\n",
       "73    Default   863.000000           seed   863.000000  22.0000  22.0000\n",
       "473   Default   286.000000            cup   286.000000  21.0000  21.0000\n",
       "17    Default   467.000000          plant   467.000000  20.0000  20.0000\n",
       "370   Default   460.000000           time   460.000000  19.0000  19.0000\n",
       "5     Default  2088.000000         effect  2088.000000  18.0000  18.0000\n",
       "50    Default   410.000000           grow   410.000000  17.0000  17.0000\n",
       "237   Default   318.000000            cbd   318.000000  16.0000  16.0000\n",
       "110   Default   316.000000            thc   316.000000  15.0000  15.0000\n",
       "19    Default   384.000000        produce   384.000000  14.0000  14.0000\n",
       "11    Default  1642.000000         hybrid  1642.000000  13.0000  13.0000\n",
       "12    Default  1782.000000         indica  1782.000000  12.0000  12.0000\n",
       "604   Default   168.000000         energy   168.000000  11.0000  11.0000\n",
       "329   Default   339.000000          yield   339.000000  10.0000  10.0000\n",
       "347   Default   323.000000           week   323.000000   9.0000   9.0000\n",
       "152   Default   186.000000         orange   186.000000   8.0000   8.0000\n",
       "499   Default   182.000000         skunky   182.000000   7.0000   7.0000\n",
       "173   Default  1366.000000          cross  1366.000000   6.0000   6.0000\n",
       "85    Default  1354.000000       dominant  1354.000000   5.0000   5.0000\n",
       "482   Default   284.000000         grower   284.000000   4.0000   4.0000\n",
       "145   Default  1340.000000           kush  1340.000000   3.0000   3.0000\n",
       "132   Default  1303.000000          aroma  1303.000000   2.0000   2.0000\n",
       "1033  Default   169.000000          cooky   169.000000   1.0000   1.0000\n",
       "...       ...          ...            ...          ...      ...      ...\n",
       "2300  Topic15     0.024732         medley     0.930781   2.4311  -9.1358\n",
       "6827  Topic15     0.024720           pile     0.930469   2.4310  -9.1362\n",
       "6825  Topic15     0.024720        hashier     0.930469   2.4310  -9.1362\n",
       "6826  Topic15     0.024720  kushbreakfast     0.930469   2.4310  -9.1362\n",
       "4170  Topic15     0.024720     exemplifie     0.930521   2.4309  -9.1362\n",
       "1642  Topic15     0.024741     watermelon     0.931322   2.4309  -9.1354\n",
       "1932  Topic15     0.024723     distribute     0.930706   2.4308  -9.1361\n",
       "6270  Topic15     0.024695    seattlesoda     0.929710   2.4308  -9.1372\n",
       "4738  Topic15     0.024723   vaporization     0.930881   2.4306  -9.1361\n",
       "2964  Topic15     0.024748           seat     0.931869   2.4306  -9.1351\n",
       "6872  Topic15     0.024713       devotion     0.930547   2.4306  -9.1365\n",
       "3133  Topic15     0.024726            act     0.931108   2.4305  -9.1360\n",
       "3520  Topic15     0.024723        blossom     0.931014   2.4305  -9.1361\n",
       "1393  Topic15     0.024744           sumo     0.932374   2.4299  -9.1353\n",
       "2347  Topic15     0.024733          stalk     0.931758   2.4301  -9.1357\n",
       "1471  Topic15     0.024739         apollo     0.932809   2.4292  -9.1355\n",
       "2063  Topic15     0.024739     bubble_gum     0.932981   2.4290  -9.1355\n",
       "2975  Topic15     0.024758            gsc     0.936076   2.4265  -9.1347\n",
       "2268  Topic15     0.024750     mysterious     0.935368   2.4269  -9.1350\n",
       "1483  Topic15     0.024763       slightly     0.938559   2.4240  -9.1345\n",
       "3093  Topic15     0.024751       platinum     0.937685   2.4245  -9.1350\n",
       "1391  Topic15     0.024749         silver     0.939323   2.4227  -9.1351\n",
       "1842  Topic15     0.024737       suitable     0.935324   2.4264  -9.1356\n",
       "1367  Topic15     0.024744        amnesia     0.937940   2.4239  -9.1353\n",
       "3156  Topic15     0.024731        archive     0.933501   2.4281  -9.1358\n",
       "2382  Topic15     0.024726          rhino     0.933473   2.4280  -9.1360\n",
       "3513  Topic15     0.024738      tangerine     0.950171   2.4107  -9.1355\n",
       "1878  Topic15     0.024733          mango     0.945585   2.4154  -9.1357\n",
       "1904  Topic15     0.024729          begin     0.943355   2.4175  -9.1359\n",
       "1416  Topic15     0.024726          bodhi     0.935518   2.4258  -9.1360\n",
       "\n",
       "[575 rows x 6 columns], token_table=      Topic      Freq         Term\n",
       "term                              \n",
       "1270     12  0.888612   accentuate\n",
       "559      10  0.914753          ace\n",
       "1119      8  0.986240       active\n",
       "470       8  0.992057     activity\n",
       "1184      7  0.989939          add\n",
       "0         9  0.966217        alert\n",
       "429       5  0.989751        alien\n",
       "1232      9  0.976067      amplify\n",
       "732       2  0.981193    amsterdam\n",
       "654       7  0.919950   appearance\n",
       "192       3  0.994298   appreciate\n",
       "445       9  0.845144       arcata\n",
       "132       1  0.999033        aroma\n",
       "1009     15  0.756231    attention\n",
       "471      13  0.894978        award\n",
       "1141      5  0.987759    backcross\n",
       "37       12  0.983689         bank\n",
       "1130     11  0.772735     bay_area\n",
       "542       3  0.992198       become\n",
       "1131     11  0.963512     beginner\n",
       "655       7  0.983379          big\n",
       "573       5  0.978926        black\n",
       "1278     12  0.957733        bloom\n",
       "302      12  0.990831         blue\n",
       "945      14  0.986393   blue_dream\n",
       "560       6  0.971326        boast\n",
       "1         1  0.999158         body\n",
       "779       4  0.988458        brain\n",
       "80        1  0.851440        breed\n",
       "80        2  0.147392        breed\n",
       "...     ...       ...          ...\n",
       "1256      6  0.994320     tropical\n",
       "1037      5  0.980504          try\n",
       "505       3  0.986313    typically\n",
       "1020     15  0.945446      unknown\n",
       "1229      6  0.977458       upbeat\n",
       "77        1  0.999140       uplift\n",
       "1277     12  0.920905     uplifted\n",
       "1199      7  0.992669    uplifting\n",
       "276       3  0.992839          use\n",
       "161       2  0.988643         user\n",
       "33        9  0.726559  user_report\n",
       "346       9  0.986025      usually\n",
       "277       3  0.994084      variety\n",
       "707      10  0.947444         wait\n",
       "1038      8  0.981020         want\n",
       "1230      9  0.925075         warn\n",
       "1083      5  0.972070   washington\n",
       "347       2  0.998672         week\n",
       "1297      4  0.991985       weight\n",
       "1173      5  0.981753   well_round\n",
       "570       5  0.999196        white\n",
       "78        4  0.996871  white_widow\n",
       "922       6  0.972863    wonderful\n",
       "131       3  0.983477        woody\n",
       "506       7  0.984470        world\n",
       "708      10  0.947380        worth\n",
       "1084      5  0.981503         wrap\n",
       "2132      9  0.963110        wreck\n",
       "329       2  0.997090        yield\n",
       "935       5  0.967565        zesty\n",
       "\n",
       "[419 rows x 3 columns], R=30, lambda_step=0.01, plot_opts={'xlab': 'PC1', 'ylab': 'PC2'}, topic_order=[9, 1, 15, 13, 8, 7, 2, 12, 3, 11, 6, 4, 5, 10, 14])"
      ]
     },
     "execution_count": 20,
     "metadata": {},
     "output_type": "execute_result"
    }
   ],
   "source": [
    "# Visualize the topics\n",
    "pyLDAvis.enable_notebook()\n",
    "vis = pyLDAvis.gensim.prepare(lda_model, corpus, id2word)\n",
    "vis"
   ]
  }
 ],
 "metadata": {
  "kernelspec": {
   "display_name": "Python 3",
   "language": "python",
   "name": "python3"
  },
  "language_info": {
   "codemirror_mode": {
    "name": "ipython",
    "version": 3
   },
   "file_extension": ".py",
   "mimetype": "text/x-python",
   "name": "python",
   "nbconvert_exporter": "python",
   "pygments_lexer": "ipython3",
   "version": "3.6.8"
  }
 },
 "nbformat": 4,
 "nbformat_minor": 2
}
