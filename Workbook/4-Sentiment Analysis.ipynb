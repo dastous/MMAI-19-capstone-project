{
 "cells": [
  {
   "cell_type": "markdown",
   "metadata": {},
   "source": [
    "# Importing package to be used"
   ]
  },
  {
   "cell_type": "code",
   "execution_count": 1,
   "metadata": {},
   "outputs": [],
   "source": [
    "import pandas as pd # to dataframes\n",
    "import matplotlib.pyplot as plt #to define plot parameters\n",
    "import seaborn as sns #to graphical plots\n",
    "import numpy as np #to math\n",
    "from textblob import TextBlob, Word"
   ]
  },
  {
   "cell_type": "code",
   "execution_count": 2,
   "metadata": {},
   "outputs": [
    {
     "data": {
      "text/plain": [
       "0     og   hybrid strain pack strong punch name sup...\n",
       "1     aloha white widow especially potent cut white...\n",
       "2     sativa dominant hybrid bred spain medical see...\n",
       "3     dawgs hybrid g chemdawg genetics bred canadia...\n",
       "4    known kosher tangie k gold  indica dominant hy...\n",
       "Name: Description, dtype: object"
      ]
     },
     "execution_count": 2,
     "metadata": {},
     "output_type": "execute_result"
    }
   ],
   "source": [
    "EDA=pd.read_excel('../CannaConnect/Dataset/EDA.xlsx')\n",
    "EDA.head()"
   ]
  },
  {
   "cell_type": "markdown",
   "metadata": {},
   "source": [
    "# Sentiment analysis on Description, Effects and Flavor"
   ]
  },
  {
   "cell_type": "code",
   "execution_count": 3,
   "metadata": {},
   "outputs": [
    {
     "name": "stdout",
     "output_type": "stream",
     "text": [
      "Sentiment Description with stopwords 0    0.164095\n",
      "1    0.203125\n",
      "2   -0.072619\n",
      "3    0.537500\n",
      "4    0.389815\n",
      "Name: Sentiment_Description, dtype: float64\n",
      "Sentiment Description without stopwords  0    0.167619\n",
      "1    0.203125\n",
      "2   -0.072619\n",
      "3    0.537500\n",
      "4    0.401190\n",
      "Name: Sentiment_Description_clean, dtype: float64\n",
      "Sentiment on Effects  0    0.0\n",
      "1    0.0\n",
      "2    0.0\n",
      "3    0.0\n",
      "4    0.0\n",
      "Name: Sentiment_Effects, dtype: float64\n",
      "Sentiment on Flavors  0    0.0\n",
      "1    0.0\n",
      "2    0.0\n",
      "3    0.0\n",
      "4    0.0\n",
      "Name: Sentiment_Flavor, dtype: float64\n"
     ]
    }
   ],
   "source": [
    "#sentiment analysis on description with stopwords\n",
    "EDA['Sentiment_Description']=EDA.Description.astype(str).apply(lambda x: TextBlob(x).sentiment.polarity)\n",
    "print('Sentiment Description with stopwords', EDA.Sentiment_Description.head())\n",
    "\n",
    "#sentiment analysis on description without stopwords and preprocessing\n",
    "EDA['Sentiment_Description_clean']=df_description_clean.astype(str).apply(lambda x: TextBlob(x).sentiment.polarity)\n",
    "print('Sentiment Description without stopwords ', EDA.Sentiment_Description_clean.head())\n",
    "\n",
    "#sentiment analysis on Effects\n",
    "EDA['Sentiment_Effects']=EDA.Effects.astype(str).apply(lambda x: TextBlob(x).sentiment.polarity)\n",
    "print('Sentiment on Effects ', EDA.Sentiment_Effects.head())\n",
    "\n",
    "#sentiment analysis on Flavors\n",
    "EDA['Sentiment_Flavor']=EDA.Flavor.astype(str).apply(lambda x: TextBlob(x).sentiment.polarity)\n",
    "print('Sentiment on Flavors ', EDA.Sentiment_Flavor.head())\n",
    "\n",
    "# do analysis on polarity and on subjectivity"
   ]
  },
  {
   "cell_type": "code",
   "execution_count": 4,
   "metadata": {},
   "outputs": [
    {
     "name": "stdout",
     "output_type": "stream",
     "text": [
      "sentiment description count\n",
      "negative: 167\n",
      "positive: 2050\n",
      "neutral: 60\n",
      "-------------\n"
     ]
    }
   ],
   "source": [
    "print('sentiment description count')\n",
    "print('negative:', sum(i < 0 for i in EDA.Sentiment_Description))\n",
    "print('positive:', sum(i > 0 for i in EDA.Sentiment_Description))\n",
    "print('neutral:', sum(i == 0 for i in EDA.Sentiment_Description))\n",
    "print('-------------')"
   ]
  },
  {
   "cell_type": "code",
   "execution_count": 5,
   "metadata": {},
   "outputs": [
    {
     "name": "stdout",
     "output_type": "stream",
     "text": [
      "sentiment Effects count\n",
      "negative: 0\n",
      "positive: 3\n",
      "neutral: 2274\n",
      "-------------\n"
     ]
    }
   ],
   "source": [
    "print('sentiment Effects count')\n",
    "print('negative:', sum(i < 0 for i in EDA.Sentiment_Effects))\n",
    "print('positive:', sum(i > 0 for i in EDA.Sentiment_Effects))\n",
    "print('neutral:', sum(i == 0 for i in EDA.Sentiment_Effects))\n",
    "print('-------------')"
   ]
  },
  {
   "cell_type": "code",
   "execution_count": 6,
   "metadata": {},
   "outputs": [
    {
     "name": "stdout",
     "output_type": "stream",
     "text": [
      "sentiment Flavors count\n",
      "negative: 0\n",
      "positive: 8\n",
      "neutral: 2269\n",
      "-------------\n"
     ]
    }
   ],
   "source": [
    "print('sentiment Flavors count')\n",
    "print('negative:', sum(i < 0 for i in EDA.Sentiment_Flavor))\n",
    "print('positive:', sum(i > 0 for i in EDA.Sentiment_Flavor))\n",
    "print('neutral:', sum(i == 0 for i in EDA.Sentiment_Flavor))\n",
    "print('-------------')"
   ]
  },
  {
   "cell_type": "code",
   "execution_count": 7,
   "metadata": {},
   "outputs": [
    {
     "data": {
      "text/html": [
       "<div>\n",
       "<style scoped>\n",
       "    .dataframe tbody tr th:only-of-type {\n",
       "        vertical-align: middle;\n",
       "    }\n",
       "\n",
       "    .dataframe tbody tr th {\n",
       "        vertical-align: top;\n",
       "    }\n",
       "\n",
       "    .dataframe thead th {\n",
       "        text-align: right;\n",
       "    }\n",
       "</style>\n",
       "<table border=\"1\" class=\"dataframe\">\n",
       "  <thead>\n",
       "    <tr style=\"text-align: right;\">\n",
       "      <th></th>\n",
       "      <th>Unnamed: 0</th>\n",
       "      <th>Strain</th>\n",
       "      <th>Type</th>\n",
       "      <th>Rating</th>\n",
       "      <th>Effects</th>\n",
       "      <th>Flavor</th>\n",
       "      <th>Description</th>\n",
       "      <th>Effect_1</th>\n",
       "      <th>Effect_2</th>\n",
       "      <th>Effect_3</th>\n",
       "      <th>Effect_4</th>\n",
       "      <th>Effect_5</th>\n",
       "      <th>Flavor_1</th>\n",
       "      <th>Flavor_2</th>\n",
       "      <th>Flavor_3</th>\n",
       "      <th>Flavor_4</th>\n",
       "      <th>Sentiment_Description</th>\n",
       "      <th>Sentiment_Description_clean</th>\n",
       "      <th>Sentiment_Effects</th>\n",
       "      <th>Sentiment_Flavor</th>\n",
       "    </tr>\n",
       "  </thead>\n",
       "  <tbody>\n",
       "    <tr>\n",
       "      <th>0</th>\n",
       "      <td>0</td>\n",
       "      <td>100-Og</td>\n",
       "      <td>hybrid</td>\n",
       "      <td>4.0</td>\n",
       "      <td>Creative,Energetic,Tingly,Euphoric,Relaxed</td>\n",
       "      <td>Earthy,Sweet,Citrus</td>\n",
       "      <td>$100 OG is a 50/50 hybrid strain that packs a ...</td>\n",
       "      <td>Creative</td>\n",
       "      <td>Energetic</td>\n",
       "      <td>Tingly</td>\n",
       "      <td>Euphoric</td>\n",
       "      <td>Relaxed</td>\n",
       "      <td>Earthy</td>\n",
       "      <td>Sweet</td>\n",
       "      <td>Citrus</td>\n",
       "      <td>NaN</td>\n",
       "      <td>0.164095</td>\n",
       "      <td>0.167619</td>\n",
       "      <td>0.0</td>\n",
       "      <td>0.0</td>\n",
       "    </tr>\n",
       "    <tr>\n",
       "      <th>1</th>\n",
       "      <td>1</td>\n",
       "      <td>98-White-Widow</td>\n",
       "      <td>hybrid</td>\n",
       "      <td>4.7</td>\n",
       "      <td>Relaxed,Aroused,Creative,Happy,Energetic</td>\n",
       "      <td>Flowery,Violet,Diesel</td>\n",
       "      <td>The ‘98 Aloha White Widow is an especially pot...</td>\n",
       "      <td>Relaxed</td>\n",
       "      <td>Aroused</td>\n",
       "      <td>Creative</td>\n",
       "      <td>Happy</td>\n",
       "      <td>Energetic</td>\n",
       "      <td>Flowery</td>\n",
       "      <td>Violet</td>\n",
       "      <td>Diesel</td>\n",
       "      <td>NaN</td>\n",
       "      <td>0.203125</td>\n",
       "      <td>0.203125</td>\n",
       "      <td>0.0</td>\n",
       "      <td>0.0</td>\n",
       "    </tr>\n",
       "    <tr>\n",
       "      <th>2</th>\n",
       "      <td>2</td>\n",
       "      <td>1024</td>\n",
       "      <td>sativa</td>\n",
       "      <td>4.4</td>\n",
       "      <td>Uplifted,Happy,Relaxed,Energetic,Creative</td>\n",
       "      <td>Spicy/Herbal,Sage,Woody</td>\n",
       "      <td>1024 is a sativa-dominant hybrid bred in Spain...</td>\n",
       "      <td>Uplifted</td>\n",
       "      <td>Happy</td>\n",
       "      <td>Relaxed</td>\n",
       "      <td>Energetic</td>\n",
       "      <td>Creative</td>\n",
       "      <td>Spicy/Herbal</td>\n",
       "      <td>Sage</td>\n",
       "      <td>Woody</td>\n",
       "      <td>NaN</td>\n",
       "      <td>-0.072619</td>\n",
       "      <td>-0.072619</td>\n",
       "      <td>0.0</td>\n",
       "      <td>0.0</td>\n",
       "    </tr>\n",
       "    <tr>\n",
       "      <th>3</th>\n",
       "      <td>3</td>\n",
       "      <td>13-Dawgs</td>\n",
       "      <td>hybrid</td>\n",
       "      <td>4.2</td>\n",
       "      <td>Tingly,Creative,Hungry,Relaxed,Uplifted</td>\n",
       "      <td>Apricot,Citrus,Grapefruit</td>\n",
       "      <td>13 Dawgs is a hybrid of G13 and Chemdawg genet...</td>\n",
       "      <td>Tingly</td>\n",
       "      <td>Creative</td>\n",
       "      <td>Hungry</td>\n",
       "      <td>Relaxed</td>\n",
       "      <td>Uplifted</td>\n",
       "      <td>Apricot</td>\n",
       "      <td>Citrus</td>\n",
       "      <td>Grapefruit</td>\n",
       "      <td>NaN</td>\n",
       "      <td>0.537500</td>\n",
       "      <td>0.537500</td>\n",
       "      <td>0.0</td>\n",
       "      <td>0.0</td>\n",
       "    </tr>\n",
       "    <tr>\n",
       "      <th>4</th>\n",
       "      <td>4</td>\n",
       "      <td>24K-Gold</td>\n",
       "      <td>hybrid</td>\n",
       "      <td>4.6</td>\n",
       "      <td>Happy,Relaxed,Euphoric,Uplifted,Talkative</td>\n",
       "      <td>Citrus,Earthy,Orange</td>\n",
       "      <td>Also known as Kosher Tangie, 24k Gold is a 60%...</td>\n",
       "      <td>Happy</td>\n",
       "      <td>Relaxed</td>\n",
       "      <td>Euphoric</td>\n",
       "      <td>Uplifted</td>\n",
       "      <td>Talkative</td>\n",
       "      <td>Citrus</td>\n",
       "      <td>Earthy</td>\n",
       "      <td>Orange</td>\n",
       "      <td>NaN</td>\n",
       "      <td>0.389815</td>\n",
       "      <td>0.401190</td>\n",
       "      <td>0.0</td>\n",
       "      <td>0.0</td>\n",
       "    </tr>\n",
       "  </tbody>\n",
       "</table>\n",
       "</div>"
      ],
      "text/plain": [
       "   Unnamed: 0          Strain    Type  Rating  \\\n",
       "0           0          100-Og  hybrid     4.0   \n",
       "1           1  98-White-Widow  hybrid     4.7   \n",
       "2           2            1024  sativa     4.4   \n",
       "3           3        13-Dawgs  hybrid     4.2   \n",
       "4           4        24K-Gold  hybrid     4.6   \n",
       "\n",
       "                                      Effects                     Flavor  \\\n",
       "0  Creative,Energetic,Tingly,Euphoric,Relaxed        Earthy,Sweet,Citrus   \n",
       "1    Relaxed,Aroused,Creative,Happy,Energetic      Flowery,Violet,Diesel   \n",
       "2   Uplifted,Happy,Relaxed,Energetic,Creative    Spicy/Herbal,Sage,Woody   \n",
       "3     Tingly,Creative,Hungry,Relaxed,Uplifted  Apricot,Citrus,Grapefruit   \n",
       "4   Happy,Relaxed,Euphoric,Uplifted,Talkative       Citrus,Earthy,Orange   \n",
       "\n",
       "                                         Description  Effect_1   Effect_2  \\\n",
       "0  $100 OG is a 50/50 hybrid strain that packs a ...  Creative  Energetic   \n",
       "1  The ‘98 Aloha White Widow is an especially pot...   Relaxed    Aroused   \n",
       "2  1024 is a sativa-dominant hybrid bred in Spain...  Uplifted      Happy   \n",
       "3  13 Dawgs is a hybrid of G13 and Chemdawg genet...    Tingly   Creative   \n",
       "4  Also known as Kosher Tangie, 24k Gold is a 60%...     Happy    Relaxed   \n",
       "\n",
       "   Effect_3   Effect_4   Effect_5      Flavor_1 Flavor_2    Flavor_3 Flavor_4  \\\n",
       "0    Tingly   Euphoric    Relaxed        Earthy    Sweet      Citrus      NaN   \n",
       "1  Creative      Happy  Energetic       Flowery   Violet      Diesel      NaN   \n",
       "2   Relaxed  Energetic   Creative  Spicy/Herbal     Sage       Woody      NaN   \n",
       "3    Hungry    Relaxed   Uplifted       Apricot   Citrus  Grapefruit      NaN   \n",
       "4  Euphoric   Uplifted  Talkative        Citrus   Earthy      Orange      NaN   \n",
       "\n",
       "   Sentiment_Description  Sentiment_Description_clean  Sentiment_Effects  \\\n",
       "0               0.164095                     0.167619                0.0   \n",
       "1               0.203125                     0.203125                0.0   \n",
       "2              -0.072619                    -0.072619                0.0   \n",
       "3               0.537500                     0.537500                0.0   \n",
       "4               0.389815                     0.401190                0.0   \n",
       "\n",
       "   Sentiment_Flavor  \n",
       "0               0.0  \n",
       "1               0.0  \n",
       "2               0.0  \n",
       "3               0.0  \n",
       "4               0.0  "
      ]
     },
     "execution_count": 7,
     "metadata": {},
     "output_type": "execute_result"
    }
   ],
   "source": [
    "EDA.head()"
   ]
  },
  {
   "cell_type": "code",
   "execution_count": 8,
   "metadata": {},
   "outputs": [],
   "source": [
    "EDA.to_excel('../CannaConnect/Dataset/Sentiment_Analysis.xlsx')"
   ]
  },
  {
   "cell_type": "code",
   "execution_count": null,
   "metadata": {},
   "outputs": [],
   "source": []
  }
 ],
 "metadata": {
  "kernelspec": {
   "display_name": "Python 3",
   "language": "python",
   "name": "python3"
  },
  "language_info": {
   "codemirror_mode": {
    "name": "ipython",
    "version": 3
   },
   "file_extension": ".py",
   "mimetype": "text/x-python",
   "name": "python",
   "nbconvert_exporter": "python",
   "pygments_lexer": "ipython3",
   "version": "3.7.3"
  }
 },
 "nbformat": 4,
 "nbformat_minor": 2
}
