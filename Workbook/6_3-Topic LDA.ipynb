{
 "cells": [
  {
   "cell_type": "code",
   "execution_count": 1,
   "metadata": {},
   "outputs": [],
   "source": [
    "# References:\n",
    "#https://stackabuse.com/python-for-nlp-topic-modeling/"
   ]
  },
  {
   "cell_type": "code",
   "execution_count": 2,
   "metadata": {},
   "outputs": [
    {
     "data": {
      "text/plain": [
       "0     og   hybrid strain pack strong punch name sup...\n",
       "1     aloha white widow especially potent cut white...\n",
       "2     sativa dominant hybrid bred spain medical see...\n",
       "3     dawgs hybrid g chemdawg genetics bred canadia...\n",
       "4    known kosher tangie k gold  indica dominant hy...\n",
       "Name: Description, dtype: object"
      ]
     },
     "execution_count": 2,
     "metadata": {},
     "output_type": "execute_result"
    }
   ],
   "source": [
    "import pandas as pd\n",
    "documents=pd.read_excel(\"../CannaConnect/Dataset/description_clean.xlsx\")\n",
    "documents=documents.Description.astype(str)\n",
    "documents.head()"
   ]
  },
  {
   "cell_type": "code",
   "execution_count": 3,
   "metadata": {},
   "outputs": [],
   "source": [
    "from sklearn.feature_extraction.text import TfidfVectorizer, CountVectorizer\n",
    "\n",
    "no_features = 1000\n",
    "\n",
    "# NMF is able to use tf-idf\n",
    "tfidf_vectorizer = TfidfVectorizer(max_df=0.95, min_df=2, max_features=no_features, stop_words='english')\n",
    "tfidf = tfidf_vectorizer.fit_transform(documents)\n",
    "tfidf_feature_names = tfidf_vectorizer.get_feature_names()\n",
    "\n",
    "# LDA can only use raw term counts for LDA because it is a probabilistic graphical model\n",
    "tf_vectorizer = CountVectorizer(max_df=0.95, min_df=2, max_features=no_features, stop_words='english')\n",
    "tf = tf_vectorizer.fit_transform(documents)\n",
    "tf_feature_names = tf_vectorizer.get_feature_names()"
   ]
  },
  {
   "cell_type": "code",
   "execution_count": 4,
   "metadata": {},
   "outputs": [
    {
     "name": "stderr",
     "output_type": "stream",
     "text": [
      "C:\\Users\\dastous\\Anaconda3\\envs\\py3.6\\lib\\site-packages\\sklearn\\decomposition\\online_lda.py:314: DeprecationWarning: n_topics has been renamed to n_components in version 0.19 and will be removed in 0.21\n",
      "  DeprecationWarning)\n"
     ]
    }
   ],
   "source": [
    "from sklearn.decomposition import NMF, LatentDirichletAllocation\n",
    "\n",
    "no_topics = 10\n",
    "\n",
    "# Run NMF\n",
    "nmf = NMF(n_components=no_topics, random_state=1, alpha=.1, l1_ratio=.5, init='nndsvd').fit(tfidf)\n",
    "\n",
    "# Run LDA\n",
    "lda = LatentDirichletAllocation(n_topics=no_topics, max_iter=5, learning_method='online', learning_offset=50.,random_state=0).fit(tf)"
   ]
  },
  {
   "cell_type": "code",
   "execution_count": 5,
   "metadata": {},
   "outputs": [
    {
     "name": "stdout",
     "output_type": "stream",
     "text": [
      "Topic 0:\n",
      "strain indica effect purple bud hybrid sweet aroma dominant kush\n",
      "Topic 1:\n",
      "nan zesty finish focused focus flying fluffy flowering flower floral\n",
      "Topic 2:\n",
      "og kush lemon indica sfv pine body strain alien potent\n",
      "Topic 3:\n",
      "diesel sour sativa fuel nyc coast chemdawg east hybrid cross\n",
      "Topic 4:\n",
      "cup cannabis place took denver st nd time strain category\n",
      "Topic 5:\n",
      "haze sativa silver super cerebral spicy light seed flowering strain\n",
      "Topic 6:\n",
      "cbd thc high content ratio inflammation pain patient strain psychoactive\n",
      "Topic 7:\n",
      "blue dream blueberry berry hybrid dj dominant sweet short sativa\n",
      "Topic 8:\n",
      "cooky girl scout cookie cherry gsc pie platinum cross doughy\n",
      "Topic 9:\n",
      "white widow hybrid resin snow seed shark trichome dominant rhino\n"
     ]
    }
   ],
   "source": [
    "def display_topics(model, feature_names, no_top_words):\n",
    "    for topic_idx, topic in enumerate(model.components_):\n",
    "        print(\"Topic %d:\" % (topic_idx))\n",
    "        print(\" \".join([feature_names[i]\n",
    "                        for i in topic.argsort()[:-no_top_words - 1:-1]]))\n",
    "\n",
    "no_top_words = 10\n",
    "display_topics(nmf, tfidf_feature_names, no_top_words)\n"
   ]
  },
  {
   "cell_type": "code",
   "execution_count": 6,
   "metadata": {},
   "outputs": [
    {
     "name": "stdout",
     "output_type": "stream",
     "text": [
      "Topic 0:\n",
      "strain effect thc cbd high sativa hybrid jack skunk sweet\n",
      "Topic 1:\n",
      "grape purps ape mendocino thunder urkle lavender friend headed clear\n",
      "Topic 2:\n",
      "cheese indica outdoor harvest strain gift indoors humboldt october flowering\n",
      "Topic 3:\n",
      "strain og kush effect indica hybrid aroma dominant body cross\n",
      "Topic 4:\n",
      "strain purple bud sativa sour diesel hybrid flower orange plant\n",
      "Topic 5:\n",
      "haze sativa strain seed effect hybrid time flowering cannabis bred\n",
      "Topic 6:\n",
      "strawberry seed cup hawaiian st widow award winning white place\n",
      "Topic 7:\n",
      "bubba nan pre nina kush blackberry limone colorado coffee described\n",
      "Topic 8:\n",
      "gold landrace region gorilla glue strain world sativa variety indigenous\n",
      "Topic 9:\n",
      "rare calyx la poison big purple durban cherry bud dankness\n"
     ]
    }
   ],
   "source": [
    "display_topics(lda, tf_feature_names, no_top_words)"
   ]
  },
  {
   "cell_type": "code",
   "execution_count": null,
   "metadata": {},
   "outputs": [],
   "source": []
  }
 ],
 "metadata": {
  "kernelspec": {
   "display_name": "Python 3",
   "language": "python",
   "name": "python3"
  },
  "language_info": {
   "codemirror_mode": {
    "name": "ipython",
    "version": 3
   },
   "file_extension": ".py",
   "mimetype": "text/x-python",
   "name": "python",
   "nbconvert_exporter": "python",
   "pygments_lexer": "ipython3",
   "version": "3.6.8"
  }
 },
 "nbformat": 4,
 "nbformat_minor": 2
}
