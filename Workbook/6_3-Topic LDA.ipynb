{
 "cells": [
  {
   "cell_type": "code",
   "execution_count": 11,
   "metadata": {},
   "outputs": [],
   "source": [
    "# References:\n",
    "#https://stackabuse.com/python-for-nlp-topic-modeling/"
   ]
  },
  {
   "cell_type": "code",
   "execution_count": 1,
   "metadata": {},
   "outputs": [
    {
     "data": {
      "text/plain": [
       "0     og   hybrid pack strong punch name supposedly...\n",
       "1     aloha white widow especially potent cut white...\n",
       "2     sativa hybrid bred spain medical seed co bree...\n",
       "3     dawgs hybrid g chemdawg genetics bred canadia...\n",
       "4    kosher tangie k gold  indica hybrid combine le...\n",
       "Name: Description, dtype: object"
      ]
     },
     "execution_count": 1,
     "metadata": {},
     "output_type": "execute_result"
    }
   ],
   "source": [
    "import pandas as pd\n",
    "documents=pd.read_excel(\"../CannaConnect/Dataset/description_clean.xlsx\")\n",
    "documents=documents.Description.astype(str)\n",
    "documents.head()"
   ]
  },
  {
   "cell_type": "code",
   "execution_count": 7,
   "metadata": {},
   "outputs": [],
   "source": [
    "from sklearn.feature_extraction.text import TfidfVectorizer, CountVectorizer\n",
    "\n",
    "no_features = 1000\n",
    "\n",
    "# NMF is able to use tf-idf\n",
    "tfidf_vectorizer = TfidfVectorizer(max_df=0.95, min_df=5, max_features=no_features, stop_words='english')\n",
    "tfidf = tfidf_vectorizer.fit_transform(documents)\n",
    "tfidf_feature_names = tfidf_vectorizer.get_feature_names()\n",
    "\n",
    "# LDA can only use raw term counts for LDA because it is a probabilistic graphical model\n",
    "tf_vectorizer = CountVectorizer(max_df=0.95, min_df=5, max_features=no_features, stop_words='english')\n",
    "tf = tf_vectorizer.fit_transform(documents)\n",
    "tf_feature_names = tf_vectorizer.get_feature_names()"
   ]
  },
  {
   "cell_type": "code",
   "execution_count": 9,
   "metadata": {},
   "outputs": [],
   "source": [
    "from sklearn.decomposition import NMF, LatentDirichletAllocation\n",
    "\n",
    "no_topics = 15\n",
    "\n",
    "# Run NMF\n",
    "nmf = NMF(n_components=no_topics, random_state=1, alpha=.1, l1_ratio=.5, init='nndsvd').fit(tfidf)\n",
    "\n",
    "# Run LDA\n",
    "lda = LatentDirichletAllocation(max_iter=5, learning_method='online', learning_offset=50.,random_state=0).fit(tf)"
   ]
  },
  {
   "cell_type": "code",
   "execution_count": 12,
   "metadata": {},
   "outputs": [
    {
     "name": "stdout",
     "output_type": "stream",
     "text": [
      "Topic 0:\n",
      "indica purple bud hybrid sweet aroma body seed plant sativa\n",
      "\n",
      "\n",
      "Topic 1:\n",
      "og lemon kush sfv pine indica body potent hybrid tahoe\n",
      "\n",
      "\n",
      "Topic 2:\n",
      "diesel sour sativa fuel nyc coast chemdawg east hybrid uplifting\n",
      "\n",
      "\n",
      "Topic 3:\n",
      "cup cannabis place took denver st nd time category won\n",
      "\n",
      "\n",
      "Topic 4:\n",
      "dream blue sativa hybrid crack green daytime colorado stress euphoria\n",
      "\n",
      "\n",
      "Topic 5:\n",
      "cbd thc high ratio content inflammation pain patient psychoactive harlequin\n",
      "\n",
      "\n",
      "Topic 6:\n",
      "blueberry berry blue dj short indica sweet flavor hybrid parent\n",
      "\n",
      "\n",
      "Topic 7:\n",
      "cooky girl scout cookie cherry gsc pie platinum doughy mint\n",
      "\n",
      "\n",
      "Topic 8:\n",
      "white widow hybrid resin snow shark trichome seed rhino euphoria\n",
      "\n",
      "\n",
      "Topic 9:\n",
      "kush bubba master indica pre hindu alien relaxing purple gupta\n",
      "\n",
      "\n",
      "Topic 10:\n",
      "haze sativa silver super spicy cerebral light mango amnesia seed\n",
      "\n",
      "\n",
      "Topic 11:\n",
      "orange hair bright citrus green bud dense pistil juice tangerine\n",
      "\n",
      "\n",
      "Topic 12:\n",
      "jack herer sativa ripper lemon creativity uplifting citrus combine patient\n",
      "\n",
      "\n",
      "Topic 13:\n",
      "region refers natively indigenous landraces variety climate tend world grow\n",
      "\n",
      "\n",
      "Topic 14:\n",
      "cheese savory aroma sharp seed pungent hybrid buddha variety blue\n",
      "\n",
      "\n",
      "Topic 0:\n",
      "alien pineapple star tahoe kush dawg master lemon hybrid cali\n",
      "\n",
      "\n",
      "Topic 1:\n",
      "tangie region landrace world indigenous sativa variety landraces climate refers\n",
      "\n",
      "\n",
      "Topic 2:\n",
      "kush indica hybrid og white purple aroma sweet genetics body\n",
      "\n",
      "\n",
      "Topic 3:\n",
      "sativa indica bud hybrid plant haze seed aroma sweet week\n",
      "\n",
      "\n",
      "Topic 4:\n",
      "og kush indica cup cannabis time place hybrid pain lemon\n",
      "\n",
      "\n",
      "Topic 5:\n",
      "thc cbd high content pain patient inflammation anxiety ratio level\n",
      "\n",
      "\n",
      "Topic 6:\n",
      "cherry poison pie durban goat power sherbet african golden taking\n",
      "\n",
      "\n",
      "Topic 7:\n",
      "consumer hybrid blue body dream aroma physical blueberry sativa indica\n",
      "\n",
      "\n",
      "Topic 8:\n",
      "cooky girl scout hawaiian bubble cookie platinum kush sweet og\n",
      "\n",
      "\n",
      "Topic 9:\n",
      "sour diesel sativa hybrid chemdawg fuel og banana coast aroma\n",
      "\n",
      "\n"
     ]
    }
   ],
   "source": [
    "def display_topics(model, feature_names, no_top_words):\n",
    "    for topic_idx, topic in enumerate(model.components_):\n",
    "        print(\"Topic %d:\" % (topic_idx))\n",
    "        print(\" \".join([feature_names[i]\n",
    "                        for i in topic.argsort()[:-no_top_words - 1:-1]]))\n",
    "        print('\\n')\n",
    "\n",
    "no_top_words = 10\n",
    "display_topics(nmf, tfidf_feature_names, no_top_words)\n",
    "display_topics(lda, tf_feature_names, no_top_words)"
   ]
  }
 ],
 "metadata": {
  "kernelspec": {
   "display_name": "Python 3",
   "language": "python",
   "name": "python3"
  },
  "language_info": {
   "codemirror_mode": {
    "name": "ipython",
    "version": 3
   },
   "file_extension": ".py",
   "mimetype": "text/x-python",
   "name": "python",
   "nbconvert_exporter": "python",
   "pygments_lexer": "ipython3",
   "version": "3.7.3"
  }
 },
 "nbformat": 4,
 "nbformat_minor": 2
}
